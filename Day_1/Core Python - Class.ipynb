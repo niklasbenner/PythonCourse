{
 "cells": [
  {
   "cell_type": "markdown",
   "metadata": {},
   "source": [
    "<img align=\"right\" width=240 src=\"tud.jpg\"/>\n",
    "\n",
    "# Core Python I\n",
    "\n",
    "## Contents <a id=ov>\n",
    "1. [Variable Assignment](#var)\n",
    "2. [Data types](#data_types)\n",
    "3. [Numericals](#numericals)\n",
    "4. [Strings](#strings)\n",
    "5. [Lists](#lists)\n",
    "6. [Booleans](#bool)\n",
    "7. [If Condition](#if)\n",
    "8. [While Loop](#while)\n",
    "9. [For Loop](#for)\n",
    "10. [Error Handling](#try)\n",
    "11. [Functions](#functions)\n",
    "12. [Sets](#sets)\n",
    "13. [Dictionaries](#dict)\n",
    "14. [Tuples and frozensets](#tuple)\n",
    "15. [Classes](#Classes)\n",
    "16. [Modules](#pip)\n",
    "16. [Command prompt](#bash)\n"
   ]
  },
  {
   "cell_type": "markdown",
   "metadata": {},
   "source": [
    "## Variable Assignment <a id=var>"
   ]
  },
  {
   "cell_type": "markdown",
   "metadata": {},
   "source": [
    "The simplest thing is to use python as caluculator:"
   ]
  },
  {
   "cell_type": "code",
   "execution_count": 3,
   "metadata": {
    "pycharm": {
     "name": "#%%\n"
    }
   },
   "outputs": [
    {
     "data": {
      "text/plain": [
       "525960.0"
      ]
     },
     "execution_count": 3,
     "metadata": {},
     "output_type": "execute_result"
    }
   ],
   "source": [
    "60*24*365.25"
   ]
  },
  {
   "cell_type": "markdown",
   "metadata": {},
   "source": [
    "You can also assign a ***value*** to a ***variable***."
   ]
  },
  {
   "cell_type": "code",
   "execution_count": 4,
   "metadata": {
    "pycharm": {
     "name": "#%%\n"
    }
   },
   "outputs": [
    {
     "data": {
      "text/plain": [
       "525960"
      ]
     },
     "execution_count": 4,
     "metadata": {},
     "output_type": "execute_result"
    }
   ],
   "source": [
    "minutesperyear=525960\n",
    "minutesperyear"
   ]
  },
  {
   "cell_type": "markdown",
   "metadata": {},
   "source": [
    "***Note to name your variables proberly. Take care that Python is case sensitive.***\n",
    "\n",
    "All variable names are allowed except the predefined [Python Keywords](https://www.w3schools.com/python/python_ref_keywords.asp)."
   ]
  },
  {
   "cell_type": "code",
   "execution_count": 5,
   "metadata": {
    "pycharm": {
     "name": "#%%\n"
    }
   },
   "outputs": [
    {
     "data": {
      "text/plain": [
       "31557600"
      ]
     },
     "execution_count": 5,
     "metadata": {},
     "output_type": "execute_result"
    }
   ],
   "source": [
    "secondsperyear=minutesperyear*60\n",
    "secondsperyear"
   ]
  },
  {
   "cell_type": "code",
   "execution_count": 6,
   "metadata": {
    "pycharm": {
     "name": "#%%\n"
    }
   },
   "outputs": [
    {
     "name": "stdout",
     "output_type": "stream",
     "text": [
      "525600\n",
      "31557600\n",
      "31536000\n"
     ]
    }
   ],
   "source": [
    "minutesperyear=60*24*365\n",
    "print(minutesperyear)\n",
    "print(secondsperyear)\n",
    "print(minutesperyear*60)"
   ]
  },
  {
   "cell_type": "code",
   "execution_count": 7,
   "metadata": {
    "pycharm": {
     "name": "#%%\n"
    }
   },
   "outputs": [
    {
     "data": {
      "text/plain": [
       "False"
      ]
     },
     "execution_count": 7,
     "metadata": {},
     "output_type": "execute_result"
    }
   ],
   "source": [
    "secondsperyear==minutesperyear*60"
   ]
  },
  {
   "cell_type": "markdown",
   "metadata": {},
   "source": [
    "***Important:*** Python does not update a variable, if the value other variable changes. You have to do it manually."
   ]
  },
  {
   "cell_type": "code",
   "execution_count": 8,
   "metadata": {
    "pycharm": {
     "name": "#%%\n"
    }
   },
   "outputs": [
    {
     "data": {
      "text/plain": [
       "True"
      ]
     },
     "execution_count": 8,
     "metadata": {},
     "output_type": "execute_result"
    }
   ],
   "source": [
    "secondsperyear=minutesperyear*60\n",
    "secondsperyear==minutesperyear*60"
   ]
  },
  {
   "cell_type": "markdown",
   "metadata": {},
   "source": [
    "## Data types <a id=data_types>\n",
    "[Back to Content Overview](#ov)\n",
    "\n",
    "In addition to its value and name, each variable has a ***data type*** and an ***ID***."
   ]
  },
  {
   "cell_type": "code",
   "execution_count": 9,
   "metadata": {
    "pycharm": {
     "name": "#%%\n"
    }
   },
   "outputs": [
    {
     "name": "stdout",
     "output_type": "stream",
     "text": [
      "<class 'int'>\n",
      "2283986269776\n"
     ]
    }
   ],
   "source": [
    "print(type(secondsperyear))\n",
    "print(id(secondsperyear))"
   ]
  },
  {
   "cell_type": "markdown",
   "metadata": {},
   "source": [
    "There are a few important data types in Python:"
   ]
  },
  {
   "cell_type": "code",
   "execution_count": 10,
   "metadata": {
    "pycharm": {
     "name": "#%%\n"
    }
   },
   "outputs": [
    {
     "name": "stdout",
     "output_type": "stream",
     "text": [
      "<class 'int'>\n",
      "<class 'float'>\n",
      "<class 'bool'>\n",
      "<class 'str'>\n",
      "<class 'list'>\n",
      "<class 'tuple'>\n",
      "<class 'set'>\n",
      "<class 'dict'>\n"
     ]
    }
   ],
   "source": [
    "print(type(12))\n",
    "\n",
    "print(type(365.25))\n",
    "\n",
    "print(type(True))\n",
    "\n",
    "print(type('String'))\n",
    "\n",
    "print(type(['list',0]))\n",
    "\n",
    "print(type(('tuple',0)))\n",
    "      \n",
    "print(type({'set',0}))\n",
    "      \n",
    "print(type({'key':'value'}))"
   ]
  },
  {
   "cell_type": "markdown",
   "metadata": {},
   "source": [
    "Knowing the ***strengths*** and ***disadvantages*** of each data type is crucial to writing ***efficient*** and ***powerful*** code. Therefore, in the following we will take a closer look at them and their most important ***functions***:"
   ]
  },
  {
   "cell_type": "markdown",
   "metadata": {},
   "source": [
    "## Numericals <a id=numericals>\n",
    "[Back to Content Overview](#ov)\n",
    "\n",
    "There are three data types to save numbers in Python: ``int``, ``float`` and ``complex``. You transform each form into the other ones. "
   ]
  },
  {
   "cell_type": "code",
   "execution_count": 11,
   "metadata": {
    "pycharm": {
     "name": "#%%\n"
    }
   },
   "outputs": [
    {
     "name": "stdout",
     "output_type": "stream",
     "text": [
      "12\n",
      "122.0\n",
      "(1+5j)\n"
     ]
    }
   ],
   "source": [
    "test_int=int(12.63)\n",
    "print(test_int)\n",
    "test_float=float(122)\n",
    "print(test_float)\n",
    "test_complex=complex(1,5)\n",
    "print(test_complex)"
   ]
  },
  {
   "cell_type": "code",
   "execution_count": 15,
   "metadata": {
    "pycharm": {
     "name": "#%%\n"
    }
   },
   "outputs": [
    {
     "name": "stdout",
     "output_type": "stream",
     "text": [
      "5.666666666666667\n",
      "5\n",
      "5\n",
      "2\n",
      "2\n",
      "4913\n"
     ]
    }
   ],
   "source": [
    "print(17/3)\n",
    "print(17//3)\n",
    "print(int(17/3))\n",
    "print(17%3)\n",
    "print(17-17//3*3)\n",
    "print(17**3)"
   ]
  },
  {
   "cell_type": "markdown",
   "metadata": {},
   "source": [
    "## Strings <a id=strings>\n",
    "[Back to Content Overview](#ov)\n",
    "\n",
    "Strings are sequences of characters. Can define them with ``'``  or ``\"``.  Multiline strings are possible with ``'''`` and ``\"\"\"\"``."
   ]
  },
  {
   "cell_type": "code",
   "execution_count": 16,
   "metadata": {
    "pycharm": {
     "name": "#%%\n"
    }
   },
   "outputs": [
    {
     "name": "stdout",
     "output_type": "stream",
     "text": [
      "\n",
      "All human beings are born free and equal in dignity and rights.\n",
      "They are endowed with reason and conscience and should act towards one another in a spirit of brotherhood.\n",
      "\n"
     ]
    }
   ],
   "source": [
    "test_string='Strings are sequences of characters.'\n",
    "multiline_string=\"\"\"\n",
    "All human beings are born free and equal in dignity and rights.\n",
    "They are endowed with reason and conscience and should act towards one another in a spirit of brotherhood.\n",
    "\"\"\"\n",
    "print(multiline_string)"
   ]
  },
  {
   "cell_type": "markdown",
   "metadata": {},
   "source": [
    "There are some \"special\" characters:\n",
    "\n",
    " - ``'\\n'``: Linebreak\n",
    " - ``'\\t'``: Tab\n",
    " - ``'\\r'``: Carriage return"
   ]
  },
  {
   "cell_type": "markdown",
   "metadata": {},
   "source": [
    "Combine to strings with ``+``!"
   ]
  },
  {
   "cell_type": "code",
   "execution_count": 17,
   "metadata": {
    "pycharm": {
     "name": "#%%\n"
    }
   },
   "outputs": [
    {
     "name": "stdout",
     "output_type": "stream",
     "text": [
      "Strings are sequences of characters. \n",
      "All human beings are born free and equal in dignity and rights.\n",
      "They are endowed with reason and conscience and should act towards one another in a spirit of brotherhood.\n",
      "\n"
     ]
    }
   ],
   "source": [
    "combine_string=test_string + ' ' + multiline_string\n",
    "print(combine_string)"
   ]
  },
  {
   "cell_type": "code",
   "execution_count": 18,
   "metadata": {
    "pycharm": {
     "name": "#%%\n"
    }
   },
   "outputs": [
    {
     "ename": "TypeError",
     "evalue": "can only concatenate str (not \"int\") to str",
     "output_type": "error",
     "traceback": [
      "\u001b[1;31m---------------------------------------------------------------------------\u001b[0m",
      "\u001b[1;31mTypeError\u001b[0m                                 Traceback (most recent call last)",
      "Cell \u001b[1;32mIn[18], line 2\u001b[0m\n\u001b[0;32m      1\u001b[0m how_was_the_question\u001b[38;5;241m=\u001b[39m\u001b[38;5;241m42\u001b[39m\n\u001b[1;32m----> 2\u001b[0m combine_string\u001b[38;5;241m=\u001b[39m\u001b[38;5;124m'\u001b[39m\u001b[38;5;124mThe number \u001b[39m\u001b[38;5;124m'\u001b[39m \u001b[38;5;241m+\u001b[39m how_was_the_question \u001b[38;5;241m+\u001b[39m \u001b[38;5;124m'\u001b[39m\u001b[38;5;124m is the Answer to the Ultimate Question of Life, the Universe, and Everything.\u001b[39m\u001b[38;5;124m'\u001b[39m\n\u001b[0;32m      3\u001b[0m \u001b[38;5;28mprint\u001b[39m(combine_string)\n",
      "\u001b[1;31mTypeError\u001b[0m: can only concatenate str (not \"int\") to str"
     ]
    }
   ],
   "source": [
    "how_was_the_question=42\n",
    "combine_string='The number ' + how_was_the_question + ' is the Answer to the Ultimate Question of Life, the Universe, and Everything.'\n",
    "print(combine_string)"
   ]
  },
  {
   "cell_type": "code",
   "execution_count": 21,
   "metadata": {
    "pycharm": {
     "name": "#%%\n"
    }
   },
   "outputs": [
    {
     "name": "stdout",
     "output_type": "stream",
     "text": [
      "The number 42 is the Answer to the Ultimate Question of Life, the Universe, and Everything.\n",
      "The number 42 [12, 366] is the Answer to the Ultimate Question of Life, the Universe, and Everything.\n"
     ]
    }
   ],
   "source": [
    "combine_string='The number ' + str(how_was_the_question) + ' is the Answer to the Ultimate Question of Life, the Universe, and Everything.'\n",
    "print(combine_string)\n",
    "combine_string=f'The number {how_was_the_question} {} is the Answer to the Ultimate Question of Life, the Universe, and Everything.'\n",
    "print(combine_string)"
   ]
  },
  {
   "cell_type": "code",
   "execution_count": 25,
   "metadata": {},
   "outputs": [
    {
     "ename": "TypeError",
     "evalue": "unsupported operand type(s) for +: 'int' and 'list'",
     "output_type": "error",
     "traceback": [
      "\u001b[1;31m---------------------------------------------------------------------------\u001b[0m",
      "\u001b[1;31mTypeError\u001b[0m                                 Traceback (most recent call last)",
      "Cell \u001b[1;32mIn[25], line 1\u001b[0m\n\u001b[1;32m----> 1\u001b[0m \u001b[38;5;241m1\u001b[39m\u001b[38;5;241m+\u001b[39m [\u001b[38;5;241m12\u001b[39m,\u001b[38;5;241m366\u001b[39m,\u001b[38;5;241m2663\u001b[39m]\n",
      "\u001b[1;31mTypeError\u001b[0m: unsupported operand type(s) for +: 'int' and 'list'"
     ]
    }
   ],
   "source": [
    "1+ [12,366,2663]"
   ]
  },
  {
   "cell_type": "code",
   "execution_count": 26,
   "metadata": {
    "pycharm": {
     "name": "#%%\n"
    }
   },
   "outputs": [
    {
     "name": "stdout",
     "output_type": "stream",
     "text": [
      "Strings are sequences of characters.10000\n",
      "Strings are sequences of characters.10000\n"
     ]
    }
   ],
   "source": [
    "combine_string=test_string+str(10000)\n",
    "print(combine_string)\n",
    "combine_string=test_string+str(10000)\n",
    "print(combine_string)"
   ]
  },
  {
   "cell_type": "markdown",
   "metadata": {},
   "source": [
    "Since strings are a sequential data type, so you can preserve parts of them by ***indexing***  with ``[]`` and query the number of chars with ``len()``.\n",
    "\n",
    "\n"
   ]
  },
  {
   "cell_type": "code",
   "execution_count": 31,
   "metadata": {
    "pycharm": {
     "name": "#%%\n"
    }
   },
   "outputs": [
    {
     "name": "stdout",
     "output_type": "stream",
     "text": [
      "Strings are sequences of characters.\n",
      "S\n",
      ".\n",
      "are sequences\n",
      "S\n",
      "Srnsa\n",
      ".sretcarahc fo secneuqes era sgnirtS\n",
      "36\n",
      "Strings are sequences of c\n"
     ]
    }
   ],
   "source": [
    "print(test_string)\n",
    "print(test_string[0])\n",
    "print(test_string[-1])\n",
    "print(test_string[8:-15])\n",
    "print(test_string[:1])\n",
    "print(test_string[0:10:2])\n",
    "print(test_string[::-1])\n",
    "print(len(test_string))\n",
    "print(test_string[:len(test_string)-10])"
   ]
  },
  {
   "cell_type": "markdown",
   "metadata": {},
   "source": [
    "### Important methods\n",
    "[Complete List](https://www.w3schools.com/python/python_ref_string.asp)"
   ]
  },
  {
   "cell_type": "markdown",
   "metadata": {},
   "source": [
    "#### Find\n",
    "To get first word of a sentence you can use ``string.find(sub_string,start,end)``."
   ]
  },
  {
   "cell_type": "code",
   "execution_count": 34,
   "metadata": {
    "pycharm": {
     "name": "#%%\n"
    }
   },
   "outputs": [
    {
     "name": "stdout",
     "output_type": "stream",
     "text": [
      "Strings are sequences of characters.\n",
      "7\n",
      "Strings\n",
      "24\n",
      "Strings are sequences of\n"
     ]
    }
   ],
   "source": [
    "print(test_string)\n",
    "print(test_string.find(' '))\n",
    "print(test_string[:test_string.find(' ')])\n",
    "\n",
    "print(test_string.rfind(' '))\n",
    "print(test_string[:test_string.rfind(' ')])"
   ]
  },
  {
   "cell_type": "markdown",
   "metadata": {},
   "source": [
    "<span style=\"color:blue\"><b>Task:</b></span> Write a code that prints out every word of the string separately! (Use only the find function and string indexing.)"
   ]
  },
  {
   "cell_type": "code",
   "execution_count": 57,
   "metadata": {},
   "outputs": [],
   "source": [
    "test_string='Strings are sequences of characters.'"
   ]
  },
  {
   "cell_type": "code",
   "execution_count": 46,
   "metadata": {
    "pycharm": {
     "name": "#%%\n"
    }
   },
   "outputs": [
    {
     "name": "stdout",
     "output_type": "stream",
     "text": [
      "character\n"
     ]
    }
   ],
   "source": [
    "start_whitespace=test_string.find(' ')\n",
    "print(test_string[:start_whitespace])\n",
    "test_string=test_string[start_whitespace+1:]"
   ]
  },
  {
   "cell_type": "code",
   "execution_count": 47,
   "metadata": {},
   "outputs": [
    {
     "data": {
      "text/plain": [
       "-1"
      ]
     },
     "execution_count": 47,
     "metadata": {},
     "output_type": "execute_result"
    }
   ],
   "source": [
    "test_string.find('Niklas')"
   ]
  },
  {
   "cell_type": "code",
   "execution_count": 48,
   "metadata": {},
   "outputs": [],
   "source": [
    "path='C:/User/Folder/Folder2/myfile.xlsx'"
   ]
  },
  {
   "cell_type": "code",
   "execution_count": 50,
   "metadata": {},
   "outputs": [
    {
     "data": {
      "text/plain": [
       "'myfile'"
      ]
     },
     "execution_count": 50,
     "metadata": {},
     "output_type": "execute_result"
    }
   ],
   "source": [
    "name=path[path.rfind('/')+1:path.rfind('.')]\n",
    "name"
   ]
  },
  {
   "cell_type": "markdown",
   "metadata": {},
   "source": [
    "#### Count\n",
    "Return how times a substring appears in string: ``string.count(sub_string,start,end)``."
   ]
  },
  {
   "cell_type": "code",
   "execution_count": 54,
   "metadata": {
    "pycharm": {
     "name": "#%%\n"
    }
   },
   "outputs": [
    {
     "name": "stdout",
     "output_type": "stream",
     "text": [
      "Strings are sequences of characters\n",
      "4\n",
      "0\n"
     ]
    }
   ],
   "source": [
    "print(test_string)\n",
    "print(test_string.count(' '))\n",
    "print(test_string.count('Sequences'))"
   ]
  },
  {
   "cell_type": "markdown",
   "metadata": {},
   "source": [
    "#### Replace\n",
    "To replace one or muliple characters in a string ``string.replace(old,new)``."
   ]
  },
  {
   "cell_type": "code",
   "execution_count": 55,
   "metadata": {
    "pycharm": {
     "name": "#%%\n"
    }
   },
   "outputs": [
    {
     "name": "stdout",
     "output_type": "stream",
     "text": [
      "Strings __e sequences of ch__acters\n"
     ]
    }
   ],
   "source": [
    "print(test_string.replace('ar','__'))"
   ]
  },
  {
   "cell_type": "code",
   "execution_count": 56,
   "metadata": {
    "pycharm": {
     "name": "#%%\n"
    }
   },
   "outputs": [
    {
     "name": "stdout",
     "output_type": "stream",
     "text": [
      "Strings\n",
      "are\n",
      "sequences\n",
      "of\n",
      "characters\n"
     ]
    }
   ],
   "source": [
    "print(test_string.replace(' ','\\n'))"
   ]
  },
  {
   "cell_type": "code",
   "execution_count": 58,
   "metadata": {
    "pycharm": {
     "name": "#%%\n"
    }
   },
   "outputs": [
    {
     "name": "stdout",
     "output_type": "stream",
     "text": [
      "Strings\n",
      "are\n",
      "sequences\n",
      "of\n",
      "characters\n"
     ]
    }
   ],
   "source": [
    "print(test_string.replace(' ','\\n').replace('.',''))"
   ]
  },
  {
   "cell_type": "code",
   "execution_count": null,
   "metadata": {
    "pycharm": {
     "name": "#%%\n"
    }
   },
   "outputs": [],
   "source": [
    "print(test_string)"
   ]
  },
  {
   "cell_type": "code",
   "execution_count": 59,
   "metadata": {},
   "outputs": [
    {
     "data": {
      "text/plain": [
       "'C:/User/Folder/Folder2/myfile.py'"
      ]
     },
     "execution_count": 59,
     "metadata": {},
     "output_type": "execute_result"
    }
   ],
   "source": [
    "path='C:/User/Folder/Folder2/myfile.xlsx'\n",
    "path.replace('.xlsx','.py')"
   ]
  },
  {
   "cell_type": "code",
   "execution_count": 60,
   "metadata": {},
   "outputs": [
    {
     "data": {
      "text/plain": [
       "'C:/USER/FOLDER/FOLDER2/MYFILE.XLSX'"
      ]
     },
     "execution_count": 60,
     "metadata": {},
     "output_type": "execute_result"
    }
   ],
   "source": [
    "'C:/User/Folder/Folder2/myfile.xlsx'.upper()"
   ]
  },
  {
   "cell_type": "code",
   "execution_count": 61,
   "metadata": {},
   "outputs": [
    {
     "data": {
      "text/plain": [
       "'Test hello'"
      ]
     },
     "execution_count": 61,
     "metadata": {},
     "output_type": "execute_result"
    }
   ],
   "source": [
    "'   Test hello  '.strip()"
   ]
  },
  {
   "cell_type": "code",
   "execution_count": 62,
   "metadata": {},
   "outputs": [
    {
     "data": {
      "text/plain": [
       "'Test hello  '"
      ]
     },
     "execution_count": 62,
     "metadata": {},
     "output_type": "execute_result"
    }
   ],
   "source": [
    "'___Test hello  ___'.strip('_')"
   ]
  },
  {
   "cell_type": "markdown",
   "metadata": {},
   "source": [
    "Some function for case manipulation and formatting:\n",
    " - ``string.upper()``: all upper case\n",
    " - ``string.lower()``: all lower case\n",
    " - ``string.strip()``: delete whitespace at the beginning and the end"
   ]
  },
  {
   "cell_type": "markdown",
   "metadata": {},
   "source": [
    "## Lists <a id=lists>\n",
    "[Back to Content Overview](#ov)\n",
    "List items are **ordered**, **changeable**, and allow for **duplicate values**. They are defined with ``[]`` or ``list()``."
   ]
  },
  {
   "cell_type": "code",
   "execution_count": 67,
   "metadata": {
    "pycharm": {
     "name": "#%%\n"
    }
   },
   "outputs": [
    {
     "name": "stdout",
     "output_type": "stream",
     "text": [
      "[0, 'one', 2.0, ['inner', 'list']]\n",
      "['S', 't', 'r', 'i', 'n', 'g', 's', ' ', 'a', 'r', 'e', ' ', 's', 'e', 'q', 'u', 'e', 'n', 'c', 'e', 's', ' ', 'o', 'f', ' ', 'c', 'h', 'a', 'r', 'a', 'c', 't', 'e', 'r', 's', '.']\n"
     ]
    }
   ],
   "source": [
    "test_list=[0,'one',2.0,['inner','list']]\n",
    "print(test_list)\n",
    "print(list(test_string))"
   ]
  },
  {
   "cell_type": "markdown",
   "metadata": {},
   "source": [
    "Indexing works the same way as with the strings. You can also use multilevel indices."
   ]
  },
  {
   "cell_type": "code",
   "execution_count": 65,
   "metadata": {
    "pycharm": {
     "name": "#%%\n"
    }
   },
   "outputs": [
    {
     "name": "stdout",
     "output_type": "stream",
     "text": [
      "0\n",
      "h\n",
      "[0, 'one', 2.0, 'three']\n"
     ]
    }
   ],
   "source": [
    "print(test_list[0])\n",
    "print(test_list[-1][1])\n",
    "test_list[3]='three'\n",
    "print(test_list)"
   ]
  },
  {
   "cell_type": "markdown",
   "metadata": {},
   "source": [
    "### Important methods\n",
    "[Complete List](https://www.w3schools.com/python/python_ref_list.asp)"
   ]
  },
  {
   "cell_type": "markdown",
   "metadata": {},
   "source": [
    "#### Index\n",
    "Returns the position of an element. (This function is not efficient for large lists, use sets instead.)"
   ]
  },
  {
   "cell_type": "code",
   "execution_count": 68,
   "metadata": {
    "pycharm": {
     "name": "#%%\n"
    }
   },
   "outputs": [
    {
     "name": "stdout",
     "output_type": "stream",
     "text": [
      "3\n"
     ]
    }
   ],
   "source": [
    "print(test_list.index(['inner','list']))"
   ]
  },
  {
   "cell_type": "markdown",
   "metadata": {},
   "source": [
    "#### Count\n",
    "Returns how many times an element appears in a list."
   ]
  },
  {
   "cell_type": "code",
   "execution_count": 69,
   "metadata": {
    "pycharm": {
     "name": "#%%\n"
    }
   },
   "outputs": [
    {
     "name": "stdout",
     "output_type": "stream",
     "text": [
      "1\n"
     ]
    }
   ],
   "source": [
    "print(test_list.count('one'))"
   ]
  },
  {
   "cell_type": "markdown",
   "metadata": {},
   "source": [
    "#### Extend\n",
    "Combine two lists."
   ]
  },
  {
   "cell_type": "code",
   "execution_count": null,
   "metadata": {
    "pycharm": {
     "name": "#%%\n"
    }
   },
   "outputs": [],
   "source": [
    "test_list=[0,'one',2.0,['inner','list']]"
   ]
  },
  {
   "cell_type": "code",
   "execution_count": 70,
   "metadata": {
    "pycharm": {
     "name": "#%%\n"
    }
   },
   "outputs": [
    {
     "name": "stdout",
     "output_type": "stream",
     "text": [
      "[0, 'one', 2.0, ['inner', 'list'], '4', '5', 6]\n"
     ]
    }
   ],
   "source": [
    "test_list.extend(['4','5',6])\n",
    "print(test_list)"
   ]
  },
  {
   "cell_type": "markdown",
   "metadata": {},
   "source": [
    "<span style=\"color:blue\"><b>Task:</b></span> Find an alternative version for the ``extend`` function."
   ]
  },
  {
   "cell_type": "code",
   "execution_count": 72,
   "metadata": {
    "pycharm": {
     "name": "#%%\n"
    }
   },
   "outputs": [
    {
     "data": {
      "text/plain": [
       "[0, 'one', 2.0, ['inner', 'list'], '4', '5', 6, '4', '5', 6, '4', '5', 6]"
      ]
     },
     "execution_count": 72,
     "metadata": {},
     "output_type": "execute_result"
    }
   ],
   "source": [
    "test_list=test_list+['4','5',6]\n",
    "test_list"
   ]
  },
  {
   "cell_type": "code",
   "execution_count": 75,
   "metadata": {},
   "outputs": [
    {
     "name": "stdout",
     "output_type": "stream",
     "text": [
      "[0, 'one', 2.0, ['inner', 'list'], '4', '5', 6, '4', '5', 6, '4', '5', 6, '4', '5', 6, '4', '5', 6, '4', '5', 6]\n"
     ]
    }
   ],
   "source": [
    "test_list+=['4','5',6]\n",
    "print(test_list)"
   ]
  },
  {
   "cell_type": "markdown",
   "metadata": {},
   "source": [
    "#### Append\n",
    "Add one element at the end of the list."
   ]
  },
  {
   "cell_type": "code",
   "execution_count": null,
   "metadata": {
    "pycharm": {
     "name": "#%%\n"
    }
   },
   "outputs": [],
   "source": [
    "test_list.append(4)\n",
    "print(test_list)"
   ]
  },
  {
   "cell_type": "markdown",
   "metadata": {},
   "source": [
    "<span style=\"color:blue\"><b>Task:</b></span> Find an alternative version for the ``append`` function."
   ]
  },
  {
   "cell_type": "code",
   "execution_count": 76,
   "metadata": {
    "pycharm": {
     "name": "#%%\n"
    }
   },
   "outputs": [],
   "source": [
    "#1\n",
    "test_list+=[4]"
   ]
  },
  {
   "cell_type": "code",
   "execution_count": null,
   "metadata": {},
   "outputs": [],
   "source": [
    "#2\n",
    "test_list=test_list+[4]"
   ]
  },
  {
   "cell_type": "code",
   "execution_count": 78,
   "metadata": {},
   "outputs": [],
   "source": [
    "test_list.extend([4])"
   ]
  },
  {
   "cell_type": "code",
   "execution_count": 79,
   "metadata": {},
   "outputs": [
    {
     "data": {
      "text/plain": [
       "[0,\n",
       " 'one',\n",
       " 2.0,\n",
       " ['inner', 'list'],\n",
       " '4',\n",
       " '5',\n",
       " 6,\n",
       " '4',\n",
       " '5',\n",
       " 6,\n",
       " '4',\n",
       " '5',\n",
       " 6,\n",
       " '4',\n",
       " '5',\n",
       " 6,\n",
       " '4',\n",
       " '5',\n",
       " 6,\n",
       " '4',\n",
       " '5',\n",
       " 6,\n",
       " 4,\n",
       " 4]"
      ]
     },
     "execution_count": 79,
     "metadata": {},
     "output_type": "execute_result"
    }
   ],
   "source": [
    "test_list"
   ]
  },
  {
   "cell_type": "markdown",
   "metadata": {},
   "source": [
    "#### Pop\n",
    "Delete the last element."
   ]
  },
  {
   "cell_type": "code",
   "execution_count": 82,
   "metadata": {
    "pycharm": {
     "name": "#%%\n"
    }
   },
   "outputs": [
    {
     "name": "stdout",
     "output_type": "stream",
     "text": [
      "[0, 'one', 2.0, ['inner', 'list'], '4', '5', 6, '4', '5', 6, '4', '5', 6, '4', '5', 6, '4', '5', 6, '4', '5']\n"
     ]
    }
   ],
   "source": [
    "test_list.pop()\n",
    "print(test_list)"
   ]
  },
  {
   "cell_type": "markdown",
   "metadata": {},
   "source": [
    "<span style=\"color:blue\"><b>Task:</b></span> Find an alternative version for the ``pop`` function."
   ]
  },
  {
   "cell_type": "code",
   "execution_count": 85,
   "metadata": {
    "pycharm": {
     "name": "#%%\n"
    }
   },
   "outputs": [
    {
     "name": "stdout",
     "output_type": "stream",
     "text": [
      "[0, 'one', 2.0, ['inner', 'list'], '4', '5', 6, '4', '5', 6, '4', '5', 6, '4', '5', 6, '4', '5']\n"
     ]
    }
   ],
   "source": [
    "test_list=test_list[:-1]\n",
    "print(test_list)"
   ]
  },
  {
   "cell_type": "code",
   "execution_count": 88,
   "metadata": {},
   "outputs": [
    {
     "name": "stdout",
     "output_type": "stream",
     "text": [
      "[0, 'one', 2.0, ['inner', 'list'], '4', '5', 6, '4', '5', 6, '4', '5', 6, '4', '5', 6]\n"
     ]
    }
   ],
   "source": [
    "del test_list[len(test_list)-1]\n",
    "print(test_list)"
   ]
  },
  {
   "cell_type": "code",
   "execution_count": 91,
   "metadata": {},
   "outputs": [
    {
     "name": "stdout",
     "output_type": "stream",
     "text": [
      "[0, 'one', 2.0, ['inner', 'list'], '4', '5', 6, '4', '5', 6, '4', '5', 6]\n"
     ]
    }
   ],
   "source": [
    "del test_list[-1]\n",
    "print(test_list)"
   ]
  },
  {
   "cell_type": "markdown",
   "metadata": {},
   "source": [
    "#### Insert\n",
    "Insert an element on a specific postition."
   ]
  },
  {
   "cell_type": "code",
   "execution_count": 103,
   "metadata": {
    "pycharm": {
     "name": "#%%\n"
    }
   },
   "outputs": [
    {
     "name": "stdout",
     "output_type": "stream",
     "text": [
      "[0, 'one', 1.5, 1.5, 3.5, 2.0, ['inner', 'list'], '4', '5', 6, '4', '5', 6, '4', '5', 6]\n"
     ]
    }
   ],
   "source": [
    "test_list.insert(2,1.5)\n",
    "print(test_list)"
   ]
  },
  {
   "cell_type": "markdown",
   "metadata": {},
   "source": [
    "<span style=\"color:blue\"><b>Task:</b></span> Find an alternative version for the ``insert`` function."
   ]
  },
  {
   "cell_type": "code",
   "execution_count": 94,
   "metadata": {
    "pycharm": {
     "name": "#%%\n"
    }
   },
   "outputs": [
    {
     "data": {
      "text/plain": [
       "[0,\n",
       " 'one',\n",
       " 3.5,\n",
       " 1.5,\n",
       " 1.5,\n",
       " 2.0,\n",
       " ['inner', 'list'],\n",
       " '4',\n",
       " '5',\n",
       " 6,\n",
       " '4',\n",
       " '5',\n",
       " 6,\n",
       " '4',\n",
       " '5',\n",
       " 6]"
      ]
     },
     "execution_count": 94,
     "metadata": {},
     "output_type": "execute_result"
    }
   ],
   "source": [
    "test_list=test_list[:2]+[3.5]+test_list[2:]\n",
    "test_list"
   ]
  },
  {
   "cell_type": "markdown",
   "metadata": {},
   "source": [
    "#### Remove\n",
    "Remove the first instance of an element."
   ]
  },
  {
   "cell_type": "code",
   "execution_count": null,
   "metadata": {
    "pycharm": {
     "name": "#%%\n"
    }
   },
   "outputs": [],
   "source": [
    "test_list.remove(1.5)\n",
    "print(test_list)"
   ]
  },
  {
   "cell_type": "markdown",
   "metadata": {},
   "source": [
    "<span style=\"color:blue\"><b>Task:</b></span> Find an alternative version for the ``remove`` function."
   ]
  },
  {
   "cell_type": "code",
   "execution_count": 96,
   "metadata": {
    "pycharm": {
     "name": "#%%\n"
    }
   },
   "outputs": [
    {
     "data": {
      "text/plain": [
       "[0, 'one', 3.5, 2.0, ['inner', 'list'], '4', '5', 6, '4', '5', 6, '4', '5', 6]"
      ]
     },
     "execution_count": 96,
     "metadata": {},
     "output_type": "execute_result"
    }
   ],
   "source": [
    "test_list = test_list[:test_list.index(1.5)]+test_list[test_list.index(1.5)+1:]\n",
    "test_list"
   ]
  },
  {
   "cell_type": "code",
   "execution_count": 100,
   "metadata": {},
   "outputs": [
    {
     "data": {
      "text/plain": [
       "[0, 'one', 3.5, 2.0, ['inner', 'list'], '4', '5', 6, '4', '5', 6, '4', '5', 6]"
      ]
     },
     "execution_count": 100,
     "metadata": {},
     "output_type": "execute_result"
    }
   ],
   "source": [
    "test_list[test_list.index(1.5):]=test_list[test_list.index(1.5)+1:]\n",
    "test_list"
   ]
  },
  {
   "cell_type": "code",
   "execution_count": null,
   "metadata": {},
   "outputs": [],
   "source": [
    "[0,1,2,2,4,5]"
   ]
  },
  {
   "cell_type": "code",
   "execution_count": 104,
   "metadata": {},
   "outputs": [
    {
     "data": {
      "text/plain": [
       "[0,\n",
       " 'one',\n",
       " 1.5,\n",
       " 3.5,\n",
       " 2.0,\n",
       " ['inner', 'list'],\n",
       " '4',\n",
       " '5',\n",
       " 6,\n",
       " '4',\n",
       " '5',\n",
       " 6,\n",
       " '4',\n",
       " '5',\n",
       " 6]"
      ]
     },
     "execution_count": 104,
     "metadata": {},
     "output_type": "execute_result"
    }
   ],
   "source": [
    "test_list.pop(test_list.index(1.5))\n",
    "test_list"
   ]
  },
  {
   "cell_type": "code",
   "execution_count": 105,
   "metadata": {},
   "outputs": [
    {
     "data": {
      "text/plain": [
       "[0, 'one', 3.5, 2.0, ['inner', 'list'], '4', '5', 6, '4', '5', 6, '4', '5', 6]"
      ]
     },
     "execution_count": 105,
     "metadata": {},
     "output_type": "execute_result"
    }
   ],
   "source": [
    "del test_list[test_list.index(1.5)]\n",
    "test_list"
   ]
  },
  {
   "cell_type": "markdown",
   "metadata": {},
   "source": [
    "#### Interaction with Strings"
   ]
  },
  {
   "cell_type": "code",
   "execution_count": 106,
   "metadata": {
    "pycharm": {
     "name": "#%%\n"
    }
   },
   "outputs": [
    {
     "name": "stdout",
     "output_type": "stream",
     "text": [
      "['Strings', 'are', 'sequences', 'of', 'characters.']\n"
     ]
    }
   ],
   "source": [
    "string_list=test_string.split(' ')\n",
    "print(string_list)"
   ]
  },
  {
   "cell_type": "code",
   "execution_count": 109,
   "metadata": {
    "pycharm": {
     "name": "#%%\n"
    }
   },
   "outputs": [
    {
     "name": "stdout",
     "output_type": "stream",
     "text": [
      "Strings-CONNECTER-are-CONNECTER-sequences-CONNECTER-of-CONNECTER-characters.-CONNECTER-1\n"
     ]
    }
   ],
   "source": [
    "print('-CONNECTER-'.join(string_list+['1']))"
   ]
  },
  {
   "cell_type": "markdown",
   "metadata": {},
   "source": [
    "## Booleans <a id=bool>\n",
    "[Back to Content Overview](#ov)\n",
    "Booleans are a binay data type which can be ``True`` or ``False``.\n",
    "There"
   ]
  },
  {
   "cell_type": "code",
   "execution_count": 112,
   "metadata": {
    "pycharm": {
     "name": "#%%\n"
    }
   },
   "outputs": [
    {
     "name": "stdout",
     "output_type": "stream",
     "text": [
      "False True\n",
      "True True\n",
      "False True\n"
     ]
    }
   ],
   "source": [
    "#Equal | not euqual\n",
    "print('Ernie'=='Bert','Ernie'!='Bert')\n",
    "\n",
    "# Greater than | Greater than or equal\n",
    "print(2>1,2>=0)\n",
    "\n",
    "# Less than | Less than or equal\n",
    "print('Ernie'<'Bert','Trump'<='Trump')"
   ]
  },
  {
   "cell_type": "code",
   "execution_count": 110,
   "metadata": {},
   "outputs": [],
   "source": []
  },
  {
   "cell_type": "markdown",
   "metadata": {
    "pycharm": {
     "name": "#%% md\n"
    }
   },
   "source": [
    "You can negate combine different conditions with ``not``, ``and``  and ``or``."
   ]
  },
  {
   "cell_type": "code",
   "execution_count": 113,
   "metadata": {
    "pycharm": {
     "name": "#%%\n"
    }
   },
   "outputs": [
    {
     "name": "stdout",
     "output_type": "stream",
     "text": [
      "True\n"
     ]
    }
   ],
   "source": [
    "print(False or (True and not False) and True)"
   ]
  },
  {
   "cell_type": "markdown",
   "metadata": {},
   "source": [
    "You can also check if an element exits in a list."
   ]
  },
  {
   "cell_type": "code",
   "execution_count": 114,
   "metadata": {
    "pycharm": {
     "name": "#%%\n"
    }
   },
   "outputs": [
    {
     "name": "stdout",
     "output_type": "stream",
     "text": [
      "False\n"
     ]
    }
   ],
   "source": [
    "smart_ideas_of_president_trump=[]\n",
    "print('Mexican Wall' in smart_ideas_of_president_trump)"
   ]
  },
  {
   "cell_type": "code",
   "execution_count": 116,
   "metadata": {},
   "outputs": [
    {
     "data": {
      "text/plain": [
       "False"
      ]
     },
     "execution_count": 116,
     "metadata": {},
     "output_type": "execute_result"
    }
   ],
   "source": [
    "'Iam' in 'Hallo I am here'"
   ]
  },
  {
   "cell_type": "markdown",
   "metadata": {
    "pycharm": {
     "name": "#%% md\n"
    }
   },
   "source": [
    "`` object is object`` is equivalent to ``id(object)==id(object)``\n"
   ]
  },
  {
   "cell_type": "markdown",
   "metadata": {},
   "source": [
    "## If condtion <a id=if>\n",
    "[Back to Content Overview](#ov)\n",
    "\n",
    "Python excutes differnt statements wheter a condition is ``True`` or ``False``."
   ]
  },
  {
   "cell_type": "code",
   "execution_count": 120,
   "metadata": {
    "pycharm": {
     "name": "#%%\n"
    }
   },
   "outputs": [
    {
     "name": "stdout",
     "output_type": "stream",
     "text": [
      "It`s a pawn.\n"
     ]
    }
   ],
   "source": [
    "straight=True\n",
    "diagonal=True\n",
    "backwards=False\n",
    "muliple_steps=True\n",
    "\n",
    "\n",
    "if straight and diagonal:\n",
    "    if muliple_steps:\n",
    "        if backwards:\n",
    "            print('It`s the queen.')\n",
    "        else:\n",
    "            print('It`s a pawn.')\n",
    "    else:\n",
    "        print('It`s the king.')\n",
    "\n",
    "elif straight:\n",
    "    print('It`s a rook.')\n",
    "elif diagonal:\n",
    "    print('It`s a bishop.')\n",
    "else:\n",
    "    print('It`s a knight.')"
   ]
  },
  {
   "cell_type": "markdown",
   "metadata": {},
   "source": [
    "<span style=\"color:blue\"><b>Task:</b></span> Restructure the code to make it more readable and so that it recognises when the figure does not exist."
   ]
  },
  {
   "cell_type": "code",
   "execution_count": null,
   "metadata": {
    "pycharm": {
     "name": "#%%\n"
    }
   },
   "outputs": [],
   "source": []
  },
  {
   "cell_type": "markdown",
   "metadata": {},
   "source": [
    "## While Loop <a id=while>\n",
    "With the ``while`` loop we can execute a set of statements as long as a condition is true."
   ]
  },
  {
   "cell_type": "code",
   "execution_count": 121,
   "metadata": {
    "pycharm": {
     "name": "#%%\n"
    }
   },
   "outputs": [
    {
     "name": "stdout",
     "output_type": "stream",
     "text": [
      "0 True\n",
      "1 True\n",
      "2 True\n",
      "3 True\n",
      "4 True\n",
      "5 True\n",
      "6 True\n",
      "7 True\n",
      "8 True\n",
      "9 True\n",
      "10 True\n",
      "11 True\n",
      "12 True\n",
      "13 True\n",
      "14 True\n",
      "15 True\n",
      "16 True\n",
      "17 True\n",
      "18 True\n",
      "19 True\n"
     ]
    }
   ],
   "source": [
    "i=0\n",
    "while i<20:\n",
    "    print(i,i<20)\n",
    "    i+=1"
   ]
  },
  {
   "cell_type": "markdown",
   "metadata": {},
   "source": [
    "##### Beak\n",
    "Use the ``break`` statement to end a loop."
   ]
  },
  {
   "cell_type": "code",
   "execution_count": 122,
   "metadata": {
    "pycharm": {
     "name": "#%%\n"
    }
   },
   "outputs": [
    {
     "name": "stdout",
     "output_type": "stream",
     "text": [
      "0 True\n",
      "1 True\n",
      "2 True\n",
      "3 True\n",
      "4 True\n",
      "5 True\n",
      "6 True\n",
      "7 True\n",
      "8 True\n",
      "9 True\n",
      "10 True\n",
      "11 True\n",
      "12 True\n",
      "13 True\n",
      "14 True\n",
      "15 True\n",
      "16 True\n",
      "17 True\n",
      "18 True\n",
      "19 True\n",
      "20 False\n"
     ]
    }
   ],
   "source": [
    "i=0\n",
    "while True:\n",
    "    print(i,i<20)\n",
    "    if not i<20:\n",
    "        break\n",
    "    i+=1"
   ]
  },
  {
   "cell_type": "markdown",
   "metadata": {},
   "source": [
    "<span style=\"color:blue\"><b>Task:</b></span> Write a digital clock using while loops!"
   ]
  },
  {
   "cell_type": "code",
   "execution_count": 133,
   "metadata": {
    "pycharm": {
     "name": "#%%\n"
    }
   },
   "outputs": [
    {
     "name": "stdout",
     "output_type": "stream",
     "text": [
      "11 42 14\r"
     ]
    },
    {
     "ename": "KeyboardInterrupt",
     "evalue": "",
     "output_type": "error",
     "traceback": [
      "\u001b[1;31m---------------------------------------------------------------------------\u001b[0m",
      "\u001b[1;31mKeyboardInterrupt\u001b[0m                         Traceback (most recent call last)",
      "Cell \u001b[1;32mIn[133], line 34\u001b[0m\n\u001b[0;32m      9\u001b[0m \u001b[38;5;28;01mwhile\u001b[39;00m \u001b[38;5;28;01mTrue\u001b[39;00m:\n\u001b[0;32m     10\u001b[0m \u001b[38;5;66;03m#     # Option 1\u001b[39;00m\n\u001b[0;32m     11\u001b[0m \u001b[38;5;66;03m#     if s<10:\u001b[39;00m\n\u001b[1;32m   (...)\u001b[0m\n\u001b[0;32m     30\u001b[0m     \n\u001b[0;32m     31\u001b[0m     \u001b[38;5;66;03m# Option 4\u001b[39;00m\n\u001b[0;32m     32\u001b[0m     \u001b[38;5;28mprint\u001b[39m(\u001b[38;5;28mstr\u001b[39m(h)\u001b[38;5;241m.\u001b[39mzfill(\u001b[38;5;241m2\u001b[39m),\u001b[38;5;28mstr\u001b[39m(m)\u001b[38;5;241m.\u001b[39mzfill(\u001b[38;5;241m2\u001b[39m),\u001b[38;5;28mstr\u001b[39m(s)\u001b[38;5;241m.\u001b[39mzfill(\u001b[38;5;241m2\u001b[39m),end\u001b[38;5;241m=\u001b[39m\u001b[38;5;124m'\u001b[39m\u001b[38;5;130;01m\\r\u001b[39;00m\u001b[38;5;124m'\u001b[39m)\n\u001b[1;32m---> 34\u001b[0m     time\u001b[38;5;241m.\u001b[39msleep(\u001b[38;5;241m0.1\u001b[39m)\n\u001b[0;32m     36\u001b[0m     s\u001b[38;5;241m+\u001b[39m\u001b[38;5;241m=\u001b[39m\u001b[38;5;241m1\u001b[39m\n\u001b[0;32m     37\u001b[0m     \u001b[38;5;28;01mif\u001b[39;00m s\u001b[38;5;241m==\u001b[39m\u001b[38;5;241m60\u001b[39m:\n",
      "\u001b[1;31mKeyboardInterrupt\u001b[0m: "
     ]
    }
   ],
   "source": [
    "start_time='11:35:40'\n",
    "\n",
    "import time\n",
    "\n",
    "s=int(start_time[6:])\n",
    "m=int(start_time[3:5])\n",
    "h=int(start_time[:2])\n",
    "\n",
    "while True:\n",
    "#     # Option 1\n",
    "#     if s<10:\n",
    "#         print_s='0'+str(s)\n",
    "#     else:\n",
    "#         print_s=str(s)\n",
    "#     if m<10:\n",
    "#         print_m='0'+str(m)\n",
    "#     else:\n",
    "#         print_m=str(m)\n",
    "#     if h<10:\n",
    "#         print_h='0'+str(h)\n",
    "#     else:\n",
    "#         print_h=str(h)\n",
    "#     print(print_h,print_m,print_s)\n",
    "    \n",
    "#     # Option 2\n",
    "#     print(str(h+100)[1:],str(m+100)[1:],str(s+100)[1:])\n",
    "    \n",
    "#     # Option 3\n",
    "#     print(f'{h:02d}:{m:02d}:{s:02d}')\n",
    "    \n",
    "    # Option 4\n",
    "    print(str(h).zfill(2),str(m).zfill(2),str(s).zfill(2),end='\\r')\n",
    "    \n",
    "    time.sleep(0.1)\n",
    "    \n",
    "    s+=1\n",
    "    if s==60:\n",
    "        m+=1\n",
    "        s=0\n",
    "        if m==60:\n",
    "            h+=1\n",
    "            m=0\n",
    "            if h==24:\n",
    "                h=0\n",
    "                \n",
    "    \n",
    "    "
   ]
  },
  {
   "cell_type": "markdown",
   "metadata": {},
   "source": [
    "##### Continue\n",
    "Use the ``continue`` statement to jump to the next iteration.\n",
    "***\n",
    "Tip: Use continue to prevent complex if structures to secure the readability of your code.\n",
    "***"
   ]
  },
  {
   "cell_type": "code",
   "execution_count": 134,
   "metadata": {
    "pycharm": {
     "name": "#%%\n"
    }
   },
   "outputs": [
    {
     "name": "stdout",
     "output_type": "stream",
     "text": [
      "0 True\n",
      "Test\n",
      "1 True\n",
      "2 True\n",
      "Test\n",
      "3 True\n",
      "4 True\n",
      "Test\n",
      "5 True\n",
      "6 True\n",
      "Test\n",
      "7 True\n",
      "8 True\n",
      "Test\n",
      "9 True\n",
      "10 True\n",
      "Test\n",
      "11 True\n",
      "12 True\n",
      "Test\n",
      "13 True\n",
      "14 True\n",
      "Test\n",
      "15 True\n",
      "16 True\n",
      "Test\n",
      "17 True\n",
      "18 True\n",
      "Test\n",
      "19 True\n"
     ]
    }
   ],
   "source": [
    "i=0\n",
    "while i<20:\n",
    "    print(i,i<20)\n",
    "    i+=1\n",
    "\n",
    "    if i%2==0:\n",
    "        continue\n",
    "    print('Test')"
   ]
  },
  {
   "cell_type": "markdown",
   "metadata": {},
   "source": [
    "## For Loop <a id=for>\n",
    "[Back to Content Overview](#ov)"
   ]
  },
  {
   "cell_type": "code",
   "execution_count": 135,
   "metadata": {
    "pycharm": {
     "name": "#%%\n"
    }
   },
   "outputs": [],
   "source": [
    "test_list=['Python','is','great','.',4,45]"
   ]
  },
  {
   "cell_type": "code",
   "execution_count": 136,
   "metadata": {
    "pycharm": {
     "name": "#%%\n"
    }
   },
   "outputs": [
    {
     "name": "stdout",
     "output_type": "stream",
     "text": [
      "Python <class 'str'>\n",
      "is <class 'str'>\n",
      "great <class 'str'>\n",
      ". <class 'str'>\n",
      "4 <class 'int'>\n",
      "45 <class 'int'>\n"
     ]
    }
   ],
   "source": [
    "for element in test_list:\n",
    "    print(element,type(element))"
   ]
  },
  {
   "cell_type": "markdown",
   "metadata": {},
   "source": [
    "#### Range iterator\n",
    "``range(start, stop, step)``"
   ]
  },
  {
   "cell_type": "code",
   "execution_count": 137,
   "metadata": {
    "pycharm": {
     "name": "#%%\n"
    }
   },
   "outputs": [
    {
     "name": "stdout",
     "output_type": "stream",
     "text": [
      "0\n",
      "4\n",
      "8\n"
     ]
    }
   ],
   "source": [
    "for i in range(0,10,4):\n",
    "    print(i)"
   ]
  },
  {
   "cell_type": "markdown",
   "metadata": {},
   "source": [
    "#### Enumerate\n",
    "Use enumerate to have get an index."
   ]
  },
  {
   "cell_type": "code",
   "execution_count": 138,
   "metadata": {
    "pycharm": {
     "name": "#%%\n"
    }
   },
   "outputs": [
    {
     "name": "stdout",
     "output_type": "stream",
     "text": [
      "(0, 'Python')\n",
      "(1, 'is')\n",
      "(2, 'great')\n",
      "(3, '.')\n",
      "(4, 4)\n",
      "(5, 45)\n"
     ]
    }
   ],
   "source": [
    "for element in enumerate(test_list):\n",
    "    print(element)"
   ]
  },
  {
   "cell_type": "markdown",
   "metadata": {},
   "source": [
    "Split nested lists with multiple arguments."
   ]
  },
  {
   "cell_type": "code",
   "execution_count": 139,
   "metadata": {
    "pycharm": {
     "name": "#%%\n"
    }
   },
   "outputs": [
    {
     "name": "stdout",
     "output_type": "stream",
     "text": [
      "0 Python \n",
      "1 is is\n",
      "2 great greatgreat\n",
      "3 . ...\n",
      "4 4 16\n",
      "5 45 225\n"
     ]
    }
   ],
   "source": [
    "for e,element in enumerate(test_list):\n",
    "    print(e,element,e*element)"
   ]
  },
  {
   "cell_type": "markdown",
   "metadata": {},
   "source": [
    "#### Zip lists\n",
    "You can combine two or more lists with the sam length to an nested list structure with ``zip``."
   ]
  },
  {
   "cell_type": "code",
   "execution_count": 140,
   "metadata": {
    "pycharm": {
     "name": "#%%\n"
    }
   },
   "outputs": [
    {
     "name": "stdout",
     "output_type": "stream",
     "text": [
      "[('Python', 'Be'), ('is', 'or'), ('great', 'not'), ('.', 'to'), (4, 'be'), (45, '.')]\n",
      "Python BE\n",
      "is OR\n",
      "great NOT\n",
      ". TO\n",
      "4 BE\n",
      "45 .\n"
     ]
    }
   ],
   "source": [
    "test_list_2=['Be','or','not','to','be','.']\n",
    "test_list_3=list(zip(test_list,test_list_2))\n",
    "print(test_list_3)\n",
    "\n",
    "for element,element_2 in test_list_3:\n",
    "    print(element,element_2.upper())\n",
    "# Can also unzip the nested list.\n",
    "test_list,test_list_2=zip(*test_list_3)"
   ]
  },
  {
   "cell_type": "code",
   "execution_count": 141,
   "metadata": {},
   "outputs": [
    {
     "name": "stdout",
     "output_type": "stream",
     "text": [
      "Python Be\n",
      "is or\n",
      "great not\n",
      ". to\n",
      "4 be\n",
      "45 .\n"
     ]
    }
   ],
   "source": [
    "test_list=['Python','is','great','.',4,45]\n",
    "test_list_2=['Be','or','not','to','be','.']\n",
    "\n",
    "for element_1, element_2 in zip(test_list,test_list_2):\n",
    "    print(element_1,element_2)"
   ]
  },
  {
   "cell_type": "code",
   "execution_count": 142,
   "metadata": {},
   "outputs": [
    {
     "name": "stdout",
     "output_type": "stream",
     "text": [
      "Python Be\n",
      "is or\n",
      "great not\n",
      ". to\n",
      "4 be\n",
      "45 .\n"
     ]
    }
   ],
   "source": [
    "for i in range(len(test_list)):\n",
    "    print(test_list[i],test_list_2[i])"
   ]
  },
  {
   "cell_type": "markdown",
   "metadata": {},
   "source": [
    "#### tqdm\n",
    "Some loop loops take a long time to complete, so it is helpful to use a progress bar."
   ]
  },
  {
   "cell_type": "code",
   "execution_count": 147,
   "metadata": {
    "pycharm": {
     "name": "#%%\n"
    }
   },
   "outputs": [
    {
     "name": "stderr",
     "output_type": "stream",
     "text": [
      "Calculating square numbers:   2%|▋                                        | 161225/10000000 [02:57<3:00:07, 910.33it/s]\n"
     ]
    },
    {
     "ename": "KeyboardInterrupt",
     "evalue": "",
     "output_type": "error",
     "traceback": [
      "\u001b[1;31m---------------------------------------------------------------------------\u001b[0m",
      "\u001b[1;31mKeyboardInterrupt\u001b[0m                         Traceback (most recent call last)",
      "Cell \u001b[1;32mIn[147], line 5\u001b[0m\n\u001b[0;32m      3\u001b[0m \u001b[38;5;28;01mfor\u001b[39;00m i \u001b[38;5;129;01min\u001b[39;00m tqdm(\u001b[38;5;28mrange\u001b[39m(\u001b[38;5;241m10000000\u001b[39m),desc\u001b[38;5;241m=\u001b[39m\u001b[38;5;124m'\u001b[39m\u001b[38;5;124mCalculating square numbers\u001b[39m\u001b[38;5;124m'\u001b[39m):\n\u001b[0;32m      4\u001b[0m     i\u001b[38;5;241m=\u001b[39mi\u001b[38;5;241m*\u001b[39m\u001b[38;5;241m*\u001b[39m\u001b[38;5;241m2\u001b[39m\n\u001b[1;32m----> 5\u001b[0m     time\u001b[38;5;241m.\u001b[39msleep(\u001b[38;5;241m0.001\u001b[39m)\n\u001b[0;32m      6\u001b[0m \u001b[38;5;66;03m#     if i==9000000:\u001b[39;00m\n\u001b[0;32m      7\u001b[0m \u001b[38;5;66;03m#         break\u001b[39;00m\n\u001b[0;32m      8\u001b[0m \u001b[38;5;28;01melse\u001b[39;00m:\n\u001b[0;32m      9\u001b[0m     \u001b[38;5;28mprint\u001b[39m(\u001b[38;5;124m'\u001b[39m\u001b[38;5;124mLast interation executed!\u001b[39m\u001b[38;5;124m'\u001b[39m)\n",
      "\u001b[1;31mKeyboardInterrupt\u001b[0m: "
     ]
    }
   ],
   "source": [
    "from tqdm import tqdm\n",
    "\n",
    "for i in tqdm(range(10000000),desc='Calculating square numbers'):\n",
    "    i=i**2\n",
    "    time.sleep(0.001)\n",
    "#     if i==9000000:\n",
    "#         break\n",
    "else:\n",
    "    print('Last interation executed!')\n"
   ]
  },
  {
   "cell_type": "markdown",
   "metadata": {},
   "source": [
    "### List comprehensions\n",
    "The List comprehension is special und powerful tool in Python to create complex lists in a single line."
   ]
  },
  {
   "cell_type": "markdown",
   "metadata": {},
   "source": [
    "You can filter with an condition after the iterator."
   ]
  },
  {
   "cell_type": "code",
   "execution_count": 148,
   "metadata": {
    "pycharm": {
     "name": "#%%\n"
    }
   },
   "outputs": [
    {
     "name": "stdout",
     "output_type": "stream",
     "text": [
      "[0, 4, 16, 36, 64, 100, 144, 196]\n"
     ]
    }
   ],
   "source": [
    "even_squares=[i**2 for i in range(15) if i%2==0]\n",
    "print(even_squares)"
   ]
  },
  {
   "cell_type": "markdown",
   "metadata": {},
   "source": [
    "This the same task without a list comprehension:"
   ]
  },
  {
   "cell_type": "code",
   "execution_count": 149,
   "metadata": {},
   "outputs": [
    {
     "name": "stdout",
     "output_type": "stream",
     "text": [
      "[0, 4, 16, 36, 64, 100, 144, 196]\n"
     ]
    }
   ],
   "source": [
    "even_squares=[]\n",
    "for i in range(15):\n",
    "    if i%2==0:\n",
    "        even_squares.append(i**2)   \n",
    "print(even_squares)"
   ]
  },
  {
   "cell_type": "markdown",
   "metadata": {},
   "source": [
    "One can select alternative values with a condition before the iterator."
   ]
  },
  {
   "cell_type": "code",
   "execution_count": 152,
   "metadata": {
    "pycharm": {
     "name": "#%%\n"
    }
   },
   "outputs": [
    {
     "name": "stdout",
     "output_type": "stream",
     "text": [
      "[0, 'uneven', 4, 'uneven', 16, 'uneven', 36, 'uneven', 64, 'uneven', 'uneven', 144, 'uneven', 196]\n"
     ]
    }
   ],
   "source": [
    "even_squares=[i**2 if i%2==0 else 'uneven' for i in range(15)]\n",
    "print(even_squares)"
   ]
  },
  {
   "cell_type": "markdown",
   "metadata": {},
   "source": [
    "This the same task without a list comprehension:"
   ]
  },
  {
   "cell_type": "code",
   "execution_count": null,
   "metadata": {},
   "outputs": [],
   "source": [
    "for i in range(15):\n",
    "    if i%2==0:\n",
    "        even_squares.append(i**2)\n",
    "    else:\n",
    "        even_squares.append('uneven')\n",
    "print(even_squares)"
   ]
  },
  {
   "cell_type": "markdown",
   "metadata": {},
   "source": [
    "One can also create nested lists with list comprehensions:"
   ]
  },
  {
   "cell_type": "code",
   "execution_count": 153,
   "metadata": {},
   "outputs": [
    {
     "name": "stdout",
     "output_type": "stream",
     "text": [
      "[['Python', <class 'str'>], ['is', <class 'str'>], ['great', <class 'str'>], ['.', <class 'str'>]]\n"
     ]
    }
   ],
   "source": [
    "string_list=[[element,type(element)] for element in test_list if type(element)==str]\n",
    "print(string_list)"
   ]
  },
  {
   "cell_type": "markdown",
   "metadata": {},
   "source": [
    "<span style=\"color:blue\"><b>Task:</b></span> Create a list with all numbers devisiable with 13 or 7 under 200."
   ]
  },
  {
   "cell_type": "code",
   "execution_count": 155,
   "metadata": {},
   "outputs": [
    {
     "name": "stdout",
     "output_type": "stream",
     "text": [
      "[0, 7, 13, 14, 21, 26, 28, 35, 39, 42, 49, 52, 56, 63, 65, 70, 77, 78, 84, 91, 98, 104, 105, 112, 117, 119, 126, 130, 133, 140, 143, 147, 154, 156, 161, 168, 169, 175, 182, 189, 195, 196]\n"
     ]
    }
   ],
   "source": [
    "new_list=[i for i in range(200) if i%13==0 or i%7==0]\n",
    "print(new_list)"
   ]
  },
  {
   "cell_type": "markdown",
   "metadata": {},
   "source": [
    "<span style=\"color:blue\"><b>Task:</b></span> Make a 10x10 matrix (nested list) with all numbers under 100, replace the square numbers with a x! (Use a for loop.)"
   ]
  },
  {
   "cell_type": "code",
   "execution_count": 163,
   "metadata": {},
   "outputs": [
    {
     "data": {
      "text/plain": [
       "[['X', 2, 3, 'X', 5, 6, 7, 8, 'X', 10],\n",
       " [11, 12, 13, 14, 15, 'X', 17, 18, 19, 20],\n",
       " [21, 22, 23, 24, 'X', 26, 27, 28, 29, 30],\n",
       " [31, 32, 33, 34, 35, 'X', 37, 38, 39, 40],\n",
       " [41, 42, 43, 44, 45, 46, 47, 48, 'X', 50],\n",
       " [51, 52, 53, 54, 55, 56, 57, 58, 59, 60],\n",
       " [61, 62, 63, 'X', 65, 66, 67, 68, 69, 70],\n",
       " [71, 72, 73, 74, 75, 76, 77, 78, 79, 80],\n",
       " ['X', 82, 83, 84, 85, 86, 87, 88, 89, 90],\n",
       " [91, 92, 93, 94, 95, 96, 97, 98, 99, 'X']]"
      ]
     },
     "execution_count": 163,
     "metadata": {},
     "output_type": "execute_result"
    }
   ],
   "source": [
    "matrix=[]\n",
    "v=1\n",
    "for r in range(10):\n",
    "    row_list=[]\n",
    "    for c in range(10):\n",
    "        v=r*10+c+1\n",
    "        if v**0.5==int(v**0.5):\n",
    "            row_list.append('X')\n",
    "        else:    \n",
    "            row_list.append(v)\n",
    "        #v+=1\n",
    "        \n",
    "    matrix.append(row_list)\n",
    "    \n",
    "matrix\n"
   ]
  },
  {
   "cell_type": "markdown",
   "metadata": {},
   "source": [
    "<span style=\"color:blue\"><b>Task:</b></span> Make a 10x10 matrix (nested list) with all numbers under 100, replace the square numbers with a x! (Use a list comprehension.)"
   ]
  },
  {
   "cell_type": "code",
   "execution_count": 166,
   "metadata": {},
   "outputs": [
    {
     "data": {
      "text/plain": [
       "[['X', 2, 3, 'X', 5, 6, 7, 8, 'X', 10],\n",
       " [11, 12, 13, 14, 15, 'X', 17, 18, 19, 20],\n",
       " [21, 22, 23, 24, 'X', 26, 27, 28, 29, 30],\n",
       " [31, 32, 33, 34, 35, 'X', 37, 38, 39, 40],\n",
       " [41, 42, 43, 44, 45, 46, 47, 48, 'X', 50],\n",
       " [51, 52, 53, 54, 55, 56, 57, 58, 59, 60],\n",
       " [61, 62, 63, 'X', 65, 66, 67, 68, 69, 70],\n",
       " [71, 72, 73, 74, 75, 76, 77, 78, 79, 80],\n",
       " ['X', 82, 83, 84, 85, 86, 87, 88, 89, 90],\n",
       " [91, 92, 93, 94, 95, 96, 97, 98, 99, 'X']]"
      ]
     },
     "execution_count": 166,
     "metadata": {},
     "output_type": "execute_result"
    }
   ],
   "source": [
    "matrix=[['X' if (r*10+c+1)**0.5==int((r*10+c+1)**0.5) else r*10+c+1 for c in range(10)] for r in range(10)]\n",
    "matrix"
   ]
  },
  {
   "cell_type": "markdown",
   "metadata": {},
   "source": [
    "## Error Handling <a id=try>\n",
    "[Back to Content Overview](#ov)"
   ]
  },
  {
   "cell_type": "code",
   "execution_count": 167,
   "metadata": {
    "pycharm": {
     "name": "#%%\n"
    }
   },
   "outputs": [
    {
     "name": "stdout",
     "output_type": "stream",
     "text": [
      "-1\t-1\t-1\t-1\t-1.0\n",
      "-1\t-2\t-2\t-5\t"
     ]
    },
    {
     "ename": "ZeroDivisionError",
     "evalue": "division by zero",
     "output_type": "error",
     "traceback": [
      "\u001b[1;31m---------------------------------------------------------------------------\u001b[0m",
      "\u001b[1;31mZeroDivisionError\u001b[0m                         Traceback (most recent call last)",
      "Cell \u001b[1;32mIn[167], line 3\u001b[0m\n\u001b[0;32m      1\u001b[0m \u001b[38;5;28;01mfor\u001b[39;00m i \u001b[38;5;129;01min\u001b[39;00m \u001b[38;5;28mrange\u001b[39m(\u001b[38;5;241m-\u001b[39m\u001b[38;5;241m9\u001b[39m,\u001b[38;5;241m5\u001b[39m):\n\u001b[0;32m      2\u001b[0m     \u001b[38;5;28;01mif\u001b[39;00m i\u001b[38;5;241m%\u001b[39m\u001b[38;5;241m5\u001b[39m\u001b[38;5;241m==\u001b[39m\u001b[38;5;241m0\u001b[39m:\n\u001b[1;32m----> 3\u001b[0m         \u001b[38;5;28mprint\u001b[39m(\u001b[38;5;28mround\u001b[39m(\u001b[38;5;241m5\u001b[39m\u001b[38;5;241m/\u001b[39mi,\u001b[38;5;241m4\u001b[39m))\n\u001b[0;32m      4\u001b[0m     \u001b[38;5;28;01melse\u001b[39;00m:\n\u001b[0;32m      5\u001b[0m         \u001b[38;5;28mprint\u001b[39m(\u001b[38;5;28mround\u001b[39m(\u001b[38;5;241m5\u001b[39m\u001b[38;5;241m/\u001b[39mi),end\u001b[38;5;241m=\u001b[39m\u001b[38;5;124m'\u001b[39m\u001b[38;5;130;01m\\t\u001b[39;00m\u001b[38;5;124m'\u001b[39m)\n",
      "\u001b[1;31mZeroDivisionError\u001b[0m: division by zero"
     ]
    }
   ],
   "source": [
    "for i in range(-9,5):\n",
    "    if i%5==0:\n",
    "        print(round(5/i,4))\n",
    "    else:\n",
    "        print(round(5/i),end='\\t')"
   ]
  },
  {
   "cell_type": "code",
   "execution_count": 169,
   "metadata": {
    "pycharm": {
     "name": "#%%\n"
    }
   },
   "outputs": [
    {
     "name": "stdout",
     "output_type": "stream",
     "text": [
      "-0.5556\t-0.625\t-0.7143\t-0.8333\t-1.0\n",
      "-1.25\t-1.6667\t-2.5\t-5.0\t0\n",
      "5.0\t2.5\t1.6667\t1.25\tsix not all arguments converted during string formatting\n",
      "seven not all arguments converted during string formatting\n",
      "Test\n"
     ]
    }
   ],
   "source": [
    "for i in list(range(-9,5))+['six','seven']:\n",
    "    try:\n",
    "        if i%5==0:\n",
    "            print(round(5/i,4))\n",
    "        else:\n",
    "            print(round(5/i,4),end='\\t')\n",
    "    except ZeroDivisionError:\n",
    "        print(0)\n",
    "    except Exception as error:\n",
    "        print(i,error)\n",
    "        pass\n",
    "    \n",
    "print('Test')"
   ]
  },
  {
   "cell_type": "code",
   "execution_count": null,
   "metadata": {},
   "outputs": [],
   "source": []
  },
  {
   "cell_type": "markdown",
   "metadata": {},
   "source": [
    "There is ``try``,a ``except``,a ``except`` and a ``finally`` statement in python."
   ]
  },
  {
   "cell_type": "code",
   "execution_count": 171,
   "metadata": {
    "pycharm": {
     "name": "#%%\n"
    },
    "scrolled": true
   },
   "outputs": [
    {
     "name": "stdout",
     "output_type": "stream",
     "text": [
      "Everything should work fine.\n",
      "Indeed, no error was raised.\n",
      "This will be executed whether an error occurs or not.\n"
     ]
    }
   ],
   "source": [
    "try:\n",
    "    print('Everything should work fine.')\n",
    "except:\n",
    "    print('An Error occurred.')\n",
    "else:\n",
    "    print('Indeed, no error was raised.')\n",
    "finally:\n",
    "    print('This will be executed whether an error occurs or not.')"
   ]
  },
  {
   "cell_type": "markdown",
   "metadata": {
    "pycharm": {
     "name": "#%% md\n"
    }
   },
   "source": [
    "You can also raise your own exceptions:"
   ]
  },
  {
   "cell_type": "code",
   "execution_count": 175,
   "metadata": {
    "pycharm": {
     "name": "#%%\n"
    }
   },
   "outputs": [
    {
     "ename": "TypeError",
     "evalue": "Only integers are allowed",
     "output_type": "error",
     "traceback": [
      "\u001b[1;31m---------------------------------------------------------------------------\u001b[0m",
      "\u001b[1;31mTypeError\u001b[0m                                 Traceback (most recent call last)",
      "Cell \u001b[1;32mIn[175], line 5\u001b[0m\n\u001b[0;32m      3\u001b[0m     \u001b[38;5;28;01mraise\u001b[39;00m \u001b[38;5;167;01mException\u001b[39;00m(\u001b[38;5;124m\"\u001b[39m\u001b[38;5;124mSorry, no numbers below zero\u001b[39m\u001b[38;5;124m\"\u001b[39m)\n\u001b[0;32m      4\u001b[0m \u001b[38;5;28;01mif\u001b[39;00m \u001b[38;5;129;01mnot\u001b[39;00m \u001b[38;5;28mtype\u001b[39m(x) \u001b[38;5;129;01mis\u001b[39;00m \u001b[38;5;28mint\u001b[39m:\n\u001b[1;32m----> 5\u001b[0m     \u001b[38;5;28;01mraise\u001b[39;00m \u001b[38;5;167;01mTypeError\u001b[39;00m(\u001b[38;5;124m\"\u001b[39m\u001b[38;5;124mOnly integers are allowed\u001b[39m\u001b[38;5;124m\"\u001b[39m)\n",
      "\u001b[1;31mTypeError\u001b[0m: Only integers are allowed"
     ]
    }
   ],
   "source": [
    "x = 1.9\n",
    "if x < 0:\n",
    "    raise Exception(\"Sorry, no numbers below zero\")\n",
    "if not type(x) is int:\n",
    "    raise TypeError(\"Only integers are allowed\")"
   ]
  },
  {
   "cell_type": "markdown",
   "metadata": {},
   "source": [
    "Defining Assertions is helpful for debugging:"
   ]
  },
  {
   "cell_type": "code",
   "execution_count": 176,
   "metadata": {
    "pycharm": {
     "name": "#%%\n"
    }
   },
   "outputs": [
    {
     "ename": "AssertionError",
     "evalue": "The Prime numbers are not correct.",
     "output_type": "error",
     "traceback": [
      "\u001b[1;31m---------------------------------------------------------------------------\u001b[0m",
      "\u001b[1;31mAssertionError\u001b[0m                            Traceback (most recent call last)",
      "Cell \u001b[1;32mIn[176], line 2\u001b[0m\n\u001b[0;32m      1\u001b[0m prime_numbers_up_to_10\u001b[38;5;241m=\u001b[39m[\u001b[38;5;241m2\u001b[39m,\u001b[38;5;241m3\u001b[39m,\u001b[38;5;241m7\u001b[39m]\n\u001b[1;32m----> 2\u001b[0m \u001b[38;5;28;01massert\u001b[39;00m \u001b[38;5;28mlen\u001b[39m(prime_numbers_up_to_10)\u001b[38;5;241m==\u001b[39m\u001b[38;5;241m4\u001b[39m, \u001b[38;5;124m'\u001b[39m\u001b[38;5;124mThe Prime numbers are not correct.\u001b[39m\u001b[38;5;124m'\u001b[39m\n",
      "\u001b[1;31mAssertionError\u001b[0m: The Prime numbers are not correct."
     ]
    }
   ],
   "source": [
    "prime_numbers_up_to_10=[2,3,7]\n",
    "assert len(prime_numbers_up_to_10)==4, 'The Prime numbers are not correct.'"
   ]
  },
  {
   "cell_type": "markdown",
   "metadata": {},
   "source": [
    "## Functions <a id=functions>\n",
    "[Back to Content Overview](#ov)\n"
   ]
  },
  {
   "cell_type": "code",
   "execution_count": 180,
   "metadata": {
    "pycharm": {
     "name": "#%%\n"
    }
   },
   "outputs": [],
   "source": [
    "def print_strings(text):\n",
    "    if type(text) is str:\n",
    "        print(text)"
   ]
  },
  {
   "cell_type": "code",
   "execution_count": 182,
   "metadata": {},
   "outputs": [],
   "source": [
    "def print_strings(text: str) -> None:\n",
    "    print(text)"
   ]
  },
  {
   "cell_type": "code",
   "execution_count": 181,
   "metadata": {
    "pycharm": {
     "name": "#%%\n"
    }
   },
   "outputs": [
    {
     "name": "stdout",
     "output_type": "stream",
     "text": [
      "String\n",
      "1\n"
     ]
    }
   ],
   "source": [
    "print_strings('String')\n",
    "print_strings(1)\n",
    "print_strings(str(1))"
   ]
  },
  {
   "cell_type": "markdown",
   "metadata": {
    "pycharm": {
     "name": "#%% md\n"
    }
   },
   "source": [
    "You can also have multiple imputs and outputs."
   ]
  },
  {
   "cell_type": "code",
   "execution_count": 202,
   "metadata": {
    "pycharm": {
     "name": "#%%\n"
    }
   },
   "outputs": [],
   "source": [
    "def find_pythagorean_triples(lower_limit: int , upper_limit: int) -> (list,int):\n",
    "    print(triples)\n",
    "    #triples=[]\n",
    "    \n",
    "    for a in range(lower_limit, upper_limit):\n",
    "        for b in range(lower_limit, upper_limit):\n",
    "            \n",
    "            c=(a**2+b**2)**0.5\n",
    "            \n",
    "            if c.is_integer() and a<b: # int(c)==c\n",
    "                triples.append([a,b,int(c)])\n",
    "    \n",
    "    return triples,len(triples)"
   ]
  },
  {
   "cell_type": "code",
   "execution_count": 203,
   "metadata": {
    "pycharm": {
     "name": "#%%\n"
    }
   },
   "outputs": [
    {
     "name": "stdout",
     "output_type": "stream",
     "text": [
      "[None, [3, 4, 5], [5, 12, 13], [6, 8, 10], [7, 24, 25], [8, 15, 17], [9, 12, 15], [10, 24, 26], [12, 16, 20], [15, 20, 25], [18, 24, 30], [20, 21, 29], [3, 4, 5], [5, 12, 13], [6, 8, 10], [7, 24, 25], [8, 15, 17], [9, 12, 15], [10, 24, 26], [12, 16, 20], [15, 20, 25], [18, 24, 30], [20, 21, 29], [3, 4, 5], [5, 12, 13], [6, 8, 10], [7, 24, 25], [8, 15, 17], [9, 12, 15], [10, 24, 26], [12, 16, 20], [15, 20, 25], [18, 24, 30], [20, 21, 29]]\n",
      "[None, [3, 4, 5], [5, 12, 13], [6, 8, 10], [7, 24, 25], [8, 15, 17], [9, 12, 15], [10, 24, 26], [12, 16, 20], [15, 20, 25], [18, 24, 30], [20, 21, 29], [3, 4, 5], [5, 12, 13], [6, 8, 10], [7, 24, 25], [8, 15, 17], [9, 12, 15], [10, 24, 26], [12, 16, 20], [15, 20, 25], [18, 24, 30], [20, 21, 29], [3, 4, 5], [5, 12, 13], [6, 8, 10], [7, 24, 25], [8, 15, 17], [9, 12, 15], [10, 24, 26], [12, 16, 20], [15, 20, 25], [18, 24, 30], [20, 21, 29], [3, 4, 5], [5, 12, 13], [6, 8, 10], [7, 24, 25], [8, 15, 17], [9, 12, 15], [10, 24, 26], [12, 16, 20], [15, 20, 25], [18, 24, 30], [20, 21, 29]]\n",
      "[None, [3, 4, 5], [5, 12, 13], [6, 8, 10], [7, 24, 25], [8, 15, 17], [9, 12, 15], [10, 24, 26], [12, 16, 20], [15, 20, 25], [18, 24, 30], [20, 21, 29], [3, 4, 5], [5, 12, 13], [6, 8, 10], [7, 24, 25], [8, 15, 17], [9, 12, 15], [10, 24, 26], [12, 16, 20], [15, 20, 25], [18, 24, 30], [20, 21, 29], [3, 4, 5], [5, 12, 13], [6, 8, 10], [7, 24, 25], [8, 15, 17], [9, 12, 15], [10, 24, 26], [12, 16, 20], [15, 20, 25], [18, 24, 30], [20, 21, 29], [3, 4, 5], [5, 12, 13], [6, 8, 10], [7, 24, 25], [8, 15, 17], [9, 12, 15], [10, 24, 26], [12, 16, 20], [15, 20, 25], [18, 24, 30], [20, 21, 29], [3, 4, 5], [5, 12, 13], [6, 8, 10], [7, 24, 25], [8, 15, 17], [9, 12, 15], [10, 24, 26], [12, 16, 20], [15, 20, 25], [18, 24, 30], [20, 21, 29]]\n",
      "56\n",
      "[None, [3, 4, 5], [5, 12, 13], [6, 8, 10], [7, 24, 25], [8, 15, 17], [9, 12, 15], [10, 24, 26], [12, 16, 20], [15, 20, 25], [18, 24, 30], [20, 21, 29], [3, 4, 5], [5, 12, 13], [6, 8, 10], [7, 24, 25], [8, 15, 17], [9, 12, 15], [10, 24, 26], [12, 16, 20], [15, 20, 25], [18, 24, 30], [20, 21, 29], [3, 4, 5], [5, 12, 13], [6, 8, 10], [7, 24, 25], [8, 15, 17], [9, 12, 15], [10, 24, 26], [12, 16, 20], [15, 20, 25], [18, 24, 30], [20, 21, 29], [3, 4, 5], [5, 12, 13], [6, 8, 10], [7, 24, 25], [8, 15, 17], [9, 12, 15], [10, 24, 26], [12, 16, 20], [15, 20, 25], [18, 24, 30], [20, 21, 29], [3, 4, 5], [5, 12, 13], [6, 8, 10], [7, 24, 25], [8, 15, 17], [9, 12, 15], [10, 24, 26], [12, 16, 20], [15, 20, 25], [18, 24, 30], [20, 21, 29]]\n",
      "[None, [3, 4, 5], [5, 12, 13], [6, 8, 10], [7, 24, 25], [8, 15, 17], [9, 12, 15], [10, 24, 26], [12, 16, 20], [15, 20, 25], [18, 24, 30], [20, 21, 29], [3, 4, 5], [5, 12, 13], [6, 8, 10], [7, 24, 25], [8, 15, 17], [9, 12, 15], [10, 24, 26], [12, 16, 20], [15, 20, 25], [18, 24, 30], [20, 21, 29], [3, 4, 5], [5, 12, 13], [6, 8, 10], [7, 24, 25], [8, 15, 17], [9, 12, 15], [10, 24, 26], [12, 16, 20], [15, 20, 25], [18, 24, 30], [20, 21, 29], [3, 4, 5], [5, 12, 13], [6, 8, 10], [7, 24, 25], [8, 15, 17], [9, 12, 15], [10, 24, 26], [12, 16, 20], [15, 20, 25], [18, 24, 30], [20, 21, 29], [3, 4, 5], [5, 12, 13], [6, 8, 10], [7, 24, 25], [8, 15, 17], [9, 12, 15], [10, 24, 26], [12, 16, 20], [15, 20, 25], [18, 24, 30], [20, 21, 29], [3, 4, 5], [5, 12, 13], [6, 8, 10], [7, 24, 25], [8, 15, 17], [9, 12, 15], [10, 24, 26], [12, 16, 20], [15, 20, 25], [18, 24, 30], [20, 21, 29]]\n"
     ]
    }
   ],
   "source": [
    "results=find_pythagorean_triples(1,25)\n",
    "#print(results)\n",
    "\n",
    "\n",
    "results,length=find_pythagorean_triples(1,25)\n",
    "print(results)\n",
    "print(length)\n",
    "\n",
    "#print(triples)\n",
    "global triples\n",
    "#triples=[None]\n",
    "results,length=find_pythagorean_triples(1,25)\n",
    "\n",
    "print(triples)"
   ]
  },
  {
   "cell_type": "markdown",
   "metadata": {},
   "source": [
    "<span style=\"color:blue\"><b>Task:</b></span> Write a function that finds all prime numbers until ``n_max``! Hint: Use the Sieve of Eratosthenes and define a function which returns if an number is a prime or not."
   ]
  },
  {
   "cell_type": "code",
   "execution_count": 208,
   "metadata": {},
   "outputs": [
    {
     "data": {
      "text/plain": [
       "[2, 3, 5, 7, 11, 13, 17, 19, 23, 29]"
      ]
     },
     "execution_count": 208,
     "metadata": {},
     "output_type": "execute_result"
    }
   ],
   "source": [
    "def is_prime(n):\n",
    "    #Checks wheiter n is divsiable by number smaller than n.\n",
    "    _bool=True\n",
    "    for c in range(2,n):\n",
    "        if n%c==0:\n",
    "            _bool=False\n",
    "            break\n",
    "        else:\n",
    "            _bool=True\n",
    "    \n",
    "    return _bool\n",
    "\n",
    "def is_prime(n):\n",
    "    #Checks wheiter n is divsiable by number smaller than n.\n",
    "    for c in range(2,n):\n",
    "        if n%c==0:\n",
    "            return False\n",
    "    return True\n",
    "\n",
    "def is_prime(n,primes):\n",
    "    #Checks wheiter n is divsiable by number smaller than n.\n",
    "    for c in primes:\n",
    "        if n%c==0:\n",
    "            return False\n",
    "    return True\n",
    "\n",
    "def is_prime(n,primes):\n",
    "    #Checks wheiter n is divsiable by number smaller than n.\n",
    "    for c in primes:     \n",
    "        if n%c==0:\n",
    "            return False\n",
    "        if c>n**0.5:\n",
    "            return True \n",
    "    return True\n",
    "\n",
    "def return_primes(n_max)-> list:\n",
    "    prime_numbers=[]\n",
    "    for i in range(2,n_max):\n",
    "        if is_prime(i,prime_numbers):\n",
    "            prime_numbers.append(i)\n",
    "            \n",
    "        \n",
    "    \n",
    "    return prime_numbers\n",
    "return_primes(30)  "
   ]
  },
  {
   "cell_type": "markdown",
   "metadata": {},
   "source": [
    "## Sets <a id=sets>\n",
    "[Back to Content Overview](#ov)\n",
    "\n",
    "List items are **unordered**, **changeable**, and allow for **no duplicate values**. They are defined with ``{}`` or ``set()`` (Empty sets with ``set()``)."
   ]
  },
  {
   "cell_type": "code",
   "execution_count": 3,
   "metadata": {
    "pycharm": {
     "name": "#%%\n"
    }
   },
   "outputs": [
    {
     "name": "stdout",
     "output_type": "stream",
     "text": [
      "{'element1', 'element2', 'element3'}\n"
     ]
    }
   ],
   "source": [
    "test_set={'element1','element2','element3'}\n",
    "# Order is random.\n",
    "print(test_set)"
   ]
  },
  {
   "cell_type": "markdown",
   "metadata": {},
   "source": [
    "Use sets to delete duplicate values!"
   ]
  },
  {
   "cell_type": "code",
   "execution_count": 4,
   "metadata": {
    "pycharm": {
     "name": "#%%\n"
    }
   },
   "outputs": [
    {
     "name": "stdout",
     "output_type": "stream",
     "text": [
      "{1, 2, 3, 5, 8}\n"
     ]
    }
   ],
   "source": [
    "test_list=[1,1,2,3,5,8]\n",
    "print(set(test_list))"
   ]
  },
  {
   "cell_type": "markdown",
   "metadata": {},
   "source": [
    "<span style=\"color:blue\"><b>Task:</b></span> Count how many times every element appears  in following list!"
   ]
  },
  {
   "cell_type": "code",
   "execution_count": 8,
   "metadata": {
    "pycharm": {
     "name": "#%%\n"
    }
   },
   "outputs": [
    {
     "name": "stdout",
     "output_type": "stream",
     "text": [
      "{0, 1, 2, 3, 4, 5, 6, 72, 9, 13, 245}\n",
      "[[0, 1], [1, 2], [2, 3], [3, 4], [4, 4], [5, 2], [6, 2], [72, 2], [9, 3], [13, 2], [245, 1]]\n",
      "0 1\n",
      "1 2\n",
      "2 3\n",
      "3 4\n",
      "4 4\n",
      "5 2\n",
      "6 2\n",
      "72 2\n",
      "9 3\n",
      "13 2\n",
      "245 1\n"
     ]
    }
   ],
   "source": [
    "numbers=[1,13,2,3,4,3,4,72,1,5,9,4,6,245,9,4,3,2,6,9,0,2,5,3,13,72]\n",
    "set_numbers=set(numbers)\n",
    "numbers_count=[[element,numbers.count(element)] for element in set_numbers]\n",
    "print(set_numbers)\n",
    "print(numbers_count)\n",
    "\n",
    "for element in set(numbers):\n",
    "    print(element,numbers.count(element))"
   ]
  },
  {
   "cell_type": "markdown",
   "metadata": {
    "pycharm": {
     "name": "#%%  md\n"
    }
   },
   "source": [
    "### Set comprehensions"
   ]
  },
  {
   "cell_type": "code",
   "execution_count": 10,
   "metadata": {
    "pycharm": {
     "name": "#%%\n"
    }
   },
   "outputs": [
    {
     "data": {
      "text/plain": [
       "{0, 1, 4, 9, 16, 25, 36, 49, 64, 81}"
      ]
     },
     "execution_count": 10,
     "metadata": {},
     "output_type": "execute_result"
    }
   ],
   "source": [
    "test_set3={i**2 for i in range(0,10)}\n",
    "test_set3"
   ]
  },
  {
   "cell_type": "markdown",
   "metadata": {},
   "source": [
    "### Important methods\n",
    "[Complete List](https://www.w3schools.com/python/python_ref_set.asp)\n",
    "\n",
    "#### Add\n",
    "Add an element to the set."
   ]
  },
  {
   "cell_type": "code",
   "execution_count": 11,
   "metadata": {
    "pycharm": {
     "name": "#%%\n"
    }
   },
   "outputs": [
    {
     "name": "stdout",
     "output_type": "stream",
     "text": [
      "{'element1', 'element7', 'element2', 'element3'}\n"
     ]
    }
   ],
   "source": [
    "test_set.add('element7')\n",
    "print(test_set)"
   ]
  },
  {
   "cell_type": "markdown",
   "metadata": {},
   "source": [
    "#### Union\n",
    "Combine two sets."
   ]
  },
  {
   "cell_type": "code",
   "execution_count": 12,
   "metadata": {
    "pycharm": {
     "name": "#%%\n"
    }
   },
   "outputs": [
    {
     "name": "stdout",
     "output_type": "stream",
     "text": [
      "{'element1', 'element7', 'element2', 'element4', 'element3'}\n"
     ]
    }
   ],
   "source": [
    "test_set_2={'element3','element4'}\n",
    "print(test_set.union(test_set_2))"
   ]
  },
  {
   "cell_type": "markdown",
   "metadata": {},
   "source": [
    "#### Intersection\n",
    "Find the all elements that exist in both sets."
   ]
  },
  {
   "cell_type": "code",
   "execution_count": 13,
   "metadata": {
    "pycharm": {
     "name": "#%%\n"
    }
   },
   "outputs": [
    {
     "name": "stdout",
     "output_type": "stream",
     "text": [
      "{'element3'}\n"
     ]
    }
   ],
   "source": [
    "print(test_set.intersection(test_set_2))"
   ]
  },
  {
   "cell_type": "markdown",
   "metadata": {},
   "source": [
    "<span style=\"color:blue\"><b>Task:</b></span> Write the intersection function using a set comprehension."
   ]
  },
  {
   "cell_type": "code",
   "execution_count": 16,
   "metadata": {
    "pycharm": {
     "name": "#%%\n"
    }
   },
   "outputs": [
    {
     "data": {
      "text/plain": [
       "{'element3'}"
      ]
     },
     "execution_count": 16,
     "metadata": {},
     "output_type": "execute_result"
    }
   ],
   "source": [
    "def _intersection(set_1,set_2):\n",
    "    new_set={element for element in set_1 if element in set_2}\n",
    "    return new_set\n",
    "\n",
    "def _intersection(set_1,set_2):\n",
    "    return {element for element in set_1 if element in set_2}\n",
    "\n",
    "_intersection(test_set,test_set_2)"
   ]
  },
  {
   "cell_type": "code",
   "execution_count": 19,
   "metadata": {},
   "outputs": [
    {
     "name": "stdout",
     "output_type": "stream",
     "text": [
      "element1 [False, False, True] False\n",
      "element7 [False, True, False] False\n",
      "element4 [True, True, True] True\n"
     ]
    },
    {
     "data": {
      "text/plain": [
       "{'element4'}"
      ]
     },
     "execution_count": 19,
     "metadata": {},
     "output_type": "execute_result"
    }
   ],
   "source": [
    "set_1={'element1','element4','element7'}\n",
    "set_2={'element4','element5','element8'}\n",
    "set_3={'element2','element4','element7'}\n",
    "set_4={'element1','element2','element3','element4'}\n",
    "list_of_sets=[set_1,set_2,set_3,set_4]\n",
    "\n",
    "def _intersection2(list_of_sets):\n",
    "    main_set=list_of_sets[0]\n",
    "    for i in range(1,len(list_of_sets)):\n",
    "        main_set=_intersection(main_set,list_of_sets[i])\n",
    "    return main_set\n",
    "\n",
    "def _intersection2(list_of_sets):\n",
    "    main_set=list_of_sets[0]\n",
    "    for _set in list_of_sets[1:]:\n",
    "        main_set=_intersection(main_set,list_of_sets[i])\n",
    "    return main_set\n",
    "\n",
    "def _intersection2(list_of_sets):\n",
    "    for element in list_of_sets[0]:\n",
    "        print(element,[element in _set for _set in list_of_sets[1:]],all(element in _set for _set in list_of_sets[1:]))\n",
    "    return {element for element in list_of_sets[0]\n",
    "            if all(element in _set for _set in list_of_sets[1:])}\n",
    "\n",
    "\n",
    "\n",
    "_intersection2(list_of_sets)"
   ]
  },
  {
   "cell_type": "markdown",
   "metadata": {},
   "source": [
    "### Why should you use sets:\n",
    "Set are used much less frequently than lists. But they have an important advantage that many people are not aware of: a unique ***hash*** is defined for each element. This means that elements can be found very quickly."
   ]
  },
  {
   "cell_type": "code",
   "execution_count": 32,
   "metadata": {},
   "outputs": [
    {
     "name": "stdout",
     "output_type": "stream",
     "text": [
      "1000\n"
     ]
    },
    {
     "name": "stderr",
     "output_type": "stream",
     "text": [
      "100%|███████████████████████████████████████████████████████████████████| 1000000/1000000 [00:00<00:00, 3477105.74it/s]\n",
      "100%|████████████████████████████████████████████████████████████████████| 1000000/1000000 [00:09<00:00, 101291.44it/s]\n"
     ]
    },
    {
     "data": {
      "text/plain": [
       "7079236079654398296"
      ]
     },
     "execution_count": 32,
     "metadata": {},
     "output_type": "execute_result"
    }
   ],
   "source": [
    "from tqdm import tqdm\n",
    "yery_long_set={f\"element{i}\" for i in range(1000)}\n",
    "\n",
    "print(len(yery_long_set))\n",
    "for i in tqdm(range(1000000)):\n",
    "    _bool='element68769' in yery_long_set\n",
    "yery_long_list=list(yery_long_set) \n",
    "for i in tqdm(range(1000000)):\n",
    "    _bool='element68769' in yery_long_list\n",
    "\n",
    "hash('element68769')\n"
   ]
  },
  {
   "cell_type": "markdown",
   "metadata": {},
   "source": [
    "## Dictionaries <a id=dict>\n",
    "[Back to Content Overview](#ov)\n",
    "\n",
    "Dictionaries are closely related with sets. Therefore they are also defined with a ``{}`` or ``dict()``.\n",
    "In the dictionary, you can store a value under each key. Since this values can be any object in python and can be queried quickly via hashes, dictionaries are the most powerful data structure of the standard kernel."
   ]
  },
  {
   "cell_type": "code",
   "execution_count": 41,
   "metadata": {
    "pycharm": {
     "name": "#%%\n"
    }
   },
   "outputs": [
    {
     "name": "stdout",
     "output_type": "stream",
     "text": [
      "PSG\n",
      "{'Neymar': 'Al Hilal', 'Haaland': 'Man City', 'Lukaku': 'AS Rome', 'Messi': 'Inter Miami', 'Goretzka': 'Bayern (Bench)', 'Salah': 'Liverpool', 'Ronaldo': 'El Nasser', 7: 'test'}\n",
      "Al Hilal\n"
     ]
    }
   ],
   "source": [
    "test_dict={'Neymar':'PSG','Haaland':'BVB','Lukaku':'Chelsea','Messi':'PSG','Goretzka':'Bayern','Salah':'Liverpool'}\n",
    "\n",
    "print(test_dict['Messi'])\n",
    "\n",
    "test_dict['Ronaldo']='El Nasser'\n",
    "test_dict['Neymar']='Al Hilal'\n",
    "test_dict['Haaland']='Man City'\n",
    "test_dict['Lukaku']='AS Rome'\n",
    "test_dict['Messi']='Inter Miami'\n",
    "test_dict['Goretzka']='Bayern (Bench)'\n",
    "#test_dict[7]='test'\n",
    "\n",
    "print(test_dict)\n",
    "print(test_dict[list(test_dict)[0]])"
   ]
  },
  {
   "cell_type": "code",
   "execution_count": 42,
   "metadata": {
    "pycharm": {
     "name": "#%%\n"
    }
   },
   "outputs": [
    {
     "name": "stdout",
     "output_type": "stream",
     "text": [
      "Neymar Haaland Lukaku Messi Goretzka Salah Ronaldo 7 "
     ]
    }
   ],
   "source": [
    "for key in test_dict:\n",
    "    print(key,end=' ')"
   ]
  },
  {
   "cell_type": "code",
   "execution_count": 49,
   "metadata": {
    "pycharm": {
     "name": "#%%\n"
    }
   },
   "outputs": [
    {
     "name": "stdout",
     "output_type": "stream",
     "text": [
      "dict_keys(['Neymar', 'Haaland', 'Lukaku', 'Messi', 'Goretzka', 'Salah', 'Ronaldo', 7]) ['Neymar', 'Haaland', 'Lukaku', 'Messi', 'Goretzka', 'Salah', 'Ronaldo', 7]\n",
      "dict_values(['Al Hilal', 'Man City', 'AS Rome', 'Inter Miami', 'Bayern (Bench)', 'Liverpool', 'El Nasser', 'test']) ['Al Hilal', 'Man City', 'AS Rome', 'Inter Miami', 'Bayern (Bench)', 'Liverpool', 'El Nasser', 'test']\n",
      "dict_items([('Neymar', 'Al Hilal'), ('Haaland', 'Man City'), ('Lukaku', 'AS Rome'), ('Messi', 'Inter Miami'), ('Goretzka', 'Bayern (Bench)'), ('Salah', 'Liverpool'), ('Ronaldo', 'El Nasser'), (7, 'test')]) [('Neymar', 'Al Hilal'), ('Haaland', 'Man City'), ('Lukaku', 'AS Rome'), ('Messi', 'Inter Miami'), ('Goretzka', 'Bayern (Bench)'), ('Salah', 'Liverpool'), ('Ronaldo', 'El Nasser'), (7, 'test')] <zip object at 0x000002A8BA142C40>\n"
     ]
    }
   ],
   "source": [
    "# Get all key as a list:\n",
    "print(test_dict.keys(),[key for key in test_dict])\n",
    "# # Get all values as a list:\n",
    "print(test_dict.values(),[test_dict[key] for key in test_dict])\n",
    "# # Get all key as a list:\n",
    "print(test_dict.items(),[(key,test_dict[key]) for key in test_dict],zip(test_dict.keys(),test_dict.items()))"
   ]
  },
  {
   "cell_type": "code",
   "execution_count": 50,
   "metadata": {
    "pycharm": {
     "name": "#%%\n"
    }
   },
   "outputs": [
    {
     "name": "stdout",
     "output_type": "stream",
     "text": [
      "Neymar plays for Al Hilal.\n",
      "Haaland plays for Man City.\n",
      "Lukaku plays for AS Rome.\n",
      "Messi plays for Inter Miami.\n",
      "Goretzka plays for Bayern (Bench).\n",
      "Salah plays for Liverpool.\n",
      "Ronaldo plays for El Nasser.\n",
      "7 plays for test.\n"
     ]
    }
   ],
   "source": [
    "for key, value in test_dict.items():\n",
    "    print(f'{key} plays for {value}.')"
   ]
  },
  {
   "cell_type": "code",
   "execution_count": 52,
   "metadata": {},
   "outputs": [
    {
     "name": "stdout",
     "output_type": "stream",
     "text": [
      "{'Neymar': 44, 'Haaland': 58, 'Lukaku': 48, 'Messi': 68, 'Salah': 32, 'Ronaldo': 54}\n"
     ]
    }
   ],
   "source": [
    "year_1={'Neymar':15,'Haaland':25,'Lukaku':20,'Messi':19,'Salah':23}\n",
    "year_2={'Neymar':17,'Haaland':23,'Ronaldo':27,'Messi':32,'Salah':9}\n",
    "year_3={'Neymar':12,'Haaland':10,'Lukaku':28,'Messi':17,'Ronaldo':27}\n",
    "\n",
    "year_list=[year_1,year_2,year_3]\n",
    "\n",
    "all_goals={}\n",
    "for year in year_list:\n",
    "    for player, score in year.items():\n",
    "        if player in all_goals:\n",
    "            all_goals[player]+=score\n",
    "        else:\n",
    "            all_goals[player]=score\n",
    "            \n",
    "print(all_goals)"
   ]
  },
  {
   "cell_type": "markdown",
   "metadata": {},
   "source": [
    "### Other methods\n",
    "[Complete List](https://www.w3schools.com/python/python_ref_set.asp)"
   ]
  },
  {
   "cell_type": "markdown",
   "metadata": {},
   "source": [
    "## Tuples and frozensets <a id=tuple>\n",
    "[Back to Content Overview](#ov)\n",
    "\n",
    "Tuples are similar to lists, they just cannot be changed after they have been defined. In certain cases, this can have minor performance advantages. So far, I have only used them in nested lists for readability reasons. They are defined with a ``()`` or ``tuple()``.\n",
    "But sometimes it can be helpful to have certain data write-protected.\n",
    "\n",
    "The same applies to frozensets, which are defined by ``frozenset()``.\n"
   ]
  },
  {
   "cell_type": "markdown",
   "metadata": {},
   "source": [
    "## Classes <a id=classes>\n",
    "[Back to Content Overview](#ov)\n"
   ]
  },
  {
   "cell_type": "markdown",
   "metadata": {},
   "source": [
    "## Modules <a id=pip>\n",
    "[Back to Content Overview](#ov)\n",
    "\n",
    "In addition to the standard library, Python can be extended by a variety of modules or packages. You can download them via pip."
   ]
  },
  {
   "cell_type": "code",
   "execution_count": null,
   "metadata": {
    "pycharm": {
     "name": "#%%\n"
    }
   },
   "outputs": [],
   "source": [
    "#Install a package\n",
    "pip install Pandas\n",
    "\n",
    "#Upadate a package\n",
    "pip install --upgrade Pandas\n",
    "\n",
    "#Install a specific version\n",
    "pip install Pandas==1.3.3\n",
    "\n",
    "#Remove a package\n",
    "pip uninstall Pandas\n",
    "\n",
    "#Show all installed packages\n",
    "pip list\n",
    "\n",
    "#Update pip\n",
    "python -m pip install --upgrade pip\n",
    "\n",
    "#Show a pip commands\n",
    "pip help"
   ]
  },
  {
   "cell_type": "markdown",
   "metadata": {},
   "source": [
    "## Commmand prompt <a id=pip>\n",
    "[Back to Content Overview](#ov)\n",
    "\n",
    "You can use these bash commands in the Python Console, Windows Powershell or the Linux Console. Use the arrow keys to repeat commands you executed before!"
   ]
  },
  {
   "cell_type": "code",
   "execution_count": null,
   "metadata": {
    "pycharm": {
     "name": "#%%\n"
    }
   },
   "outputs": [],
   "source": [
    "#Run a file with Python\n",
    "python_path/python file.py\n",
    "\n",
    "#Change directory\n",
    "cd absolute_or_relative_path\n",
    "\n",
    "#Show all files and folders\n",
    "ls\n",
    "\n",
    "#Copy a file or folder\n",
    "cp source destination\n",
    "\n",
    "#Move a file or folder\n",
    "mv source destination\n",
    "\n",
    "#Remove\n",
    "rm source\n",
    "\n",
    "#New directory\n",
    "mkdir folder_name"
   ]
  }
 ],
 "metadata": {
  "kernelspec": {
   "display_name": "Python 3 (ipykernel)",
   "language": "python",
   "name": "python3"
  },
  "language_info": {
   "codemirror_mode": {
    "name": "ipython",
    "version": 3
   },
   "file_extension": ".py",
   "mimetype": "text/x-python",
   "name": "python",
   "nbconvert_exporter": "python",
   "pygments_lexer": "ipython3",
   "version": "3.11.5"
  }
 },
 "nbformat": 4,
 "nbformat_minor": 2
}
