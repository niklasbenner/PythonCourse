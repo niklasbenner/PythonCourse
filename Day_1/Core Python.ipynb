{
 "cells": [
  {
   "cell_type": "markdown",
   "metadata": {},
   "source": [
    "<img align=\"right\" width=240 src=\"tud.jpg\"/>\n",
    "\n",
    "# Core Python I\n",
    "\n",
    "## Contents <a id=ov>\n",
    "1. [Variable Assignment](#var)\n",
    "2. [Data types](#data_types)\n",
    "3. [Numericals](#numericals)\n",
    "4. [Strings](#strings)\n",
    "5. [Lists](#lists)\n",
    "6. [Booleans](#bool)\n",
    "7. [If Condition](#if)\n",
    "8. [While Loop](#while)\n",
    "9. [For Loop](#for)\n",
    "10. [Error Handling](#try)\n",
    "11. [Functions](#functions)\n",
    "12. [Sets](#sets)\n",
    "13. [Dictionaries](#dict)\n",
    "14. [Tuples and frozensets](#tuple)\n",
    "15. [Classes](#Classes)\n",
    "16. [Modules](#pip)\n",
    "16. [Command prompt](#bash)\n"
   ]
  },
  {
   "cell_type": "markdown",
   "metadata": {},
   "source": [
    "## Variable Assignment <a id=var>"
   ]
  },
  {
   "cell_type": "markdown",
   "metadata": {},
   "source": [
    "The simplest thing is to use python as caluculator:"
   ]
  },
  {
   "cell_type": "code",
   "execution_count": null,
   "metadata": {
    "pycharm": {
     "name": "#%%\n"
    }
   },
   "outputs": [],
   "source": [
    "60*24*365.25"
   ]
  },
  {
   "cell_type": "markdown",
   "metadata": {},
   "source": [
    "You can also assign a ***value*** to a ***variable***."
   ]
  },
  {
   "cell_type": "code",
   "execution_count": null,
   "metadata": {
    "pycharm": {
     "name": "#%%\n"
    }
   },
   "outputs": [],
   "source": [
    "minutesperyear=525960\n",
    "minutesperyear"
   ]
  },
  {
   "cell_type": "markdown",
   "metadata": {},
   "source": [
    "***Note to name your variables proberly. Take care that Python is case sensitive.***\n",
    "\n",
    "All variable names are allowed except the predefined [Python Keywords](https://www.w3schools.com/python/python_ref_keywords.asp)."
   ]
  },
  {
   "cell_type": "code",
   "execution_count": null,
   "metadata": {
    "pycharm": {
     "name": "#%%\n"
    }
   },
   "outputs": [],
   "source": [
    "secondsperyear=minutesperyear*60\n",
    "secondsperyear"
   ]
  },
  {
   "cell_type": "code",
   "execution_count": null,
   "metadata": {
    "pycharm": {
     "name": "#%%\n"
    }
   },
   "outputs": [],
   "source": [
    "minutesperyear=60*24*365\n",
    "print(minutesperyear)\n",
    "print(secondsperyear)\n",
    "print(minutesperyear*60)"
   ]
  },
  {
   "cell_type": "code",
   "execution_count": null,
   "metadata": {
    "pycharm": {
     "name": "#%%\n"
    }
   },
   "outputs": [],
   "source": [
    "secondsperyear==minutesperyear*60"
   ]
  },
  {
   "cell_type": "markdown",
   "metadata": {},
   "source": [
    "***Important:*** Python does not update a variable, if the value other variable changes. You have to do it manually."
   ]
  },
  {
   "cell_type": "code",
   "execution_count": null,
   "metadata": {
    "pycharm": {
     "name": "#%%\n"
    }
   },
   "outputs": [],
   "source": [
    "secondsperyear=minutesperyear*60\n",
    "secondsperyear==minutesperyear*60"
   ]
  },
  {
   "cell_type": "markdown",
   "metadata": {},
   "source": [
    "## Data types <a id=data_types>\n",
    "[Back to Content Overview](#ov)\n",
    "\n",
    "In addition to its value and name, each variable has a ***data type*** and an ***ID***."
   ]
  },
  {
   "cell_type": "code",
   "execution_count": null,
   "metadata": {
    "pycharm": {
     "name": "#%%\n"
    }
   },
   "outputs": [],
   "source": [
    "print(type(secondsperyear))\n",
    "print(id(secondsperyear))"
   ]
  },
  {
   "cell_type": "markdown",
   "metadata": {},
   "source": [
    "There are a few important data types in Python:"
   ]
  },
  {
   "cell_type": "code",
   "execution_count": null,
   "metadata": {
    "pycharm": {
     "name": "#%%\n"
    }
   },
   "outputs": [],
   "source": [
    "print(type(12))\n",
    "\n",
    "print(type(365.25))\n",
    "\n",
    "print(type(True))\n",
    "\n",
    "print(type('String'))\n",
    "\n",
    "print(type(['list',0]))\n",
    "\n",
    "print(type(('tuple',0)))\n",
    "      \n",
    "print(type({'set',0}))\n",
    "      \n",
    "print(type({'key':'value'}))"
   ]
  },
  {
   "cell_type": "markdown",
   "metadata": {},
   "source": [
    "Knowing the ***strengths*** and ***disadvantages*** of each data type is crucial to writing ***efficient*** and ***powerful*** code. Therefore, in the following we will take a closer look at them and their most important ***functions***:"
   ]
  },
  {
   "cell_type": "markdown",
   "metadata": {},
   "source": [
    "## Numericals <a id=numericals>\n",
    "[Back to Content Overview](#ov)\n",
    "\n",
    "There are three data types to save numbers in Python: ``int``, ``float`` and ``complex``. You transform each form into the other ones. "
   ]
  },
  {
   "cell_type": "code",
   "execution_count": null,
   "metadata": {
    "pycharm": {
     "name": "#%%\n"
    }
   },
   "outputs": [],
   "source": [
    "test_int=int(12.63)\n",
    "print(test_int)\n",
    "test_float=float(122)\n",
    "print(test_float)\n",
    "test_complex=complex(1,5)\n",
    "print(test_complex)"
   ]
  },
  {
   "cell_type": "code",
   "execution_count": null,
   "metadata": {
    "pycharm": {
     "name": "#%%\n"
    }
   },
   "outputs": [],
   "source": [
    "print(17/3)\n",
    "print(17//3)\n",
    "print(17%3)\n",
    "print(17**3)"
   ]
  },
  {
   "cell_type": "markdown",
   "metadata": {},
   "source": [
    "## Strings <a id=strings>\n",
    "[Back to Content Overview](#ov)\n",
    "\n",
    "Strings are sequences of characters. Can define them with ``'``  or ``\"``.  Multiline strings are possible with ``'''`` and ``\"\"\"\"``."
   ]
  },
  {
   "cell_type": "code",
   "execution_count": null,
   "metadata": {
    "pycharm": {
     "name": "#%%\n"
    }
   },
   "outputs": [],
   "source": [
    "test_string='Strings are sequences of characters.'\n",
    "multiline_string=\"\"\"\n",
    "All human beings are born free and equal in dignity and rights.\n",
    "They are endowed with reason and conscience and should act towards one another in a spirit of brotherhood.\n",
    "\"\"\"\n",
    "print(multiline_string)"
   ]
  },
  {
   "cell_type": "markdown",
   "metadata": {},
   "source": [
    "There are some \"special\" characters:\n",
    "\n",
    " - ``'\\n'``: Linebreak\n",
    " - ``'\\t'``: Tab\n",
    " - ``'\\r'``: Carriage return"
   ]
  },
  {
   "cell_type": "markdown",
   "metadata": {},
   "source": [
    "Combine to strings with ``+``!"
   ]
  },
  {
   "cell_type": "code",
   "execution_count": null,
   "metadata": {
    "pycharm": {
     "name": "#%%\n"
    }
   },
   "outputs": [],
   "source": [
    "combine_string=test_string + ' ' + multiline_string\n",
    "print(combine_string)"
   ]
  },
  {
   "cell_type": "code",
   "execution_count": null,
   "metadata": {
    "pycharm": {
     "name": "#%%\n"
    }
   },
   "outputs": [],
   "source": [
    "how_was_the_question=42\n",
    "combine_string='The number ' + how_was_the_question + ' is the Answer to the Ultimate Question of Life, the Universe, and Everything.'\n",
    "print(combine_string)"
   ]
  },
  {
   "cell_type": "code",
   "execution_count": null,
   "metadata": {
    "pycharm": {
     "name": "#%%\n"
    }
   },
   "outputs": [],
   "source": [
    "combine_string='The number ' + str(how_was_the_question) + ' is the Answer to the Ultimate Question of Life, the Universe, and Everything.'\n",
    "print(combine_string)\n",
    "combine_string=f'The number {how_was_the_question} is the Answer to the Ultimate Question of Life, the Universe, and Everything.'\n",
    "print(combine_string)"
   ]
  },
  {
   "cell_type": "code",
   "execution_count": null,
   "metadata": {
    "pycharm": {
     "name": "#%%\n"
    }
   },
   "outputs": [],
   "source": [
    "combine_string=test_string+str(10000)\n",
    "print(combine_string)\n",
    "combine_string=test_string+str(10000)\n",
    "print(combine_string)"
   ]
  },
  {
   "cell_type": "markdown",
   "metadata": {},
   "source": [
    "Since strings are a sequential data type, so you can preserve parts of them by ***indexing***  with ``[]`` and query the number of chars with ``len()``.\n",
    "\n",
    "\n"
   ]
  },
  {
   "cell_type": "code",
   "execution_count": null,
   "metadata": {
    "pycharm": {
     "name": "#%%\n"
    }
   },
   "outputs": [],
   "source": [
    "print(test_string[0])\n",
    "print(test_string[-1])\n",
    "print(test_string[8:-15])\n",
    "print(test_string[0:10:2])\n",
    "print(test_string[::-1])\n",
    "print(len(test_string))"
   ]
  },
  {
   "cell_type": "markdown",
   "metadata": {},
   "source": [
    "### Important methods\n",
    "[Complete List](https://www.w3schools.com/python/python_ref_string.asp)"
   ]
  },
  {
   "cell_type": "markdown",
   "metadata": {},
   "source": [
    "#### Find\n",
    "To get first word of a sentence you can use ``string.find(sub_string,start,end)``."
   ]
  },
  {
   "cell_type": "code",
   "execution_count": null,
   "metadata": {
    "pycharm": {
     "name": "#%%\n"
    }
   },
   "outputs": [],
   "source": [
    "print(test_string.find(' '))\n",
    "print(test_string[:test_string.find(' ')])\n",
    "\n",
    "print(test_string.rfind(' '))\n",
    "print(test_string[:test_string.rfind(' ')])"
   ]
  },
  {
   "cell_type": "markdown",
   "metadata": {},
   "source": [
    "<span style=\"color:blue\"><b>Task:</b></span> Write a code that prints out every word of the string separately! (Use only the find function and string indexing.)"
   ]
  },
  {
   "cell_type": "code",
   "execution_count": null,
   "metadata": {
    "pycharm": {
     "name": "#%%\n"
    }
   },
   "outputs": [],
   "source": []
  },
  {
   "cell_type": "markdown",
   "metadata": {},
   "source": [
    "#### Count\n",
    "Return how times a substring appears in string: ``string.count(sub_string,start,end)``."
   ]
  },
  {
   "cell_type": "code",
   "execution_count": null,
   "metadata": {
    "pycharm": {
     "name": "#%%\n"
    }
   },
   "outputs": [],
   "source": [
    "print(test_string)\n",
    "print(test_string.count(' '))\n",
    "print(test_string.count('Sequences'))"
   ]
  },
  {
   "cell_type": "markdown",
   "metadata": {},
   "source": [
    "#### Replace\n",
    "To replace one or muliple characters in a string ``string.replace(old,new)``."
   ]
  },
  {
   "cell_type": "code",
   "execution_count": null,
   "metadata": {
    "pycharm": {
     "name": "#%%\n"
    }
   },
   "outputs": [],
   "source": [
    "print(test_string.replace('ar','__'))"
   ]
  },
  {
   "cell_type": "code",
   "execution_count": null,
   "metadata": {
    "pycharm": {
     "name": "#%%\n"
    }
   },
   "outputs": [],
   "source": [
    "print(test_string.replace(' ','\\n'))"
   ]
  },
  {
   "cell_type": "code",
   "execution_count": null,
   "metadata": {
    "pycharm": {
     "name": "#%%\n"
    }
   },
   "outputs": [],
   "source": [
    "print(test_string.replace(' ','\\n').replace('.',''))"
   ]
  },
  {
   "cell_type": "code",
   "execution_count": null,
   "metadata": {
    "pycharm": {
     "name": "#%%\n"
    }
   },
   "outputs": [],
   "source": [
    "print(test_string)"
   ]
  },
  {
   "cell_type": "markdown",
   "metadata": {},
   "source": [
    "Some function for case manipulation and formatting:\n",
    " - ``string.upper()``: all upper case\n",
    " - ``string.lower()``: all lower case\n",
    " - ``string.strip()``: delete whitespace at the beginning and the end"
   ]
  },
  {
   "cell_type": "markdown",
   "metadata": {},
   "source": [
    "## Lists <a id=lists>\n",
    "[Back to Content Overview](#ov)\n",
    "List items are **ordered**, **changeable**, and allow for **duplicate values**. They are defined with ``[]`` or ``list()``."
   ]
  },
  {
   "cell_type": "code",
   "execution_count": null,
   "metadata": {
    "pycharm": {
     "name": "#%%\n"
    }
   },
   "outputs": [],
   "source": [
    "test_list=[0,'one',2.0,['inner','list']]\n",
    "print(test_list)\n",
    "print(list(test_string))"
   ]
  },
  {
   "cell_type": "markdown",
   "metadata": {},
   "source": [
    "Indexing works the same way as with the strings. You can also use multilevel indices."
   ]
  },
  {
   "cell_type": "code",
   "execution_count": null,
   "metadata": {
    "pycharm": {
     "name": "#%%\n"
    }
   },
   "outputs": [],
   "source": [
    "print(test_list[0])\n",
    "print(test_list[-1][1])\n",
    "test_list[3]='three'\n",
    "print(test_list)"
   ]
  },
  {
   "cell_type": "markdown",
   "metadata": {},
   "source": [
    "### Important methods\n",
    "[Complete List](https://www.w3schools.com/python/python_ref_list.asp)"
   ]
  },
  {
   "cell_type": "markdown",
   "metadata": {},
   "source": [
    "#### Index\n",
    "Returns the position of an element. (This function is not efficient for large lists, use sets instead.)"
   ]
  },
  {
   "cell_type": "code",
   "execution_count": null,
   "metadata": {
    "pycharm": {
     "name": "#%%\n"
    }
   },
   "outputs": [],
   "source": [
    "print(test_list.index(['inner','list']))"
   ]
  },
  {
   "cell_type": "markdown",
   "metadata": {},
   "source": [
    "#### Count\n",
    "Returns how many times an element appears in a list."
   ]
  },
  {
   "cell_type": "code",
   "execution_count": null,
   "metadata": {
    "pycharm": {
     "name": "#%%\n"
    }
   },
   "outputs": [],
   "source": [
    "print(test_list.count('one'))"
   ]
  },
  {
   "cell_type": "markdown",
   "metadata": {},
   "source": [
    "#### Extend\n",
    "Combine two lists."
   ]
  },
  {
   "cell_type": "code",
   "execution_count": null,
   "metadata": {
    "pycharm": {
     "name": "#%%\n"
    }
   },
   "outputs": [],
   "source": [
    "test_list=[0,'one',2.0,['inner','list']]"
   ]
  },
  {
   "cell_type": "code",
   "execution_count": null,
   "metadata": {
    "pycharm": {
     "name": "#%%\n"
    }
   },
   "outputs": [],
   "source": [
    "test_list.extend(['4','5',6])\n",
    "print(test_list)"
   ]
  },
  {
   "cell_type": "markdown",
   "metadata": {},
   "source": [
    "<span style=\"color:blue\"><b>Task:</b></span> Find an alternative version for the ``extend`` function."
   ]
  },
  {
   "cell_type": "code",
   "execution_count": null,
   "metadata": {
    "pycharm": {
     "name": "#%%\n"
    }
   },
   "outputs": [],
   "source": []
  },
  {
   "cell_type": "markdown",
   "metadata": {},
   "source": [
    "#### Append\n",
    "Add one element at the end of the list."
   ]
  },
  {
   "cell_type": "code",
   "execution_count": null,
   "metadata": {
    "pycharm": {
     "name": "#%%\n"
    }
   },
   "outputs": [],
   "source": [
    "test_list.append(4)\n",
    "print(test_list)"
   ]
  },
  {
   "cell_type": "markdown",
   "metadata": {},
   "source": [
    "<span style=\"color:blue\"><b>Task:</b></span> Find an alternative version for the ``append`` function."
   ]
  },
  {
   "cell_type": "code",
   "execution_count": null,
   "metadata": {
    "pycharm": {
     "name": "#%%\n"
    }
   },
   "outputs": [],
   "source": []
  },
  {
   "cell_type": "markdown",
   "metadata": {},
   "source": [
    "#### Pop\n",
    "Delete the last element."
   ]
  },
  {
   "cell_type": "code",
   "execution_count": null,
   "metadata": {
    "pycharm": {
     "name": "#%%\n"
    }
   },
   "outputs": [],
   "source": [
    "test_list.pop()\n",
    "print(test_list)"
   ]
  },
  {
   "cell_type": "markdown",
   "metadata": {},
   "source": [
    "<span style=\"color:blue\"><b>Task:</b></span> Find an alternative version for the ``pop`` function."
   ]
  },
  {
   "cell_type": "code",
   "execution_count": null,
   "metadata": {
    "pycharm": {
     "name": "#%%\n"
    }
   },
   "outputs": [],
   "source": []
  },
  {
   "cell_type": "markdown",
   "metadata": {},
   "source": [
    "#### Insert\n",
    "Insert an element on a specific postition."
   ]
  },
  {
   "cell_type": "code",
   "execution_count": null,
   "metadata": {
    "pycharm": {
     "name": "#%%\n"
    }
   },
   "outputs": [],
   "source": [
    "test_list.insert(2,1.5)\n",
    "print(test_list)"
   ]
  },
  {
   "cell_type": "markdown",
   "metadata": {},
   "source": [
    "<span style=\"color:blue\"><b>Task:</b></span> Find an alternative version for the ``insert`` function."
   ]
  },
  {
   "cell_type": "code",
   "execution_count": null,
   "metadata": {
    "pycharm": {
     "name": "#%%\n"
    }
   },
   "outputs": [],
   "source": []
  },
  {
   "cell_type": "markdown",
   "metadata": {},
   "source": [
    "#### Remove\n",
    "Remove the first instance of an element."
   ]
  },
  {
   "cell_type": "code",
   "execution_count": null,
   "metadata": {
    "pycharm": {
     "name": "#%%\n"
    }
   },
   "outputs": [],
   "source": [
    "test_list.remove(1.5)\n",
    "print(test_list)"
   ]
  },
  {
   "cell_type": "markdown",
   "metadata": {},
   "source": [
    "<span style=\"color:blue\"><b>Task:</b></span> Find an alternative version for the ``remove`` function."
   ]
  },
  {
   "cell_type": "code",
   "execution_count": null,
   "metadata": {
    "pycharm": {
     "name": "#%%\n"
    }
   },
   "outputs": [],
   "source": []
  },
  {
   "cell_type": "markdown",
   "metadata": {},
   "source": [
    "#### Interaction with Strings"
   ]
  },
  {
   "cell_type": "code",
   "execution_count": null,
   "metadata": {
    "pycharm": {
     "name": "#%%\n"
    }
   },
   "outputs": [],
   "source": [
    "string_list=test_string.split(' ')\n",
    "print(string_list)"
   ]
  },
  {
   "cell_type": "code",
   "execution_count": null,
   "metadata": {
    "pycharm": {
     "name": "#%%\n"
    }
   },
   "outputs": [],
   "source": [
    "print('-CONNECTER-'.join(string_list))"
   ]
  },
  {
   "cell_type": "markdown",
   "metadata": {},
   "source": [
    "## Booleans <a id=bool>\n",
    "[Back to Content Overview](#ov)\n",
    "Booleans are a binay data type which can be ``True`` or ``False``.\n",
    "There"
   ]
  },
  {
   "cell_type": "code",
   "execution_count": null,
   "metadata": {
    "pycharm": {
     "name": "#%%\n"
    }
   },
   "outputs": [],
   "source": [
    "#Equal | not euqual\n",
    "print('Ernie'=='Bert','Ernie'!='Bert')\n",
    "\n",
    "# Greater than | Greater than or equal\n",
    "print(2>1,2>=0)\n",
    "\n",
    "# Less than | Less than or equal\n",
    "print('Ernie'<'Bert','Trump'<='Trump')"
   ]
  },
  {
   "cell_type": "markdown",
   "metadata": {
    "pycharm": {
     "name": "#%% md\n"
    }
   },
   "source": [
    "You can negate combine different conditions with ``not``, ``and``  and ``or``."
   ]
  },
  {
   "cell_type": "code",
   "execution_count": null,
   "metadata": {
    "pycharm": {
     "name": "#%%\n"
    }
   },
   "outputs": [],
   "source": [
    "print(False or (True and not False) and True)"
   ]
  },
  {
   "cell_type": "markdown",
   "metadata": {},
   "source": [
    "You can also check if an element exits in a list."
   ]
  },
  {
   "cell_type": "code",
   "execution_count": null,
   "metadata": {
    "pycharm": {
     "name": "#%%\n"
    }
   },
   "outputs": [],
   "source": [
    "smart_ideas_of_president_trump=[]\n",
    "print('Mexican Wall' in smart_ideas_of_president_trump)"
   ]
  },
  {
   "cell_type": "markdown",
   "metadata": {
    "pycharm": {
     "name": "#%% md\n"
    }
   },
   "source": [
    "`` object is object`` is equivalent to ``id(object)==id(object)``\n"
   ]
  },
  {
   "cell_type": "markdown",
   "metadata": {},
   "source": [
    "## If condtion <a id=if>\n",
    "[Back to Content Overview](#ov)\n",
    "\n",
    "Python excutes differnt statements wheter a condition is ``True`` or ``False``."
   ]
  },
  {
   "cell_type": "code",
   "execution_count": null,
   "metadata": {
    "pycharm": {
     "name": "#%%\n"
    }
   },
   "outputs": [],
   "source": [
    "straight=True\n",
    "diagonal=True\n",
    "backwards=False\n",
    "muliple_steps=False\n",
    "\n",
    "\n",
    "if straight and diagonal:\n",
    "    if muliple_steps:\n",
    "        if backwards:\n",
    "\n",
    "            print('It`s the queen.')\n",
    "        else:\n",
    "            print('It`s a pawn.')\n",
    "    else:\n",
    "        print('It`s the king.')\n",
    "\n",
    "elif straight:\n",
    "    print('It`s a rook.')\n",
    "elif diagonal:\n",
    "    print('It`s a bishop.')\n",
    "else:\n",
    "    print('It`s a knight.')"
   ]
  },
  {
   "cell_type": "markdown",
   "metadata": {},
   "source": [
    "<span style=\"color:blue\"><b>Task:</b></span> Restructure the code to make it more readable and so that it recognises when the figure does not exist."
   ]
  },
  {
   "cell_type": "code",
   "execution_count": null,
   "metadata": {
    "pycharm": {
     "name": "#%%\n"
    }
   },
   "outputs": [],
   "source": []
  },
  {
   "cell_type": "markdown",
   "metadata": {},
   "source": [
    "## While Loop <a id=while>\n",
    "With the ``while`` loop we can execute a set of statements as long as a condition is true."
   ]
  },
  {
   "cell_type": "code",
   "execution_count": null,
   "metadata": {
    "pycharm": {
     "name": "#%%\n"
    }
   },
   "outputs": [],
   "source": [
    "i=0\n",
    "while i<20:\n",
    "    print(i,i<20)\n",
    "    i+=1"
   ]
  },
  {
   "cell_type": "markdown",
   "metadata": {},
   "source": [
    "##### Beak\n",
    "Use the ``break`` statement to end a loop."
   ]
  },
  {
   "cell_type": "code",
   "execution_count": null,
   "metadata": {
    "pycharm": {
     "name": "#%%\n"
    }
   },
   "outputs": [],
   "source": [
    "i=0\n",
    "while True:\n",
    "    print(i,i<20)\n",
    "    if not i<20:\n",
    "        break\n",
    "    i+=1"
   ]
  },
  {
   "cell_type": "markdown",
   "metadata": {},
   "source": [
    "<span style=\"color:blue\"><b>Task:</b></span> Write a digital clock using while loops!"
   ]
  },
  {
   "cell_type": "code",
   "execution_count": null,
   "metadata": {
    "pycharm": {
     "name": "#%%\n"
    }
   },
   "outputs": [],
   "source": []
  },
  {
   "cell_type": "markdown",
   "metadata": {},
   "source": [
    "##### Continue\n",
    "Use the ``continue`` statement to jump to the next iteration.\n",
    "***\n",
    "Tip: Use continue to prevent complex if structures to secure the readability of your code.\n",
    "***"
   ]
  },
  {
   "cell_type": "code",
   "execution_count": null,
   "metadata": {
    "pycharm": {
     "name": "#%%\n"
    }
   },
   "outputs": [],
   "source": [
    "i=0\n",
    "while i<20:\n",
    "    print(i,i<20)\n",
    "    i+=1\n",
    "\n",
    "    if i%2==0:\n",
    "        continue\n",
    "    print('Test')"
   ]
  },
  {
   "cell_type": "markdown",
   "metadata": {},
   "source": [
    "## For Loop <a id=for>\n",
    "[Back to Content Overview](#ov)"
   ]
  },
  {
   "cell_type": "code",
   "execution_count": null,
   "metadata": {
    "pycharm": {
     "name": "#%%\n"
    }
   },
   "outputs": [],
   "source": [
    "test_list=['Python','is','great','.',4,45]"
   ]
  },
  {
   "cell_type": "code",
   "execution_count": null,
   "metadata": {
    "pycharm": {
     "name": "#%%\n"
    }
   },
   "outputs": [],
   "source": [
    "for element in test_list:\n",
    "    print(element,type(element))"
   ]
  },
  {
   "cell_type": "markdown",
   "metadata": {},
   "source": [
    "#### Range iterator\n",
    "``range(start, stop, step)``"
   ]
  },
  {
   "cell_type": "code",
   "execution_count": null,
   "metadata": {
    "pycharm": {
     "name": "#%%\n"
    }
   },
   "outputs": [],
   "source": [
    "for i in range(0,10,4):\n",
    "    print(i)"
   ]
  },
  {
   "cell_type": "markdown",
   "metadata": {},
   "source": [
    "#### Enumerate\n",
    "Use enumerate to have get an index."
   ]
  },
  {
   "cell_type": "code",
   "execution_count": null,
   "metadata": {
    "pycharm": {
     "name": "#%%\n"
    }
   },
   "outputs": [],
   "source": [
    "for element in enumerate(test_list):\n",
    "    print(element)"
   ]
  },
  {
   "cell_type": "markdown",
   "metadata": {},
   "source": [
    "Split nested lists with multiple arguments."
   ]
  },
  {
   "cell_type": "code",
   "execution_count": null,
   "metadata": {
    "pycharm": {
     "name": "#%%\n"
    }
   },
   "outputs": [],
   "source": [
    "for e,element in enumerate(test_list):\n",
    "    print(e,element,e*element)"
   ]
  },
  {
   "cell_type": "markdown",
   "metadata": {},
   "source": [
    "#### Zip lists\n",
    "You can combine two or more lists with the sam length to an nested list structure with ``zip``."
   ]
  },
  {
   "cell_type": "code",
   "execution_count": null,
   "metadata": {
    "pycharm": {
     "name": "#%%\n"
    }
   },
   "outputs": [],
   "source": [
    "test_list_2=['Be','or','not','to','be','.']\n",
    "test_list_3=list(zip(test_list,test_list_2))\n",
    "print(test_list_3)\n",
    "\n",
    "for element,element_2 in test_list_3:\n",
    "    print(element,element_2.upper())\n",
    "# Can also unzip the nested list.\n",
    "test_list,test_list_2=zip(*test_list_3)"
   ]
  },
  {
   "cell_type": "markdown",
   "metadata": {},
   "source": [
    "#### tqdm\n",
    "Some loop loops take a long time to complete, so it is helpful to use a progress bar."
   ]
  },
  {
   "cell_type": "code",
   "execution_count": null,
   "metadata": {
    "pycharm": {
     "name": "#%%\n"
    }
   },
   "outputs": [],
   "source": [
    "from tqdm import tqdm\n",
    "\n",
    "for i in tqdm(range(10000000),desc='Calculating square numbers'):\n",
    "    i=i**2\n",
    "    if i==9000000:\n",
    "        break\n",
    "else:\n",
    "    print('Last interation executed!')\n"
   ]
  },
  {
   "cell_type": "markdown",
   "metadata": {},
   "source": [
    "### List comprehensions\n",
    "The List comprehension is special und powerful tool in Python to create complex lists in a single line."
   ]
  },
  {
   "cell_type": "markdown",
   "metadata": {},
   "source": [
    "You can filter with an condition after the iterator."
   ]
  },
  {
   "cell_type": "code",
   "execution_count": null,
   "metadata": {
    "pycharm": {
     "name": "#%%\n"
    }
   },
   "outputs": [],
   "source": [
    "even_squares=[i**2 for i in range(15) if i%2==0]\n",
    "print(even_squares)"
   ]
  },
  {
   "cell_type": "markdown",
   "metadata": {},
   "source": [
    "This the same task without a list comprehension:"
   ]
  },
  {
   "cell_type": "code",
   "execution_count": null,
   "metadata": {},
   "outputs": [],
   "source": [
    "even_squares=[]\n",
    "for i in range(15):\n",
    "    if i%2==0:\n",
    "        even_squares.append(i**2)\n",
    "\n",
    "        \n",
    "print(even_squares)"
   ]
  },
  {
   "cell_type": "markdown",
   "metadata": {},
   "source": [
    "One can select alternative values with a condition before the iterator."
   ]
  },
  {
   "cell_type": "code",
   "execution_count": null,
   "metadata": {
    "pycharm": {
     "name": "#%%\n"
    }
   },
   "outputs": [],
   "source": [
    "even_squares=[i if i%2==0 else 'uneven' for i in range(15)]\n",
    "print(even_squares)"
   ]
  },
  {
   "cell_type": "markdown",
   "metadata": {},
   "source": [
    "This the same task without a list comprehension:"
   ]
  },
  {
   "cell_type": "code",
   "execution_count": null,
   "metadata": {},
   "outputs": [],
   "source": [
    "for i in range(15):\n",
    "    if i%2==0:\n",
    "        even_squares.append(i**2)\n",
    "    else:\n",
    "        even_squares.append('uneven')\n",
    "print(even_squares)"
   ]
  },
  {
   "cell_type": "markdown",
   "metadata": {},
   "source": [
    "One can also create nested lists with list comprehensions:"
   ]
  },
  {
   "cell_type": "code",
   "execution_count": null,
   "metadata": {},
   "outputs": [],
   "source": [
    "string_list=[[element,type(element)] for element in test_list if type(element)==str]\n",
    "print(string_list)"
   ]
  },
  {
   "cell_type": "markdown",
   "metadata": {},
   "source": [
    "<span style=\"color:blue\"><b>Task:</b></span> Create a list with all numbers devisibale with 13 or 7 under 200."
   ]
  },
  {
   "cell_type": "code",
   "execution_count": null,
   "metadata": {},
   "outputs": [],
   "source": []
  },
  {
   "cell_type": "markdown",
   "metadata": {},
   "source": [
    "<span style=\"color:blue\"><b>Task:</b></span> Make a 10x10 matrix (nested list) with all numbers under 100, replace the square numbers with a x! (Use a for loop.)"
   ]
  },
  {
   "cell_type": "code",
   "execution_count": null,
   "metadata": {},
   "outputs": [],
   "source": []
  },
  {
   "cell_type": "markdown",
   "metadata": {},
   "source": [
    "<span style=\"color:blue\"><b>Task:</b></span> Make a 10x10 matrix (nested list) with all numbers under 100, replace the square numbers with a x! (Use a list comprehension.)"
   ]
  },
  {
   "cell_type": "code",
   "execution_count": null,
   "metadata": {},
   "outputs": [],
   "source": []
  },
  {
   "cell_type": "markdown",
   "metadata": {},
   "source": [
    "## Error Handling <a id=try>\n",
    "[Back to Content Overview](#ov)"
   ]
  },
  {
   "cell_type": "code",
   "execution_count": null,
   "metadata": {
    "pycharm": {
     "name": "#%%\n"
    }
   },
   "outputs": [],
   "source": [
    "for i in range(-9,5):\n",
    "    if i%5==0:\n",
    "        print(round(5/i,4))\n",
    "    else:\n",
    "        print(round(5/i),end='\\t')"
   ]
  },
  {
   "cell_type": "code",
   "execution_count": null,
   "metadata": {
    "pycharm": {
     "name": "#%%\n"
    }
   },
   "outputs": [],
   "source": [
    "for i in list(range(-9,5))+['six','seven']:\n",
    "    try:\n",
    "        if i%5==0:\n",
    "            print(round(5/i,4))\n",
    "        else:\n",
    "            print(round(5/i,4),end='\\t')\n",
    "    except ZeroDivisionError:\n",
    "        print(0)\n",
    "    except Exception as error:\n",
    "        print(i,error)\n",
    "        pass"
   ]
  },
  {
   "cell_type": "code",
   "execution_count": null,
   "metadata": {},
   "outputs": [],
   "source": []
  },
  {
   "cell_type": "markdown",
   "metadata": {},
   "source": [
    "There is ``try``,a ``except``,a ``except`` and a ``finally`` statement in python."
   ]
  },
  {
   "cell_type": "code",
   "execution_count": null,
   "metadata": {
    "pycharm": {
     "name": "#%%\n"
    }
   },
   "outputs": [],
   "source": [
    "try:\n",
    "    print('Everything should work fine.'+0)\n",
    "except:\n",
    "    print('An Error occurred.')\n",
    "else:\n",
    "    print('Indeed, no error was raised.')\n",
    "finally:\n",
    "    print('This will be executed whether an error occurs or not.')"
   ]
  },
  {
   "cell_type": "markdown",
   "metadata": {
    "pycharm": {
     "name": "#%% md\n"
    }
   },
   "source": [
    "You can also raise your own exceptions:"
   ]
  },
  {
   "cell_type": "code",
   "execution_count": null,
   "metadata": {
    "pycharm": {
     "name": "#%%\n"
    }
   },
   "outputs": [],
   "source": [
    "x = '-1'\n",
    "if x < 0:\n",
    "    raise Exception(\"Sorry, no numbers below zero\")\n",
    "if not type(x) is int:\n",
    "    raise TypeError(\"Only integers are allowed\")"
   ]
  },
  {
   "cell_type": "markdown",
   "metadata": {},
   "source": [
    "Defining Assertions is helpful for debugging:"
   ]
  },
  {
   "cell_type": "code",
   "execution_count": null,
   "metadata": {
    "pycharm": {
     "name": "#%%\n"
    }
   },
   "outputs": [],
   "source": [
    "prime_numbers_up_to_10=[2,3,7]\n",
    "assert len(prime_numbers_up_to_10)==4, 'The Prime numbers are not correct.'"
   ]
  },
  {
   "cell_type": "markdown",
   "metadata": {},
   "source": [
    "## Functions <a id=functions>\n",
    "[Back to Content Overview](#ov)\n"
   ]
  },
  {
   "cell_type": "code",
   "execution_count": null,
   "metadata": {
    "pycharm": {
     "name": "#%%\n"
    }
   },
   "outputs": [],
   "source": [
    "def print_strings(text):\n",
    "    if type(text) is str:\n",
    "        print(text)"
   ]
  },
  {
   "cell_type": "code",
   "execution_count": null,
   "metadata": {},
   "outputs": [],
   "source": [
    "def print_strings(text: str):\n",
    "    print(text)"
   ]
  },
  {
   "cell_type": "code",
   "execution_count": null,
   "metadata": {
    "pycharm": {
     "name": "#%%\n"
    }
   },
   "outputs": [],
   "source": [
    "print_strings('String')\n",
    "print_strings(1)\n",
    "print_strings(str(1))"
   ]
  },
  {
   "cell_type": "markdown",
   "metadata": {
    "pycharm": {
     "name": "#%% md\n"
    }
   },
   "source": [
    "You can also have multiple imputs and outputs."
   ]
  },
  {
   "cell_type": "code",
   "execution_count": null,
   "metadata": {
    "pycharm": {
     "name": "#%%\n"
    }
   },
   "outputs": [],
   "source": [
    "def find_pythagorean_triples(lower_limit: int , upper_limit: int) -> (list,int):\n",
    "    \n",
    "#     triples=[]\n",
    "    \n",
    "    for a in range(lower_limit, upper_limit):\n",
    "        for b in range(lower_limit, upper_limit):\n",
    "            \n",
    "            c=(a**2+b**2)**0.5\n",
    "            \n",
    "            if c.is_integer() and a<b: # int(c)==c\n",
    "                triples.append([a,b,int(c)])\n",
    "    \n",
    "    return triples,len(triples)"
   ]
  },
  {
   "cell_type": "code",
   "execution_count": null,
   "metadata": {
    "pycharm": {
     "name": "#%%\n"
    }
   },
   "outputs": [],
   "source": [
    "# results=find_pythagorean_triples(1,25)\n",
    "# print(results)\n",
    "\n",
    "\n",
    "# results,length=find_pythagorean_triples(1,25)\n",
    "# print(results)\n",
    "# print(length)\n",
    "\n",
    "# print(triples)\n",
    "# global triples\n",
    "# triples=[None]\n",
    "# results,length=find_pythagorean_triples(1,25)\n",
    "\n",
    "# print(triples)"
   ]
  },
  {
   "cell_type": "markdown",
   "metadata": {},
   "source": [
    "<span style=\"color:blue\"><b>Task:</b></span> Write a function that finds all prime numbers until ``n_max``! Hint: Use the Sieve of Eratosthenes and define a function which returns if an number is a prime or not."
   ]
  },
  {
   "cell_type": "code",
   "execution_count": null,
   "metadata": {},
   "outputs": [],
   "source": []
  },
  {
   "cell_type": "markdown",
   "metadata": {},
   "source": [
    "## Sets <a id=sets>\n",
    "[Back to Content Overview](#ov)\n",
    "\n",
    "List items are **unordered**, **changeable**, and allow for **no duplicate values**. They are defined with ``{}`` or ``set()`` (Empty sets with ``set()``)."
   ]
  },
  {
   "cell_type": "code",
   "execution_count": null,
   "metadata": {
    "pycharm": {
     "name": "#%%\n"
    }
   },
   "outputs": [],
   "source": [
    "test_set={'element1','element2','element3'}\n",
    "# Order is random.\n",
    "print(test_set)"
   ]
  },
  {
   "cell_type": "markdown",
   "metadata": {},
   "source": [
    "Use sets to delete duplicate values!"
   ]
  },
  {
   "cell_type": "code",
   "execution_count": null,
   "metadata": {
    "pycharm": {
     "name": "#%%\n"
    }
   },
   "outputs": [],
   "source": [
    "test_list=[1,1,2,3,5,8]\n",
    "print(set(test_list))"
   ]
  },
  {
   "cell_type": "markdown",
   "metadata": {},
   "source": [
    "<span style=\"color:blue\"><b>Task:</b></span> Count how many times every element appears  in following list!"
   ]
  },
  {
   "cell_type": "code",
   "execution_count": null,
   "metadata": {
    "pycharm": {
     "name": "#%%\n"
    }
   },
   "outputs": [],
   "source": [
    "numbers=[1,13,2,3,4,3,4,72,1,5,9,4,6,245,9,4,3,2,6,9,0,2,5,3,13,72]\n"
   ]
  },
  {
   "cell_type": "markdown",
   "metadata": {
    "pycharm": {
     "name": "#%%  md\n"
    }
   },
   "source": [
    "### Set comprehensions"
   ]
  },
  {
   "cell_type": "code",
   "execution_count": null,
   "metadata": {
    "pycharm": {
     "name": "#%%\n"
    }
   },
   "outputs": [],
   "source": [
    "test_set3={i**2 for i in range(0,10)}"
   ]
  },
  {
   "cell_type": "markdown",
   "metadata": {},
   "source": [
    "### Important methods\n",
    "[Complete List](https://www.w3schools.com/python/python_ref_set.asp)\n",
    "\n",
    "#### Add\n",
    "Add an element to the set."
   ]
  },
  {
   "cell_type": "code",
   "execution_count": null,
   "metadata": {
    "pycharm": {
     "name": "#%%\n"
    }
   },
   "outputs": [],
   "source": [
    "test_set.add('element7')\n",
    "print(test_set)"
   ]
  },
  {
   "cell_type": "markdown",
   "metadata": {},
   "source": [
    "#### Union\n",
    "Combine two sets."
   ]
  },
  {
   "cell_type": "code",
   "execution_count": null,
   "metadata": {
    "pycharm": {
     "name": "#%%\n"
    }
   },
   "outputs": [],
   "source": [
    "test_set_2={'element3','element4'}\n",
    "print(test_set.union(test_set_2))"
   ]
  },
  {
   "cell_type": "markdown",
   "metadata": {},
   "source": [
    "#### Intersection\n",
    "Find the all elements that exist in both sets."
   ]
  },
  {
   "cell_type": "code",
   "execution_count": null,
   "metadata": {
    "pycharm": {
     "name": "#%%\n"
    }
   },
   "outputs": [],
   "source": [
    "print(test_set.intersection(test_set_2))"
   ]
  },
  {
   "cell_type": "markdown",
   "metadata": {},
   "source": [
    "<span style=\"color:blue\"><b>Task:</b></span> Write the intersection function using a set comprehension."
   ]
  },
  {
   "cell_type": "code",
   "execution_count": null,
   "metadata": {
    "pycharm": {
     "name": "#%%\n"
    }
   },
   "outputs": [],
   "source": [
    "def _intersection():\n",
    "\n",
    "    return"
   ]
  },
  {
   "cell_type": "markdown",
   "metadata": {},
   "source": [
    "### Why should you use sets:\n",
    "Set are used much less frequently than lists. But they have an important advantage that many people are not aware of: a unique ***hash*** is defined for each element. This means that elements can be found very quickly."
   ]
  },
  {
   "cell_type": "markdown",
   "metadata": {},
   "source": [
    "## Dictionaries <a id=dict>\n",
    "[Back to Content Overview](#ov)\n",
    "\n",
    "Dictionaries are closely related with sets. Therefore they are also defined with a ``{}`` or ``dict()``.\n",
    "In the dictionary, you can store a value under each key. Since this values can be any object in python and can be queried quickly via hashes, dictionaries are the most powerful data structure of the standard kernel."
   ]
  },
  {
   "cell_type": "code",
   "execution_count": null,
   "metadata": {
    "pycharm": {
     "name": "#%%\n"
    }
   },
   "outputs": [],
   "source": [
    "test_dict={'Neymar':'PSG','Haaland':'BVB','Lukaku':'Chelsea','Messi':'PSG','Goretzka':'Bayern','Salah':'Liverpool'}\n",
    "\n",
    "print(test_dict['Messi'])\n",
    "test_dict['Rolando']='ManU'"
   ]
  },
  {
   "cell_type": "code",
   "execution_count": null,
   "metadata": {
    "pycharm": {
     "name": "#%%\n"
    }
   },
   "outputs": [],
   "source": [
    "for key in test_dict:\n",
    "    print(key,end=' ')"
   ]
  },
  {
   "cell_type": "code",
   "execution_count": null,
   "metadata": {
    "pycharm": {
     "name": "#%%\n"
    }
   },
   "outputs": [],
   "source": [
    "# Get all key as a list:\n",
    "print(test_dict.keys(),[key for key in test_dict])\n",
    "# Get all values as a list:\n",
    "print(test_dict.values(),[test_dict[key] for key in test_dict])\n",
    "# Get all key as a list:\n",
    "print(test_dict.items(),[(key,test_dict[key]) for key in test_dict],zip(test_dict.keys(),test_dict.items()))"
   ]
  },
  {
   "cell_type": "code",
   "execution_count": null,
   "metadata": {
    "pycharm": {
     "name": "#%%\n"
    }
   },
   "outputs": [],
   "source": [
    "for key, value in test_dict.items():\n",
    "    print('{} plays for {}.'.format(key,value))"
   ]
  },
  {
   "cell_type": "markdown",
   "metadata": {},
   "source": [
    "### Other methods\n",
    "[Complete List](https://www.w3schools.com/python/python_ref_set.asp)"
   ]
  },
  {
   "cell_type": "markdown",
   "metadata": {},
   "source": [
    "## Tuples and frozensets <a id=tuple>\n",
    "[Back to Content Overview](#ov)\n",
    "\n",
    "Tuples are similar to lists, they just cannot be changed after they have been defined. In certain cases, this can have minor performance advantages. So far, I have only used them in nested lists for readability reasons. They are defined with a ``()`` or ``tuple()``.\n",
    "But sometimes it can be helpful to have certain data write-protected.\n",
    "\n",
    "The same applies to frozensets, which are defined by ``frozenset()``.\n"
   ]
  },
  {
   "cell_type": "markdown",
   "metadata": {},
   "source": [
    "## Classes <a id=classes>\n",
    "[Back to Content Overview](#ov)\n"
   ]
  },
  {
   "cell_type": "markdown",
   "metadata": {},
   "source": [
    "## Modules <a id=pip>\n",
    "[Back to Content Overview](#ov)\n",
    "\n",
    "In addition to the standard library, Python can be extended by a variety of modules or packages. You can download them via pip."
   ]
  },
  {
   "cell_type": "code",
   "execution_count": null,
   "metadata": {
    "pycharm": {
     "name": "#%%\n"
    }
   },
   "outputs": [],
   "source": [
    "#Install a package\n",
    "pip install Pandas\n",
    "\n",
    "#Upadate a package\n",
    "pip install --upgrade Pandas\n",
    "\n",
    "#Install a specific version\n",
    "pip install Pandas==1.3.3\n",
    "\n",
    "#Remove a package\n",
    "pip uninstall Pandas\n",
    "\n",
    "#Show all installed packages\n",
    "pip list\n",
    "\n",
    "#Update pip\n",
    "python -m pip install --upgrade pip\n",
    "\n",
    "#Show a pip commands\n",
    "pip help"
   ]
  },
  {
   "cell_type": "markdown",
   "metadata": {},
   "source": [
    "## Commmand prompt <a id=pip>\n",
    "[Back to Content Overview](#ov)\n",
    "\n",
    "You can use these bash commands in the Python Console, Windows Powershell or the Linux Console. Use the arrow keys to repeat commands you executed before!"
   ]
  },
  {
   "cell_type": "code",
   "execution_count": null,
   "metadata": {
    "pycharm": {
     "name": "#%%\n"
    }
   },
   "outputs": [],
   "source": [
    "#Run a file with Python\n",
    "python_path/python file.py\n",
    "\n",
    "#Change directory\n",
    "cd absolute_or_relative_path\n",
    "\n",
    "#Show all files and folders\n",
    "ls\n",
    "\n",
    "#Copy a file or folder\n",
    "cp source destination\n",
    "\n",
    "#Move a file or folder\n",
    "mv source destination\n",
    "\n",
    "#Remove\n",
    "rm source\n",
    "\n",
    "#New directory\n",
    "mkdir folder_name"
   ]
  }
 ],
 "metadata": {
  "kernelspec": {
   "display_name": "Python 3",
   "language": "python",
   "name": "python3"
  },
  "language_info": {
   "codemirror_mode": {
    "name": "ipython",
    "version": 3
   },
   "file_extension": ".py",
   "mimetype": "text/x-python",
   "name": "python",
   "nbconvert_exporter": "python",
   "pygments_lexer": "ipython3",
   "version": "3.8.8"
  }
 },
 "nbformat": 4,
 "nbformat_minor": 2
}
