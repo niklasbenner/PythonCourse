{
 "cells": [
  {
   "cell_type": "markdown",
   "metadata": {},
   "source": [
    "# Data processing\n",
    "\n",
    "## Contents <a id=ov>\n",
    "1. [Saving and Loading Data](#save)\n",
    "2. [Numpy](#np)\n",
    "3. [Saving and loading data into Pandas dataframe](#save_pandas)\n",
    "4. [Investigate your Pandas dataframe](#Investigate)\n",
    "5. [Pandas Series Object ](#series)\n",
    "6. [Indexing and filtering](#filter)\n",
    "7. [Plotting](#plt)\n",
    "8. [Statsmodels](#sm)\n",
    "\n",
    "\n"
   ]
  },
  {
   "cell_type": "markdown",
   "metadata": {},
   "source": [
    "## Saving and Loading Data <a id=save>\n",
    "### Pickle\n",
    "You can save or load every Python object via pickle:"
   ]
  },
  {
   "cell_type": "code",
   "execution_count": 1,
   "metadata": {
    "pycharm": {
     "name": "#%%\n"
    }
   },
   "outputs": [
    {
     "name": "stdout",
     "output_type": "stream",
     "text": [
      "football_players.p saved!\n"
     ]
    }
   ],
   "source": [
    "import pickle\n",
    "\n",
    "football_players={'Neymar':['PSG',29,100],\n",
    "                  'Haaland':['BVB',21,150],\n",
    "                  'Lukaku':['Chelsea',28,100],\n",
    "                  'Messi':['PSG',34,80],\n",
    "                  'Goretzka':['Bayern',26,70],\n",
    "                  'Salah':['Liverpool',29,100],\n",
    "                  'Kane':['Tottenham',28,120],\n",
    "                  'Folden':['ManU',21,80]}\n",
    "#saving\n",
    "pickle.dump(football_players,open('football_players.p','wb'))\n",
    "print('football_players.p','saved!')"
   ]
  },
  {
   "cell_type": "code",
   "execution_count": 5,
   "metadata": {
    "pycharm": {
     "name": "#%%\n"
    }
   },
   "outputs": [
    {
     "name": "stdout",
     "output_type": "stream",
     "text": [
      "{'Neymar': ['PSG', 29, 100], 'Haaland': ['BVB', 21, 150], 'Lukaku': ['Chelsea', 28, 100], 'Messi': ['PSG', 34, 80], 'Goretzka': ['Bayern', 26, 70], 'Salah': ['Liverpool', 29, 100], 'Kane': ['Tottenham', 28, 120], 'Folden': ['ManU', 21, 80]}\n"
     ]
    }
   ],
   "source": [
    "#load\n",
    "football_players=pickle.load(open('football_players.p','rb'))\n",
    "print(football_players)"
   ]
  },
  {
   "cell_type": "markdown",
   "metadata": {},
   "source": [
    "### Text files\n",
    "\n",
    "Load Text files with ``open()``!"
   ]
  },
  {
   "cell_type": "code",
   "execution_count": 8,
   "metadata": {
    "pycharm": {
     "name": "#%%\n"
    }
   },
   "outputs": [
    {
     "name": "stdout",
     "output_type": "stream",
     "text": [
      "Technische Universität Dortmund\n",
      "(Weitergeleitet von TU Dortmund)\n",
      "Zur Navigation springenZur Suche springen\n",
      "Technische Universität Dortmund\n",
      "\n",
      "Gründung\t16. Dezember 1968\n",
      "Trägerschaft\tstaatlich\n",
      "Ort\tDortmund\n",
      "Bundesland\t Nordrhein-Westfalen\n",
      "Land\t Deutschland\n"
     ]
    }
   ],
   "source": [
    "reader=open('tu_dortmund.txt','r')\n",
    "reader=open('tu_dortmund.txt',encoding='utf-8')\n",
    "\n",
    "list_of_rows=[row.replace('\\n','') for row in reader]\n",
    "#print(list_of_rows)\n",
    "#list_of_rows=[row.replace('\\n','') for row in open('tu_dortmund.txt','r')]\n",
    "\n",
    "for i in range(0,10):\n",
    "    print(list_of_rows[i])"
   ]
  },
  {
   "cell_type": "markdown",
   "metadata": {},
   "source": [
    "Write text files with ``write`` or ``print()``."
   ]
  },
  {
   "cell_type": "code",
   "execution_count": 9,
   "metadata": {
    "pycharm": {
     "name": "#%%\n"
    }
   },
   "outputs": [
    {
     "name": "stdout",
     "output_type": "stream",
     "text": [
      "output_file.txt saved!\n"
     ]
    }
   ],
   "source": [
    "with open('output_file.txt','w') as out_file:\n",
    "    for i in range(0,10):\n",
    "        out_file.write(str(list_of_rows[i])+'\\n')\n",
    "    print('output_file.txt','saved!')\n",
    "    \n"
   ]
  },
  {
   "cell_type": "code",
   "execution_count": 10,
   "metadata": {
    "pycharm": {
     "name": "#%%\n"
    }
   },
   "outputs": [
    {
     "name": "stdout",
     "output_type": "stream",
     "text": [
      "output_file_2.txt saved!\n"
     ]
    }
   ],
   "source": [
    "with open('output_file2.txt','w') as out_file:\n",
    "    for i in range(0,10):\n",
    "        print(i,list_of_rows[i],'end_of_line',sep='|',end='\\n',file=out_file)\n",
    "    print('output_file_2.txt','saved!')"
   ]
  },
  {
   "cell_type": "code",
   "execution_count": 11,
   "metadata": {
    "pycharm": {
     "name": "#%%\n"
    }
   },
   "outputs": [
    {
     "name": "stdout",
     "output_type": "stream",
     "text": [
      "output_file_2.text appended!\n"
     ]
    }
   ],
   "source": [
    "with open('output_file2.txt','a') as out_file:\n",
    "    for i in range(15,100):\n",
    "        print(i,list_of_rows[i],'end_of_line',sep='|',end='\\n',file=out_file)\n",
    "    print('output_file_2.text','appended!')\n"
   ]
  },
  {
   "cell_type": "markdown",
   "metadata": {},
   "source": [
    "### JSON files\n",
    "The best way to save datasets with consist of dictionaries, list, strings and numericals  is ***JSON***, because it is readable for humans and other programming languages:\n"
   ]
  },
  {
   "cell_type": "code",
   "execution_count": 12,
   "metadata": {
    "pycharm": {
     "name": "#%%\n"
    }
   },
   "outputs": [
    {
     "name": "stdout",
     "output_type": "stream",
     "text": [
      "{'Neymar': ['PSG', 29, 100], 'Haaland': ['BVB', 21, 150], 'Lukaku': ['Chelsea', 28, 100], 'Messi': ['PSG', 34, 80], 'Goretzka': ['Bayern', 26, 70], 'Salah': ['Liverpool', 29, 100], 'Kane': ['Tottenham', 28, 120], 'Folden': ['ManU', 21, 80]}\n"
     ]
    }
   ],
   "source": [
    "import json\n",
    "#save\n",
    "with open('football_players.json','w') as file:\n",
    "    json.dump(football_players,file)\n",
    "\n",
    "\n",
    "#load\n",
    "with open('football_players.json') as json_object:\n",
    "    python_object=json.load(json_object)\n",
    "\n",
    "print(python_object)"
   ]
  },
  {
   "cell_type": "markdown",
   "metadata": {},
   "source": [
    "### XML files\n",
    "XML files can be parse with Beautifulsoup. For large files, however, treating the file als text using ``open()`` and searching for keys with string methods can be more efficient."
   ]
  },
  {
   "cell_type": "markdown",
   "metadata": {},
   "source": [
    "## Numpy <a id=np>\n",
    "[Back to Content Overview](#ov)\n",
    "\n",
    "Numpy is the Python library for vector/matrix operations. Most of the import packages in data science and machine learning."
   ]
  },
  {
   "cell_type": "code",
   "execution_count": 26,
   "metadata": {
    "pycharm": {
     "name": "#%%\n"
    }
   },
   "outputs": [],
   "source": [
    "import numpy as np"
   ]
  },
  {
   "cell_type": "markdown",
   "metadata": {},
   "source": [
    "### Basics\n",
    "You can define a vector/matrix in the following way:"
   ]
  },
  {
   "cell_type": "code",
   "execution_count": 16,
   "metadata": {
    "pycharm": {
     "name": "#%%\n"
    }
   },
   "outputs": [
    {
     "name": "stdout",
     "output_type": "stream",
     "text": [
      "<class 'numpy.ndarray'>\n",
      "[[1 4 5]\n",
      " [7 3 6]]\n"
     ]
    }
   ],
   "source": [
    "test_vector=np.array([[1,4,5],[7,3,6]])\n",
    "print(type(test_vector))\n",
    "print(test_vector)"
   ]
  },
  {
   "cell_type": "code",
   "execution_count": 17,
   "metadata": {
    "pycharm": {
     "name": "#%%\n"
    }
   },
   "outputs": [
    {
     "name": "stdout",
     "output_type": "stream",
     "text": [
      "(2, 3)\n"
     ]
    }
   ],
   "source": [
    "# Get the dimensions of the array:\n",
    "print(np.shape(test_vector))"
   ]
  },
  {
   "cell_type": "code",
   "execution_count": 18,
   "metadata": {
    "pycharm": {
     "name": "#%%\n"
    }
   },
   "outputs": [
    {
     "name": "stdout",
     "output_type": "stream",
     "text": [
      "[[1 7]\n",
      " [4 3]\n",
      " [5 6]]\n",
      "[[1 7]\n",
      " [4 3]\n",
      " [5 6]]\n"
     ]
    }
   ],
   "source": [
    "# Transpose the array:\n",
    "print(test_vector.transpose())\n",
    "print(test_vector.T)"
   ]
  },
  {
   "cell_type": "code",
   "execution_count": 19,
   "metadata": {
    "pycharm": {
     "name": "#%%\n"
    }
   },
   "outputs": [
    {
     "name": "stdout",
     "output_type": "stream",
     "text": [
      "[[0 1 2 3 4]\n",
      " [5 6 7 8 9]]\n"
     ]
    }
   ],
   "source": [
    "# Change the shape of the array\n",
    "print(np.array(range(0,10)).reshape((2,5)))"
   ]
  },
  {
   "cell_type": "code",
   "execution_count": 20,
   "metadata": {},
   "outputs": [
    {
     "ename": "TypeError",
     "evalue": "can only concatenate list (not \"int\") to list",
     "output_type": "error",
     "traceback": [
      "\u001b[1;31m---------------------------------------------------------------------------\u001b[0m",
      "\u001b[1;31mTypeError\u001b[0m                                 Traceback (most recent call last)",
      "Cell \u001b[1;32mIn[20], line 1\u001b[0m\n\u001b[1;32m----> 1\u001b[0m [\u001b[38;5;241m10\u001b[39m,\u001b[38;5;241m2\u001b[39m,\u001b[38;5;241m3\u001b[39m,\u001b[38;5;241m46\u001b[39m]\u001b[38;5;241m+\u001b[39m\u001b[38;5;241m1\u001b[39m\n",
      "\u001b[1;31mTypeError\u001b[0m: can only concatenate list (not \"int\") to list"
     ]
    }
   ],
   "source": [
    "[10,2,3,46]+1"
   ]
  },
  {
   "cell_type": "code",
   "execution_count": 21,
   "metadata": {},
   "outputs": [
    {
     "data": {
      "text/plain": [
       "array([11,  3,  4, 47])"
      ]
     },
     "execution_count": 21,
     "metadata": {},
     "output_type": "execute_result"
    }
   ],
   "source": [
    "np.array([10,2,3,46])+1"
   ]
  },
  {
   "cell_type": "markdown",
   "metadata": {},
   "source": [
    "#### Special Arrays:"
   ]
  },
  {
   "cell_type": "code",
   "execution_count": 22,
   "metadata": {
    "pycharm": {
     "name": "#%%\n"
    }
   },
   "outputs": [
    {
     "name": "stdout",
     "output_type": "stream",
     "text": [
      "[[0. 0. 0.]\n",
      " [0. 0. 0.]]\n"
     ]
    }
   ],
   "source": [
    "# Array with zeros:\n",
    "print(np.zeros((2,3)))"
   ]
  },
  {
   "cell_type": "code",
   "execution_count": 23,
   "metadata": {
    "pycharm": {
     "name": "#%%\n"
    }
   },
   "outputs": [
    {
     "name": "stdout",
     "output_type": "stream",
     "text": [
      "[[1. 1. 1.]\n",
      " [1. 1. 1.]]\n"
     ]
    }
   ],
   "source": [
    "# Array with ones:\n",
    "print(np.ones((2,3)))"
   ]
  },
  {
   "cell_type": "code",
   "execution_count": 24,
   "metadata": {
    "pycharm": {
     "name": "#%%\n"
    }
   },
   "outputs": [
    {
     "name": "stdout",
     "output_type": "stream",
     "text": [
      "[0 1 2 3 4 5 6 7 8 9]\n",
      "[0 1 2 3 4 5 6 7 8 9]\n"
     ]
    }
   ],
   "source": [
    "# Array with range of numbers:\n",
    "print(np.arange(10))\n",
    "print(np.array(range(10))) # Similar"
   ]
  },
  {
   "cell_type": "code",
   "execution_count": 27,
   "metadata": {
    "pycharm": {
     "name": "#%%\n"
    }
   },
   "outputs": [
    {
     "name": "stdout",
     "output_type": "stream",
     "text": [
      "[0.         0.01694915 0.03389831 0.05084746 0.06779661 0.08474576\n",
      " 0.10169492 0.11864407 0.13559322 0.15254237 0.16949153 0.18644068\n",
      " 0.20338983 0.22033898 0.23728814 0.25423729 0.27118644 0.28813559\n",
      " 0.30508475 0.3220339  0.33898305 0.3559322  0.37288136 0.38983051\n",
      " 0.40677966 0.42372881 0.44067797 0.45762712 0.47457627 0.49152542\n",
      " 0.50847458 0.52542373 0.54237288 0.55932203 0.57627119 0.59322034\n",
      " 0.61016949 0.62711864 0.6440678  0.66101695 0.6779661  0.69491525\n",
      " 0.71186441 0.72881356 0.74576271 0.76271186 0.77966102 0.79661017\n",
      " 0.81355932 0.83050847 0.84745763 0.86440678 0.88135593 0.89830508\n",
      " 0.91525424 0.93220339 0.94915254 0.96610169 0.98305085 1.        ]\n"
     ]
    }
   ],
   "source": [
    "# Array with equally distributed numbers in a interval\n",
    "print(np.linspace(0, 1, 60))"
   ]
  },
  {
   "cell_type": "markdown",
   "metadata": {},
   "source": [
    "#### Random:"
   ]
  },
  {
   "cell_type": "code",
   "execution_count": 28,
   "metadata": {
    "pycharm": {
     "name": "#%%\n"
    }
   },
   "outputs": [
    {
     "name": "stdout",
     "output_type": "stream",
     "text": [
      "[0.78572005 0.50113752 0.69753352 0.5584552  0.61020457]\n"
     ]
    }
   ],
   "source": [
    "# Array with random numbers between 0 and 1:\n",
    "print(np.random.random(size=5))"
   ]
  },
  {
   "cell_type": "code",
   "execution_count": 29,
   "metadata": {
    "pycharm": {
     "name": "#%%\n"
    }
   },
   "outputs": [
    {
     "name": "stdout",
     "output_type": "stream",
     "text": [
      "[2 0 2 0 6 5 7 6 8 2 2 9 0 3 2 7 2 8 7 2 0 2 2 3 1 0 7 5 4 6 4 1 0 0 6 4 1\n",
      " 7 0 4 3 6 3 0 4 8 9 9 0 8 9 2 2 1 6 0 6 0 7 7 2 2 2 8 8 3 8 2 1 6 1 1 0 7\n",
      " 8 6 9 3 2 1 8 1 1 7 5 1 9 2 8 4 8 6 4 7 8 2 1 7 2 9 2 6 3 0 4 5 0 3 3 6 5\n",
      " 0 3 1 4 8 3 1 8 9 4 4 0 1 4 4 5 4 9 0 0 5 8 6 8 0 7 0 4 1 8 7 8 0 0 1 5 9\n",
      " 8 0 3 7 2 6 1 5 8 5 9 3 4 6 7 3 4 7 7 8 9 8 7 2 0 7 1 6 8 2 7 1 0 8 0 1 6\n",
      " 8 7 0 2 5 4 3 3 5 7 9 1 7 0 6]\n"
     ]
    }
   ],
   "source": [
    "# Array with random integers\n",
    "print(np.random.randint(0,10,size=200))"
   ]
  },
  {
   "cell_type": "code",
   "execution_count": 30,
   "metadata": {
    "pycharm": {
     "name": "#%%\n"
    }
   },
   "outputs": [
    {
     "name": "stdout",
     "output_type": "stream",
     "text": [
      "[ 0.12934193 -0.07115213  0.39398202  0.65643697 -0.03523095  0.02223912]\n"
     ]
    }
   ],
   "source": [
    "# Array with normal dist. random numbers:\n",
    "print(np.random.normal(loc=0.0, scale=1.0, size=6))"
   ]
  },
  {
   "cell_type": "markdown",
   "metadata": {},
   "source": [
    "#### Indexing:"
   ]
  },
  {
   "cell_type": "code",
   "execution_count": 31,
   "metadata": {
    "pycharm": {
     "name": "#%%\n"
    }
   },
   "outputs": [
    {
     "name": "stdout",
     "output_type": "stream",
     "text": [
      "[[1 4 5 6]\n",
      " [7 3 6 3]\n",
      " [3 3 1 9]]\n"
     ]
    }
   ],
   "source": [
    "test_vector=np.array([[1,4,5,6],[7,3,6,3],[3,3,1,9]])\n",
    "print(test_vector)"
   ]
  },
  {
   "cell_type": "code",
   "execution_count": 32,
   "metadata": {
    "pycharm": {
     "name": "#%%\n"
    }
   },
   "outputs": [
    {
     "name": "stdout",
     "output_type": "stream",
     "text": [
      "[1 4 5 6]\n"
     ]
    }
   ],
   "source": [
    "# Print frist row\n",
    "print(test_vector[0,:])"
   ]
  },
  {
   "cell_type": "code",
   "execution_count": 33,
   "metadata": {
    "pycharm": {
     "name": "#%%\n"
    }
   },
   "outputs": [
    {
     "name": "stdout",
     "output_type": "stream",
     "text": [
      "[6 3 9]\n"
     ]
    }
   ],
   "source": [
    "# Print last column\n",
    "print(test_vector[:,-1])"
   ]
  },
  {
   "cell_type": "markdown",
   "metadata": {},
   "source": [
    "<span style=\"color:blue\"><b>Task:</b></span> Print the 2x2 matrix in the lower, right corner."
   ]
  },
  {
   "cell_type": "code",
   "execution_count": 37,
   "metadata": {},
   "outputs": [
    {
     "data": {
      "text/plain": [
       "array([[6, 3],\n",
       "       [1, 9]])"
      ]
     },
     "execution_count": 37,
     "metadata": {},
     "output_type": "execute_result"
    }
   ],
   "source": [
    "test_vector[1:,2:]\n",
    "test_vector[-2:,-2:]"
   ]
  },
  {
   "cell_type": "markdown",
   "metadata": {},
   "source": [
    "<span style=\"color:blue\"><b>Task:</b></span> Create a  4x4 identity matrix!"
   ]
  },
  {
   "cell_type": "code",
   "execution_count": 38,
   "metadata": {
    "pycharm": {
     "name": "#%%\n"
    }
   },
   "outputs": [
    {
     "name": "stdout",
     "output_type": "stream",
     "text": [
      "[[1. 0. 0. 0.]\n",
      " [0. 1. 0. 0.]\n",
      " [0. 0. 1. 0.]\n",
      " [0. 0. 0. 1.]]\n"
     ]
    }
   ],
   "source": [
    "# Use a for loop!\n",
    "mat=np.zeros((4,4))\n",
    "for i in range(4):\n",
    "    for j in range(4):\n",
    "        if i==j:\n",
    "            mat[i,j]=1\n",
    "print(mat)"
   ]
  },
  {
   "cell_type": "code",
   "execution_count": 39,
   "metadata": {},
   "outputs": [
    {
     "name": "stdout",
     "output_type": "stream",
     "text": [
      "[[1. 0. 0. 0.]\n",
      " [0. 1. 0. 0.]\n",
      " [0. 0. 1. 0.]\n",
      " [0. 0. 0. 1.]]\n"
     ]
    }
   ],
   "source": [
    "# Use a for loop!\n",
    "mat=np.zeros((4,4))\n",
    "for i in range(4):\n",
    "    mat[i,i]=1           \n",
    "print(mat)"
   ]
  },
  {
   "cell_type": "code",
   "execution_count": 40,
   "metadata": {
    "pycharm": {
     "name": "#%%\n"
    }
   },
   "outputs": [
    {
     "name": "stdout",
     "output_type": "stream",
     "text": [
      "[[4]]\n"
     ]
    }
   ],
   "source": [
    "# Use a the diagonal method!\n",
    "mat=np.matrix(4)\n",
    "print(mat)"
   ]
  },
  {
   "cell_type": "code",
   "execution_count": 47,
   "metadata": {},
   "outputs": [
    {
     "name": "stdout",
     "output_type": "stream",
     "text": [
      "[[1. 0. 0. 0.]\n",
      " [0. 1. 0. 0.]\n",
      " [0. 0. 1. 0.]\n",
      " [0. 0. 0. 1.]]\n"
     ]
    }
   ],
   "source": [
    "mat=np.diag([1,1,1,1])\n",
    "mat=np.diag([1.0]*4)\n",
    "print(mat)"
   ]
  },
  {
   "cell_type": "code",
   "execution_count": 46,
   "metadata": {
    "pycharm": {
     "name": "#%%\n"
    }
   },
   "outputs": [
    {
     "name": "stdout",
     "output_type": "stream",
     "text": [
      "[[1. 0. 0. 0.]\n",
      " [0. 1. 0. 0.]\n",
      " [0. 0. 1. 0.]\n",
      " [0. 0. 0. 1.]]\n"
     ]
    }
   ],
   "source": [
    "# Use a the method numpy method provides for you!\n",
    "mat=np.identity(4)\n",
    "print(mat)"
   ]
  },
  {
   "cell_type": "code",
   "execution_count": 49,
   "metadata": {},
   "outputs": [
    {
     "name": "stdout",
     "output_type": "stream",
     "text": [
      "[[1. 0. 0. 0.]\n",
      " [0. 1. 0. 0.]\n",
      " [0. 0. 1. 0.]\n",
      " [0. 0. 0. 1.]]\n"
     ]
    }
   ],
   "source": [
    "mat=np.eye(4)\n",
    "print(mat)"
   ]
  },
  {
   "cell_type": "markdown",
   "metadata": {},
   "source": [
    "You can also index arrays with booleans:"
   ]
  },
  {
   "cell_type": "code",
   "execution_count": 50,
   "metadata": {
    "pycharm": {
     "name": "#%%\n"
    }
   },
   "outputs": [
    {
     "name": "stdout",
     "output_type": "stream",
     "text": [
      "[[1 4 5 6]\n",
      " [7 3 6 3]\n",
      " [3 3 1 9]]\n",
      "[4 5 6 7 6 9]\n"
     ]
    }
   ],
   "source": [
    "print(test_vector)\n",
    "print(test_vector[test_vector>3])"
   ]
  },
  {
   "cell_type": "code",
   "execution_count": 51,
   "metadata": {},
   "outputs": [
    {
     "data": {
      "text/plain": [
       "[array([[False,  True,  True,  True],\n",
       "        [ True, False,  True, False],\n",
       "        [False, False, False,  True]])]"
      ]
     },
     "execution_count": 51,
     "metadata": {},
     "output_type": "execute_result"
    }
   ],
   "source": [
    "[test_vector>3]"
   ]
  },
  {
   "cell_type": "markdown",
   "metadata": {},
   "source": [
    "#### Stacking\n",
    "You can also stack vector or matrices horizontally or vertically :"
   ]
  },
  {
   "cell_type": "code",
   "execution_count": 52,
   "metadata": {
    "pycharm": {
     "name": "#%%\n"
    }
   },
   "outputs": [
    {
     "name": "stdout",
     "output_type": "stream",
     "text": [
      "[[1 4 5]\n",
      " [7 3 6]]\n"
     ]
    }
   ],
   "source": [
    "test_vector=np.array([[1,4,5],[7,3,6]])\n",
    "print(test_vector)"
   ]
  },
  {
   "cell_type": "code",
   "execution_count": 53,
   "metadata": {
    "pycharm": {
     "name": "#%%\n"
    }
   },
   "outputs": [
    {
     "name": "stdout",
     "output_type": "stream",
     "text": [
      "[[1 4 5 1 4 5]\n",
      " [7 3 6 7 3 6]]\n"
     ]
    }
   ],
   "source": [
    "#Stack horizontally:\n",
    "print(np.hstack((test_vector,test_vector)))"
   ]
  },
  {
   "cell_type": "code",
   "execution_count": 54,
   "metadata": {
    "pycharm": {
     "name": "#%%\n"
    }
   },
   "outputs": [
    {
     "name": "stdout",
     "output_type": "stream",
     "text": [
      "[[1 4 5]\n",
      " [7 3 6]\n",
      " [1 4 5]\n",
      " [7 3 6]]\n"
     ]
    }
   ],
   "source": [
    "#Stack vertically:\n",
    "print(np.vstack((test_vector,test_vector)))"
   ]
  },
  {
   "cell_type": "markdown",
   "metadata": {},
   "source": [
    "#### Sorting:"
   ]
  },
  {
   "cell_type": "code",
   "execution_count": 55,
   "metadata": {
    "pycharm": {
     "name": "#%%\n"
    }
   },
   "outputs": [
    {
     "name": "stdout",
     "output_type": "stream",
     "text": [
      "[8 6 8 3 1 5 7 1 1 8 0 5 3 7 9 5 3 3 0 9]\n"
     ]
    }
   ],
   "source": [
    "sort_vector=np.random.randint(0,10,size=20)\n",
    "print(sort_vector)"
   ]
  },
  {
   "cell_type": "code",
   "execution_count": 56,
   "metadata": {
    "pycharm": {
     "name": "#%%\n"
    }
   },
   "outputs": [
    {
     "name": "stdout",
     "output_type": "stream",
     "text": [
      "[0 0 1 1 1 3 3 3 3 5 5 5 6 7 7 8 8 8 9 9]\n"
     ]
    }
   ],
   "source": [
    "# Sort vector\n",
    "print(np.sort(sort_vector))"
   ]
  },
  {
   "cell_type": "code",
   "execution_count": 57,
   "metadata": {
    "pycharm": {
     "name": "#%%\n"
    }
   },
   "outputs": [
    {
     "name": "stdout",
     "output_type": "stream",
     "text": [
      "[18 10  4  7  8 17  3 12 16  5 11 15  1  6 13  0  9  2 14 19]\n"
     ]
    }
   ],
   "source": [
    "# Gives back the new indices of the elements if the vector would be sorted:\n",
    "print(np.argsort(sort_vector))"
   ]
  },
  {
   "cell_type": "code",
   "execution_count": 58,
   "metadata": {
    "pycharm": {
     "name": "#%%\n"
    }
   },
   "outputs": [
    {
     "name": "stdout",
     "output_type": "stream",
     "text": [
      "[0 0 1 1 1 3 3 3 3 5 5 5 6 7 7 8 8 8 9 9]\n"
     ]
    }
   ],
   "source": [
    "print(sort_vector[np.argsort(sort_vector)])"
   ]
  },
  {
   "cell_type": "code",
   "execution_count": 59,
   "metadata": {
    "pycharm": {
     "name": "#%%\n"
    }
   },
   "outputs": [
    {
     "name": "stdout",
     "output_type": "stream",
     "text": [
      "[6 4 8 1 5 4 2 0 8 7 6 6 8 3 1 3 3 1 0 5]\n",
      "[0 6 5 0 8 1 1 8 3 4 6 3 4 2 3 6 7 8 1 5]\n"
     ]
    }
   ],
   "source": [
    "# You can use if to sort an vector with order of an other vector:\n",
    "sort_vector_2=np.random.randint(0,10,size=20)\n",
    "print(sort_vector_2)\n",
    "print(sort_vector_2[np.argsort(sort_vector)])"
   ]
  },
  {
   "cell_type": "code",
   "execution_count": 72,
   "metadata": {},
   "outputs": [
    {
     "data": {
      "text/plain": [
       "array(['Person3', 'Person1', 'Person2'], dtype='<U7')"
      ]
     },
     "execution_count": 72,
     "metadata": {},
     "output_type": "execute_result"
    }
   ],
   "source": [
    "names=np.array(['Person1','Person2','Person3'])\n",
    "age=np.array([14,99,7])\n",
    "names[np.argsort(age)]"
   ]
  },
  {
   "cell_type": "code",
   "execution_count": 66,
   "metadata": {},
   "outputs": [
    {
     "name": "stdout",
     "output_type": "stream",
     "text": [
      "9\n",
      "0\n",
      "14\n",
      "10\n"
     ]
    }
   ],
   "source": [
    "#There are also function to find the minimum or maximum value of vector:\n",
    "print(np.max(sort_vector))\n",
    "print(np.min(sort_vector))\n",
    "print(np.argmax(sort_vector))\n",
    "print(np.argmin(sort_vector))"
   ]
  },
  {
   "cell_type": "markdown",
   "metadata": {},
   "source": [
    "#### Mathematical functions:\n",
    "\n",
    "There are all standard (and not so standard)  [mathematical functions](https://numpy.org/doc/stable/reference/routines.math.html) in numpy:"
   ]
  },
  {
   "cell_type": "code",
   "execution_count": 67,
   "metadata": {
    "pycharm": {
     "name": "#%%\n"
    }
   },
   "outputs": [
    {
     "name": "stdout",
     "output_type": "stream",
     "text": [
      "[[1 4 5 6]\n",
      " [7 3 6 3]\n",
      " [3 3 1 9]]\n"
     ]
    }
   ],
   "source": [
    "test_vector=np.array([[1,4,5,6],[7,3,6,3],[3,3,1,9]])\n",
    "print(test_vector)"
   ]
  },
  {
   "cell_type": "code",
   "execution_count": 68,
   "metadata": {
    "pycharm": {
     "name": "#%%\n"
    }
   },
   "outputs": [
    {
     "name": "stdout",
     "output_type": "stream",
     "text": [
      "51\n"
     ]
    }
   ],
   "source": [
    "#Total sum\n",
    "print(np.sum(test_vector))"
   ]
  },
  {
   "cell_type": "code",
   "execution_count": 69,
   "metadata": {
    "pycharm": {
     "name": "#%%\n"
    }
   },
   "outputs": [
    {
     "name": "stdout",
     "output_type": "stream",
     "text": [
      "[11 10 12 18]\n"
     ]
    }
   ],
   "source": [
    "#Sum for every column\n",
    "print(np.sum(test_vector,axis=0))"
   ]
  },
  {
   "cell_type": "code",
   "execution_count": 70,
   "metadata": {
    "pycharm": {
     "name": "#%%\n"
    }
   },
   "outputs": [
    {
     "name": "stdout",
     "output_type": "stream",
     "text": [
      "[16 19 16]\n"
     ]
    }
   ],
   "source": [
    "#Sum for every row\n",
    "print(np.sum(test_vector,axis=1))"
   ]
  },
  {
   "cell_type": "markdown",
   "metadata": {},
   "source": [
    "<span style=\"color:blue\"><b>Task:</b></span> Calculate the mean for the first two rows steperately. (2 Versions)"
   ]
  },
  {
   "cell_type": "code",
   "execution_count": 76,
   "metadata": {},
   "outputs": [
    {
     "name": "stdout",
     "output_type": "stream",
     "text": [
      "4.0\n",
      "4.75\n"
     ]
    }
   ],
   "source": [
    "[16/4,19/4]\n",
    "print(np.sum(test_vector[0,:])/len(test_vector[0,:]))\n",
    "print(np.sum(test_vector[1,:])/len(test_vector[1,:]))"
   ]
  },
  {
   "cell_type": "code",
   "execution_count": 77,
   "metadata": {},
   "outputs": [
    {
     "name": "stdout",
     "output_type": "stream",
     "text": [
      "4.0\n",
      "4.75\n"
     ]
    }
   ],
   "source": [
    "print(np.mean(test_vector[0]))\n",
    "print(np.mean(test_vector[1]))"
   ]
  },
  {
   "cell_type": "code",
   "execution_count": 79,
   "metadata": {},
   "outputs": [
    {
     "name": "stdout",
     "output_type": "stream",
     "text": [
      "[4.   4.75]\n"
     ]
    }
   ],
   "source": [
    "print(np.mean(test_vector[:2],axis=1)) # Faster"
   ]
  },
  {
   "cell_type": "code",
   "execution_count": 80,
   "metadata": {},
   "outputs": [
    {
     "name": "stdout",
     "output_type": "stream",
     "text": [
      "[4.   4.75]\n"
     ]
    }
   ],
   "source": [
    "print(np.mean(test_vector,axis=1)[:2])"
   ]
  },
  {
   "cell_type": "code",
   "execution_count": 81,
   "metadata": {
    "pycharm": {
     "name": "#%%\n"
    }
   },
   "outputs": [
    {
     "name": "stdout",
     "output_type": "stream",
     "text": [
      "[[ 2  8 10 12]\n",
      " [14  6 12  6]\n",
      " [ 6  6  2 18]]\n",
      "[[1 1 2 0]\n",
      " [1 0 0 0]\n",
      " [0 0 1 0]]\n"
     ]
    }
   ],
   "source": [
    "# You also apply the stand math operators on numpy arrays:\n",
    "print(test_vector*2)\n",
    "print(test_vector%3)"
   ]
  },
  {
   "cell_type": "code",
   "execution_count": 82,
   "metadata": {
    "pycharm": {
     "name": "#%% Variance and std\n"
    }
   },
   "outputs": [
    {
     "name": "stdout",
     "output_type": "stream",
     "text": [
      "[2.49443826 0.47140452 2.1602469  2.44948974]\n",
      "[2.49443826 0.47140452 2.1602469  2.44948974]\n"
     ]
    }
   ],
   "source": [
    "print(np.var(test_vector,axis=0)**0.5)\n",
    "print(np.std(test_vector,axis=0))"
   ]
  },
  {
   "cell_type": "code",
   "execution_count": 83,
   "metadata": {
    "pycharm": {
     "name": "#%% Sin, cos tan\n"
    }
   },
   "outputs": [
    {
     "name": "stdout",
     "output_type": "stream",
     "text": [
      "[[ 0.84147098 -0.7568025  -0.95892427 -0.2794155 ]\n",
      " [ 0.6569866   0.14112001 -0.2794155   0.14112001]\n",
      " [ 0.14112001  0.14112001  0.84147098  0.41211849]]\n",
      "[[ 0.54030231 -0.65364362  0.28366219  0.96017029]\n",
      " [ 0.75390225 -0.9899925   0.96017029 -0.9899925 ]\n",
      " [-0.9899925  -0.9899925   0.54030231 -0.91113026]]\n",
      "[[ 1.55740772  1.15782128 -3.38051501 -0.29100619]\n",
      " [ 0.87144798 -0.14254654 -0.29100619 -0.14254654]\n",
      " [-0.14254654 -0.14254654  1.55740772 -0.45231566]]\n"
     ]
    }
   ],
   "source": [
    "print(np.sin(test_vector))\n",
    "print(np.cos(test_vector))\n",
    "print(np.tan(test_vector))"
   ]
  },
  {
   "cell_type": "markdown",
   "metadata": {},
   "source": [
    "<span style=\"color:blue\"><b>Task:</b></span> Rebuild this numpy.sin function with a for loop."
   ]
  },
  {
   "cell_type": "code",
   "execution_count": null,
   "metadata": {},
   "outputs": [],
   "source": []
  },
  {
   "cell_type": "markdown",
   "metadata": {},
   "source": [
    "<span style=\"color:blue\"><b>Task:</b></span> Calculate the sum of squares for every column."
   ]
  },
  {
   "cell_type": "code",
   "execution_count": 85,
   "metadata": {},
   "outputs": [
    {
     "data": {
      "text/plain": [
       "array([[ 1, 16, 25, 36],\n",
       "       [49,  9, 36,  9],\n",
       "       [ 9,  9,  1, 81]])"
      ]
     },
     "execution_count": 85,
     "metadata": {},
     "output_type": "execute_result"
    }
   ],
   "source": [
    "test_vector**2"
   ]
  },
  {
   "cell_type": "code",
   "execution_count": 84,
   "metadata": {},
   "outputs": [
    {
     "data": {
      "text/plain": [
       "array([ 59,  34,  62, 126])"
      ]
     },
     "execution_count": 84,
     "metadata": {},
     "output_type": "execute_result"
    }
   ],
   "source": [
    "np.sum(test_vector**2,axis=0)"
   ]
  },
  {
   "cell_type": "markdown",
   "metadata": {},
   "source": [
    "<span style=\"color:blue\"><b>Task:</b></span> Standardise the test_vector."
   ]
  },
  {
   "cell_type": "code",
   "execution_count": 86,
   "metadata": {
    "pycharm": {
     "name": "#%%\n"
    }
   },
   "outputs": [
    {
     "data": {
      "text/plain": [
       "array([[-1.40455069, -0.10804236,  0.32412708,  0.75629653],\n",
       "       [ 1.18846597, -0.5402118 ,  0.75629653, -0.5402118 ],\n",
       "       [-0.5402118 , -0.5402118 , -1.40455069,  2.05280486]])"
      ]
     },
     "execution_count": 86,
     "metadata": {},
     "output_type": "execute_result"
    }
   ],
   "source": [
    "#(vector -mean) / std\n",
    "(test_vector-np.mean(test_vector))/np.std(test_vector)\n"
   ]
  },
  {
   "cell_type": "markdown",
   "metadata": {},
   "source": [
    "#### Other functions"
   ]
  },
  {
   "cell_type": "code",
   "execution_count": 87,
   "metadata": {
    "pycharm": {
     "name": "#%%\n"
    }
   },
   "outputs": [],
   "source": [
    "test_vector=np.array([[1,4,5,6],[7,3,6,3],[3,3,1,9]])\n",
    "test_vector_2=np.array([[4,2,9,1],[7,4,6,3],[2,4,1,9]])"
   ]
  },
  {
   "cell_type": "code",
   "execution_count": 88,
   "metadata": {
    "pycharm": {
     "name": "#%%\n"
    }
   },
   "outputs": [
    {
     "name": "stdout",
     "output_type": "stream",
     "text": [
      "[[nan  4. nan  6.]\n",
      " [ 7. nan  6.  3.]\n",
      " [ 3. nan  1.  9.]]\n"
     ]
    }
   ],
   "source": [
    "# Use where to apply condition on vectors.\n",
    "print(np.where(test_vector>=test_vector_2,test_vector,np.nan))"
   ]
  },
  {
   "cell_type": "code",
   "execution_count": 89,
   "metadata": {
    "pycharm": {
     "name": "#%%\n"
    }
   },
   "outputs": [
    {
     "name": "stdout",
     "output_type": "stream",
     "text": [
      "(array([1, 3, 4, 5, 6, 7, 9]), array([2, 4, 1, 1, 2, 1, 1], dtype=int64))\n"
     ]
    }
   ],
   "source": [
    "# Use unique to delete duplicates and retrun the counts.\n",
    "print(np.unique(test_vector,return_counts=True))"
   ]
  },
  {
   "cell_type": "code",
   "execution_count": 90,
   "metadata": {
    "pycharm": {
     "name": "#%%\n"
    }
   },
   "outputs": [
    {
     "name": "stdout",
     "output_type": "stream",
     "text": [
      "[1 3 4 5 6 7 9]\n",
      "[2 4 1 1 2 1 1]\n"
     ]
    }
   ],
   "source": [
    "unique_vector,counts=np.unique(test_vector,return_counts=True)\n",
    "print(unique_vector)\n",
    "print(counts)"
   ]
  },
  {
   "cell_type": "markdown",
   "metadata": {},
   "source": [
    "<span style=\"color:blue\"><b>Task:</b></span> Sort the unique values with its counts in descending order."
   ]
  },
  {
   "cell_type": "code",
   "execution_count": 91,
   "metadata": {},
   "outputs": [
    {
     "data": {
      "text/plain": [
       "array([3, 1, 6, 4, 5, 7, 9])"
      ]
     },
     "execution_count": 91,
     "metadata": {},
     "output_type": "execute_result"
    }
   ],
   "source": [
    "count_sort_index=np.argsort(-counts)\n",
    "unique_vector[count_sort_index]"
   ]
  },
  {
   "cell_type": "code",
   "execution_count": 92,
   "metadata": {},
   "outputs": [
    {
     "data": {
      "text/plain": [
       "array([3, 6, 1, 9, 7, 5, 4])"
      ]
     },
     "execution_count": 92,
     "metadata": {},
     "output_type": "execute_result"
    }
   ],
   "source": [
    "count_sort_index=np.argsort(counts)\n",
    "unique_vector[count_sort_index][::-1]"
   ]
  },
  {
   "cell_type": "markdown",
   "metadata": {},
   "source": [
    "## Saving and loading data into Pandas dataframe <a id=savepandas>\n",
    "[Back to Content Overview](#ov)"
   ]
  },
  {
   "cell_type": "code",
   "execution_count": 2,
   "metadata": {
    "pycharm": {
     "name": "#%%\n"
    }
   },
   "outputs": [
    {
     "name": "stderr",
     "output_type": "stream",
     "text": [
      "C:\\Users\\myfix\\AppData\\Local\\anaconda3\\Lib\\site-packages\\pandas\\core\\arrays\\masked.py:60: UserWarning: Pandas requires version '1.3.6' or newer of 'bottleneck' (version '1.3.5' currently installed).\n",
      "  from pandas.core import (\n"
     ]
    }
   ],
   "source": [
    "import pandas as pd"
   ]
  },
  {
   "cell_type": "markdown",
   "metadata": {},
   "source": [
    "The mean object of the pandas module is the dataframe. A datatable with named rows and columns:"
   ]
  },
  {
   "cell_type": "code",
   "execution_count": 94,
   "metadata": {
    "pycharm": {
     "name": "#%%\n"
    }
   },
   "outputs": [
    {
     "name": "stdout",
     "output_type": "stream",
     "text": [
      "['column_0', 'column_1', 'column_2', 'column_3']\n"
     ]
    }
   ],
   "source": [
    "#Import data from a matrix\n",
    "column_names=['column_'+str(i) for i in range(0,4)]\n",
    "print(column_names)\n",
    "df=pd.DataFrame(data=test_vector,columns=column_names,index=None)"
   ]
  },
  {
   "cell_type": "code",
   "execution_count": 95,
   "metadata": {},
   "outputs": [
    {
     "data": {
      "text/html": [
       "<div>\n",
       "<style scoped>\n",
       "    .dataframe tbody tr th:only-of-type {\n",
       "        vertical-align: middle;\n",
       "    }\n",
       "\n",
       "    .dataframe tbody tr th {\n",
       "        vertical-align: top;\n",
       "    }\n",
       "\n",
       "    .dataframe thead th {\n",
       "        text-align: right;\n",
       "    }\n",
       "</style>\n",
       "<table border=\"1\" class=\"dataframe\">\n",
       "  <thead>\n",
       "    <tr style=\"text-align: right;\">\n",
       "      <th></th>\n",
       "      <th>column_0</th>\n",
       "      <th>column_1</th>\n",
       "      <th>column_2</th>\n",
       "      <th>column_3</th>\n",
       "    </tr>\n",
       "  </thead>\n",
       "  <tbody>\n",
       "    <tr>\n",
       "      <th>0</th>\n",
       "      <td>1</td>\n",
       "      <td>4</td>\n",
       "      <td>5</td>\n",
       "      <td>6</td>\n",
       "    </tr>\n",
       "    <tr>\n",
       "      <th>1</th>\n",
       "      <td>7</td>\n",
       "      <td>3</td>\n",
       "      <td>6</td>\n",
       "      <td>3</td>\n",
       "    </tr>\n",
       "    <tr>\n",
       "      <th>2</th>\n",
       "      <td>3</td>\n",
       "      <td>3</td>\n",
       "      <td>1</td>\n",
       "      <td>9</td>\n",
       "    </tr>\n",
       "  </tbody>\n",
       "</table>\n",
       "</div>"
      ],
      "text/plain": [
       "   column_0  column_1  column_2  column_3\n",
       "0         1         4         5         6\n",
       "1         7         3         6         3\n",
       "2         3         3         1         9"
      ]
     },
     "execution_count": 95,
     "metadata": {},
     "output_type": "execute_result"
    }
   ],
   "source": [
    "df"
   ]
  },
  {
   "cell_type": "code",
   "execution_count": 96,
   "metadata": {},
   "outputs": [
    {
     "name": "stdout",
     "output_type": "stream",
     "text": [
      "   column_0  column_1  column_2  column_3\n",
      "0         1         4         5         6\n",
      "1         7         3         6         3\n",
      "2         3         3         1         9\n",
      "RangeIndex(start=0, stop=3, step=1) [0, 1, 2]\n",
      "Index(['column_0', 'column_1', 'column_2', 'column_3'], dtype='object')\n"
     ]
    }
   ],
   "source": [
    "print(df)\n",
    "print(df.index,list(df.index))\n",
    "print(df.columns)"
   ]
  },
  {
   "cell_type": "code",
   "execution_count": 99,
   "metadata": {
    "pycharm": {
     "name": "#%%\n"
    }
   },
   "outputs": [
    {
     "name": "stdout",
     "output_type": "stream",
     "text": [
      "   one  two  three  four\n",
      "1    1    4      5     6\n",
      "2    7    3      6     3\n",
      "3    3    3      1     9\n"
     ]
    }
   ],
   "source": [
    "#You can change the indices and columns via:\n",
    "df.index=[1,2,3]\n",
    "df.columns=['one','two','three','four']\n",
    "\n",
    "print(df)"
   ]
  },
  {
   "cell_type": "code",
   "execution_count": 100,
   "metadata": {
    "pycharm": {
     "name": "#%%\n"
    }
   },
   "outputs": [
    {
     "name": "stdout",
     "output_type": "stream",
     "text": [
      "1    1\n",
      "2    7\n",
      "3    3\n",
      "Name: one, dtype: int32\n",
      "[1, 7, 3]\n"
     ]
    }
   ],
   "source": [
    "#You access columns similar to dict value:\n",
    "print(df['one'])\n",
    "\n",
    "print(list(df['one']))"
   ]
  },
  {
   "cell_type": "code",
   "execution_count": 101,
   "metadata": {
    "pycharm": {
     "name": "#%%\n"
    }
   },
   "outputs": [
    {
     "name": "stdout",
     "output_type": "stream",
     "text": [
      "1    1\n",
      "2    7\n",
      "3    3\n",
      "Name: one, dtype: int32\n",
      "1    4\n",
      "2    3\n",
      "3    3\n",
      "Name: two, dtype: int32\n",
      "1    5\n",
      "2    6\n",
      "3    1\n",
      "Name: three, dtype: int32\n",
      "1    6\n",
      "2    3\n",
      "3    9\n",
      "Name: four, dtype: int32\n"
     ]
    }
   ],
   "source": [
    "for col in df.columns:\n",
    "    print(df[col])"
   ]
  },
  {
   "cell_type": "markdown",
   "metadata": {},
   "source": [
    "### Importing and saving data"
   ]
  },
  {
   "cell_type": "code",
   "execution_count": 102,
   "metadata": {
    "pycharm": {
     "name": "#%%\n"
    }
   },
   "outputs": [
    {
     "name": "stdout",
     "output_type": "stream",
     "text": [
      "   0  1  2  3\n",
      "0  1  4  5  6\n",
      "1  7  3  6  3\n",
      "2  3  3  1  9\n"
     ]
    }
   ],
   "source": [
    "#Import data from a nested_list\n",
    "df=pd.DataFrame(data=[[1,4,5,6],[7,3,6,3],[3,3,1,9]],columns=None,index=None)\n",
    "print(df)\n"
   ]
  },
  {
   "cell_type": "code",
   "execution_count": 103,
   "metadata": {},
   "outputs": [
    {
     "name": "stdout",
     "output_type": "stream",
     "text": [
      "   col1  col2  col3\n",
      "0     1     7     3\n",
      "1     4     3     3\n",
      "2     5     6     1\n",
      "3     6     3     9\n"
     ]
    }
   ],
   "source": [
    "#Import data from a dict\n",
    "data_dict={'col1':[1,4,5,6],'col2':[7,3,6,3],'col3':[3,3,1,9]}\n",
    "df=pd.DataFrame(data=data_dict)\n",
    "print(df)"
   ]
  },
  {
   "cell_type": "code",
   "execution_count": 104,
   "metadata": {
    "pycharm": {
     "name": "#%%\n"
    }
   },
   "outputs": [
    {
     "name": "stdout",
     "output_type": "stream",
     "text": [
      "        col1    col2   col3\n",
      "ind1     688      89    NaN\n",
      "ind3  string  string  hello\n"
     ]
    }
   ],
   "source": [
    "#Import data from a dict\n",
    "data_dict={'col1':{'ind1':23,'ind1':1,'ind3':'string'},'col2':{'ind1':89,'ind3':'string'},'col3':{'ind3':'hello'}}\n",
    "data_dict['col1']['ind1']=688\n",
    "df=pd.DataFrame(data=data_dict)\n",
    "print(df)"
   ]
  },
  {
   "cell_type": "code",
   "execution_count": 105,
   "metadata": {
    "pycharm": {
     "name": "#%%\n"
    }
   },
   "outputs": [],
   "source": [
    "#Save as csv\n",
    "df.to_csv('test_df.csv')"
   ]
  },
  {
   "cell_type": "code",
   "execution_count": 114,
   "metadata": {
    "pycharm": {
     "name": "#%%\n"
    }
   },
   "outputs": [
    {
     "name": "stdout",
     "output_type": "stream",
     "text": [
      "Requirement already satisfied: openpyxl==3.1.0 in c:\\users\\myfix\\appdata\\local\\anaconda3\\lib\\site-packages (3.1.0)\n",
      "Requirement already satisfied: et-xmlfile in c:\\users\\myfix\\appdata\\local\\anaconda3\\lib\\site-packages (from openpyxl==3.1.0) (1.1.0)\n"
     ]
    }
   ],
   "source": [
    "import sys\n",
    "!{sys.executable} -m pip install openpyxl==3.1.0\n",
    "#Save as excel\n",
    "df.to_excel('test_df.xlsx')"
   ]
  },
  {
   "cell_type": "markdown",
   "metadata": {},
   "source": [
    "## Investigate your Pandas dataframe <a id=Investigate>\n",
    "[Back to Content Overview](#ov)"
   ]
  },
  {
   "cell_type": "code",
   "execution_count": 3,
   "metadata": {
    "pycharm": {
     "name": "#%%\n"
    }
   },
   "outputs": [
    {
     "name": "stdout",
     "output_type": "stream",
     "text": [
      "       #          Player            Position  Age Market value  Matches  \\\n",
      "0      1   Kylian Mbappé      Centre-Forward   22    €160.00m        11   \n",
      "1      2  Erling Haaland      Centre-Forward   21    €150.00m         8   \n",
      "2      3      Harry Kane      Centre-Forward   28    €120.00m        10   \n",
      "3      4   Jack Grealish         Left Winger   26    €100.00m        10   \n",
      "4      5   Mohamed Salah        Right Winger   29    €100.00m         9   \n",
      "..   ...             ...                 ...  ...          ...      ...   \n",
      "495  496      Tom Davies    Central Midfield   23     €18.00m         5   \n",
      "496  497   Hans Hateboer          Right-Back   27     €18.00m         0   \n",
      "497  498      David Raya          Goalkeeper   26     €18.00m         7   \n",
      "498  499    Gregor Kobel          Goalkeeper   23     €18.00m        12   \n",
      "499  500  Wilmar Barrios  Defensive Midfield   27     €18.00m        10   \n",
      "\n",
      "     Goals  Own goals  Assists  Yellow cards  Yellow red cards  Red cards  \\\n",
      "0        4          0        5             2                 0          0   \n",
      "1       11          0        4             1                 0          0   \n",
      "2        6          0        0             2                 0          0   \n",
      "3        2          0        2             1                 0          0   \n",
      "4        9          0        3             1                 0          0   \n",
      "..     ...        ...      ...           ...               ...        ...   \n",
      "495      0          0        1             0                 0          0   \n",
      "496      0          0        0             0                 0          0   \n",
      "497      0          0        0             0                 0          0   \n",
      "498      0          0        0             0                 0          0   \n",
      "499      0          0        0             0                 0          0   \n",
      "\n",
      "     Substitutions on  Substitutions off  \n",
      "0                   0                  5  \n",
      "1                   0                  1  \n",
      "2                   2                  2  \n",
      "3                   1                  5  \n",
      "4                   0                  2  \n",
      "..                ...                ...  \n",
      "495                 3                  1  \n",
      "496                 0                  0  \n",
      "497                 0                  0  \n",
      "498                 0                  0  \n",
      "499                 0                  2  \n",
      "\n",
      "[500 rows x 14 columns]\n"
     ]
    }
   ],
   "source": [
    "#Import data from a excel_file\n",
    "df=pd.read_excel('top_500_football_players.xlsx',sheet_name='final')\n",
    "print(df)"
   ]
  },
  {
   "cell_type": "code",
   "execution_count": 4,
   "metadata": {
    "pycharm": {
     "name": "#%%\n"
    }
   },
   "outputs": [
    {
     "name": "stdout",
     "output_type": "stream",
     "text": [
      "Index(['#', 'Player', 'Position', 'Age', 'Market value', 'Matches', 'Goals',\n",
      "       'Own goals', 'Assists', 'Yellow cards', 'Yellow red cards', 'Red cards',\n",
      "       'Substitutions on', 'Substitutions off'],\n",
      "      dtype='object')\n"
     ]
    }
   ],
   "source": [
    "#Show all columns names\n",
    "print(df.columns)"
   ]
  },
  {
   "cell_type": "code",
   "execution_count": 5,
   "metadata": {
    "pycharm": {
     "name": "#%%\n"
    }
   },
   "outputs": [
    {
     "name": "stdout",
     "output_type": "stream",
     "text": [
      "RangeIndex(start=0, stop=500, step=1)\n"
     ]
    }
   ],
   "source": [
    "#Show all row names\n",
    "print(df.index)"
   ]
  },
  {
   "cell_type": "code",
   "execution_count": 6,
   "metadata": {
    "pycharm": {
     "name": "#%%\n"
    }
   },
   "outputs": [
    {
     "name": "stdout",
     "output_type": "stream",
     "text": [
      "    #           Player            Position  Age Market value  Matches  Goals  \\\n",
      "0   1    Kylian Mbappé      Centre-Forward   22    €160.00m        11      4   \n",
      "1   2   Erling Haaland      Centre-Forward   21    €150.00m         8     11   \n",
      "2   3       Harry Kane      Centre-Forward   28    €120.00m        10      6   \n",
      "3   4    Jack Grealish         Left Winger   26    €100.00m        10      2   \n",
      "4   5    Mohamed Salah        Right Winger   29    €100.00m         9      9   \n",
      "5   6    Romelu Lukaku      Centre-Forward   28    €100.00m         9      4   \n",
      "6   7  Kevin De Bruyne  Attacking Midfield   30    €100.00m         7      2   \n",
      "7   8           Neymar         Left Winger   29    €100.00m         7      1   \n",
      "8   9     Jadon Sancho         Left Winger   21     €90.00m         9      0   \n",
      "9  10  Frenkie de Jong    Central Midfield   24     €90.00m         8      0   \n",
      "\n",
      "   Own goals  Assists  Yellow cards  Yellow red cards  Red cards  \\\n",
      "0          0        5             2                 0          0   \n",
      "1          0        4             1                 0          0   \n",
      "2          0        0             2                 0          0   \n",
      "3          0        2             1                 0          0   \n",
      "4          0        3             1                 0          0   \n",
      "5          0        0             0                 0          0   \n",
      "6          0        0             1                 0          0   \n",
      "7          0        2             1                 0          0   \n",
      "8          0        0             0                 0          0   \n",
      "9          0        2             0                 1          0   \n",
      "\n",
      "   Substitutions on  Substitutions off  \n",
      "0                 0                  5  \n",
      "1                 0                  1  \n",
      "2                 2                  2  \n",
      "3                 1                  5  \n",
      "4                 0                  2  \n",
      "5                 1                  0  \n",
      "6                 2                  2  \n",
      "7                 0                  2  \n",
      "8                 4                  4  \n",
      "9                 0                  1  \n"
     ]
    }
   ],
   "source": [
    "#Show the ten most valueable players\n",
    "print(df.head(10))"
   ]
  },
  {
   "cell_type": "code",
   "execution_count": 7,
   "metadata": {
    "pycharm": {
     "name": "#%%\n"
    }
   },
   "outputs": [
    {
     "name": "stdout",
     "output_type": "stream",
     "text": [
      "       #          Player            Position  Age Market value  Matches  \\\n",
      "499  500  Wilmar Barrios  Defensive Midfield   27     €18.00m        10   \n",
      "\n",
      "     Goals  Own goals  Assists  Yellow cards  Yellow red cards  Red cards  \\\n",
      "499      0          0        0             0                 0          0   \n",
      "\n",
      "     Substitutions on  Substitutions off  \n",
      "499                 0                  2  \n"
     ]
    }
   ],
   "source": [
    "#Show Mr. Irrelevant\n",
    "print(df.tail(1))"
   ]
  },
  {
   "cell_type": "code",
   "execution_count": 8,
   "metadata": {
    "pycharm": {
     "name": "#%%\n"
    }
   },
   "outputs": [
    {
     "name": "stdout",
     "output_type": "stream",
     "text": [
      "#                     int64\n",
      "Player               object\n",
      "Position             object\n",
      "Age                   int64\n",
      "Market value         object\n",
      "Matches               int64\n",
      "Goals                 int64\n",
      "Own goals             int64\n",
      "Assists               int64\n",
      "Yellow cards          int64\n",
      "Yellow red cards      int64\n",
      "Red cards             int64\n",
      "Substitutions on      int64\n",
      "Substitutions off     int64\n",
      "dtype: object\n"
     ]
    }
   ],
   "source": [
    "#Show the data types of columns\n",
    "print(df.dtypes)"
   ]
  },
  {
   "cell_type": "code",
   "execution_count": 9,
   "metadata": {
    "pycharm": {
     "name": "#%%\n"
    }
   },
   "outputs": [
    {
     "name": "stdout",
     "output_type": "stream",
     "text": [
      "int64     11\n",
      "object     3\n",
      "Name: count, dtype: int64\n"
     ]
    }
   ],
   "source": [
    "#Count the data types of columns\n",
    "print(df.dtypes.value_counts())"
   ]
  },
  {
   "cell_type": "code",
   "execution_count": 10,
   "metadata": {},
   "outputs": [
    {
     "name": "stdout",
     "output_type": "stream",
     "text": [
      "Age\n",
      "24    73\n",
      "25    55\n",
      "23    51\n",
      "26    48\n",
      "28    45\n",
      "27    44\n",
      "22    41\n",
      "21    33\n",
      "29    30\n",
      "30    26\n",
      "20    19\n",
      "19     9\n",
      "18     9\n",
      "31     8\n",
      "33     3\n",
      "32     3\n",
      "36     1\n",
      "34     1\n",
      "16     1\n",
      "Name: count, dtype: int64\n"
     ]
    }
   ],
   "source": [
    "#Count the age of the players\n",
    "print(df['Age'].value_counts())"
   ]
  },
  {
   "cell_type": "code",
   "execution_count": 12,
   "metadata": {},
   "outputs": [
    {
     "name": "stdout",
     "output_type": "stream",
     "text": [
      "64     Robert Lewandowski\n",
      "336         Karim Benzema\n",
      "464        Ángel Di María\n",
      "Name: Player, dtype: object\n"
     ]
    }
   ],
   "source": [
    "#Show all players with age 36\n",
    "print(df[df['Age']==33]['Player'])"
   ]
  },
  {
   "cell_type": "code",
   "execution_count": 13,
   "metadata": {
    "pycharm": {
     "name": "#%%\n"
    }
   },
   "outputs": [
    {
     "name": "stdout",
     "output_type": "stream",
     "text": [
      "<class 'pandas.core.frame.DataFrame'>\n",
      "RangeIndex: 500 entries, 0 to 499\n",
      "Data columns (total 14 columns):\n",
      " #   Column             Non-Null Count  Dtype \n",
      "---  ------             --------------  ----- \n",
      " 0   #                  500 non-null    int64 \n",
      " 1   Player             500 non-null    object\n",
      " 2   Position           500 non-null    object\n",
      " 3   Age                500 non-null    int64 \n",
      " 4   Market value       500 non-null    object\n",
      " 5   Matches            500 non-null    int64 \n",
      " 6   Goals              500 non-null    int64 \n",
      " 7   Own goals          500 non-null    int64 \n",
      " 8   Assists            500 non-null    int64 \n",
      " 9   Yellow cards       500 non-null    int64 \n",
      " 10  Yellow red cards   500 non-null    int64 \n",
      " 11  Red cards          500 non-null    int64 \n",
      " 12  Substitutions on   500 non-null    int64 \n",
      " 13  Substitutions off  500 non-null    int64 \n",
      "dtypes: int64(11), object(3)\n",
      "memory usage: 54.8+ KB\n"
     ]
    }
   ],
   "source": [
    "#Show the most important informations of the dataframe\n",
    "df.info()"
   ]
  },
  {
   "cell_type": "code",
   "execution_count": 14,
   "metadata": {
    "pycharm": {
     "name": "#%%\n"
    }
   },
   "outputs": [
    {
     "data": {
      "text/html": [
       "<div>\n",
       "<style scoped>\n",
       "    .dataframe tbody tr th:only-of-type {\n",
       "        vertical-align: middle;\n",
       "    }\n",
       "\n",
       "    .dataframe tbody tr th {\n",
       "        vertical-align: top;\n",
       "    }\n",
       "\n",
       "    .dataframe thead th {\n",
       "        text-align: right;\n",
       "    }\n",
       "</style>\n",
       "<table border=\"1\" class=\"dataframe\">\n",
       "  <thead>\n",
       "    <tr style=\"text-align: right;\">\n",
       "      <th></th>\n",
       "      <th>#</th>\n",
       "      <th>Age</th>\n",
       "      <th>Matches</th>\n",
       "      <th>Goals</th>\n",
       "      <th>Own goals</th>\n",
       "      <th>Assists</th>\n",
       "      <th>Yellow cards</th>\n",
       "      <th>Yellow red cards</th>\n",
       "      <th>Red cards</th>\n",
       "      <th>Substitutions on</th>\n",
       "      <th>Substitutions off</th>\n",
       "    </tr>\n",
       "  </thead>\n",
       "  <tbody>\n",
       "    <tr>\n",
       "      <th>count</th>\n",
       "      <td>500.000000</td>\n",
       "      <td>500.000000</td>\n",
       "      <td>500.00000</td>\n",
       "      <td>500.000000</td>\n",
       "      <td>500.000000</td>\n",
       "      <td>500.000000</td>\n",
       "      <td>500.000000</td>\n",
       "      <td>500.000000</td>\n",
       "      <td>500.00000</td>\n",
       "      <td>500.000000</td>\n",
       "      <td>500.000000</td>\n",
       "    </tr>\n",
       "    <tr>\n",
       "      <th>mean</th>\n",
       "      <td>250.500000</td>\n",
       "      <td>24.966000</td>\n",
       "      <td>7.62600</td>\n",
       "      <td>1.316000</td>\n",
       "      <td>0.012000</td>\n",
       "      <td>0.910000</td>\n",
       "      <td>0.966000</td>\n",
       "      <td>0.026000</td>\n",
       "      <td>0.02200</td>\n",
       "      <td>1.426000</td>\n",
       "      <td>2.352000</td>\n",
       "    </tr>\n",
       "    <tr>\n",
       "      <th>std</th>\n",
       "      <td>144.481833</td>\n",
       "      <td>3.191428</td>\n",
       "      <td>3.12885</td>\n",
       "      <td>1.976856</td>\n",
       "      <td>0.108994</td>\n",
       "      <td>1.274814</td>\n",
       "      <td>1.052168</td>\n",
       "      <td>0.159295</td>\n",
       "      <td>0.14683</td>\n",
       "      <td>1.740858</td>\n",
       "      <td>2.286165</td>\n",
       "    </tr>\n",
       "    <tr>\n",
       "      <th>min</th>\n",
       "      <td>1.000000</td>\n",
       "      <td>16.000000</td>\n",
       "      <td>0.00000</td>\n",
       "      <td>0.000000</td>\n",
       "      <td>0.000000</td>\n",
       "      <td>0.000000</td>\n",
       "      <td>0.000000</td>\n",
       "      <td>0.000000</td>\n",
       "      <td>0.00000</td>\n",
       "      <td>0.000000</td>\n",
       "      <td>0.000000</td>\n",
       "    </tr>\n",
       "    <tr>\n",
       "      <th>25%</th>\n",
       "      <td>125.750000</td>\n",
       "      <td>23.000000</td>\n",
       "      <td>6.00000</td>\n",
       "      <td>0.000000</td>\n",
       "      <td>0.000000</td>\n",
       "      <td>0.000000</td>\n",
       "      <td>0.000000</td>\n",
       "      <td>0.000000</td>\n",
       "      <td>0.00000</td>\n",
       "      <td>0.000000</td>\n",
       "      <td>0.000000</td>\n",
       "    </tr>\n",
       "    <tr>\n",
       "      <th>50%</th>\n",
       "      <td>250.500000</td>\n",
       "      <td>25.000000</td>\n",
       "      <td>8.00000</td>\n",
       "      <td>1.000000</td>\n",
       "      <td>0.000000</td>\n",
       "      <td>0.000000</td>\n",
       "      <td>1.000000</td>\n",
       "      <td>0.000000</td>\n",
       "      <td>0.00000</td>\n",
       "      <td>1.000000</td>\n",
       "      <td>2.000000</td>\n",
       "    </tr>\n",
       "    <tr>\n",
       "      <th>75%</th>\n",
       "      <td>375.250000</td>\n",
       "      <td>27.000000</td>\n",
       "      <td>10.00000</td>\n",
       "      <td>2.000000</td>\n",
       "      <td>0.000000</td>\n",
       "      <td>1.000000</td>\n",
       "      <td>1.000000</td>\n",
       "      <td>0.000000</td>\n",
       "      <td>0.00000</td>\n",
       "      <td>2.000000</td>\n",
       "      <td>4.000000</td>\n",
       "    </tr>\n",
       "    <tr>\n",
       "      <th>max</th>\n",
       "      <td>500.000000</td>\n",
       "      <td>36.000000</td>\n",
       "      <td>17.00000</td>\n",
       "      <td>13.000000</td>\n",
       "      <td>1.000000</td>\n",
       "      <td>7.000000</td>\n",
       "      <td>6.000000</td>\n",
       "      <td>1.000000</td>\n",
       "      <td>1.00000</td>\n",
       "      <td>9.000000</td>\n",
       "      <td>15.000000</td>\n",
       "    </tr>\n",
       "  </tbody>\n",
       "</table>\n",
       "</div>"
      ],
      "text/plain": [
       "                #         Age    Matches       Goals   Own goals     Assists  \\\n",
       "count  500.000000  500.000000  500.00000  500.000000  500.000000  500.000000   \n",
       "mean   250.500000   24.966000    7.62600    1.316000    0.012000    0.910000   \n",
       "std    144.481833    3.191428    3.12885    1.976856    0.108994    1.274814   \n",
       "min      1.000000   16.000000    0.00000    0.000000    0.000000    0.000000   \n",
       "25%    125.750000   23.000000    6.00000    0.000000    0.000000    0.000000   \n",
       "50%    250.500000   25.000000    8.00000    1.000000    0.000000    0.000000   \n",
       "75%    375.250000   27.000000   10.00000    2.000000    0.000000    1.000000   \n",
       "max    500.000000   36.000000   17.00000   13.000000    1.000000    7.000000   \n",
       "\n",
       "       Yellow cards  Yellow red cards  Red cards  Substitutions on  \\\n",
       "count    500.000000        500.000000  500.00000        500.000000   \n",
       "mean       0.966000          0.026000    0.02200          1.426000   \n",
       "std        1.052168          0.159295    0.14683          1.740858   \n",
       "min        0.000000          0.000000    0.00000          0.000000   \n",
       "25%        0.000000          0.000000    0.00000          0.000000   \n",
       "50%        1.000000          0.000000    0.00000          1.000000   \n",
       "75%        1.000000          0.000000    0.00000          2.000000   \n",
       "max        6.000000          1.000000    1.00000          9.000000   \n",
       "\n",
       "       Substitutions off  \n",
       "count         500.000000  \n",
       "mean            2.352000  \n",
       "std             2.286165  \n",
       "min             0.000000  \n",
       "25%             0.000000  \n",
       "50%             2.000000  \n",
       "75%             4.000000  \n",
       "max            15.000000  "
      ]
     },
     "execution_count": 14,
     "metadata": {},
     "output_type": "execute_result"
    }
   ],
   "source": [
    "#Show the most important statistics of the dataframe\n",
    "df.describe()"
   ]
  },
  {
   "cell_type": "markdown",
   "metadata": {},
   "source": [
    "<span style=\"color:blue\"><b>Task:</b></span> Replicate df.disscribe! Hint: Use numpy to calcalate the statistical measures. "
   ]
  },
  {
   "cell_type": "code",
   "execution_count": 18,
   "metadata": {},
   "outputs": [
    {
     "data": {
      "text/html": [
       "<div>\n",
       "<style scoped>\n",
       "    .dataframe tbody tr th:only-of-type {\n",
       "        vertical-align: middle;\n",
       "    }\n",
       "\n",
       "    .dataframe tbody tr th {\n",
       "        vertical-align: top;\n",
       "    }\n",
       "\n",
       "    .dataframe thead th {\n",
       "        text-align: right;\n",
       "    }\n",
       "</style>\n",
       "<table border=\"1\" class=\"dataframe\">\n",
       "  <thead>\n",
       "    <tr style=\"text-align: right;\">\n",
       "      <th></th>\n",
       "      <th>#</th>\n",
       "      <th>Age</th>\n",
       "      <th>Matches</th>\n",
       "      <th>Goals</th>\n",
       "      <th>Own goals</th>\n",
       "      <th>Assists</th>\n",
       "      <th>Yellow cards</th>\n",
       "      <th>Yellow red cards</th>\n",
       "      <th>Red cards</th>\n",
       "      <th>Substitutions on</th>\n",
       "      <th>Substitutions off</th>\n",
       "    </tr>\n",
       "  </thead>\n",
       "  <tbody>\n",
       "    <tr>\n",
       "      <th>count</th>\n",
       "      <td>500.000000</td>\n",
       "      <td>500.000000</td>\n",
       "      <td>500.00000</td>\n",
       "      <td>500.000000</td>\n",
       "      <td>500.000000</td>\n",
       "      <td>500.000000</td>\n",
       "      <td>500.000000</td>\n",
       "      <td>500.000000</td>\n",
       "      <td>500.00000</td>\n",
       "      <td>500.000000</td>\n",
       "      <td>500.000000</td>\n",
       "    </tr>\n",
       "    <tr>\n",
       "      <th>mean</th>\n",
       "      <td>250.500000</td>\n",
       "      <td>24.966000</td>\n",
       "      <td>7.62600</td>\n",
       "      <td>1.316000</td>\n",
       "      <td>0.012000</td>\n",
       "      <td>0.910000</td>\n",
       "      <td>0.966000</td>\n",
       "      <td>0.026000</td>\n",
       "      <td>0.02200</td>\n",
       "      <td>1.426000</td>\n",
       "      <td>2.352000</td>\n",
       "    </tr>\n",
       "    <tr>\n",
       "      <th>std</th>\n",
       "      <td>144.481833</td>\n",
       "      <td>3.191428</td>\n",
       "      <td>3.12885</td>\n",
       "      <td>1.976856</td>\n",
       "      <td>0.108994</td>\n",
       "      <td>1.274814</td>\n",
       "      <td>1.052168</td>\n",
       "      <td>0.159295</td>\n",
       "      <td>0.14683</td>\n",
       "      <td>1.740858</td>\n",
       "      <td>2.286165</td>\n",
       "    </tr>\n",
       "    <tr>\n",
       "      <th>min</th>\n",
       "      <td>1.000000</td>\n",
       "      <td>16.000000</td>\n",
       "      <td>0.00000</td>\n",
       "      <td>0.000000</td>\n",
       "      <td>0.000000</td>\n",
       "      <td>0.000000</td>\n",
       "      <td>0.000000</td>\n",
       "      <td>0.000000</td>\n",
       "      <td>0.00000</td>\n",
       "      <td>0.000000</td>\n",
       "      <td>0.000000</td>\n",
       "    </tr>\n",
       "    <tr>\n",
       "      <th>25%</th>\n",
       "      <td>125.750000</td>\n",
       "      <td>23.000000</td>\n",
       "      <td>6.00000</td>\n",
       "      <td>0.000000</td>\n",
       "      <td>0.000000</td>\n",
       "      <td>0.000000</td>\n",
       "      <td>0.000000</td>\n",
       "      <td>0.000000</td>\n",
       "      <td>0.00000</td>\n",
       "      <td>0.000000</td>\n",
       "      <td>0.000000</td>\n",
       "    </tr>\n",
       "    <tr>\n",
       "      <th>50%</th>\n",
       "      <td>250.500000</td>\n",
       "      <td>25.000000</td>\n",
       "      <td>8.00000</td>\n",
       "      <td>1.000000</td>\n",
       "      <td>0.000000</td>\n",
       "      <td>0.000000</td>\n",
       "      <td>1.000000</td>\n",
       "      <td>0.000000</td>\n",
       "      <td>0.00000</td>\n",
       "      <td>1.000000</td>\n",
       "      <td>2.000000</td>\n",
       "    </tr>\n",
       "    <tr>\n",
       "      <th>75%</th>\n",
       "      <td>375.250000</td>\n",
       "      <td>27.000000</td>\n",
       "      <td>10.00000</td>\n",
       "      <td>2.000000</td>\n",
       "      <td>0.000000</td>\n",
       "      <td>1.000000</td>\n",
       "      <td>1.000000</td>\n",
       "      <td>0.000000</td>\n",
       "      <td>0.00000</td>\n",
       "      <td>2.000000</td>\n",
       "      <td>4.000000</td>\n",
       "    </tr>\n",
       "    <tr>\n",
       "      <th>max</th>\n",
       "      <td>500.000000</td>\n",
       "      <td>36.000000</td>\n",
       "      <td>17.00000</td>\n",
       "      <td>13.000000</td>\n",
       "      <td>1.000000</td>\n",
       "      <td>7.000000</td>\n",
       "      <td>6.000000</td>\n",
       "      <td>1.000000</td>\n",
       "      <td>1.00000</td>\n",
       "      <td>9.000000</td>\n",
       "      <td>15.000000</td>\n",
       "    </tr>\n",
       "  </tbody>\n",
       "</table>\n",
       "</div>"
      ],
      "text/plain": [
       "                #         Age    Matches       Goals   Own goals     Assists  \\\n",
       "count  500.000000  500.000000  500.00000  500.000000  500.000000  500.000000   \n",
       "mean   250.500000   24.966000    7.62600    1.316000    0.012000    0.910000   \n",
       "std    144.481833    3.191428    3.12885    1.976856    0.108994    1.274814   \n",
       "min      1.000000   16.000000    0.00000    0.000000    0.000000    0.000000   \n",
       "25%    125.750000   23.000000    6.00000    0.000000    0.000000    0.000000   \n",
       "50%    250.500000   25.000000    8.00000    1.000000    0.000000    0.000000   \n",
       "75%    375.250000   27.000000   10.00000    2.000000    0.000000    1.000000   \n",
       "max    500.000000   36.000000   17.00000   13.000000    1.000000    7.000000   \n",
       "\n",
       "       Yellow cards  Yellow red cards  Red cards  Substitutions on  \\\n",
       "count    500.000000        500.000000  500.00000        500.000000   \n",
       "mean       0.966000          0.026000    0.02200          1.426000   \n",
       "std        1.052168          0.159295    0.14683          1.740858   \n",
       "min        0.000000          0.000000    0.00000          0.000000   \n",
       "25%        0.000000          0.000000    0.00000          0.000000   \n",
       "50%        1.000000          0.000000    0.00000          1.000000   \n",
       "75%        1.000000          0.000000    0.00000          2.000000   \n",
       "max        6.000000          1.000000    1.00000          9.000000   \n",
       "\n",
       "       Substitutions off  \n",
       "count         500.000000  \n",
       "mean            2.352000  \n",
       "std             2.286165  \n",
       "min             0.000000  \n",
       "25%             0.000000  \n",
       "50%             2.000000  \n",
       "75%             4.000000  \n",
       "max            15.000000  "
      ]
     },
     "execution_count": 18,
     "metadata": {},
     "output_type": "execute_result"
    }
   ],
   "source": [
    "df_discribe=pd.DataFrame()\n",
    "\n",
    "# Iterate over the columns\n",
    "for col in df.columns[df.dtypes=='int64']:\n",
    "    c=df[col]\n",
    "    df_discribe[col]=[c.count(),\n",
    "                      c.mean(),\n",
    "                      c.std(),\n",
    "                      c.min(),\n",
    "                      c.quantile(0.25),\n",
    "                      c.quantile(0.5),\n",
    "                      c.quantile(0.75),\n",
    "                      c.max()]\n",
    "\n",
    "df_discribe.index=['count', 'mean', 'std', 'min', '25%', '50%', '75%', 'max']\n",
    "df_discribe"
   ]
  },
  {
   "cell_type": "markdown",
   "metadata": {},
   "source": [
    "## Pandas Series Object <a id=series>\n",
    "[Back to Content Overview](#ov)\n",
    "\n",
    "Every column of a dataframe is a Pandas Series Object."
   ]
  },
  {
   "cell_type": "code",
   "execution_count": 19,
   "metadata": {
    "pycharm": {
     "name": "#%%\n"
    }
   },
   "outputs": [
    {
     "name": "stdout",
     "output_type": "stream",
     "text": [
      "0      22\n",
      "1      21\n",
      "2      28\n",
      "3      26\n",
      "4      29\n",
      "       ..\n",
      "495    23\n",
      "496    27\n",
      "497    26\n",
      "498    23\n",
      "499    27\n",
      "Name: Age, Length: 500, dtype: int64\n"
     ]
    }
   ],
   "source": [
    "print(df['Age'])"
   ]
  },
  {
   "cell_type": "code",
   "execution_count": 21,
   "metadata": {
    "pycharm": {
     "name": "#%%\n"
    }
   },
   "outputs": [
    {
     "name": "stdout",
     "output_type": "stream",
     "text": [
      "<class 'pandas.core.series.Series'>\n"
     ]
    }
   ],
   "source": [
    "print(type(df['Age']))"
   ]
  },
  {
   "cell_type": "markdown",
   "metadata": {},
   "source": [
    "You can also define them manually:"
   ]
  },
  {
   "cell_type": "code",
   "execution_count": 22,
   "metadata": {
    "pycharm": {
     "name": "#%%\n"
    }
   },
   "outputs": [
    {
     "name": "stdout",
     "output_type": "stream",
     "text": [
      "0      3\n",
      "1      4\n",
      "2      5\n",
      "3      6\n",
      "4      7\n",
      "5      8\n",
      "6      9\n",
      "7     10\n",
      "8     11\n",
      "9     12\n",
      "10    13\n",
      "11    14\n",
      "12    15\n",
      "dtype: int64\n"
     ]
    }
   ],
   "source": [
    "test_series = pd.Series(range(3,16))\n",
    "print(test_series)"
   ]
  },
  {
   "cell_type": "code",
   "execution_count": 23,
   "metadata": {
    "pycharm": {
     "name": "#%%\n"
    }
   },
   "outputs": [
    {
     "name": "stdout",
     "output_type": "stream",
     "text": [
      "0      3\n",
      "1      4\n",
      "2      5\n",
      "3      6\n",
      "4      7\n",
      "5      8\n",
      "6      9\n",
      "7     10\n",
      "8     11\n",
      "9     12\n",
      "10    13\n",
      "11    14\n",
      "12    15\n",
      "Name: Magic Series, dtype: int64\n"
     ]
    }
   ],
   "source": [
    "# You also give them a name:\n",
    "test_series.name = 'Magic Series'\n",
    "print(test_series)"
   ]
  },
  {
   "cell_type": "markdown",
   "metadata": {},
   "source": [
    "Series have some specifc functions ..."
   ]
  },
  {
   "cell_type": "code",
   "execution_count": 24,
   "metadata": {
    "pycharm": {
     "name": "#%%\n"
    }
   },
   "outputs": [
    {
     "name": "stdout",
     "output_type": "stream",
     "text": [
      "117\n",
      "9.0\n",
      "Magic Series\n",
      "3     1\n",
      "4     1\n",
      "5     1\n",
      "6     1\n",
      "7     1\n",
      "8     1\n",
      "9     1\n",
      "10    1\n",
      "11    1\n",
      "12    1\n",
      "13    1\n",
      "14    1\n",
      "15    1\n",
      "Name: count, dtype: int64\n"
     ]
    }
   ],
   "source": [
    "print(test_series.sum())\n",
    "print(test_series.mean())\n",
    "print(test_series.value_counts())"
   ]
  },
  {
   "cell_type": "markdown",
   "metadata": {},
   "source": [
    "... but you can also tread them as numpy vectors and apply every numpy function on them:"
   ]
  },
  {
   "cell_type": "code",
   "execution_count": 27,
   "metadata": {
    "pycharm": {
     "name": "#%%\n"
    }
   },
   "outputs": [
    {
     "name": "stdout",
     "output_type": "stream",
     "text": [
      "117\n",
      "110\n"
     ]
    }
   ],
   "source": [
    "print(np.sum(test_series))\n",
    "print(np.sum(test_series[test_series**2>20]))"
   ]
  },
  {
   "cell_type": "code",
   "execution_count": 28,
   "metadata": {
    "pycharm": {
     "name": "#%%\n"
    }
   },
   "outputs": [
    {
     "name": "stdout",
     "output_type": "stream",
     "text": [
      "    #           Player            Position  Age Market value  Matches  Goals  \\\n",
      "0   1    Kylian Mbappé      Centre-Forward   22    €160.00m        11      4   \n",
      "1   2   Erling Haaland      Centre-Forward   21    €150.00m         8     11   \n",
      "2   3       Harry Kane      Centre-Forward   28    €120.00m        10      6   \n",
      "3   4    Jack Grealish         Left Winger   26    €100.00m        10      2   \n",
      "4   5    Mohamed Salah        Right Winger   29    €100.00m         9      9   \n",
      "5   6    Romelu Lukaku      Centre-Forward   28    €100.00m         9      4   \n",
      "6   7  Kevin De Bruyne  Attacking Midfield   30    €100.00m         7      2   \n",
      "7   8           Neymar         Left Winger   29    €100.00m         7      1   \n",
      "8   9     Jadon Sancho         Left Winger   21     €90.00m         9      0   \n",
      "9  10  Frenkie de Jong    Central Midfield   24     €90.00m         8      0   \n",
      "\n",
      "   Own goals  Assists  Yellow cards  Yellow red cards  Red cards  \\\n",
      "0          0        5             2                 0          0   \n",
      "1          0        4             1                 0          0   \n",
      "2          0        0             2                 0          0   \n",
      "3          0        2             1                 0          0   \n",
      "4          0        3             1                 0          0   \n",
      "5          0        0             0                 0          0   \n",
      "6          0        0             1                 0          0   \n",
      "7          0        2             1                 0          0   \n",
      "8          0        0             0                 0          0   \n",
      "9          0        2             0                 1          0   \n",
      "\n",
      "   Substitutions on  Substitutions off  Scorer Points  \n",
      "0                 0                  5              9  \n",
      "1                 0                  1             15  \n",
      "2                 2                  2              6  \n",
      "3                 1                  5              4  \n",
      "4                 0                  2             12  \n",
      "5                 1                  0              4  \n",
      "6                 2                  2              2  \n",
      "7                 0                  2              3  \n",
      "8                 4                  4              0  \n",
      "9                 0                  1              2  \n"
     ]
    }
   ],
   "source": [
    "# Add the new column to the dataframe\n",
    "df['Scorer Points']=df['Goals']+df['Assists']\n",
    "print(df.head(10))"
   ]
  },
  {
   "cell_type": "markdown",
   "metadata": {},
   "source": [
    "<span style=\"color:blue\"><b>Task:</b></span> Add a new column with goals per game to the df!"
   ]
  },
  {
   "cell_type": "code",
   "execution_count": 29,
   "metadata": {},
   "outputs": [],
   "source": [
    "df['goals_per_game']=df['Goals']/df['Matches']"
   ]
  },
  {
   "cell_type": "code",
   "execution_count": 30,
   "metadata": {},
   "outputs": [],
   "source": [
    "df['goals_per_game']=np.where(df['Matches']==0,0,df['Goals']/df['Matches'])"
   ]
  },
  {
   "cell_type": "markdown",
   "metadata": {
    "pycharm": {
     "name": "#%% md\n"
    }
   },
   "source": [
    "You can also apply list comprehensions on series objects:"
   ]
  },
  {
   "cell_type": "code",
   "execution_count": 31,
   "metadata": {
    "pycharm": {
     "name": "#%%\n"
    }
   },
   "outputs": [
    {
     "name": "stdout",
     "output_type": "stream",
     "text": [
      "0        Mbappé\n",
      "1       Haaland\n",
      "2          Kane\n",
      "3      Grealish\n",
      "4         Salah\n",
      "         ...   \n",
      "495      Davies\n",
      "496    Hateboer\n",
      "497        Raya\n",
      "498       Kobel\n",
      "499     Barrios\n",
      "Name: Last Name, Length: 500, dtype: object\n"
     ]
    }
   ],
   "source": [
    "df['Last Name']= [name.split(' ')[-1] for name in df['Player']]\n",
    "print(df['Last Name'])"
   ]
  },
  {
   "cell_type": "markdown",
   "metadata": {},
   "source": [
    "<span style=\"color:blue\"><b>Task:</b></span> Convert the market value to a type float:"
   ]
  },
  {
   "cell_type": "code",
   "execution_count": 35,
   "metadata": {},
   "outputs": [
    {
     "name": "stdout",
     "output_type": "stream",
     "text": [
      "0      160.0\n",
      "1      150.0\n",
      "2      120.0\n",
      "3      100.0\n",
      "4      100.0\n",
      "       ...  \n",
      "495     18.0\n",
      "496     18.0\n",
      "497     18.0\n",
      "498     18.0\n",
      "499     18.0\n",
      "Name: Market value, Length: 500, dtype: float64\n"
     ]
    }
   ],
   "source": [
    "df['Market value']=[float(str(value).replace('€','').replace('m','').replace('\\xa0','')) for value in df['Market value']]\n",
    "print(df['Market value'])"
   ]
  },
  {
   "cell_type": "markdown",
   "metadata": {
    "pycharm": {
     "name": "#%% md\n"
    }
   },
   "source": [
    "## Indexing and filtering <a id=filter>\n",
    "[Back to Content Overview](#ov)"
   ]
  },
  {
   "cell_type": "code",
   "execution_count": 39,
   "metadata": {
    "pycharm": {
     "name": "#%%\n"
    }
   },
   "outputs": [
    {
     "name": "stdout",
     "output_type": "stream",
     "text": [
      "                  #          Player            Position  Age  Market value  \\\n",
      "Player                                                                       \n",
      "Kylian Mbappé     1   Kylian Mbappé      Centre-Forward   22         160.0   \n",
      "Erling Haaland    2  Erling Haaland      Centre-Forward   21         150.0   \n",
      "Harry Kane        3      Harry Kane      Centre-Forward   28         120.0   \n",
      "Jack Grealish     4   Jack Grealish         Left Winger   26         100.0   \n",
      "Mohamed Salah     5   Mohamed Salah        Right Winger   29         100.0   \n",
      "...             ...             ...                 ...  ...           ...   \n",
      "Tom Davies      496      Tom Davies    Central Midfield   23          18.0   \n",
      "Hans Hateboer   497   Hans Hateboer          Right-Back   27          18.0   \n",
      "David Raya      498      David Raya          Goalkeeper   26          18.0   \n",
      "Gregor Kobel    499    Gregor Kobel          Goalkeeper   23          18.0   \n",
      "Wilmar Barrios  500  Wilmar Barrios  Defensive Midfield   27          18.0   \n",
      "\n",
      "                Matches  Goals  Own goals  Assists  Yellow cards  \\\n",
      "Player                                                             \n",
      "Kylian Mbappé        11      4          0        5             2   \n",
      "Erling Haaland        8     11          0        4             1   \n",
      "Harry Kane           10      6          0        0             2   \n",
      "Jack Grealish        10      2          0        2             1   \n",
      "Mohamed Salah         9      9          0        3             1   \n",
      "...                 ...    ...        ...      ...           ...   \n",
      "Tom Davies            5      0          0        1             0   \n",
      "Hans Hateboer         0      0          0        0             0   \n",
      "David Raya            7      0          0        0             0   \n",
      "Gregor Kobel         12      0          0        0             0   \n",
      "Wilmar Barrios       10      0          0        0             0   \n",
      "\n",
      "                Yellow red cards  Red cards  Substitutions on  \\\n",
      "Player                                                          \n",
      "Kylian Mbappé                  0          0                 0   \n",
      "Erling Haaland                 0          0                 0   \n",
      "Harry Kane                     0          0                 2   \n",
      "Jack Grealish                  0          0                 1   \n",
      "Mohamed Salah                  0          0                 0   \n",
      "...                          ...        ...               ...   \n",
      "Tom Davies                     0          0                 3   \n",
      "Hans Hateboer                  0          0                 0   \n",
      "David Raya                     0          0                 0   \n",
      "Gregor Kobel                   0          0                 0   \n",
      "Wilmar Barrios                 0          0                 0   \n",
      "\n",
      "                Substitutions off  Scorer Points  goals_per_game Last Name  \n",
      "Player                                                                      \n",
      "Kylian Mbappé                   5              9        0.363636    Mbappé  \n",
      "Erling Haaland                  1             15        1.375000   Haaland  \n",
      "Harry Kane                      2              6        0.600000      Kane  \n",
      "Jack Grealish                   5              4        0.200000  Grealish  \n",
      "Mohamed Salah                   2             12        1.000000     Salah  \n",
      "...                           ...            ...             ...       ...  \n",
      "Tom Davies                      1              1        0.000000    Davies  \n",
      "Hans Hateboer                   0              0        0.000000  Hateboer  \n",
      "David Raya                      0              0        0.000000      Raya  \n",
      "Gregor Kobel                    0              0        0.000000     Kobel  \n",
      "Wilmar Barrios                  2              0        0.000000   Barrios  \n",
      "\n",
      "[500 rows x 17 columns]\n"
     ]
    }
   ],
   "source": [
    "df.index=df['Player']\n",
    "print(df)"
   ]
  },
  {
   "cell_type": "markdown",
   "metadata": {},
   "source": [
    "<span style=\"color:blue\"><b>Task:</b></span> Restore the old index."
   ]
  },
  {
   "cell_type": "code",
   "execution_count": 38,
   "metadata": {},
   "outputs": [
    {
     "name": "stdout",
     "output_type": "stream",
     "text": [
      "       #          Player            Position  Age  Market value  Matches  \\\n",
      "0      1   Kylian Mbappé      Centre-Forward   22         160.0       11   \n",
      "1      2  Erling Haaland      Centre-Forward   21         150.0        8   \n",
      "2      3      Harry Kane      Centre-Forward   28         120.0       10   \n",
      "3      4   Jack Grealish         Left Winger   26         100.0       10   \n",
      "4      5   Mohamed Salah        Right Winger   29         100.0        9   \n",
      "..   ...             ...                 ...  ...           ...      ...   \n",
      "495  496      Tom Davies    Central Midfield   23          18.0        5   \n",
      "496  497   Hans Hateboer          Right-Back   27          18.0        0   \n",
      "497  498      David Raya          Goalkeeper   26          18.0        7   \n",
      "498  499    Gregor Kobel          Goalkeeper   23          18.0       12   \n",
      "499  500  Wilmar Barrios  Defensive Midfield   27          18.0       10   \n",
      "\n",
      "     Goals  Own goals  Assists  Yellow cards  Yellow red cards  Red cards  \\\n",
      "0        4          0        5             2                 0          0   \n",
      "1       11          0        4             1                 0          0   \n",
      "2        6          0        0             2                 0          0   \n",
      "3        2          0        2             1                 0          0   \n",
      "4        9          0        3             1                 0          0   \n",
      "..     ...        ...      ...           ...               ...        ...   \n",
      "495      0          0        1             0                 0          0   \n",
      "496      0          0        0             0                 0          0   \n",
      "497      0          0        0             0                 0          0   \n",
      "498      0          0        0             0                 0          0   \n",
      "499      0          0        0             0                 0          0   \n",
      "\n",
      "     Substitutions on  Substitutions off  Scorer Points  goals_per_game  \\\n",
      "0                   0                  5              9        0.363636   \n",
      "1                   0                  1             15        1.375000   \n",
      "2                   2                  2              6        0.600000   \n",
      "3                   1                  5              4        0.200000   \n",
      "4                   0                  2             12        1.000000   \n",
      "..                ...                ...            ...             ...   \n",
      "495                 3                  1              1        0.000000   \n",
      "496                 0                  0              0        0.000000   \n",
      "497                 0                  0              0        0.000000   \n",
      "498                 0                  0              0        0.000000   \n",
      "499                 0                  2              0        0.000000   \n",
      "\n",
      "    Last Name  \n",
      "0      Mbappé  \n",
      "1     Haaland  \n",
      "2        Kane  \n",
      "3    Grealish  \n",
      "4       Salah  \n",
      "..        ...  \n",
      "495    Davies  \n",
      "496  Hateboer  \n",
      "497      Raya  \n",
      "498     Kobel  \n",
      "499   Barrios  \n",
      "\n",
      "[500 rows x 17 columns]\n"
     ]
    }
   ],
   "source": [
    "df.index=range(len(df))\n",
    "print(df)"
   ]
  },
  {
   "cell_type": "code",
   "execution_count": 42,
   "metadata": {
    "pycharm": {
     "name": "#%%\n"
    }
   },
   "outputs": [
    {
     "name": "stdout",
     "output_type": "stream",
     "text": [
      "Grealish\n"
     ]
    },
    {
     "name": "stderr",
     "output_type": "stream",
     "text": [
      "C:\\Users\\myfix\\AppData\\Local\\Temp\\ipykernel_29196\\2292259755.py:4: FutureWarning: Series.__getitem__ treating keys as positions is deprecated. In a future version, integer keys will always be treated as labels (consistent with DataFrame behavior). To access a value by position, use `ser.iloc[pos]`\n",
      "  print(df['Last Name'][3])\n"
     ]
    }
   ],
   "source": [
    "# Query Columns with brackets and Column Name\n",
    "#print(df['Last Name'])\n",
    "# Query a element with  Column Name and vector index\n",
    "print(df['Last Name'][3])"
   ]
  },
  {
   "cell_type": "markdown",
   "metadata": {
    "pycharm": {
     "name": "#%% md\n"
    }
   },
   "source": [
    "### loc\n",
    "Use loc to get elements with their row and column names:"
   ]
  },
  {
   "cell_type": "code",
   "execution_count": 43,
   "metadata": {
    "pycharm": {
     "name": "#%%\n"
    }
   },
   "outputs": [
    {
     "data": {
      "text/plain": [
       "#                                5\n",
       "Player               Mohamed Salah\n",
       "Position              Right Winger\n",
       "Age                             29\n",
       "Market value                 100.0\n",
       "Matches                          9\n",
       "Goals                            9\n",
       "Own goals                        0\n",
       "Assists                          3\n",
       "Yellow cards                     1\n",
       "Yellow red cards                 0\n",
       "Red cards                        0\n",
       "Substitutions on                 0\n",
       "Substitutions off                2\n",
       "Scorer Points                   12\n",
       "goals_per_game                 1.0\n",
       "Last Name                    Salah\n",
       "Name: Mohamed Salah, dtype: object"
      ]
     },
     "execution_count": 43,
     "metadata": {},
     "output_type": "execute_result"
    }
   ],
   "source": [
    "# Get values for Salah\n",
    "df.loc['Mohamed Salah',:]"
   ]
  },
  {
   "cell_type": "markdown",
   "metadata": {},
   "source": [
    "<span style=\"color:blue\"><b>Task:</b></span> Get Salahs Age:"
   ]
  },
  {
   "cell_type": "code",
   "execution_count": 44,
   "metadata": {},
   "outputs": [
    {
     "data": {
      "text/plain": [
       "29"
      ]
     },
     "execution_count": 44,
     "metadata": {},
     "output_type": "execute_result"
    }
   ],
   "source": [
    "df.loc['Mohamed Salah','Age']"
   ]
  },
  {
   "cell_type": "markdown",
   "metadata": {
    "pycharm": {
     "name": "#%% md\n"
    }
   },
   "source": [
    "### iloc\n",
    "Use iloc to get elements with their row and column indices:"
   ]
  },
  {
   "cell_type": "code",
   "execution_count": 45,
   "metadata": {
    "pycharm": {
     "name": "#%%\n"
    }
   },
   "outputs": [
    {
     "data": {
      "text/plain": [
       "#                                 1\n",
       "Player                Kylian Mbappé\n",
       "Position             Centre-Forward\n",
       "Age                              22\n",
       "Market value                  160.0\n",
       "Matches                          11\n",
       "Goals                             4\n",
       "Own goals                         0\n",
       "Assists                           5\n",
       "Yellow cards                      2\n",
       "Yellow red cards                  0\n",
       "Red cards                         0\n",
       "Substitutions on                  0\n",
       "Substitutions off                 5\n",
       "Scorer Points                     9\n",
       "goals_per_game             0.363636\n",
       "Last Name                    Mbappé\n",
       "Name: Kylian Mbappé, dtype: object"
      ]
     },
     "execution_count": 45,
     "metadata": {},
     "output_type": "execute_result"
    }
   ],
   "source": [
    "# Get values for most valuable player\n",
    "df.iloc[0,:]"
   ]
  },
  {
   "cell_type": "markdown",
   "metadata": {},
   "source": [
    "<span style=\"color:blue\"><b>Task:</b></span> Get the last column for the ten most valuable players:"
   ]
  },
  {
   "cell_type": "code",
   "execution_count": 47,
   "metadata": {},
   "outputs": [
    {
     "data": {
      "text/plain": [
       "Player\n",
       "Kylian Mbappé      0.363636\n",
       "Erling Haaland     1.375000\n",
       "Harry Kane         0.600000\n",
       "Jack Grealish      0.200000\n",
       "Mohamed Salah      1.000000\n",
       "Romelu Lukaku      0.444444\n",
       "Kevin De Bruyne    0.285714\n",
       "Neymar             0.142857\n",
       "Jadon Sancho       0.000000\n",
       "Frenkie de Jong    0.000000\n",
       "Name: goals_per_game, dtype: float64"
      ]
     },
     "execution_count": 47,
     "metadata": {},
     "output_type": "execute_result"
    }
   ],
   "source": [
    "df.iloc[:10,-2]"
   ]
  },
  {
   "cell_type": "markdown",
   "metadata": {
    "pycharm": {
     "name": "#%% md\n"
    }
   },
   "source": [
    "### filter\n",
    "\n",
    "You can filter the dataframe with conditions similar to the numpy vectors:"
   ]
  },
  {
   "cell_type": "code",
   "execution_count": 50,
   "metadata": {
    "pycharm": {
     "name": "#%%\n"
    }
   },
   "outputs": [
    {
     "name": "stdout",
     "output_type": "stream",
     "text": [
      "                  #          Player            Position  Age  Market value  \\\n",
      "Player                                                                       \n",
      "Kylian Mbappé     1   Kylian Mbappé      Centre-Forward   22         160.0   \n",
      "Erling Haaland    2  Erling Haaland      Centre-Forward   21         150.0   \n",
      "Harry Kane        3      Harry Kane      Centre-Forward   28         120.0   \n",
      "Jack Grealish     4   Jack Grealish         Left Winger   26         100.0   \n",
      "Mohamed Salah     5   Mohamed Salah        Right Winger   29         100.0   \n",
      "...             ...             ...                 ...  ...           ...   \n",
      "Diego Rossi     495     Diego Rossi         Left Winger   23          18.0   \n",
      "Tom Davies      496      Tom Davies    Central Midfield   23          18.0   \n",
      "David Raya      498      David Raya          Goalkeeper   26          18.0   \n",
      "Gregor Kobel    499    Gregor Kobel          Goalkeeper   23          18.0   \n",
      "Wilmar Barrios  500  Wilmar Barrios  Defensive Midfield   27          18.0   \n",
      "\n",
      "                Matches  Goals  Own goals  Assists  Yellow cards  \\\n",
      "Player                                                             \n",
      "Kylian Mbappé        11      4          0        5             2   \n",
      "Erling Haaland        8     11          0        4             1   \n",
      "Harry Kane           10      6          0        0             2   \n",
      "Jack Grealish        10      2          0        2             1   \n",
      "Mohamed Salah         9      9          0        3             1   \n",
      "...                 ...    ...        ...      ...           ...   \n",
      "Diego Rossi           7      1          0        3             1   \n",
      "Tom Davies            5      0          0        1             0   \n",
      "David Raya            7      0          0        0             0   \n",
      "Gregor Kobel         12      0          0        0             0   \n",
      "Wilmar Barrios       10      0          0        0             0   \n",
      "\n",
      "                Yellow red cards  Red cards  Substitutions on  \\\n",
      "Player                                                          \n",
      "Kylian Mbappé                  0          0                 0   \n",
      "Erling Haaland                 0          0                 0   \n",
      "Harry Kane                     0          0                 2   \n",
      "Jack Grealish                  0          0                 1   \n",
      "Mohamed Salah                  0          0                 0   \n",
      "...                          ...        ...               ...   \n",
      "Diego Rossi                    0          0                 1   \n",
      "Tom Davies                     0          0                 3   \n",
      "David Raya                     0          0                 0   \n",
      "Gregor Kobel                   0          0                 0   \n",
      "Wilmar Barrios                 0          0                 0   \n",
      "\n",
      "                Substitutions off  Scorer Points  goals_per_game Last Name  \n",
      "Player                                                                      \n",
      "Kylian Mbappé                   5              9        0.363636    Mbappé  \n",
      "Erling Haaland                  1             15        1.375000   Haaland  \n",
      "Harry Kane                      2              6        0.600000      Kane  \n",
      "Jack Grealish                   5              4        0.200000  Grealish  \n",
      "Mohamed Salah                   2             12        1.000000     Salah  \n",
      "...                           ...            ...             ...       ...  \n",
      "Diego Rossi                     4              4        0.142857     Rossi  \n",
      "Tom Davies                      1              1        0.000000    Davies  \n",
      "David Raya                      0              0        0.000000      Raya  \n",
      "Gregor Kobel                    0              0        0.000000     Kobel  \n",
      "Wilmar Barrios                  2              0        0.000000   Barrios  \n",
      "\n",
      "[479 rows x 17 columns]\n"
     ]
    }
   ],
   "source": [
    "# Only keep players with had at least one game\n",
    "df_filter=df[df['Matches']>0]\n",
    "print(df_filter)"
   ]
  },
  {
   "cell_type": "code",
   "execution_count": 53,
   "metadata": {
    "pycharm": {
     "name": "#%%\n"
    }
   },
   "outputs": [
    {
     "name": "stdout",
     "output_type": "stream",
     "text": [
      "35\n"
     ]
    }
   ],
   "source": [
    "# Only keep players who are under 25 and have an market values over 50 mio:\n",
    "df['Market value'] = [float(str(value).replace('€','').replace('m','')) for value in df['Market value']]\n",
    "df_filter=df[(df['Age']<25) & (df['Market value']>50)] # use | for or\n",
    "print(len(df_filter))"
   ]
  },
  {
   "cell_type": "markdown",
   "metadata": {},
   "source": [
    "You can also use list comprehensions with booleans to takle more complicated conditions:"
   ]
  },
  {
   "cell_type": "markdown",
   "metadata": {},
   "source": [
    "<span style=\"color:blue\"><b>Task:</b></span> Only keep players with a middle name. (Name consists of more than 2 words.)"
   ]
  },
  {
   "cell_type": "code",
   "execution_count": 56,
   "metadata": {},
   "outputs": [],
   "source": [
    "df[[True if player.count(' ')>1 else False for player in df['Player']]]\n",
    "df_filter=df[[player.count(' ')>1 for player in df['Player']]]"
   ]
  },
  {
   "cell_type": "markdown",
   "metadata": {
    "pycharm": {
     "name": "#%% md\n"
    }
   },
   "source": [
    "Use ``df.drop_duplicates()`` to delete duplicates from your dataset:"
   ]
  },
  {
   "cell_type": "code",
   "execution_count": 59,
   "metadata": {
    "pycharm": {
     "name": "#%%\n"
    }
   },
   "outputs": [
    {
     "name": "stdout",
     "output_type": "stream",
     "text": [
      "                          #                  Player            Position  Age  \\\n",
      "Player                                                                         \n",
      "Kylian Mbappé             1           Kylian Mbappé      Centre-Forward   22   \n",
      "Jack Grealish             4           Jack Grealish         Left Winger   26   \n",
      "Mohamed Salah             5           Mohamed Salah        Right Winger   29   \n",
      "Kevin De Bruyne           7         Kevin De Bruyne  Attacking Midfield   30   \n",
      "Frenkie de Jong          10         Frenkie de Jong    Central Midfield   24   \n",
      "Joshua Kimmich           12          Joshua Kimmich  Defensive Midfield   26   \n",
      "João Félix               18              João Félix      Second Striker   21   \n",
      "Matthijs de Ligt         24        Matthijs de Ligt         Centre-Back   22   \n",
      "Trent Alexander-Arnold   25  Trent Alexander-Arnold          Right-Back   23   \n",
      "Alphonso Davies          29         Alphonso Davies           Left-Back   20   \n",
      "Jan Oblak                41               Jan Oblak          Goalkeeper   28   \n",
      "Bukayo Saka              44             Bukayo Saka       Left Midfield   20   \n",
      "Jesús Corona            237            Jesús Corona      Right Midfield   28   \n",
      "\n",
      "                        Market value  Matches  Goals  Own goals  Assists  \\\n",
      "Player                                                                     \n",
      "Kylian Mbappé                  160.0       11      4          0        5   \n",
      "Jack Grealish                  100.0       10      2          0        2   \n",
      "Mohamed Salah                  100.0        9      9          0        3   \n",
      "Kevin De Bruyne                100.0        7      2          0        0   \n",
      "Frenkie de Jong                 90.0        8      0          0        2   \n",
      "Joshua Kimmich                  90.0       11      3          0        4   \n",
      "João Félix                      80.0        5      0          0        0   \n",
      "Matthijs de Ligt                75.0        8      1          0        0   \n",
      "Trent Alexander-Arnold          75.0        6      0          0        3   \n",
      "Alphonso Davies                 70.0       10      0          0        3   \n",
      "Jan Oblak                       70.0       10      0          0        0   \n",
      "Bukayo Saka                     65.0        9      2          0        1   \n",
      "Jesús Corona                    30.0        7      0          0        2   \n",
      "\n",
      "                        Yellow cards  Yellow red cards  Red cards  \\\n",
      "Player                                                              \n",
      "Kylian Mbappé                      2                 0          0   \n",
      "Jack Grealish                      1                 0          0   \n",
      "Mohamed Salah                      1                 0          0   \n",
      "Kevin De Bruyne                    1                 0          0   \n",
      "Frenkie de Jong                    0                 1          0   \n",
      "Joshua Kimmich                     1                 0          0   \n",
      "João Félix                         2                 1          0   \n",
      "Matthijs de Ligt                   1                 0          0   \n",
      "Trent Alexander-Arnold             0                 0          0   \n",
      "Alphonso Davies                    1                 0          0   \n",
      "Jan Oblak                          0                 0          0   \n",
      "Bukayo Saka                        0                 0          0   \n",
      "Jesús Corona                       1                 0          0   \n",
      "\n",
      "                        Substitutions on  Substitutions off  Scorer Points  \\\n",
      "Player                                                                       \n",
      "Kylian Mbappé                          0                  5              9   \n",
      "Jack Grealish                          1                  5              4   \n",
      "Mohamed Salah                          0                  2             12   \n",
      "Kevin De Bruyne                        2                  2              2   \n",
      "Frenkie de Jong                        0                  1              2   \n",
      "Joshua Kimmich                         0                  2              7   \n",
      "João Félix                             3                  2              0   \n",
      "Matthijs de Ligt                       1                  1              1   \n",
      "Trent Alexander-Arnold                 0                  0              3   \n",
      "Alphonso Davies                        0                  3              3   \n",
      "Jan Oblak                              0                  0              0   \n",
      "Bukayo Saka                            2                  4              3   \n",
      "Jesús Corona                           2                  2              2   \n",
      "\n",
      "                        goals_per_game         Last Name  \n",
      "Player                                                    \n",
      "Kylian Mbappé                 0.363636            Mbappé  \n",
      "Jack Grealish                 0.200000          Grealish  \n",
      "Mohamed Salah                 1.000000             Salah  \n",
      "Kevin De Bruyne               0.285714            Bruyne  \n",
      "Frenkie de Jong               0.000000              Jong  \n",
      "Joshua Kimmich                0.272727           Kimmich  \n",
      "João Félix                    0.000000             Félix  \n",
      "Matthijs de Ligt              0.125000              Ligt  \n",
      "Trent Alexander-Arnold        0.000000  Alexander-Arnold  \n",
      "Alphonso Davies               0.000000            Davies  \n",
      "Jan Oblak                     0.000000             Oblak  \n",
      "Bukayo Saka                   0.222222              Saka  \n",
      "Jesús Corona                  0.000000            Corona  \n"
     ]
    }
   ],
   "source": [
    "print(df.drop_duplicates(subset='Position'))"
   ]
  },
  {
   "cell_type": "markdown",
   "metadata": {},
   "source": [
    "<span style=\"color:blue\"><b>Task:</b></span> Only show the player with the highest market value for every age."
   ]
  },
  {
   "cell_type": "code",
   "execution_count": 60,
   "metadata": {},
   "outputs": [
    {
     "data": {
      "text/html": [
       "<div>\n",
       "<style scoped>\n",
       "    .dataframe tbody tr th:only-of-type {\n",
       "        vertical-align: middle;\n",
       "    }\n",
       "\n",
       "    .dataframe tbody tr th {\n",
       "        vertical-align: top;\n",
       "    }\n",
       "\n",
       "    .dataframe thead th {\n",
       "        text-align: right;\n",
       "    }\n",
       "</style>\n",
       "<table border=\"1\" class=\"dataframe\">\n",
       "  <thead>\n",
       "    <tr style=\"text-align: right;\">\n",
       "      <th></th>\n",
       "      <th>#</th>\n",
       "      <th>Player</th>\n",
       "      <th>Position</th>\n",
       "      <th>Age</th>\n",
       "      <th>Market value</th>\n",
       "      <th>Matches</th>\n",
       "      <th>Goals</th>\n",
       "      <th>Own goals</th>\n",
       "      <th>Assists</th>\n",
       "      <th>Yellow cards</th>\n",
       "      <th>Yellow red cards</th>\n",
       "      <th>Red cards</th>\n",
       "      <th>Substitutions on</th>\n",
       "      <th>Substitutions off</th>\n",
       "      <th>Scorer Points</th>\n",
       "      <th>goals_per_game</th>\n",
       "      <th>Last Name</th>\n",
       "    </tr>\n",
       "    <tr>\n",
       "      <th>Player</th>\n",
       "      <th></th>\n",
       "      <th></th>\n",
       "      <th></th>\n",
       "      <th></th>\n",
       "      <th></th>\n",
       "      <th></th>\n",
       "      <th></th>\n",
       "      <th></th>\n",
       "      <th></th>\n",
       "      <th></th>\n",
       "      <th></th>\n",
       "      <th></th>\n",
       "      <th></th>\n",
       "      <th></th>\n",
       "      <th></th>\n",
       "      <th></th>\n",
       "      <th></th>\n",
       "    </tr>\n",
       "  </thead>\n",
       "  <tbody>\n",
       "    <tr>\n",
       "      <th>Kylian Mbappé</th>\n",
       "      <td>1</td>\n",
       "      <td>Kylian Mbappé</td>\n",
       "      <td>Centre-Forward</td>\n",
       "      <td>22</td>\n",
       "      <td>160.0</td>\n",
       "      <td>11</td>\n",
       "      <td>4</td>\n",
       "      <td>0</td>\n",
       "      <td>5</td>\n",
       "      <td>2</td>\n",
       "      <td>0</td>\n",
       "      <td>0</td>\n",
       "      <td>0</td>\n",
       "      <td>5</td>\n",
       "      <td>9</td>\n",
       "      <td>0.363636</td>\n",
       "      <td>Mbappé</td>\n",
       "    </tr>\n",
       "    <tr>\n",
       "      <th>Erling Haaland</th>\n",
       "      <td>2</td>\n",
       "      <td>Erling Haaland</td>\n",
       "      <td>Centre-Forward</td>\n",
       "      <td>21</td>\n",
       "      <td>150.0</td>\n",
       "      <td>8</td>\n",
       "      <td>11</td>\n",
       "      <td>0</td>\n",
       "      <td>4</td>\n",
       "      <td>1</td>\n",
       "      <td>0</td>\n",
       "      <td>0</td>\n",
       "      <td>0</td>\n",
       "      <td>1</td>\n",
       "      <td>15</td>\n",
       "      <td>1.375000</td>\n",
       "      <td>Haaland</td>\n",
       "    </tr>\n",
       "    <tr>\n",
       "      <th>Harry Kane</th>\n",
       "      <td>3</td>\n",
       "      <td>Harry Kane</td>\n",
       "      <td>Centre-Forward</td>\n",
       "      <td>28</td>\n",
       "      <td>120.0</td>\n",
       "      <td>10</td>\n",
       "      <td>6</td>\n",
       "      <td>0</td>\n",
       "      <td>0</td>\n",
       "      <td>2</td>\n",
       "      <td>0</td>\n",
       "      <td>0</td>\n",
       "      <td>2</td>\n",
       "      <td>2</td>\n",
       "      <td>6</td>\n",
       "      <td>0.600000</td>\n",
       "      <td>Kane</td>\n",
       "    </tr>\n",
       "    <tr>\n",
       "      <th>Jack Grealish</th>\n",
       "      <td>4</td>\n",
       "      <td>Jack Grealish</td>\n",
       "      <td>Left Winger</td>\n",
       "      <td>26</td>\n",
       "      <td>100.0</td>\n",
       "      <td>10</td>\n",
       "      <td>2</td>\n",
       "      <td>0</td>\n",
       "      <td>2</td>\n",
       "      <td>1</td>\n",
       "      <td>0</td>\n",
       "      <td>0</td>\n",
       "      <td>1</td>\n",
       "      <td>5</td>\n",
       "      <td>4</td>\n",
       "      <td>0.200000</td>\n",
       "      <td>Grealish</td>\n",
       "    </tr>\n",
       "    <tr>\n",
       "      <th>Mohamed Salah</th>\n",
       "      <td>5</td>\n",
       "      <td>Mohamed Salah</td>\n",
       "      <td>Right Winger</td>\n",
       "      <td>29</td>\n",
       "      <td>100.0</td>\n",
       "      <td>9</td>\n",
       "      <td>9</td>\n",
       "      <td>0</td>\n",
       "      <td>3</td>\n",
       "      <td>1</td>\n",
       "      <td>0</td>\n",
       "      <td>0</td>\n",
       "      <td>0</td>\n",
       "      <td>2</td>\n",
       "      <td>12</td>\n",
       "      <td>1.000000</td>\n",
       "      <td>Salah</td>\n",
       "    </tr>\n",
       "    <tr>\n",
       "      <th>Kevin De Bruyne</th>\n",
       "      <td>7</td>\n",
       "      <td>Kevin De Bruyne</td>\n",
       "      <td>Attacking Midfield</td>\n",
       "      <td>30</td>\n",
       "      <td>100.0</td>\n",
       "      <td>7</td>\n",
       "      <td>2</td>\n",
       "      <td>0</td>\n",
       "      <td>0</td>\n",
       "      <td>1</td>\n",
       "      <td>0</td>\n",
       "      <td>0</td>\n",
       "      <td>2</td>\n",
       "      <td>2</td>\n",
       "      <td>2</td>\n",
       "      <td>0.285714</td>\n",
       "      <td>Bruyne</td>\n",
       "    </tr>\n",
       "    <tr>\n",
       "      <th>Frenkie de Jong</th>\n",
       "      <td>10</td>\n",
       "      <td>Frenkie de Jong</td>\n",
       "      <td>Central Midfield</td>\n",
       "      <td>24</td>\n",
       "      <td>90.0</td>\n",
       "      <td>8</td>\n",
       "      <td>0</td>\n",
       "      <td>0</td>\n",
       "      <td>2</td>\n",
       "      <td>0</td>\n",
       "      <td>1</td>\n",
       "      <td>0</td>\n",
       "      <td>0</td>\n",
       "      <td>1</td>\n",
       "      <td>2</td>\n",
       "      <td>0.000000</td>\n",
       "      <td>Jong</td>\n",
       "    </tr>\n",
       "    <tr>\n",
       "      <th>Bruno Fernandes</th>\n",
       "      <td>11</td>\n",
       "      <td>Bruno Fernandes</td>\n",
       "      <td>Attacking Midfield</td>\n",
       "      <td>27</td>\n",
       "      <td>90.0</td>\n",
       "      <td>11</td>\n",
       "      <td>5</td>\n",
       "      <td>0</td>\n",
       "      <td>3</td>\n",
       "      <td>2</td>\n",
       "      <td>0</td>\n",
       "      <td>0</td>\n",
       "      <td>2</td>\n",
       "      <td>2</td>\n",
       "      <td>8</td>\n",
       "      <td>0.454545</td>\n",
       "      <td>Fernandes</td>\n",
       "    </tr>\n",
       "    <tr>\n",
       "      <th>Marcus Rashford</th>\n",
       "      <td>14</td>\n",
       "      <td>Marcus Rashford</td>\n",
       "      <td>Left Winger</td>\n",
       "      <td>23</td>\n",
       "      <td>85.0</td>\n",
       "      <td>0</td>\n",
       "      <td>0</td>\n",
       "      <td>0</td>\n",
       "      <td>0</td>\n",
       "      <td>0</td>\n",
       "      <td>0</td>\n",
       "      <td>0</td>\n",
       "      <td>0</td>\n",
       "      <td>0</td>\n",
       "      <td>0</td>\n",
       "      <td>0.000000</td>\n",
       "      <td>Rashford</td>\n",
       "    </tr>\n",
       "    <tr>\n",
       "      <th>Pedri</th>\n",
       "      <td>17</td>\n",
       "      <td>Pedri</td>\n",
       "      <td>Central Midfield</td>\n",
       "      <td>18</td>\n",
       "      <td>80.0</td>\n",
       "      <td>5</td>\n",
       "      <td>0</td>\n",
       "      <td>0</td>\n",
       "      <td>0</td>\n",
       "      <td>0</td>\n",
       "      <td>0</td>\n",
       "      <td>0</td>\n",
       "      <td>1</td>\n",
       "      <td>2</td>\n",
       "      <td>0</td>\n",
       "      <td>0.000000</td>\n",
       "      <td>Pedri</td>\n",
       "    </tr>\n",
       "    <tr>\n",
       "      <th>Lionel Messi</th>\n",
       "      <td>22</td>\n",
       "      <td>Lionel Messi</td>\n",
       "      <td>Right Winger</td>\n",
       "      <td>34</td>\n",
       "      <td>80.0</td>\n",
       "      <td>5</td>\n",
       "      <td>1</td>\n",
       "      <td>0</td>\n",
       "      <td>0</td>\n",
       "      <td>1</td>\n",
       "      <td>0</td>\n",
       "      <td>0</td>\n",
       "      <td>1</td>\n",
       "      <td>1</td>\n",
       "      <td>1</td>\n",
       "      <td>0.200000</td>\n",
       "      <td>Messi</td>\n",
       "    </tr>\n",
       "    <tr>\n",
       "      <th>Alphonso Davies</th>\n",
       "      <td>29</td>\n",
       "      <td>Alphonso Davies</td>\n",
       "      <td>Left-Back</td>\n",
       "      <td>20</td>\n",
       "      <td>70.0</td>\n",
       "      <td>10</td>\n",
       "      <td>0</td>\n",
       "      <td>0</td>\n",
       "      <td>3</td>\n",
       "      <td>1</td>\n",
       "      <td>0</td>\n",
       "      <td>0</td>\n",
       "      <td>0</td>\n",
       "      <td>3</td>\n",
       "      <td>3</td>\n",
       "      <td>0.000000</td>\n",
       "      <td>Davies</td>\n",
       "    </tr>\n",
       "    <tr>\n",
       "      <th>Rodri</th>\n",
       "      <td>32</td>\n",
       "      <td>Rodri</td>\n",
       "      <td>Defensive Midfield</td>\n",
       "      <td>25</td>\n",
       "      <td>70.0</td>\n",
       "      <td>8</td>\n",
       "      <td>1</td>\n",
       "      <td>0</td>\n",
       "      <td>0</td>\n",
       "      <td>2</td>\n",
       "      <td>0</td>\n",
       "      <td>0</td>\n",
       "      <td>1</td>\n",
       "      <td>1</td>\n",
       "      <td>1</td>\n",
       "      <td>0.125000</td>\n",
       "      <td>Rodri</td>\n",
       "    </tr>\n",
       "    <tr>\n",
       "      <th>Robert Lewandowski</th>\n",
       "      <td>65</td>\n",
       "      <td>Robert Lewandowski</td>\n",
       "      <td>Centre-Forward</td>\n",
       "      <td>33</td>\n",
       "      <td>60.0</td>\n",
       "      <td>10</td>\n",
       "      <td>13</td>\n",
       "      <td>0</td>\n",
       "      <td>1</td>\n",
       "      <td>0</td>\n",
       "      <td>0</td>\n",
       "      <td>0</td>\n",
       "      <td>0</td>\n",
       "      <td>4</td>\n",
       "      <td>14</td>\n",
       "      <td>1.300000</td>\n",
       "      <td>Lewandowski</td>\n",
       "    </tr>\n",
       "    <tr>\n",
       "      <th>Cristiano Ronaldo</th>\n",
       "      <td>112</td>\n",
       "      <td>Cristiano Ronaldo</td>\n",
       "      <td>Centre-Forward</td>\n",
       "      <td>36</td>\n",
       "      <td>45.0</td>\n",
       "      <td>7</td>\n",
       "      <td>5</td>\n",
       "      <td>0</td>\n",
       "      <td>0</td>\n",
       "      <td>2</td>\n",
       "      <td>0</td>\n",
       "      <td>0</td>\n",
       "      <td>2</td>\n",
       "      <td>1</td>\n",
       "      <td>5</td>\n",
       "      <td>0.714286</td>\n",
       "      <td>Ronaldo</td>\n",
       "    </tr>\n",
       "    <tr>\n",
       "      <th>Nuno Mendes</th>\n",
       "      <td>119</td>\n",
       "      <td>Nuno Mendes</td>\n",
       "      <td>Left-Back</td>\n",
       "      <td>19</td>\n",
       "      <td>40.0</td>\n",
       "      <td>10</td>\n",
       "      <td>0</td>\n",
       "      <td>1</td>\n",
       "      <td>1</td>\n",
       "      <td>3</td>\n",
       "      <td>0</td>\n",
       "      <td>0</td>\n",
       "      <td>3</td>\n",
       "      <td>3</td>\n",
       "      <td>1</td>\n",
       "      <td>0.000000</td>\n",
       "      <td>Mendes</td>\n",
       "    </tr>\n",
       "    <tr>\n",
       "      <th>Toni Kroos</th>\n",
       "      <td>153</td>\n",
       "      <td>Toni Kroos</td>\n",
       "      <td>Central Midfield</td>\n",
       "      <td>31</td>\n",
       "      <td>40.0</td>\n",
       "      <td>2</td>\n",
       "      <td>0</td>\n",
       "      <td>0</td>\n",
       "      <td>0</td>\n",
       "      <td>0</td>\n",
       "      <td>0</td>\n",
       "      <td>0</td>\n",
       "      <td>1</td>\n",
       "      <td>1</td>\n",
       "      <td>0</td>\n",
       "      <td>0.000000</td>\n",
       "      <td>Kroos</td>\n",
       "    </tr>\n",
       "    <tr>\n",
       "      <th>Thomas Müller</th>\n",
       "      <td>241</td>\n",
       "      <td>Thomas Müller</td>\n",
       "      <td>Second Striker</td>\n",
       "      <td>32</td>\n",
       "      <td>30.0</td>\n",
       "      <td>11</td>\n",
       "      <td>4</td>\n",
       "      <td>0</td>\n",
       "      <td>6</td>\n",
       "      <td>0</td>\n",
       "      <td>0</td>\n",
       "      <td>0</td>\n",
       "      <td>0</td>\n",
       "      <td>7</td>\n",
       "      <td>10</td>\n",
       "      <td>0.363636</td>\n",
       "      <td>Müller</td>\n",
       "    </tr>\n",
       "    <tr>\n",
       "      <th>Youssoufa Moukoko</th>\n",
       "      <td>481</td>\n",
       "      <td>Youssoufa Moukoko</td>\n",
       "      <td>Centre-Forward</td>\n",
       "      <td>16</td>\n",
       "      <td>18.0</td>\n",
       "      <td>10</td>\n",
       "      <td>3</td>\n",
       "      <td>0</td>\n",
       "      <td>1</td>\n",
       "      <td>1</td>\n",
       "      <td>0</td>\n",
       "      <td>0</td>\n",
       "      <td>6</td>\n",
       "      <td>3</td>\n",
       "      <td>4</td>\n",
       "      <td>0.300000</td>\n",
       "      <td>Moukoko</td>\n",
       "    </tr>\n",
       "  </tbody>\n",
       "</table>\n",
       "</div>"
      ],
      "text/plain": [
       "                      #              Player            Position  Age  \\\n",
       "Player                                                                 \n",
       "Kylian Mbappé         1       Kylian Mbappé      Centre-Forward   22   \n",
       "Erling Haaland        2      Erling Haaland      Centre-Forward   21   \n",
       "Harry Kane            3          Harry Kane      Centre-Forward   28   \n",
       "Jack Grealish         4       Jack Grealish         Left Winger   26   \n",
       "Mohamed Salah         5       Mohamed Salah        Right Winger   29   \n",
       "Kevin De Bruyne       7     Kevin De Bruyne  Attacking Midfield   30   \n",
       "Frenkie de Jong      10     Frenkie de Jong    Central Midfield   24   \n",
       "Bruno Fernandes      11     Bruno Fernandes  Attacking Midfield   27   \n",
       "Marcus Rashford      14     Marcus Rashford         Left Winger   23   \n",
       "Pedri                17               Pedri    Central Midfield   18   \n",
       "Lionel Messi         22        Lionel Messi        Right Winger   34   \n",
       "Alphonso Davies      29     Alphonso Davies           Left-Back   20   \n",
       "Rodri                32               Rodri  Defensive Midfield   25   \n",
       "Robert Lewandowski   65  Robert Lewandowski      Centre-Forward   33   \n",
       "Cristiano Ronaldo   112   Cristiano Ronaldo      Centre-Forward   36   \n",
       "Nuno Mendes         119         Nuno Mendes           Left-Back   19   \n",
       "Toni Kroos          153          Toni Kroos    Central Midfield   31   \n",
       "Thomas Müller       241       Thomas Müller      Second Striker   32   \n",
       "Youssoufa Moukoko   481   Youssoufa Moukoko      Centre-Forward   16   \n",
       "\n",
       "                    Market value  Matches  Goals  Own goals  Assists  \\\n",
       "Player                                                                 \n",
       "Kylian Mbappé              160.0       11      4          0        5   \n",
       "Erling Haaland             150.0        8     11          0        4   \n",
       "Harry Kane                 120.0       10      6          0        0   \n",
       "Jack Grealish              100.0       10      2          0        2   \n",
       "Mohamed Salah              100.0        9      9          0        3   \n",
       "Kevin De Bruyne            100.0        7      2          0        0   \n",
       "Frenkie de Jong             90.0        8      0          0        2   \n",
       "Bruno Fernandes             90.0       11      5          0        3   \n",
       "Marcus Rashford             85.0        0      0          0        0   \n",
       "Pedri                       80.0        5      0          0        0   \n",
       "Lionel Messi                80.0        5      1          0        0   \n",
       "Alphonso Davies             70.0       10      0          0        3   \n",
       "Rodri                       70.0        8      1          0        0   \n",
       "Robert Lewandowski          60.0       10     13          0        1   \n",
       "Cristiano Ronaldo           45.0        7      5          0        0   \n",
       "Nuno Mendes                 40.0       10      0          1        1   \n",
       "Toni Kroos                  40.0        2      0          0        0   \n",
       "Thomas Müller               30.0       11      4          0        6   \n",
       "Youssoufa Moukoko           18.0       10      3          0        1   \n",
       "\n",
       "                    Yellow cards  Yellow red cards  Red cards  \\\n",
       "Player                                                          \n",
       "Kylian Mbappé                  2                 0          0   \n",
       "Erling Haaland                 1                 0          0   \n",
       "Harry Kane                     2                 0          0   \n",
       "Jack Grealish                  1                 0          0   \n",
       "Mohamed Salah                  1                 0          0   \n",
       "Kevin De Bruyne                1                 0          0   \n",
       "Frenkie de Jong                0                 1          0   \n",
       "Bruno Fernandes                2                 0          0   \n",
       "Marcus Rashford                0                 0          0   \n",
       "Pedri                          0                 0          0   \n",
       "Lionel Messi                   1                 0          0   \n",
       "Alphonso Davies                1                 0          0   \n",
       "Rodri                          2                 0          0   \n",
       "Robert Lewandowski             0                 0          0   \n",
       "Cristiano Ronaldo              2                 0          0   \n",
       "Nuno Mendes                    3                 0          0   \n",
       "Toni Kroos                     0                 0          0   \n",
       "Thomas Müller                  0                 0          0   \n",
       "Youssoufa Moukoko              1                 0          0   \n",
       "\n",
       "                    Substitutions on  Substitutions off  Scorer Points  \\\n",
       "Player                                                                   \n",
       "Kylian Mbappé                      0                  5              9   \n",
       "Erling Haaland                     0                  1             15   \n",
       "Harry Kane                         2                  2              6   \n",
       "Jack Grealish                      1                  5              4   \n",
       "Mohamed Salah                      0                  2             12   \n",
       "Kevin De Bruyne                    2                  2              2   \n",
       "Frenkie de Jong                    0                  1              2   \n",
       "Bruno Fernandes                    2                  2              8   \n",
       "Marcus Rashford                    0                  0              0   \n",
       "Pedri                              1                  2              0   \n",
       "Lionel Messi                       1                  1              1   \n",
       "Alphonso Davies                    0                  3              3   \n",
       "Rodri                              1                  1              1   \n",
       "Robert Lewandowski                 0                  4             14   \n",
       "Cristiano Ronaldo                  2                  1              5   \n",
       "Nuno Mendes                        3                  3              1   \n",
       "Toni Kroos                         1                  1              0   \n",
       "Thomas Müller                      0                  7             10   \n",
       "Youssoufa Moukoko                  6                  3              4   \n",
       "\n",
       "                    goals_per_game    Last Name  \n",
       "Player                                           \n",
       "Kylian Mbappé             0.363636       Mbappé  \n",
       "Erling Haaland            1.375000      Haaland  \n",
       "Harry Kane                0.600000         Kane  \n",
       "Jack Grealish             0.200000     Grealish  \n",
       "Mohamed Salah             1.000000        Salah  \n",
       "Kevin De Bruyne           0.285714       Bruyne  \n",
       "Frenkie de Jong           0.000000         Jong  \n",
       "Bruno Fernandes           0.454545    Fernandes  \n",
       "Marcus Rashford           0.000000     Rashford  \n",
       "Pedri                     0.000000        Pedri  \n",
       "Lionel Messi              0.200000        Messi  \n",
       "Alphonso Davies           0.000000       Davies  \n",
       "Rodri                     0.125000        Rodri  \n",
       "Robert Lewandowski        1.300000  Lewandowski  \n",
       "Cristiano Ronaldo         0.714286      Ronaldo  \n",
       "Nuno Mendes               0.000000       Mendes  \n",
       "Toni Kroos                0.000000        Kroos  \n",
       "Thomas Müller             0.363636       Müller  \n",
       "Youssoufa Moukoko         0.300000      Moukoko  "
      ]
     },
     "execution_count": 60,
     "metadata": {},
     "output_type": "execute_result"
    }
   ],
   "source": [
    "df.drop_duplicates(subset='Age')"
   ]
  },
  {
   "cell_type": "markdown",
   "metadata": {},
   "source": [
    "<span style=\"color:blue\"><b>Task:</b></span> Only show the player with the lowest market value for every age."
   ]
  },
  {
   "cell_type": "code",
   "execution_count": 62,
   "metadata": {
    "pycharm": {
     "name": "#%%\n"
    }
   },
   "outputs": [
    {
     "data": {
      "text/html": [
       "<div>\n",
       "<style scoped>\n",
       "    .dataframe tbody tr th:only-of-type {\n",
       "        vertical-align: middle;\n",
       "    }\n",
       "\n",
       "    .dataframe tbody tr th {\n",
       "        vertical-align: top;\n",
       "    }\n",
       "\n",
       "    .dataframe thead th {\n",
       "        text-align: right;\n",
       "    }\n",
       "</style>\n",
       "<table border=\"1\" class=\"dataframe\">\n",
       "  <thead>\n",
       "    <tr style=\"text-align: right;\">\n",
       "      <th></th>\n",
       "      <th>#</th>\n",
       "      <th>Player</th>\n",
       "      <th>Position</th>\n",
       "      <th>Age</th>\n",
       "      <th>Market value</th>\n",
       "      <th>Matches</th>\n",
       "      <th>Goals</th>\n",
       "      <th>Own goals</th>\n",
       "      <th>Assists</th>\n",
       "      <th>Yellow cards</th>\n",
       "      <th>Yellow red cards</th>\n",
       "      <th>Red cards</th>\n",
       "      <th>Substitutions on</th>\n",
       "      <th>Substitutions off</th>\n",
       "      <th>Scorer Points</th>\n",
       "      <th>goals_per_game</th>\n",
       "      <th>Last Name</th>\n",
       "    </tr>\n",
       "    <tr>\n",
       "      <th>Player</th>\n",
       "      <th></th>\n",
       "      <th></th>\n",
       "      <th></th>\n",
       "      <th></th>\n",
       "      <th></th>\n",
       "      <th></th>\n",
       "      <th></th>\n",
       "      <th></th>\n",
       "      <th></th>\n",
       "      <th></th>\n",
       "      <th></th>\n",
       "      <th></th>\n",
       "      <th></th>\n",
       "      <th></th>\n",
       "      <th></th>\n",
       "      <th></th>\n",
       "      <th></th>\n",
       "    </tr>\n",
       "  </thead>\n",
       "  <tbody>\n",
       "    <tr>\n",
       "      <th>Lionel Messi</th>\n",
       "      <td>22</td>\n",
       "      <td>Lionel Messi</td>\n",
       "      <td>Right Winger</td>\n",
       "      <td>34</td>\n",
       "      <td>80.0</td>\n",
       "      <td>5</td>\n",
       "      <td>1</td>\n",
       "      <td>0</td>\n",
       "      <td>0</td>\n",
       "      <td>1</td>\n",
       "      <td>0</td>\n",
       "      <td>0</td>\n",
       "      <td>1</td>\n",
       "      <td>1</td>\n",
       "      <td>1</td>\n",
       "      <td>0.200000</td>\n",
       "      <td>Messi</td>\n",
       "    </tr>\n",
       "    <tr>\n",
       "      <th>Cristiano Ronaldo</th>\n",
       "      <td>112</td>\n",
       "      <td>Cristiano Ronaldo</td>\n",
       "      <td>Centre-Forward</td>\n",
       "      <td>36</td>\n",
       "      <td>45.0</td>\n",
       "      <td>7</td>\n",
       "      <td>5</td>\n",
       "      <td>0</td>\n",
       "      <td>0</td>\n",
       "      <td>2</td>\n",
       "      <td>0</td>\n",
       "      <td>0</td>\n",
       "      <td>2</td>\n",
       "      <td>1</td>\n",
       "      <td>5</td>\n",
       "      <td>0.714286</td>\n",
       "      <td>Ronaldo</td>\n",
       "    </tr>\n",
       "    <tr>\n",
       "      <th>Rayan Cherki</th>\n",
       "      <td>344</td>\n",
       "      <td>Rayan Cherki</td>\n",
       "      <td>Attacking Midfield</td>\n",
       "      <td>18</td>\n",
       "      <td>23.0</td>\n",
       "      <td>10</td>\n",
       "      <td>4</td>\n",
       "      <td>0</td>\n",
       "      <td>2</td>\n",
       "      <td>1</td>\n",
       "      <td>0</td>\n",
       "      <td>0</td>\n",
       "      <td>6</td>\n",
       "      <td>3</td>\n",
       "      <td>6</td>\n",
       "      <td>0.400000</td>\n",
       "      <td>Cherki</td>\n",
       "    </tr>\n",
       "    <tr>\n",
       "      <th>Portu</th>\n",
       "      <td>457</td>\n",
       "      <td>Portu</td>\n",
       "      <td>Right Winger</td>\n",
       "      <td>29</td>\n",
       "      <td>20.0</td>\n",
       "      <td>9</td>\n",
       "      <td>0</td>\n",
       "      <td>0</td>\n",
       "      <td>0</td>\n",
       "      <td>1</td>\n",
       "      <td>0</td>\n",
       "      <td>0</td>\n",
       "      <td>3</td>\n",
       "      <td>6</td>\n",
       "      <td>0</td>\n",
       "      <td>0.000000</td>\n",
       "      <td>Portu</td>\n",
       "    </tr>\n",
       "    <tr>\n",
       "      <th>Julian Draxler</th>\n",
       "      <td>460</td>\n",
       "      <td>Julian Draxler</td>\n",
       "      <td>Left Winger</td>\n",
       "      <td>28</td>\n",
       "      <td>20.0</td>\n",
       "      <td>9</td>\n",
       "      <td>2</td>\n",
       "      <td>0</td>\n",
       "      <td>1</td>\n",
       "      <td>1</td>\n",
       "      <td>0</td>\n",
       "      <td>0</td>\n",
       "      <td>5</td>\n",
       "      <td>3</td>\n",
       "      <td>3</td>\n",
       "      <td>0.222222</td>\n",
       "      <td>Draxler</td>\n",
       "    </tr>\n",
       "    <tr>\n",
       "      <th>Jordi Alba</th>\n",
       "      <td>462</td>\n",
       "      <td>Jordi Alba</td>\n",
       "      <td>Left-Back</td>\n",
       "      <td>32</td>\n",
       "      <td>20.0</td>\n",
       "      <td>4</td>\n",
       "      <td>0</td>\n",
       "      <td>0</td>\n",
       "      <td>1</td>\n",
       "      <td>1</td>\n",
       "      <td>0</td>\n",
       "      <td>0</td>\n",
       "      <td>0</td>\n",
       "      <td>1</td>\n",
       "      <td>1</td>\n",
       "      <td>0.000000</td>\n",
       "      <td>Alba</td>\n",
       "    </tr>\n",
       "    <tr>\n",
       "      <th>Sergio Canales</th>\n",
       "      <td>463</td>\n",
       "      <td>Sergio Canales</td>\n",
       "      <td>Attacking Midfield</td>\n",
       "      <td>30</td>\n",
       "      <td>20.0</td>\n",
       "      <td>8</td>\n",
       "      <td>1</td>\n",
       "      <td>0</td>\n",
       "      <td>2</td>\n",
       "      <td>1</td>\n",
       "      <td>0</td>\n",
       "      <td>0</td>\n",
       "      <td>1</td>\n",
       "      <td>5</td>\n",
       "      <td>3</td>\n",
       "      <td>0.125000</td>\n",
       "      <td>Canales</td>\n",
       "    </tr>\n",
       "    <tr>\n",
       "      <th>Ángel Di María</th>\n",
       "      <td>465</td>\n",
       "      <td>Ángel Di María</td>\n",
       "      <td>Right Winger</td>\n",
       "      <td>33</td>\n",
       "      <td>20.0</td>\n",
       "      <td>6</td>\n",
       "      <td>1</td>\n",
       "      <td>0</td>\n",
       "      <td>2</td>\n",
       "      <td>1</td>\n",
       "      <td>0</td>\n",
       "      <td>0</td>\n",
       "      <td>2</td>\n",
       "      <td>3</td>\n",
       "      <td>3</td>\n",
       "      <td>0.166667</td>\n",
       "      <td>María</td>\n",
       "    </tr>\n",
       "    <tr>\n",
       "      <th>Miralem Pjanic</th>\n",
       "      <td>466</td>\n",
       "      <td>Miralem Pjanic</td>\n",
       "      <td>Central Midfield</td>\n",
       "      <td>31</td>\n",
       "      <td>20.0</td>\n",
       "      <td>5</td>\n",
       "      <td>0</td>\n",
       "      <td>0</td>\n",
       "      <td>3</td>\n",
       "      <td>1</td>\n",
       "      <td>0</td>\n",
       "      <td>0</td>\n",
       "      <td>1</td>\n",
       "      <td>3</td>\n",
       "      <td>3</td>\n",
       "      <td>0.000000</td>\n",
       "      <td>Pjanic</td>\n",
       "    </tr>\n",
       "    <tr>\n",
       "      <th>Noni Madueke</th>\n",
       "      <td>476</td>\n",
       "      <td>Noni Madueke</td>\n",
       "      <td>Right Winger</td>\n",
       "      <td>19</td>\n",
       "      <td>18.0</td>\n",
       "      <td>15</td>\n",
       "      <td>6</td>\n",
       "      <td>0</td>\n",
       "      <td>1</td>\n",
       "      <td>0</td>\n",
       "      <td>0</td>\n",
       "      <td>0</td>\n",
       "      <td>2</td>\n",
       "      <td>13</td>\n",
       "      <td>7</td>\n",
       "      <td>0.400000</td>\n",
       "      <td>Madueke</td>\n",
       "    </tr>\n",
       "    <tr>\n",
       "      <th>William Saliba</th>\n",
       "      <td>479</td>\n",
       "      <td>William Saliba</td>\n",
       "      <td>Centre-Back</td>\n",
       "      <td>20</td>\n",
       "      <td>18.0</td>\n",
       "      <td>11</td>\n",
       "      <td>0</td>\n",
       "      <td>0</td>\n",
       "      <td>0</td>\n",
       "      <td>2</td>\n",
       "      <td>0</td>\n",
       "      <td>0</td>\n",
       "      <td>0</td>\n",
       "      <td>0</td>\n",
       "      <td>0</td>\n",
       "      <td>0.000000</td>\n",
       "      <td>Saliba</td>\n",
       "    </tr>\n",
       "    <tr>\n",
       "      <th>Youssoufa Moukoko</th>\n",
       "      <td>481</td>\n",
       "      <td>Youssoufa Moukoko</td>\n",
       "      <td>Centre-Forward</td>\n",
       "      <td>16</td>\n",
       "      <td>18.0</td>\n",
       "      <td>10</td>\n",
       "      <td>3</td>\n",
       "      <td>0</td>\n",
       "      <td>1</td>\n",
       "      <td>1</td>\n",
       "      <td>0</td>\n",
       "      <td>0</td>\n",
       "      <td>6</td>\n",
       "      <td>3</td>\n",
       "      <td>4</td>\n",
       "      <td>0.300000</td>\n",
       "      <td>Moukoko</td>\n",
       "    </tr>\n",
       "    <tr>\n",
       "      <th>Ryan Sessegnon</th>\n",
       "      <td>484</td>\n",
       "      <td>Ryan Sessegnon</td>\n",
       "      <td>Left Midfield</td>\n",
       "      <td>21</td>\n",
       "      <td>18.0</td>\n",
       "      <td>3</td>\n",
       "      <td>0</td>\n",
       "      <td>0</td>\n",
       "      <td>0</td>\n",
       "      <td>0</td>\n",
       "      <td>0</td>\n",
       "      <td>0</td>\n",
       "      <td>0</td>\n",
       "      <td>3</td>\n",
       "      <td>0</td>\n",
       "      <td>0.000000</td>\n",
       "      <td>Sessegnon</td>\n",
       "    </tr>\n",
       "    <tr>\n",
       "      <th>Kyle Walker-Peters</th>\n",
       "      <td>489</td>\n",
       "      <td>Kyle Walker-Peters</td>\n",
       "      <td>Right-Back</td>\n",
       "      <td>24</td>\n",
       "      <td>18.0</td>\n",
       "      <td>6</td>\n",
       "      <td>1</td>\n",
       "      <td>0</td>\n",
       "      <td>1</td>\n",
       "      <td>2</td>\n",
       "      <td>0</td>\n",
       "      <td>0</td>\n",
       "      <td>1</td>\n",
       "      <td>1</td>\n",
       "      <td>2</td>\n",
       "      <td>0.166667</td>\n",
       "      <td>Walker-Peters</td>\n",
       "    </tr>\n",
       "    <tr>\n",
       "      <th>Riqui Puig</th>\n",
       "      <td>492</td>\n",
       "      <td>Riqui Puig</td>\n",
       "      <td>Central Midfield</td>\n",
       "      <td>22</td>\n",
       "      <td>18.0</td>\n",
       "      <td>4</td>\n",
       "      <td>0</td>\n",
       "      <td>0</td>\n",
       "      <td>0</td>\n",
       "      <td>0</td>\n",
       "      <td>0</td>\n",
       "      <td>0</td>\n",
       "      <td>4</td>\n",
       "      <td>0</td>\n",
       "      <td>0</td>\n",
       "      <td>0.000000</td>\n",
       "      <td>Puig</td>\n",
       "    </tr>\n",
       "    <tr>\n",
       "      <th>Éverton</th>\n",
       "      <td>493</td>\n",
       "      <td>Éverton</td>\n",
       "      <td>Left Winger</td>\n",
       "      <td>25</td>\n",
       "      <td>18.0</td>\n",
       "      <td>13</td>\n",
       "      <td>0</td>\n",
       "      <td>0</td>\n",
       "      <td>1</td>\n",
       "      <td>1</td>\n",
       "      <td>0</td>\n",
       "      <td>0</td>\n",
       "      <td>7</td>\n",
       "      <td>4</td>\n",
       "      <td>1</td>\n",
       "      <td>0.000000</td>\n",
       "      <td>Éverton</td>\n",
       "    </tr>\n",
       "    <tr>\n",
       "      <th>David Raya</th>\n",
       "      <td>498</td>\n",
       "      <td>David Raya</td>\n",
       "      <td>Goalkeeper</td>\n",
       "      <td>26</td>\n",
       "      <td>18.0</td>\n",
       "      <td>7</td>\n",
       "      <td>0</td>\n",
       "      <td>0</td>\n",
       "      <td>0</td>\n",
       "      <td>0</td>\n",
       "      <td>0</td>\n",
       "      <td>0</td>\n",
       "      <td>0</td>\n",
       "      <td>0</td>\n",
       "      <td>0</td>\n",
       "      <td>0.000000</td>\n",
       "      <td>Raya</td>\n",
       "    </tr>\n",
       "    <tr>\n",
       "      <th>Gregor Kobel</th>\n",
       "      <td>499</td>\n",
       "      <td>Gregor Kobel</td>\n",
       "      <td>Goalkeeper</td>\n",
       "      <td>23</td>\n",
       "      <td>18.0</td>\n",
       "      <td>12</td>\n",
       "      <td>0</td>\n",
       "      <td>0</td>\n",
       "      <td>0</td>\n",
       "      <td>0</td>\n",
       "      <td>0</td>\n",
       "      <td>0</td>\n",
       "      <td>0</td>\n",
       "      <td>0</td>\n",
       "      <td>0</td>\n",
       "      <td>0.000000</td>\n",
       "      <td>Kobel</td>\n",
       "    </tr>\n",
       "    <tr>\n",
       "      <th>Wilmar Barrios</th>\n",
       "      <td>500</td>\n",
       "      <td>Wilmar Barrios</td>\n",
       "      <td>Defensive Midfield</td>\n",
       "      <td>27</td>\n",
       "      <td>18.0</td>\n",
       "      <td>10</td>\n",
       "      <td>0</td>\n",
       "      <td>0</td>\n",
       "      <td>0</td>\n",
       "      <td>0</td>\n",
       "      <td>0</td>\n",
       "      <td>0</td>\n",
       "      <td>0</td>\n",
       "      <td>2</td>\n",
       "      <td>0</td>\n",
       "      <td>0.000000</td>\n",
       "      <td>Barrios</td>\n",
       "    </tr>\n",
       "  </tbody>\n",
       "</table>\n",
       "</div>"
      ],
      "text/plain": [
       "                      #              Player            Position  Age  \\\n",
       "Player                                                                 \n",
       "Lionel Messi         22        Lionel Messi        Right Winger   34   \n",
       "Cristiano Ronaldo   112   Cristiano Ronaldo      Centre-Forward   36   \n",
       "Rayan Cherki        344        Rayan Cherki  Attacking Midfield   18   \n",
       "Portu               457               Portu        Right Winger   29   \n",
       "Julian Draxler      460      Julian Draxler         Left Winger   28   \n",
       "Jordi Alba          462          Jordi Alba           Left-Back   32   \n",
       "Sergio Canales      463      Sergio Canales  Attacking Midfield   30   \n",
       "Ángel Di María      465      Ángel Di María        Right Winger   33   \n",
       "Miralem Pjanic      466      Miralem Pjanic    Central Midfield   31   \n",
       "Noni Madueke        476        Noni Madueke        Right Winger   19   \n",
       "William Saliba      479      William Saliba         Centre-Back   20   \n",
       "Youssoufa Moukoko   481   Youssoufa Moukoko      Centre-Forward   16   \n",
       "Ryan Sessegnon      484      Ryan Sessegnon       Left Midfield   21   \n",
       "Kyle Walker-Peters  489  Kyle Walker-Peters          Right-Back   24   \n",
       "Riqui Puig          492          Riqui Puig    Central Midfield   22   \n",
       "Éverton             493             Éverton         Left Winger   25   \n",
       "David Raya          498          David Raya          Goalkeeper   26   \n",
       "Gregor Kobel        499        Gregor Kobel          Goalkeeper   23   \n",
       "Wilmar Barrios      500      Wilmar Barrios  Defensive Midfield   27   \n",
       "\n",
       "                    Market value  Matches  Goals  Own goals  Assists  \\\n",
       "Player                                                                 \n",
       "Lionel Messi                80.0        5      1          0        0   \n",
       "Cristiano Ronaldo           45.0        7      5          0        0   \n",
       "Rayan Cherki                23.0       10      4          0        2   \n",
       "Portu                       20.0        9      0          0        0   \n",
       "Julian Draxler              20.0        9      2          0        1   \n",
       "Jordi Alba                  20.0        4      0          0        1   \n",
       "Sergio Canales              20.0        8      1          0        2   \n",
       "Ángel Di María              20.0        6      1          0        2   \n",
       "Miralem Pjanic              20.0        5      0          0        3   \n",
       "Noni Madueke                18.0       15      6          0        1   \n",
       "William Saliba              18.0       11      0          0        0   \n",
       "Youssoufa Moukoko           18.0       10      3          0        1   \n",
       "Ryan Sessegnon              18.0        3      0          0        0   \n",
       "Kyle Walker-Peters          18.0        6      1          0        1   \n",
       "Riqui Puig                  18.0        4      0          0        0   \n",
       "Éverton                     18.0       13      0          0        1   \n",
       "David Raya                  18.0        7      0          0        0   \n",
       "Gregor Kobel                18.0       12      0          0        0   \n",
       "Wilmar Barrios              18.0       10      0          0        0   \n",
       "\n",
       "                    Yellow cards  Yellow red cards  Red cards  \\\n",
       "Player                                                          \n",
       "Lionel Messi                   1                 0          0   \n",
       "Cristiano Ronaldo              2                 0          0   \n",
       "Rayan Cherki                   1                 0          0   \n",
       "Portu                          1                 0          0   \n",
       "Julian Draxler                 1                 0          0   \n",
       "Jordi Alba                     1                 0          0   \n",
       "Sergio Canales                 1                 0          0   \n",
       "Ángel Di María                 1                 0          0   \n",
       "Miralem Pjanic                 1                 0          0   \n",
       "Noni Madueke                   0                 0          0   \n",
       "William Saliba                 2                 0          0   \n",
       "Youssoufa Moukoko              1                 0          0   \n",
       "Ryan Sessegnon                 0                 0          0   \n",
       "Kyle Walker-Peters             2                 0          0   \n",
       "Riqui Puig                     0                 0          0   \n",
       "Éverton                        1                 0          0   \n",
       "David Raya                     0                 0          0   \n",
       "Gregor Kobel                   0                 0          0   \n",
       "Wilmar Barrios                 0                 0          0   \n",
       "\n",
       "                    Substitutions on  Substitutions off  Scorer Points  \\\n",
       "Player                                                                   \n",
       "Lionel Messi                       1                  1              1   \n",
       "Cristiano Ronaldo                  2                  1              5   \n",
       "Rayan Cherki                       6                  3              6   \n",
       "Portu                              3                  6              0   \n",
       "Julian Draxler                     5                  3              3   \n",
       "Jordi Alba                         0                  1              1   \n",
       "Sergio Canales                     1                  5              3   \n",
       "Ángel Di María                     2                  3              3   \n",
       "Miralem Pjanic                     1                  3              3   \n",
       "Noni Madueke                       2                 13              7   \n",
       "William Saliba                     0                  0              0   \n",
       "Youssoufa Moukoko                  6                  3              4   \n",
       "Ryan Sessegnon                     0                  3              0   \n",
       "Kyle Walker-Peters                 1                  1              2   \n",
       "Riqui Puig                         4                  0              0   \n",
       "Éverton                            7                  4              1   \n",
       "David Raya                         0                  0              0   \n",
       "Gregor Kobel                       0                  0              0   \n",
       "Wilmar Barrios                     0                  2              0   \n",
       "\n",
       "                    goals_per_game      Last Name  \n",
       "Player                                             \n",
       "Lionel Messi              0.200000          Messi  \n",
       "Cristiano Ronaldo         0.714286        Ronaldo  \n",
       "Rayan Cherki              0.400000         Cherki  \n",
       "Portu                     0.000000          Portu  \n",
       "Julian Draxler            0.222222        Draxler  \n",
       "Jordi Alba                0.000000           Alba  \n",
       "Sergio Canales            0.125000        Canales  \n",
       "Ángel Di María            0.166667          María  \n",
       "Miralem Pjanic            0.000000         Pjanic  \n",
       "Noni Madueke              0.400000        Madueke  \n",
       "William Saliba            0.000000         Saliba  \n",
       "Youssoufa Moukoko         0.300000        Moukoko  \n",
       "Ryan Sessegnon            0.000000      Sessegnon  \n",
       "Kyle Walker-Peters        0.166667  Walker-Peters  \n",
       "Riqui Puig                0.000000           Puig  \n",
       "Éverton                   0.000000        Éverton  \n",
       "David Raya                0.000000           Raya  \n",
       "Gregor Kobel              0.000000          Kobel  \n",
       "Wilmar Barrios            0.000000        Barrios  "
      ]
     },
     "execution_count": 62,
     "metadata": {},
     "output_type": "execute_result"
    }
   ],
   "source": [
    "df.drop_duplicates(subset='Age',keep='last')"
   ]
  },
  {
   "cell_type": "code",
   "execution_count": 63,
   "metadata": {},
   "outputs": [
    {
     "data": {
      "text/html": [
       "<div>\n",
       "<style scoped>\n",
       "    .dataframe tbody tr th:only-of-type {\n",
       "        vertical-align: middle;\n",
       "    }\n",
       "\n",
       "    .dataframe tbody tr th {\n",
       "        vertical-align: top;\n",
       "    }\n",
       "\n",
       "    .dataframe thead th {\n",
       "        text-align: right;\n",
       "    }\n",
       "</style>\n",
       "<table border=\"1\" class=\"dataframe\">\n",
       "  <thead>\n",
       "    <tr style=\"text-align: right;\">\n",
       "      <th></th>\n",
       "      <th>#</th>\n",
       "      <th>Player</th>\n",
       "      <th>Position</th>\n",
       "      <th>Age</th>\n",
       "      <th>Market value</th>\n",
       "      <th>Matches</th>\n",
       "      <th>Goals</th>\n",
       "      <th>Own goals</th>\n",
       "      <th>Assists</th>\n",
       "      <th>Yellow cards</th>\n",
       "      <th>Yellow red cards</th>\n",
       "      <th>Red cards</th>\n",
       "      <th>Substitutions on</th>\n",
       "      <th>Substitutions off</th>\n",
       "      <th>Scorer Points</th>\n",
       "      <th>goals_per_game</th>\n",
       "      <th>Last Name</th>\n",
       "    </tr>\n",
       "    <tr>\n",
       "      <th>Player</th>\n",
       "      <th></th>\n",
       "      <th></th>\n",
       "      <th></th>\n",
       "      <th></th>\n",
       "      <th></th>\n",
       "      <th></th>\n",
       "      <th></th>\n",
       "      <th></th>\n",
       "      <th></th>\n",
       "      <th></th>\n",
       "      <th></th>\n",
       "      <th></th>\n",
       "      <th></th>\n",
       "      <th></th>\n",
       "      <th></th>\n",
       "      <th></th>\n",
       "      <th></th>\n",
       "    </tr>\n",
       "  </thead>\n",
       "  <tbody>\n",
       "    <tr>\n",
       "      <th>Wilmar Barrios</th>\n",
       "      <td>500</td>\n",
       "      <td>Wilmar Barrios</td>\n",
       "      <td>Defensive Midfield</td>\n",
       "      <td>27</td>\n",
       "      <td>18.0</td>\n",
       "      <td>10</td>\n",
       "      <td>0</td>\n",
       "      <td>0</td>\n",
       "      <td>0</td>\n",
       "      <td>0</td>\n",
       "      <td>0</td>\n",
       "      <td>0</td>\n",
       "      <td>0</td>\n",
       "      <td>2</td>\n",
       "      <td>0</td>\n",
       "      <td>0.000000</td>\n",
       "      <td>Barrios</td>\n",
       "    </tr>\n",
       "    <tr>\n",
       "      <th>Mohamed Simakan</th>\n",
       "      <td>472</td>\n",
       "      <td>Mohamed Simakan</td>\n",
       "      <td>Centre-Back</td>\n",
       "      <td>21</td>\n",
       "      <td>18.0</td>\n",
       "      <td>9</td>\n",
       "      <td>0</td>\n",
       "      <td>0</td>\n",
       "      <td>0</td>\n",
       "      <td>0</td>\n",
       "      <td>0</td>\n",
       "      <td>0</td>\n",
       "      <td>1</td>\n",
       "      <td>3</td>\n",
       "      <td>0</td>\n",
       "      <td>0.000000</td>\n",
       "      <td>Simakan</td>\n",
       "    </tr>\n",
       "    <tr>\n",
       "      <th>Rayan Aït Nouri</th>\n",
       "      <td>473</td>\n",
       "      <td>Rayan Aït Nouri</td>\n",
       "      <td>Left-Back</td>\n",
       "      <td>20</td>\n",
       "      <td>18.0</td>\n",
       "      <td>3</td>\n",
       "      <td>0</td>\n",
       "      <td>0</td>\n",
       "      <td>1</td>\n",
       "      <td>0</td>\n",
       "      <td>0</td>\n",
       "      <td>0</td>\n",
       "      <td>1</td>\n",
       "      <td>2</td>\n",
       "      <td>1</td>\n",
       "      <td>0.000000</td>\n",
       "      <td>Nouri</td>\n",
       "    </tr>\n",
       "    <tr>\n",
       "      <th>Amad Diallo</th>\n",
       "      <td>474</td>\n",
       "      <td>Amad Diallo</td>\n",
       "      <td>Right Winger</td>\n",
       "      <td>19</td>\n",
       "      <td>18.0</td>\n",
       "      <td>0</td>\n",
       "      <td>0</td>\n",
       "      <td>0</td>\n",
       "      <td>0</td>\n",
       "      <td>0</td>\n",
       "      <td>0</td>\n",
       "      <td>0</td>\n",
       "      <td>0</td>\n",
       "      <td>0</td>\n",
       "      <td>0</td>\n",
       "      <td>0.000000</td>\n",
       "      <td>Diallo</td>\n",
       "    </tr>\n",
       "    <tr>\n",
       "      <th>Wendel</th>\n",
       "      <td>478</td>\n",
       "      <td>Wendel</td>\n",
       "      <td>Central Midfield</td>\n",
       "      <td>24</td>\n",
       "      <td>18.0</td>\n",
       "      <td>13</td>\n",
       "      <td>3</td>\n",
       "      <td>0</td>\n",
       "      <td>2</td>\n",
       "      <td>2</td>\n",
       "      <td>0</td>\n",
       "      <td>0</td>\n",
       "      <td>0</td>\n",
       "      <td>9</td>\n",
       "      <td>5</td>\n",
       "      <td>0.230769</td>\n",
       "      <td>Wendel</td>\n",
       "    </tr>\n",
       "    <tr>\n",
       "      <th>Youssoufa Moukoko</th>\n",
       "      <td>481</td>\n",
       "      <td>Youssoufa Moukoko</td>\n",
       "      <td>Centre-Forward</td>\n",
       "      <td>16</td>\n",
       "      <td>18.0</td>\n",
       "      <td>10</td>\n",
       "      <td>3</td>\n",
       "      <td>0</td>\n",
       "      <td>1</td>\n",
       "      <td>1</td>\n",
       "      <td>0</td>\n",
       "      <td>0</td>\n",
       "      <td>6</td>\n",
       "      <td>3</td>\n",
       "      <td>4</td>\n",
       "      <td>0.300000</td>\n",
       "      <td>Moukoko</td>\n",
       "    </tr>\n",
       "    <tr>\n",
       "      <th>Gregor Kobel</th>\n",
       "      <td>499</td>\n",
       "      <td>Gregor Kobel</td>\n",
       "      <td>Goalkeeper</td>\n",
       "      <td>23</td>\n",
       "      <td>18.0</td>\n",
       "      <td>12</td>\n",
       "      <td>0</td>\n",
       "      <td>0</td>\n",
       "      <td>0</td>\n",
       "      <td>0</td>\n",
       "      <td>0</td>\n",
       "      <td>0</td>\n",
       "      <td>0</td>\n",
       "      <td>0</td>\n",
       "      <td>0</td>\n",
       "      <td>0.000000</td>\n",
       "      <td>Kobel</td>\n",
       "    </tr>\n",
       "    <tr>\n",
       "      <th>Alexis Saelemaekers</th>\n",
       "      <td>486</td>\n",
       "      <td>Alexis Saelemaekers</td>\n",
       "      <td>Right Winger</td>\n",
       "      <td>22</td>\n",
       "      <td>18.0</td>\n",
       "      <td>9</td>\n",
       "      <td>0</td>\n",
       "      <td>0</td>\n",
       "      <td>2</td>\n",
       "      <td>1</td>\n",
       "      <td>0</td>\n",
       "      <td>0</td>\n",
       "      <td>2</td>\n",
       "      <td>5</td>\n",
       "      <td>2</td>\n",
       "      <td>0.000000</td>\n",
       "      <td>Saelemaekers</td>\n",
       "    </tr>\n",
       "    <tr>\n",
       "      <th>Éverton</th>\n",
       "      <td>493</td>\n",
       "      <td>Éverton</td>\n",
       "      <td>Left Winger</td>\n",
       "      <td>25</td>\n",
       "      <td>18.0</td>\n",
       "      <td>13</td>\n",
       "      <td>0</td>\n",
       "      <td>0</td>\n",
       "      <td>1</td>\n",
       "      <td>1</td>\n",
       "      <td>0</td>\n",
       "      <td>0</td>\n",
       "      <td>7</td>\n",
       "      <td>4</td>\n",
       "      <td>1</td>\n",
       "      <td>0.000000</td>\n",
       "      <td>Éverton</td>\n",
       "    </tr>\n",
       "    <tr>\n",
       "      <th>David Raya</th>\n",
       "      <td>498</td>\n",
       "      <td>David Raya</td>\n",
       "      <td>Goalkeeper</td>\n",
       "      <td>26</td>\n",
       "      <td>18.0</td>\n",
       "      <td>7</td>\n",
       "      <td>0</td>\n",
       "      <td>0</td>\n",
       "      <td>0</td>\n",
       "      <td>0</td>\n",
       "      <td>0</td>\n",
       "      <td>0</td>\n",
       "      <td>0</td>\n",
       "      <td>0</td>\n",
       "      <td>0</td>\n",
       "      <td>0.000000</td>\n",
       "      <td>Raya</td>\n",
       "    </tr>\n",
       "    <tr>\n",
       "      <th>Danilo</th>\n",
       "      <td>452</td>\n",
       "      <td>Danilo</td>\n",
       "      <td>Right-Back</td>\n",
       "      <td>30</td>\n",
       "      <td>20.0</td>\n",
       "      <td>7</td>\n",
       "      <td>0</td>\n",
       "      <td>0</td>\n",
       "      <td>0</td>\n",
       "      <td>1</td>\n",
       "      <td>0</td>\n",
       "      <td>0</td>\n",
       "      <td>0</td>\n",
       "      <td>0</td>\n",
       "      <td>0</td>\n",
       "      <td>0.000000</td>\n",
       "      <td>Danilo</td>\n",
       "    </tr>\n",
       "    <tr>\n",
       "      <th>Serge Aurier</th>\n",
       "      <td>454</td>\n",
       "      <td>Serge Aurier</td>\n",
       "      <td>Right-Back</td>\n",
       "      <td>28</td>\n",
       "      <td>20.0</td>\n",
       "      <td>0</td>\n",
       "      <td>0</td>\n",
       "      <td>0</td>\n",
       "      <td>0</td>\n",
       "      <td>0</td>\n",
       "      <td>0</td>\n",
       "      <td>0</td>\n",
       "      <td>0</td>\n",
       "      <td>0</td>\n",
       "      <td>0</td>\n",
       "      <td>0.000000</td>\n",
       "      <td>Aurier</td>\n",
       "    </tr>\n",
       "    <tr>\n",
       "      <th>Emil Forsberg</th>\n",
       "      <td>456</td>\n",
       "      <td>Emil Forsberg</td>\n",
       "      <td>Left Winger</td>\n",
       "      <td>29</td>\n",
       "      <td>20.0</td>\n",
       "      <td>10</td>\n",
       "      <td>2</td>\n",
       "      <td>0</td>\n",
       "      <td>1</td>\n",
       "      <td>0</td>\n",
       "      <td>0</td>\n",
       "      <td>0</td>\n",
       "      <td>2</td>\n",
       "      <td>4</td>\n",
       "      <td>3</td>\n",
       "      <td>0.200000</td>\n",
       "      <td>Forsberg</td>\n",
       "    </tr>\n",
       "    <tr>\n",
       "      <th>Kieran Trippier</th>\n",
       "      <td>458</td>\n",
       "      <td>Kieran Trippier</td>\n",
       "      <td>Right-Back</td>\n",
       "      <td>31</td>\n",
       "      <td>20.0</td>\n",
       "      <td>9</td>\n",
       "      <td>0</td>\n",
       "      <td>0</td>\n",
       "      <td>0</td>\n",
       "      <td>1</td>\n",
       "      <td>0</td>\n",
       "      <td>0</td>\n",
       "      <td>3</td>\n",
       "      <td>5</td>\n",
       "      <td>0</td>\n",
       "      <td>0.000000</td>\n",
       "      <td>Trippier</td>\n",
       "    </tr>\n",
       "    <tr>\n",
       "      <th>Jordi Alba</th>\n",
       "      <td>462</td>\n",
       "      <td>Jordi Alba</td>\n",
       "      <td>Left-Back</td>\n",
       "      <td>32</td>\n",
       "      <td>20.0</td>\n",
       "      <td>4</td>\n",
       "      <td>0</td>\n",
       "      <td>0</td>\n",
       "      <td>1</td>\n",
       "      <td>1</td>\n",
       "      <td>0</td>\n",
       "      <td>0</td>\n",
       "      <td>0</td>\n",
       "      <td>1</td>\n",
       "      <td>1</td>\n",
       "      <td>0.000000</td>\n",
       "      <td>Alba</td>\n",
       "    </tr>\n",
       "    <tr>\n",
       "      <th>Ángel Di María</th>\n",
       "      <td>465</td>\n",
       "      <td>Ángel Di María</td>\n",
       "      <td>Right Winger</td>\n",
       "      <td>33</td>\n",
       "      <td>20.0</td>\n",
       "      <td>6</td>\n",
       "      <td>1</td>\n",
       "      <td>0</td>\n",
       "      <td>2</td>\n",
       "      <td>1</td>\n",
       "      <td>0</td>\n",
       "      <td>0</td>\n",
       "      <td>2</td>\n",
       "      <td>3</td>\n",
       "      <td>3</td>\n",
       "      <td>0.166667</td>\n",
       "      <td>María</td>\n",
       "    </tr>\n",
       "    <tr>\n",
       "      <th>Rayan Cherki</th>\n",
       "      <td>344</td>\n",
       "      <td>Rayan Cherki</td>\n",
       "      <td>Attacking Midfield</td>\n",
       "      <td>18</td>\n",
       "      <td>23.0</td>\n",
       "      <td>10</td>\n",
       "      <td>4</td>\n",
       "      <td>0</td>\n",
       "      <td>2</td>\n",
       "      <td>1</td>\n",
       "      <td>0</td>\n",
       "      <td>0</td>\n",
       "      <td>6</td>\n",
       "      <td>3</td>\n",
       "      <td>6</td>\n",
       "      <td>0.400000</td>\n",
       "      <td>Cherki</td>\n",
       "    </tr>\n",
       "    <tr>\n",
       "      <th>Cristiano Ronaldo</th>\n",
       "      <td>112</td>\n",
       "      <td>Cristiano Ronaldo</td>\n",
       "      <td>Centre-Forward</td>\n",
       "      <td>36</td>\n",
       "      <td>45.0</td>\n",
       "      <td>7</td>\n",
       "      <td>5</td>\n",
       "      <td>0</td>\n",
       "      <td>0</td>\n",
       "      <td>2</td>\n",
       "      <td>0</td>\n",
       "      <td>0</td>\n",
       "      <td>2</td>\n",
       "      <td>1</td>\n",
       "      <td>5</td>\n",
       "      <td>0.714286</td>\n",
       "      <td>Ronaldo</td>\n",
       "    </tr>\n",
       "    <tr>\n",
       "      <th>Lionel Messi</th>\n",
       "      <td>22</td>\n",
       "      <td>Lionel Messi</td>\n",
       "      <td>Right Winger</td>\n",
       "      <td>34</td>\n",
       "      <td>80.0</td>\n",
       "      <td>5</td>\n",
       "      <td>1</td>\n",
       "      <td>0</td>\n",
       "      <td>0</td>\n",
       "      <td>1</td>\n",
       "      <td>0</td>\n",
       "      <td>0</td>\n",
       "      <td>1</td>\n",
       "      <td>1</td>\n",
       "      <td>1</td>\n",
       "      <td>0.200000</td>\n",
       "      <td>Messi</td>\n",
       "    </tr>\n",
       "  </tbody>\n",
       "</table>\n",
       "</div>"
      ],
      "text/plain": [
       "                       #               Player            Position  Age  \\\n",
       "Player                                                                   \n",
       "Wilmar Barrios       500       Wilmar Barrios  Defensive Midfield   27   \n",
       "Mohamed Simakan      472      Mohamed Simakan         Centre-Back   21   \n",
       "Rayan Aït Nouri      473      Rayan Aït Nouri           Left-Back   20   \n",
       "Amad Diallo          474          Amad Diallo        Right Winger   19   \n",
       "Wendel               478               Wendel    Central Midfield   24   \n",
       "Youssoufa Moukoko    481    Youssoufa Moukoko      Centre-Forward   16   \n",
       "Gregor Kobel         499         Gregor Kobel          Goalkeeper   23   \n",
       "Alexis Saelemaekers  486  Alexis Saelemaekers        Right Winger   22   \n",
       "Éverton              493              Éverton         Left Winger   25   \n",
       "David Raya           498           David Raya          Goalkeeper   26   \n",
       "Danilo               452               Danilo          Right-Back   30   \n",
       "Serge Aurier         454         Serge Aurier          Right-Back   28   \n",
       "Emil Forsberg        456        Emil Forsberg         Left Winger   29   \n",
       "Kieran Trippier      458      Kieran Trippier          Right-Back   31   \n",
       "Jordi Alba           462           Jordi Alba           Left-Back   32   \n",
       "Ángel Di María       465       Ángel Di María        Right Winger   33   \n",
       "Rayan Cherki         344         Rayan Cherki  Attacking Midfield   18   \n",
       "Cristiano Ronaldo    112    Cristiano Ronaldo      Centre-Forward   36   \n",
       "Lionel Messi          22         Lionel Messi        Right Winger   34   \n",
       "\n",
       "                     Market value  Matches  Goals  Own goals  Assists  \\\n",
       "Player                                                                  \n",
       "Wilmar Barrios               18.0       10      0          0        0   \n",
       "Mohamed Simakan              18.0        9      0          0        0   \n",
       "Rayan Aït Nouri              18.0        3      0          0        1   \n",
       "Amad Diallo                  18.0        0      0          0        0   \n",
       "Wendel                       18.0       13      3          0        2   \n",
       "Youssoufa Moukoko            18.0       10      3          0        1   \n",
       "Gregor Kobel                 18.0       12      0          0        0   \n",
       "Alexis Saelemaekers          18.0        9      0          0        2   \n",
       "Éverton                      18.0       13      0          0        1   \n",
       "David Raya                   18.0        7      0          0        0   \n",
       "Danilo                       20.0        7      0          0        0   \n",
       "Serge Aurier                 20.0        0      0          0        0   \n",
       "Emil Forsberg                20.0       10      2          0        1   \n",
       "Kieran Trippier              20.0        9      0          0        0   \n",
       "Jordi Alba                   20.0        4      0          0        1   \n",
       "Ángel Di María               20.0        6      1          0        2   \n",
       "Rayan Cherki                 23.0       10      4          0        2   \n",
       "Cristiano Ronaldo            45.0        7      5          0        0   \n",
       "Lionel Messi                 80.0        5      1          0        0   \n",
       "\n",
       "                     Yellow cards  Yellow red cards  Red cards  \\\n",
       "Player                                                           \n",
       "Wilmar Barrios                  0                 0          0   \n",
       "Mohamed Simakan                 0                 0          0   \n",
       "Rayan Aït Nouri                 0                 0          0   \n",
       "Amad Diallo                     0                 0          0   \n",
       "Wendel                          2                 0          0   \n",
       "Youssoufa Moukoko               1                 0          0   \n",
       "Gregor Kobel                    0                 0          0   \n",
       "Alexis Saelemaekers             1                 0          0   \n",
       "Éverton                         1                 0          0   \n",
       "David Raya                      0                 0          0   \n",
       "Danilo                          1                 0          0   \n",
       "Serge Aurier                    0                 0          0   \n",
       "Emil Forsberg                   0                 0          0   \n",
       "Kieran Trippier                 1                 0          0   \n",
       "Jordi Alba                      1                 0          0   \n",
       "Ángel Di María                  1                 0          0   \n",
       "Rayan Cherki                    1                 0          0   \n",
       "Cristiano Ronaldo               2                 0          0   \n",
       "Lionel Messi                    1                 0          0   \n",
       "\n",
       "                     Substitutions on  Substitutions off  Scorer Points  \\\n",
       "Player                                                                    \n",
       "Wilmar Barrios                      0                  2              0   \n",
       "Mohamed Simakan                     1                  3              0   \n",
       "Rayan Aït Nouri                     1                  2              1   \n",
       "Amad Diallo                         0                  0              0   \n",
       "Wendel                              0                  9              5   \n",
       "Youssoufa Moukoko                   6                  3              4   \n",
       "Gregor Kobel                        0                  0              0   \n",
       "Alexis Saelemaekers                 2                  5              2   \n",
       "Éverton                             7                  4              1   \n",
       "David Raya                          0                  0              0   \n",
       "Danilo                              0                  0              0   \n",
       "Serge Aurier                        0                  0              0   \n",
       "Emil Forsberg                       2                  4              3   \n",
       "Kieran Trippier                     3                  5              0   \n",
       "Jordi Alba                          0                  1              1   \n",
       "Ángel Di María                      2                  3              3   \n",
       "Rayan Cherki                        6                  3              6   \n",
       "Cristiano Ronaldo                   2                  1              5   \n",
       "Lionel Messi                        1                  1              1   \n",
       "\n",
       "                     goals_per_game     Last Name  \n",
       "Player                                             \n",
       "Wilmar Barrios             0.000000       Barrios  \n",
       "Mohamed Simakan            0.000000       Simakan  \n",
       "Rayan Aït Nouri            0.000000         Nouri  \n",
       "Amad Diallo                0.000000        Diallo  \n",
       "Wendel                     0.230769        Wendel  \n",
       "Youssoufa Moukoko          0.300000       Moukoko  \n",
       "Gregor Kobel               0.000000         Kobel  \n",
       "Alexis Saelemaekers        0.000000  Saelemaekers  \n",
       "Éverton                    0.000000       Éverton  \n",
       "David Raya                 0.000000          Raya  \n",
       "Danilo                     0.000000        Danilo  \n",
       "Serge Aurier               0.000000        Aurier  \n",
       "Emil Forsberg              0.200000      Forsberg  \n",
       "Kieran Trippier            0.000000      Trippier  \n",
       "Jordi Alba                 0.000000          Alba  \n",
       "Ángel Di María             0.166667         María  \n",
       "Rayan Cherki               0.400000        Cherki  \n",
       "Cristiano Ronaldo          0.714286       Ronaldo  \n",
       "Lionel Messi               0.200000         Messi  "
      ]
     },
     "execution_count": 63,
     "metadata": {},
     "output_type": "execute_result"
    }
   ],
   "source": [
    "df.sort_values('Market value',ascending=True).drop_duplicates(subset='Age')"
   ]
  },
  {
   "cell_type": "markdown",
   "metadata": {
    "pycharm": {
     "name": "#%% md\n"
    }
   },
   "source": [
    "Use ``df.sample()`` to get a random sample form your dataset:"
   ]
  },
  {
   "cell_type": "code",
   "execution_count": 69,
   "metadata": {
    "pycharm": {
     "name": "#%%\n"
    }
   },
   "outputs": [
    {
     "name": "stdout",
     "output_type": "stream",
     "text": [
      "                   #           Player          Position  Age  Market value  \\\n",
      "Player                                                                       \n",
      "Alisson           62          Alisson        Goalkeeper   29          60.0   \n",
      "Matthias Ginter  268  Matthias Ginter       Centre-Back   27          27.0   \n",
      "Weston McKennie  300  Weston McKennie  Central Midfield   23          25.0   \n",
      "Jérémy Doku      270      Jérémy Doku      Right Winger   19          26.0   \n",
      "Victor Osimhen    79   Victor Osimhen    Centre-Forward   22          50.0   \n",
      "\n",
      "                 Matches  \n",
      "Player                    \n",
      "Alisson                9  \n",
      "Matthias Ginter        7  \n",
      "Weston McKennie        7  \n",
      "Jérémy Doku            4  \n",
      "Victor Osimhen         8  \n"
     ]
    }
   ],
   "source": [
    "# Choose 5 players randomly from the datasset\n",
    "print(df.sample(5).iloc[:,:6])\n"
   ]
  },
  {
   "cell_type": "markdown",
   "metadata": {},
   "source": [
    "<span style=\"color:blue\"><b>Task:</b></span> Choose 10% of the df."
   ]
  },
  {
   "cell_type": "code",
   "execution_count": 71,
   "metadata": {},
   "outputs": [
    {
     "data": {
      "text/html": [
       "<div>\n",
       "<style scoped>\n",
       "    .dataframe tbody tr th:only-of-type {\n",
       "        vertical-align: middle;\n",
       "    }\n",
       "\n",
       "    .dataframe tbody tr th {\n",
       "        vertical-align: top;\n",
       "    }\n",
       "\n",
       "    .dataframe thead th {\n",
       "        text-align: right;\n",
       "    }\n",
       "</style>\n",
       "<table border=\"1\" class=\"dataframe\">\n",
       "  <thead>\n",
       "    <tr style=\"text-align: right;\">\n",
       "      <th></th>\n",
       "      <th>#</th>\n",
       "      <th>Player</th>\n",
       "      <th>Position</th>\n",
       "      <th>Age</th>\n",
       "      <th>Market value</th>\n",
       "      <th>Matches</th>\n",
       "      <th>Goals</th>\n",
       "      <th>Own goals</th>\n",
       "      <th>Assists</th>\n",
       "      <th>Yellow cards</th>\n",
       "      <th>Yellow red cards</th>\n",
       "      <th>Red cards</th>\n",
       "      <th>Substitutions on</th>\n",
       "      <th>Substitutions off</th>\n",
       "      <th>Scorer Points</th>\n",
       "      <th>goals_per_game</th>\n",
       "      <th>Last Name</th>\n",
       "    </tr>\n",
       "    <tr>\n",
       "      <th>Player</th>\n",
       "      <th></th>\n",
       "      <th></th>\n",
       "      <th></th>\n",
       "      <th></th>\n",
       "      <th></th>\n",
       "      <th></th>\n",
       "      <th></th>\n",
       "      <th></th>\n",
       "      <th></th>\n",
       "      <th></th>\n",
       "      <th></th>\n",
       "      <th></th>\n",
       "      <th></th>\n",
       "      <th></th>\n",
       "      <th></th>\n",
       "      <th></th>\n",
       "      <th></th>\n",
       "    </tr>\n",
       "  </thead>\n",
       "  <tbody>\n",
       "    <tr>\n",
       "      <th>Sadio Mané</th>\n",
       "      <td>15</td>\n",
       "      <td>Sadio Mané</td>\n",
       "      <td>Left Winger</td>\n",
       "      <td>29</td>\n",
       "      <td>85.0</td>\n",
       "      <td>9</td>\n",
       "      <td>5</td>\n",
       "      <td>0</td>\n",
       "      <td>0</td>\n",
       "      <td>0</td>\n",
       "      <td>0</td>\n",
       "      <td>0</td>\n",
       "      <td>1</td>\n",
       "      <td>1</td>\n",
       "      <td>5</td>\n",
       "      <td>0.555556</td>\n",
       "      <td>Mané</td>\n",
       "    </tr>\n",
       "    <tr>\n",
       "      <th>Ferland Mendy</th>\n",
       "      <td>86</td>\n",
       "      <td>Ferland Mendy</td>\n",
       "      <td>Left-Back</td>\n",
       "      <td>26</td>\n",
       "      <td>50.0</td>\n",
       "      <td>0</td>\n",
       "      <td>0</td>\n",
       "      <td>0</td>\n",
       "      <td>0</td>\n",
       "      <td>0</td>\n",
       "      <td>0</td>\n",
       "      <td>0</td>\n",
       "      <td>0</td>\n",
       "      <td>0</td>\n",
       "      <td>0</td>\n",
       "      <td>0.000000</td>\n",
       "      <td>Mendy</td>\n",
       "    </tr>\n",
       "    <tr>\n",
       "      <th>Dodô</th>\n",
       "      <td>408</td>\n",
       "      <td>Dodô</td>\n",
       "      <td>Right-Back</td>\n",
       "      <td>22</td>\n",
       "      <td>20.0</td>\n",
       "      <td>13</td>\n",
       "      <td>0</td>\n",
       "      <td>0</td>\n",
       "      <td>1</td>\n",
       "      <td>1</td>\n",
       "      <td>0</td>\n",
       "      <td>0</td>\n",
       "      <td>0</td>\n",
       "      <td>0</td>\n",
       "      <td>1</td>\n",
       "      <td>0.000000</td>\n",
       "      <td>Dodô</td>\n",
       "    </tr>\n",
       "    <tr>\n",
       "      <th>Gabriel Martinelli</th>\n",
       "      <td>349</td>\n",
       "      <td>Gabriel Martinelli</td>\n",
       "      <td>Left Winger</td>\n",
       "      <td>20</td>\n",
       "      <td>22.0</td>\n",
       "      <td>5</td>\n",
       "      <td>1</td>\n",
       "      <td>0</td>\n",
       "      <td>1</td>\n",
       "      <td>0</td>\n",
       "      <td>0</td>\n",
       "      <td>0</td>\n",
       "      <td>2</td>\n",
       "      <td>3</td>\n",
       "      <td>2</td>\n",
       "      <td>0.200000</td>\n",
       "      <td>Martinelli</td>\n",
       "    </tr>\n",
       "    <tr>\n",
       "      <th>Harry Winks</th>\n",
       "      <td>437</td>\n",
       "      <td>Harry Winks</td>\n",
       "      <td>Defensive Midfield</td>\n",
       "      <td>25</td>\n",
       "      <td>20.0</td>\n",
       "      <td>5</td>\n",
       "      <td>0</td>\n",
       "      <td>0</td>\n",
       "      <td>1</td>\n",
       "      <td>0</td>\n",
       "      <td>0</td>\n",
       "      <td>0</td>\n",
       "      <td>1</td>\n",
       "      <td>1</td>\n",
       "      <td>1</td>\n",
       "      <td>0.000000</td>\n",
       "      <td>Winks</td>\n",
       "    </tr>\n",
       "    <tr>\n",
       "      <th>Alex Iwobi</th>\n",
       "      <td>375</td>\n",
       "      <td>Alex Iwobi</td>\n",
       "      <td>Left Winger</td>\n",
       "      <td>25</td>\n",
       "      <td>22.0</td>\n",
       "      <td>8</td>\n",
       "      <td>1</td>\n",
       "      <td>0</td>\n",
       "      <td>1</td>\n",
       "      <td>0</td>\n",
       "      <td>0</td>\n",
       "      <td>0</td>\n",
       "      <td>3</td>\n",
       "      <td>3</td>\n",
       "      <td>2</td>\n",
       "      <td>0.125000</td>\n",
       "      <td>Iwobi</td>\n",
       "    </tr>\n",
       "    <tr>\n",
       "      <th>Noni Madueke</th>\n",
       "      <td>476</td>\n",
       "      <td>Noni Madueke</td>\n",
       "      <td>Right Winger</td>\n",
       "      <td>19</td>\n",
       "      <td>18.0</td>\n",
       "      <td>15</td>\n",
       "      <td>6</td>\n",
       "      <td>0</td>\n",
       "      <td>1</td>\n",
       "      <td>0</td>\n",
       "      <td>0</td>\n",
       "      <td>0</td>\n",
       "      <td>2</td>\n",
       "      <td>13</td>\n",
       "      <td>7</td>\n",
       "      <td>0.400000</td>\n",
       "      <td>Madueke</td>\n",
       "    </tr>\n",
       "    <tr>\n",
       "      <th>Diogo Jota</th>\n",
       "      <td>99</td>\n",
       "      <td>Diogo Jota</td>\n",
       "      <td>Left Winger</td>\n",
       "      <td>24</td>\n",
       "      <td>45.0</td>\n",
       "      <td>10</td>\n",
       "      <td>3</td>\n",
       "      <td>0</td>\n",
       "      <td>1</td>\n",
       "      <td>1</td>\n",
       "      <td>0</td>\n",
       "      <td>0</td>\n",
       "      <td>2</td>\n",
       "      <td>7</td>\n",
       "      <td>4</td>\n",
       "      <td>0.300000</td>\n",
       "      <td>Jota</td>\n",
       "    </tr>\n",
       "    <tr>\n",
       "      <th>Enock Mwepu</th>\n",
       "      <td>401</td>\n",
       "      <td>Enock Mwepu</td>\n",
       "      <td>Central Midfield</td>\n",
       "      <td>23</td>\n",
       "      <td>20.0</td>\n",
       "      <td>4</td>\n",
       "      <td>0</td>\n",
       "      <td>0</td>\n",
       "      <td>1</td>\n",
       "      <td>1</td>\n",
       "      <td>0</td>\n",
       "      <td>0</td>\n",
       "      <td>2</td>\n",
       "      <td>2</td>\n",
       "      <td>1</td>\n",
       "      <td>0.000000</td>\n",
       "      <td>Mwepu</td>\n",
       "    </tr>\n",
       "    <tr>\n",
       "      <th>Tariq Lamptey</th>\n",
       "      <td>475</td>\n",
       "      <td>Tariq Lamptey</td>\n",
       "      <td>Right-Back</td>\n",
       "      <td>21</td>\n",
       "      <td>18.0</td>\n",
       "      <td>1</td>\n",
       "      <td>0</td>\n",
       "      <td>0</td>\n",
       "      <td>0</td>\n",
       "      <td>0</td>\n",
       "      <td>0</td>\n",
       "      <td>0</td>\n",
       "      <td>0</td>\n",
       "      <td>1</td>\n",
       "      <td>0</td>\n",
       "      <td>0.000000</td>\n",
       "      <td>Lamptey</td>\n",
       "    </tr>\n",
       "    <tr>\n",
       "      <th>Mikel Merino</th>\n",
       "      <td>133</td>\n",
       "      <td>Mikel Merino</td>\n",
       "      <td>Central Midfield</td>\n",
       "      <td>25</td>\n",
       "      <td>40.0</td>\n",
       "      <td>11</td>\n",
       "      <td>2</td>\n",
       "      <td>0</td>\n",
       "      <td>0</td>\n",
       "      <td>1</td>\n",
       "      <td>0</td>\n",
       "      <td>0</td>\n",
       "      <td>0</td>\n",
       "      <td>3</td>\n",
       "      <td>2</td>\n",
       "      <td>0.181818</td>\n",
       "      <td>Merino</td>\n",
       "    </tr>\n",
       "    <tr>\n",
       "      <th>Riqui Puig</th>\n",
       "      <td>492</td>\n",
       "      <td>Riqui Puig</td>\n",
       "      <td>Central Midfield</td>\n",
       "      <td>22</td>\n",
       "      <td>18.0</td>\n",
       "      <td>4</td>\n",
       "      <td>0</td>\n",
       "      <td>0</td>\n",
       "      <td>0</td>\n",
       "      <td>0</td>\n",
       "      <td>0</td>\n",
       "      <td>0</td>\n",
       "      <td>4</td>\n",
       "      <td>0</td>\n",
       "      <td>0</td>\n",
       "      <td>0.000000</td>\n",
       "      <td>Puig</td>\n",
       "    </tr>\n",
       "    <tr>\n",
       "      <th>James Maddison</th>\n",
       "      <td>84</td>\n",
       "      <td>James Maddison</td>\n",
       "      <td>Attacking Midfield</td>\n",
       "      <td>24</td>\n",
       "      <td>50.0</td>\n",
       "      <td>10</td>\n",
       "      <td>0</td>\n",
       "      <td>0</td>\n",
       "      <td>0</td>\n",
       "      <td>1</td>\n",
       "      <td>0</td>\n",
       "      <td>0</td>\n",
       "      <td>4</td>\n",
       "      <td>6</td>\n",
       "      <td>0</td>\n",
       "      <td>0.000000</td>\n",
       "      <td>Maddison</td>\n",
       "    </tr>\n",
       "    <tr>\n",
       "      <th>Victor Osimhen</th>\n",
       "      <td>79</td>\n",
       "      <td>Victor Osimhen</td>\n",
       "      <td>Centre-Forward</td>\n",
       "      <td>22</td>\n",
       "      <td>50.0</td>\n",
       "      <td>8</td>\n",
       "      <td>7</td>\n",
       "      <td>0</td>\n",
       "      <td>1</td>\n",
       "      <td>1</td>\n",
       "      <td>0</td>\n",
       "      <td>1</td>\n",
       "      <td>1</td>\n",
       "      <td>5</td>\n",
       "      <td>8</td>\n",
       "      <td>0.875000</td>\n",
       "      <td>Osimhen</td>\n",
       "    </tr>\n",
       "    <tr>\n",
       "      <th>Ricardo Pereira</th>\n",
       "      <td>227</td>\n",
       "      <td>Ricardo Pereira</td>\n",
       "      <td>Right-Back</td>\n",
       "      <td>28</td>\n",
       "      <td>30.0</td>\n",
       "      <td>6</td>\n",
       "      <td>0</td>\n",
       "      <td>0</td>\n",
       "      <td>2</td>\n",
       "      <td>1</td>\n",
       "      <td>0</td>\n",
       "      <td>0</td>\n",
       "      <td>0</td>\n",
       "      <td>2</td>\n",
       "      <td>2</td>\n",
       "      <td>0.000000</td>\n",
       "      <td>Pereira</td>\n",
       "    </tr>\n",
       "    <tr>\n",
       "      <th>Kalidou Koulibaly</th>\n",
       "      <td>94</td>\n",
       "      <td>Kalidou Koulibaly</td>\n",
       "      <td>Centre-Back</td>\n",
       "      <td>30</td>\n",
       "      <td>48.0</td>\n",
       "      <td>9</td>\n",
       "      <td>2</td>\n",
       "      <td>0</td>\n",
       "      <td>1</td>\n",
       "      <td>1</td>\n",
       "      <td>0</td>\n",
       "      <td>0</td>\n",
       "      <td>0</td>\n",
       "      <td>0</td>\n",
       "      <td>3</td>\n",
       "      <td>0.222222</td>\n",
       "      <td>Koulibaly</td>\n",
       "    </tr>\n",
       "    <tr>\n",
       "      <th>Duván Zapata</th>\n",
       "      <td>196</td>\n",
       "      <td>Duván Zapata</td>\n",
       "      <td>Centre-Forward</td>\n",
       "      <td>30</td>\n",
       "      <td>33.0</td>\n",
       "      <td>7</td>\n",
       "      <td>3</td>\n",
       "      <td>0</td>\n",
       "      <td>3</td>\n",
       "      <td>2</td>\n",
       "      <td>0</td>\n",
       "      <td>0</td>\n",
       "      <td>0</td>\n",
       "      <td>4</td>\n",
       "      <td>6</td>\n",
       "      <td>0.428571</td>\n",
       "      <td>Zapata</td>\n",
       "    </tr>\n",
       "    <tr>\n",
       "      <th>John Stones</th>\n",
       "      <td>232</td>\n",
       "      <td>John Stones</td>\n",
       "      <td>Centre-Back</td>\n",
       "      <td>27</td>\n",
       "      <td>30.0</td>\n",
       "      <td>0</td>\n",
       "      <td>0</td>\n",
       "      <td>0</td>\n",
       "      <td>0</td>\n",
       "      <td>0</td>\n",
       "      <td>0</td>\n",
       "      <td>0</td>\n",
       "      <td>0</td>\n",
       "      <td>0</td>\n",
       "      <td>0</td>\n",
       "      <td>0.000000</td>\n",
       "      <td>Stones</td>\n",
       "    </tr>\n",
       "    <tr>\n",
       "      <th>Fred</th>\n",
       "      <td>378</td>\n",
       "      <td>Fred</td>\n",
       "      <td>Central Midfield</td>\n",
       "      <td>28</td>\n",
       "      <td>22.0</td>\n",
       "      <td>8</td>\n",
       "      <td>1</td>\n",
       "      <td>1</td>\n",
       "      <td>0</td>\n",
       "      <td>2</td>\n",
       "      <td>0</td>\n",
       "      <td>0</td>\n",
       "      <td>1</td>\n",
       "      <td>4</td>\n",
       "      <td>1</td>\n",
       "      <td>0.125000</td>\n",
       "      <td>Fred</td>\n",
       "    </tr>\n",
       "    <tr>\n",
       "      <th>Denis Zakaria</th>\n",
       "      <td>263</td>\n",
       "      <td>Denis Zakaria</td>\n",
       "      <td>Defensive Midfield</td>\n",
       "      <td>24</td>\n",
       "      <td>27.0</td>\n",
       "      <td>6</td>\n",
       "      <td>2</td>\n",
       "      <td>0</td>\n",
       "      <td>1</td>\n",
       "      <td>3</td>\n",
       "      <td>0</td>\n",
       "      <td>0</td>\n",
       "      <td>1</td>\n",
       "      <td>0</td>\n",
       "      <td>3</td>\n",
       "      <td>0.333333</td>\n",
       "      <td>Zakaria</td>\n",
       "    </tr>\n",
       "    <tr>\n",
       "      <th>Arthur</th>\n",
       "      <td>129</td>\n",
       "      <td>Arthur</td>\n",
       "      <td>Central Midfield</td>\n",
       "      <td>25</td>\n",
       "      <td>40.0</td>\n",
       "      <td>0</td>\n",
       "      <td>0</td>\n",
       "      <td>0</td>\n",
       "      <td>0</td>\n",
       "      <td>0</td>\n",
       "      <td>0</td>\n",
       "      <td>0</td>\n",
       "      <td>0</td>\n",
       "      <td>0</td>\n",
       "      <td>0</td>\n",
       "      <td>0.000000</td>\n",
       "      <td>Arthur</td>\n",
       "    </tr>\n",
       "    <tr>\n",
       "      <th>Jonathan Ikoné</th>\n",
       "      <td>302</td>\n",
       "      <td>Jonathan Ikoné</td>\n",
       "      <td>Second Striker</td>\n",
       "      <td>23</td>\n",
       "      <td>25.0</td>\n",
       "      <td>12</td>\n",
       "      <td>1</td>\n",
       "      <td>0</td>\n",
       "      <td>0</td>\n",
       "      <td>2</td>\n",
       "      <td>0</td>\n",
       "      <td>0</td>\n",
       "      <td>5</td>\n",
       "      <td>7</td>\n",
       "      <td>1</td>\n",
       "      <td>0.083333</td>\n",
       "      <td>Ikoné</td>\n",
       "    </tr>\n",
       "    <tr>\n",
       "      <th>Phil Foden</th>\n",
       "      <td>19</td>\n",
       "      <td>Phil Foden</td>\n",
       "      <td>Central Midfield</td>\n",
       "      <td>21</td>\n",
       "      <td>80.0</td>\n",
       "      <td>6</td>\n",
       "      <td>2</td>\n",
       "      <td>0</td>\n",
       "      <td>2</td>\n",
       "      <td>0</td>\n",
       "      <td>0</td>\n",
       "      <td>0</td>\n",
       "      <td>3</td>\n",
       "      <td>1</td>\n",
       "      <td>4</td>\n",
       "      <td>0.333333</td>\n",
       "      <td>Foden</td>\n",
       "    </tr>\n",
       "    <tr>\n",
       "      <th>David Neres</th>\n",
       "      <td>353</td>\n",
       "      <td>David Neres</td>\n",
       "      <td>Right Winger</td>\n",
       "      <td>24</td>\n",
       "      <td>22.0</td>\n",
       "      <td>10</td>\n",
       "      <td>2</td>\n",
       "      <td>0</td>\n",
       "      <td>1</td>\n",
       "      <td>0</td>\n",
       "      <td>0</td>\n",
       "      <td>0</td>\n",
       "      <td>8</td>\n",
       "      <td>1</td>\n",
       "      <td>3</td>\n",
       "      <td>0.200000</td>\n",
       "      <td>Neres</td>\n",
       "    </tr>\n",
       "    <tr>\n",
       "      <th>Diego Rossi</th>\n",
       "      <td>495</td>\n",
       "      <td>Diego Rossi</td>\n",
       "      <td>Left Winger</td>\n",
       "      <td>23</td>\n",
       "      <td>18.0</td>\n",
       "      <td>7</td>\n",
       "      <td>1</td>\n",
       "      <td>0</td>\n",
       "      <td>3</td>\n",
       "      <td>1</td>\n",
       "      <td>0</td>\n",
       "      <td>0</td>\n",
       "      <td>1</td>\n",
       "      <td>4</td>\n",
       "      <td>4</td>\n",
       "      <td>0.142857</td>\n",
       "      <td>Rossi</td>\n",
       "    </tr>\n",
       "    <tr>\n",
       "      <th>Julian Weigl</th>\n",
       "      <td>446</td>\n",
       "      <td>Julian Weigl</td>\n",
       "      <td>Defensive Midfield</td>\n",
       "      <td>26</td>\n",
       "      <td>20.0</td>\n",
       "      <td>12</td>\n",
       "      <td>2</td>\n",
       "      <td>0</td>\n",
       "      <td>3</td>\n",
       "      <td>4</td>\n",
       "      <td>0</td>\n",
       "      <td>0</td>\n",
       "      <td>2</td>\n",
       "      <td>3</td>\n",
       "      <td>5</td>\n",
       "      <td>0.166667</td>\n",
       "      <td>Weigl</td>\n",
       "    </tr>\n",
       "    <tr>\n",
       "      <th>Richarlison</th>\n",
       "      <td>67</td>\n",
       "      <td>Richarlison</td>\n",
       "      <td>Centre-Forward</td>\n",
       "      <td>24</td>\n",
       "      <td>55.0</td>\n",
       "      <td>4</td>\n",
       "      <td>1</td>\n",
       "      <td>0</td>\n",
       "      <td>1</td>\n",
       "      <td>2</td>\n",
       "      <td>0</td>\n",
       "      <td>0</td>\n",
       "      <td>0</td>\n",
       "      <td>2</td>\n",
       "      <td>2</td>\n",
       "      <td>0.250000</td>\n",
       "      <td>Richarlison</td>\n",
       "    </tr>\n",
       "    <tr>\n",
       "      <th>Patson Daka</th>\n",
       "      <td>359</td>\n",
       "      <td>Patson Daka</td>\n",
       "      <td>Centre-Forward</td>\n",
       "      <td>23</td>\n",
       "      <td>22.0</td>\n",
       "      <td>5</td>\n",
       "      <td>0</td>\n",
       "      <td>0</td>\n",
       "      <td>0</td>\n",
       "      <td>0</td>\n",
       "      <td>0</td>\n",
       "      <td>0</td>\n",
       "      <td>3</td>\n",
       "      <td>2</td>\n",
       "      <td>0</td>\n",
       "      <td>0.000000</td>\n",
       "      <td>Daka</td>\n",
       "    </tr>\n",
       "    <tr>\n",
       "      <th>Tetê</th>\n",
       "      <td>413</td>\n",
       "      <td>Tetê</td>\n",
       "      <td>Right Winger</td>\n",
       "      <td>21</td>\n",
       "      <td>20.0</td>\n",
       "      <td>15</td>\n",
       "      <td>3</td>\n",
       "      <td>0</td>\n",
       "      <td>1</td>\n",
       "      <td>4</td>\n",
       "      <td>0</td>\n",
       "      <td>0</td>\n",
       "      <td>4</td>\n",
       "      <td>8</td>\n",
       "      <td>4</td>\n",
       "      <td>0.200000</td>\n",
       "      <td>Tetê</td>\n",
       "    </tr>\n",
       "    <tr>\n",
       "      <th>Nabil Fekir</th>\n",
       "      <td>317</td>\n",
       "      <td>Nabil Fekir</td>\n",
       "      <td>Attacking Midfield</td>\n",
       "      <td>28</td>\n",
       "      <td>25.0</td>\n",
       "      <td>10</td>\n",
       "      <td>2</td>\n",
       "      <td>0</td>\n",
       "      <td>2</td>\n",
       "      <td>5</td>\n",
       "      <td>0</td>\n",
       "      <td>0</td>\n",
       "      <td>0</td>\n",
       "      <td>5</td>\n",
       "      <td>4</td>\n",
       "      <td>0.200000</td>\n",
       "      <td>Fekir</td>\n",
       "    </tr>\n",
       "    <tr>\n",
       "      <th>Houssem Aouar</th>\n",
       "      <td>167</td>\n",
       "      <td>Houssem Aouar</td>\n",
       "      <td>Central Midfield</td>\n",
       "      <td>23</td>\n",
       "      <td>35.0</td>\n",
       "      <td>11</td>\n",
       "      <td>2</td>\n",
       "      <td>0</td>\n",
       "      <td>2</td>\n",
       "      <td>0</td>\n",
       "      <td>0</td>\n",
       "      <td>0</td>\n",
       "      <td>1</td>\n",
       "      <td>3</td>\n",
       "      <td>4</td>\n",
       "      <td>0.181818</td>\n",
       "      <td>Aouar</td>\n",
       "    </tr>\n",
       "    <tr>\n",
       "      <th>Rayan Cherki</th>\n",
       "      <td>344</td>\n",
       "      <td>Rayan Cherki</td>\n",
       "      <td>Attacking Midfield</td>\n",
       "      <td>18</td>\n",
       "      <td>23.0</td>\n",
       "      <td>10</td>\n",
       "      <td>4</td>\n",
       "      <td>0</td>\n",
       "      <td>2</td>\n",
       "      <td>1</td>\n",
       "      <td>0</td>\n",
       "      <td>0</td>\n",
       "      <td>6</td>\n",
       "      <td>3</td>\n",
       "      <td>6</td>\n",
       "      <td>0.400000</td>\n",
       "      <td>Cherki</td>\n",
       "    </tr>\n",
       "    <tr>\n",
       "      <th>Danny Ings</th>\n",
       "      <td>384</td>\n",
       "      <td>Danny Ings</td>\n",
       "      <td>Centre-Forward</td>\n",
       "      <td>29</td>\n",
       "      <td>22.0</td>\n",
       "      <td>7</td>\n",
       "      <td>2</td>\n",
       "      <td>0</td>\n",
       "      <td>2</td>\n",
       "      <td>1</td>\n",
       "      <td>0</td>\n",
       "      <td>0</td>\n",
       "      <td>0</td>\n",
       "      <td>4</td>\n",
       "      <td>4</td>\n",
       "      <td>0.285714</td>\n",
       "      <td>Ings</td>\n",
       "    </tr>\n",
       "    <tr>\n",
       "      <th>Marcel Sabitzer</th>\n",
       "      <td>208</td>\n",
       "      <td>Marcel Sabitzer</td>\n",
       "      <td>Central Midfield</td>\n",
       "      <td>27</td>\n",
       "      <td>32.0</td>\n",
       "      <td>8</td>\n",
       "      <td>0</td>\n",
       "      <td>0</td>\n",
       "      <td>0</td>\n",
       "      <td>1</td>\n",
       "      <td>0</td>\n",
       "      <td>0</td>\n",
       "      <td>8</td>\n",
       "      <td>0</td>\n",
       "      <td>0</td>\n",
       "      <td>0.000000</td>\n",
       "      <td>Sabitzer</td>\n",
       "    </tr>\n",
       "    <tr>\n",
       "      <th>Ciro Immobile</th>\n",
       "      <td>158</td>\n",
       "      <td>Ciro Immobile</td>\n",
       "      <td>Centre-Forward</td>\n",
       "      <td>31</td>\n",
       "      <td>38.0</td>\n",
       "      <td>8</td>\n",
       "      <td>6</td>\n",
       "      <td>0</td>\n",
       "      <td>2</td>\n",
       "      <td>0</td>\n",
       "      <td>0</td>\n",
       "      <td>0</td>\n",
       "      <td>0</td>\n",
       "      <td>6</td>\n",
       "      <td>8</td>\n",
       "      <td>0.750000</td>\n",
       "      <td>Immobile</td>\n",
       "    </tr>\n",
       "    <tr>\n",
       "      <th>Aaron Ramsdale</th>\n",
       "      <td>405</td>\n",
       "      <td>Aaron Ramsdale</td>\n",
       "      <td>Goalkeeper</td>\n",
       "      <td>23</td>\n",
       "      <td>20.0</td>\n",
       "      <td>7</td>\n",
       "      <td>0</td>\n",
       "      <td>0</td>\n",
       "      <td>0</td>\n",
       "      <td>0</td>\n",
       "      <td>0</td>\n",
       "      <td>0</td>\n",
       "      <td>0</td>\n",
       "      <td>0</td>\n",
       "      <td>0</td>\n",
       "      <td>0.000000</td>\n",
       "      <td>Ramsdale</td>\n",
       "    </tr>\n",
       "    <tr>\n",
       "      <th>Unai Simón</th>\n",
       "      <td>432</td>\n",
       "      <td>Unai Simón</td>\n",
       "      <td>Goalkeeper</td>\n",
       "      <td>24</td>\n",
       "      <td>20.0</td>\n",
       "      <td>7</td>\n",
       "      <td>0</td>\n",
       "      <td>0</td>\n",
       "      <td>0</td>\n",
       "      <td>1</td>\n",
       "      <td>0</td>\n",
       "      <td>0</td>\n",
       "      <td>0</td>\n",
       "      <td>1</td>\n",
       "      <td>0</td>\n",
       "      <td>0.000000</td>\n",
       "      <td>Simón</td>\n",
       "    </tr>\n",
       "    <tr>\n",
       "      <th>Tomas Soucek</th>\n",
       "      <td>115</td>\n",
       "      <td>Tomas Soucek</td>\n",
       "      <td>Defensive Midfield</td>\n",
       "      <td>26</td>\n",
       "      <td>42.0</td>\n",
       "      <td>10</td>\n",
       "      <td>1</td>\n",
       "      <td>0</td>\n",
       "      <td>1</td>\n",
       "      <td>0</td>\n",
       "      <td>0</td>\n",
       "      <td>0</td>\n",
       "      <td>1</td>\n",
       "      <td>1</td>\n",
       "      <td>2</td>\n",
       "      <td>0.100000</td>\n",
       "      <td>Soucek</td>\n",
       "    </tr>\n",
       "    <tr>\n",
       "      <th>Jeff Reine-Adélaïde</th>\n",
       "      <td>424</td>\n",
       "      <td>Jeff Reine-Adélaïde</td>\n",
       "      <td>Attacking Midfield</td>\n",
       "      <td>23</td>\n",
       "      <td>20.0</td>\n",
       "      <td>0</td>\n",
       "      <td>0</td>\n",
       "      <td>0</td>\n",
       "      <td>0</td>\n",
       "      <td>0</td>\n",
       "      <td>0</td>\n",
       "      <td>0</td>\n",
       "      <td>0</td>\n",
       "      <td>0</td>\n",
       "      <td>0</td>\n",
       "      <td>0.000000</td>\n",
       "      <td>Reine-Adélaïde</td>\n",
       "    </tr>\n",
       "    <tr>\n",
       "      <th>Christopher Nkunku</th>\n",
       "      <td>95</td>\n",
       "      <td>Christopher Nkunku</td>\n",
       "      <td>Attacking Midfield</td>\n",
       "      <td>23</td>\n",
       "      <td>47.0</td>\n",
       "      <td>10</td>\n",
       "      <td>9</td>\n",
       "      <td>0</td>\n",
       "      <td>3</td>\n",
       "      <td>0</td>\n",
       "      <td>0</td>\n",
       "      <td>0</td>\n",
       "      <td>0</td>\n",
       "      <td>4</td>\n",
       "      <td>12</td>\n",
       "      <td>0.900000</td>\n",
       "      <td>Nkunku</td>\n",
       "    </tr>\n",
       "    <tr>\n",
       "      <th>Ivan Toney</th>\n",
       "      <td>203</td>\n",
       "      <td>Ivan Toney</td>\n",
       "      <td>Centre-Forward</td>\n",
       "      <td>25</td>\n",
       "      <td>32.0</td>\n",
       "      <td>7</td>\n",
       "      <td>2</td>\n",
       "      <td>0</td>\n",
       "      <td>2</td>\n",
       "      <td>1</td>\n",
       "      <td>0</td>\n",
       "      <td>0</td>\n",
       "      <td>0</td>\n",
       "      <td>0</td>\n",
       "      <td>4</td>\n",
       "      <td>0.285714</td>\n",
       "      <td>Toney</td>\n",
       "    </tr>\n",
       "    <tr>\n",
       "      <th>Joachim Andersen</th>\n",
       "      <td>373</td>\n",
       "      <td>Joachim Andersen</td>\n",
       "      <td>Centre-Back</td>\n",
       "      <td>25</td>\n",
       "      <td>22.0</td>\n",
       "      <td>8</td>\n",
       "      <td>0</td>\n",
       "      <td>0</td>\n",
       "      <td>0</td>\n",
       "      <td>2</td>\n",
       "      <td>0</td>\n",
       "      <td>0</td>\n",
       "      <td>1</td>\n",
       "      <td>0</td>\n",
       "      <td>0</td>\n",
       "      <td>0.000000</td>\n",
       "      <td>Andersen</td>\n",
       "    </tr>\n",
       "    <tr>\n",
       "      <th>David Raya</th>\n",
       "      <td>498</td>\n",
       "      <td>David Raya</td>\n",
       "      <td>Goalkeeper</td>\n",
       "      <td>26</td>\n",
       "      <td>18.0</td>\n",
       "      <td>7</td>\n",
       "      <td>0</td>\n",
       "      <td>0</td>\n",
       "      <td>0</td>\n",
       "      <td>0</td>\n",
       "      <td>0</td>\n",
       "      <td>0</td>\n",
       "      <td>0</td>\n",
       "      <td>0</td>\n",
       "      <td>0</td>\n",
       "      <td>0.000000</td>\n",
       "      <td>Raya</td>\n",
       "    </tr>\n",
       "    <tr>\n",
       "      <th>Heung-min Son</th>\n",
       "      <td>16</td>\n",
       "      <td>Heung-min Son</td>\n",
       "      <td>Left Winger</td>\n",
       "      <td>29</td>\n",
       "      <td>85.0</td>\n",
       "      <td>9</td>\n",
       "      <td>3</td>\n",
       "      <td>0</td>\n",
       "      <td>2</td>\n",
       "      <td>0</td>\n",
       "      <td>0</td>\n",
       "      <td>0</td>\n",
       "      <td>3</td>\n",
       "      <td>2</td>\n",
       "      <td>5</td>\n",
       "      <td>0.333333</td>\n",
       "      <td>Son</td>\n",
       "    </tr>\n",
       "    <tr>\n",
       "      <th>Thibaut Courtois</th>\n",
       "      <td>61</td>\n",
       "      <td>Thibaut Courtois</td>\n",
       "      <td>Goalkeeper</td>\n",
       "      <td>29</td>\n",
       "      <td>60.0</td>\n",
       "      <td>10</td>\n",
       "      <td>0</td>\n",
       "      <td>0</td>\n",
       "      <td>0</td>\n",
       "      <td>1</td>\n",
       "      <td>0</td>\n",
       "      <td>0</td>\n",
       "      <td>0</td>\n",
       "      <td>0</td>\n",
       "      <td>0</td>\n",
       "      <td>0.000000</td>\n",
       "      <td>Courtois</td>\n",
       "    </tr>\n",
       "    <tr>\n",
       "      <th>Marc-André ter Stegen</th>\n",
       "      <td>63</td>\n",
       "      <td>Marc-André ter Stegen</td>\n",
       "      <td>Goalkeeper</td>\n",
       "      <td>29</td>\n",
       "      <td>60.0</td>\n",
       "      <td>7</td>\n",
       "      <td>0</td>\n",
       "      <td>0</td>\n",
       "      <td>0</td>\n",
       "      <td>0</td>\n",
       "      <td>0</td>\n",
       "      <td>0</td>\n",
       "      <td>0</td>\n",
       "      <td>0</td>\n",
       "      <td>0</td>\n",
       "      <td>0.000000</td>\n",
       "      <td>Stegen</td>\n",
       "    </tr>\n",
       "    <tr>\n",
       "      <th>Kalvin Phillips</th>\n",
       "      <td>131</td>\n",
       "      <td>Kalvin Phillips</td>\n",
       "      <td>Defensive Midfield</td>\n",
       "      <td>25</td>\n",
       "      <td>40.0</td>\n",
       "      <td>8</td>\n",
       "      <td>1</td>\n",
       "      <td>0</td>\n",
       "      <td>0</td>\n",
       "      <td>1</td>\n",
       "      <td>0</td>\n",
       "      <td>0</td>\n",
       "      <td>0</td>\n",
       "      <td>0</td>\n",
       "      <td>1</td>\n",
       "      <td>0.125000</td>\n",
       "      <td>Phillips</td>\n",
       "    </tr>\n",
       "    <tr>\n",
       "      <th>Marco Verratti</th>\n",
       "      <td>75</td>\n",
       "      <td>Marco Verratti</td>\n",
       "      <td>Central Midfield</td>\n",
       "      <td>28</td>\n",
       "      <td>55.0</td>\n",
       "      <td>4</td>\n",
       "      <td>0</td>\n",
       "      <td>0</td>\n",
       "      <td>0</td>\n",
       "      <td>3</td>\n",
       "      <td>0</td>\n",
       "      <td>0</td>\n",
       "      <td>0</td>\n",
       "      <td>4</td>\n",
       "      <td>0</td>\n",
       "      <td>0.000000</td>\n",
       "      <td>Verratti</td>\n",
       "    </tr>\n",
       "    <tr>\n",
       "      <th>Mike Maignan</th>\n",
       "      <td>321</td>\n",
       "      <td>Mike Maignan</td>\n",
       "      <td>Goalkeeper</td>\n",
       "      <td>26</td>\n",
       "      <td>25.0</td>\n",
       "      <td>9</td>\n",
       "      <td>0</td>\n",
       "      <td>0</td>\n",
       "      <td>0</td>\n",
       "      <td>1</td>\n",
       "      <td>0</td>\n",
       "      <td>0</td>\n",
       "      <td>0</td>\n",
       "      <td>0</td>\n",
       "      <td>0</td>\n",
       "      <td>0.000000</td>\n",
       "      <td>Maignan</td>\n",
       "    </tr>\n",
       "    <tr>\n",
       "      <th>Amadou Haidara</th>\n",
       "      <td>338</td>\n",
       "      <td>Amadou Haidara</td>\n",
       "      <td>Central Midfield</td>\n",
       "      <td>23</td>\n",
       "      <td>24.0</td>\n",
       "      <td>10</td>\n",
       "      <td>3</td>\n",
       "      <td>0</td>\n",
       "      <td>0</td>\n",
       "      <td>0</td>\n",
       "      <td>0</td>\n",
       "      <td>0</td>\n",
       "      <td>3</td>\n",
       "      <td>5</td>\n",
       "      <td>3</td>\n",
       "      <td>0.300000</td>\n",
       "      <td>Haidara</td>\n",
       "    </tr>\n",
       "  </tbody>\n",
       "</table>\n",
       "</div>"
      ],
      "text/plain": [
       "                         #                 Player            Position  Age  \\\n",
       "Player                                                                       \n",
       "Sadio Mané              15             Sadio Mané         Left Winger   29   \n",
       "Ferland Mendy           86          Ferland Mendy           Left-Back   26   \n",
       "Dodô                   408                   Dodô          Right-Back   22   \n",
       "Gabriel Martinelli     349     Gabriel Martinelli         Left Winger   20   \n",
       "Harry Winks            437            Harry Winks  Defensive Midfield   25   \n",
       "Alex Iwobi             375             Alex Iwobi         Left Winger   25   \n",
       "Noni Madueke           476           Noni Madueke        Right Winger   19   \n",
       "Diogo Jota              99             Diogo Jota         Left Winger   24   \n",
       "Enock Mwepu            401            Enock Mwepu    Central Midfield   23   \n",
       "Tariq Lamptey          475          Tariq Lamptey          Right-Back   21   \n",
       "Mikel Merino           133           Mikel Merino    Central Midfield   25   \n",
       "Riqui Puig             492             Riqui Puig    Central Midfield   22   \n",
       "James Maddison          84         James Maddison  Attacking Midfield   24   \n",
       "Victor Osimhen          79         Victor Osimhen      Centre-Forward   22   \n",
       "Ricardo Pereira        227        Ricardo Pereira          Right-Back   28   \n",
       "Kalidou Koulibaly       94      Kalidou Koulibaly         Centre-Back   30   \n",
       "Duván Zapata           196           Duván Zapata      Centre-Forward   30   \n",
       "John Stones            232            John Stones         Centre-Back   27   \n",
       "Fred                   378                   Fred    Central Midfield   28   \n",
       "Denis Zakaria          263          Denis Zakaria  Defensive Midfield   24   \n",
       "Arthur                 129                 Arthur    Central Midfield   25   \n",
       "Jonathan Ikoné         302         Jonathan Ikoné      Second Striker   23   \n",
       "Phil Foden              19             Phil Foden    Central Midfield   21   \n",
       "David Neres            353            David Neres        Right Winger   24   \n",
       "Diego Rossi            495            Diego Rossi         Left Winger   23   \n",
       "Julian Weigl           446           Julian Weigl  Defensive Midfield   26   \n",
       "Richarlison             67            Richarlison      Centre-Forward   24   \n",
       "Patson Daka            359            Patson Daka      Centre-Forward   23   \n",
       "Tetê                   413                   Tetê        Right Winger   21   \n",
       "Nabil Fekir            317            Nabil Fekir  Attacking Midfield   28   \n",
       "Houssem Aouar          167          Houssem Aouar    Central Midfield   23   \n",
       "Rayan Cherki           344           Rayan Cherki  Attacking Midfield   18   \n",
       "Danny Ings             384             Danny Ings      Centre-Forward   29   \n",
       "Marcel Sabitzer        208        Marcel Sabitzer    Central Midfield   27   \n",
       "Ciro Immobile          158          Ciro Immobile      Centre-Forward   31   \n",
       "Aaron Ramsdale         405         Aaron Ramsdale          Goalkeeper   23   \n",
       "Unai Simón             432             Unai Simón          Goalkeeper   24   \n",
       "Tomas Soucek           115           Tomas Soucek  Defensive Midfield   26   \n",
       "Jeff Reine-Adélaïde    424    Jeff Reine-Adélaïde  Attacking Midfield   23   \n",
       "Christopher Nkunku      95     Christopher Nkunku  Attacking Midfield   23   \n",
       "Ivan Toney             203             Ivan Toney      Centre-Forward   25   \n",
       "Joachim Andersen       373       Joachim Andersen         Centre-Back   25   \n",
       "David Raya             498             David Raya          Goalkeeper   26   \n",
       "Heung-min Son           16          Heung-min Son         Left Winger   29   \n",
       "Thibaut Courtois        61       Thibaut Courtois          Goalkeeper   29   \n",
       "Marc-André ter Stegen   63  Marc-André ter Stegen          Goalkeeper   29   \n",
       "Kalvin Phillips        131        Kalvin Phillips  Defensive Midfield   25   \n",
       "Marco Verratti          75         Marco Verratti    Central Midfield   28   \n",
       "Mike Maignan           321           Mike Maignan          Goalkeeper   26   \n",
       "Amadou Haidara         338         Amadou Haidara    Central Midfield   23   \n",
       "\n",
       "                       Market value  Matches  Goals  Own goals  Assists  \\\n",
       "Player                                                                    \n",
       "Sadio Mané                     85.0        9      5          0        0   \n",
       "Ferland Mendy                  50.0        0      0          0        0   \n",
       "Dodô                           20.0       13      0          0        1   \n",
       "Gabriel Martinelli             22.0        5      1          0        1   \n",
       "Harry Winks                    20.0        5      0          0        1   \n",
       "Alex Iwobi                     22.0        8      1          0        1   \n",
       "Noni Madueke                   18.0       15      6          0        1   \n",
       "Diogo Jota                     45.0       10      3          0        1   \n",
       "Enock Mwepu                    20.0        4      0          0        1   \n",
       "Tariq Lamptey                  18.0        1      0          0        0   \n",
       "Mikel Merino                   40.0       11      2          0        0   \n",
       "Riqui Puig                     18.0        4      0          0        0   \n",
       "James Maddison                 50.0       10      0          0        0   \n",
       "Victor Osimhen                 50.0        8      7          0        1   \n",
       "Ricardo Pereira                30.0        6      0          0        2   \n",
       "Kalidou Koulibaly              48.0        9      2          0        1   \n",
       "Duván Zapata                   33.0        7      3          0        3   \n",
       "John Stones                    30.0        0      0          0        0   \n",
       "Fred                           22.0        8      1          1        0   \n",
       "Denis Zakaria                  27.0        6      2          0        1   \n",
       "Arthur                         40.0        0      0          0        0   \n",
       "Jonathan Ikoné                 25.0       12      1          0        0   \n",
       "Phil Foden                     80.0        6      2          0        2   \n",
       "David Neres                    22.0       10      2          0        1   \n",
       "Diego Rossi                    18.0        7      1          0        3   \n",
       "Julian Weigl                   20.0       12      2          0        3   \n",
       "Richarlison                    55.0        4      1          0        1   \n",
       "Patson Daka                    22.0        5      0          0        0   \n",
       "Tetê                           20.0       15      3          0        1   \n",
       "Nabil Fekir                    25.0       10      2          0        2   \n",
       "Houssem Aouar                  35.0       11      2          0        2   \n",
       "Rayan Cherki                   23.0       10      4          0        2   \n",
       "Danny Ings                     22.0        7      2          0        2   \n",
       "Marcel Sabitzer                32.0        8      0          0        0   \n",
       "Ciro Immobile                  38.0        8      6          0        2   \n",
       "Aaron Ramsdale                 20.0        7      0          0        0   \n",
       "Unai Simón                     20.0        7      0          0        0   \n",
       "Tomas Soucek                   42.0       10      1          0        1   \n",
       "Jeff Reine-Adélaïde            20.0        0      0          0        0   \n",
       "Christopher Nkunku             47.0       10      9          0        3   \n",
       "Ivan Toney                     32.0        7      2          0        2   \n",
       "Joachim Andersen               22.0        8      0          0        0   \n",
       "David Raya                     18.0        7      0          0        0   \n",
       "Heung-min Son                  85.0        9      3          0        2   \n",
       "Thibaut Courtois               60.0       10      0          0        0   \n",
       "Marc-André ter Stegen          60.0        7      0          0        0   \n",
       "Kalvin Phillips                40.0        8      1          0        0   \n",
       "Marco Verratti                 55.0        4      0          0        0   \n",
       "Mike Maignan                   25.0        9      0          0        0   \n",
       "Amadou Haidara                 24.0       10      3          0        0   \n",
       "\n",
       "                       Yellow cards  Yellow red cards  Red cards  \\\n",
       "Player                                                             \n",
       "Sadio Mané                        0                 0          0   \n",
       "Ferland Mendy                     0                 0          0   \n",
       "Dodô                              1                 0          0   \n",
       "Gabriel Martinelli                0                 0          0   \n",
       "Harry Winks                       0                 0          0   \n",
       "Alex Iwobi                        0                 0          0   \n",
       "Noni Madueke                      0                 0          0   \n",
       "Diogo Jota                        1                 0          0   \n",
       "Enock Mwepu                       1                 0          0   \n",
       "Tariq Lamptey                     0                 0          0   \n",
       "Mikel Merino                      1                 0          0   \n",
       "Riqui Puig                        0                 0          0   \n",
       "James Maddison                    1                 0          0   \n",
       "Victor Osimhen                    1                 0          1   \n",
       "Ricardo Pereira                   1                 0          0   \n",
       "Kalidou Koulibaly                 1                 0          0   \n",
       "Duván Zapata                      2                 0          0   \n",
       "John Stones                       0                 0          0   \n",
       "Fred                              2                 0          0   \n",
       "Denis Zakaria                     3                 0          0   \n",
       "Arthur                            0                 0          0   \n",
       "Jonathan Ikoné                    2                 0          0   \n",
       "Phil Foden                        0                 0          0   \n",
       "David Neres                       0                 0          0   \n",
       "Diego Rossi                       1                 0          0   \n",
       "Julian Weigl                      4                 0          0   \n",
       "Richarlison                       2                 0          0   \n",
       "Patson Daka                       0                 0          0   \n",
       "Tetê                              4                 0          0   \n",
       "Nabil Fekir                       5                 0          0   \n",
       "Houssem Aouar                     0                 0          0   \n",
       "Rayan Cherki                      1                 0          0   \n",
       "Danny Ings                        1                 0          0   \n",
       "Marcel Sabitzer                   1                 0          0   \n",
       "Ciro Immobile                     0                 0          0   \n",
       "Aaron Ramsdale                    0                 0          0   \n",
       "Unai Simón                        1                 0          0   \n",
       "Tomas Soucek                      0                 0          0   \n",
       "Jeff Reine-Adélaïde               0                 0          0   \n",
       "Christopher Nkunku                0                 0          0   \n",
       "Ivan Toney                        1                 0          0   \n",
       "Joachim Andersen                  2                 0          0   \n",
       "David Raya                        0                 0          0   \n",
       "Heung-min Son                     0                 0          0   \n",
       "Thibaut Courtois                  1                 0          0   \n",
       "Marc-André ter Stegen             0                 0          0   \n",
       "Kalvin Phillips                   1                 0          0   \n",
       "Marco Verratti                    3                 0          0   \n",
       "Mike Maignan                      1                 0          0   \n",
       "Amadou Haidara                    0                 0          0   \n",
       "\n",
       "                       Substitutions on  Substitutions off  Scorer Points  \\\n",
       "Player                                                                      \n",
       "Sadio Mané                            1                  1              5   \n",
       "Ferland Mendy                         0                  0              0   \n",
       "Dodô                                  0                  0              1   \n",
       "Gabriel Martinelli                    2                  3              2   \n",
       "Harry Winks                           1                  1              1   \n",
       "Alex Iwobi                            3                  3              2   \n",
       "Noni Madueke                          2                 13              7   \n",
       "Diogo Jota                            2                  7              4   \n",
       "Enock Mwepu                           2                  2              1   \n",
       "Tariq Lamptey                         0                  1              0   \n",
       "Mikel Merino                          0                  3              2   \n",
       "Riqui Puig                            4                  0              0   \n",
       "James Maddison                        4                  6              0   \n",
       "Victor Osimhen                        1                  5              8   \n",
       "Ricardo Pereira                       0                  2              2   \n",
       "Kalidou Koulibaly                     0                  0              3   \n",
       "Duván Zapata                          0                  4              6   \n",
       "John Stones                           0                  0              0   \n",
       "Fred                                  1                  4              1   \n",
       "Denis Zakaria                         1                  0              3   \n",
       "Arthur                                0                  0              0   \n",
       "Jonathan Ikoné                        5                  7              1   \n",
       "Phil Foden                            3                  1              4   \n",
       "David Neres                           8                  1              3   \n",
       "Diego Rossi                           1                  4              4   \n",
       "Julian Weigl                          2                  3              5   \n",
       "Richarlison                           0                  2              2   \n",
       "Patson Daka                           3                  2              0   \n",
       "Tetê                                  4                  8              4   \n",
       "Nabil Fekir                           0                  5              4   \n",
       "Houssem Aouar                         1                  3              4   \n",
       "Rayan Cherki                          6                  3              6   \n",
       "Danny Ings                            0                  4              4   \n",
       "Marcel Sabitzer                       8                  0              0   \n",
       "Ciro Immobile                         0                  6              8   \n",
       "Aaron Ramsdale                        0                  0              0   \n",
       "Unai Simón                            0                  1              0   \n",
       "Tomas Soucek                          1                  1              2   \n",
       "Jeff Reine-Adélaïde                   0                  0              0   \n",
       "Christopher Nkunku                    0                  4             12   \n",
       "Ivan Toney                            0                  0              4   \n",
       "Joachim Andersen                      1                  0              0   \n",
       "David Raya                            0                  0              0   \n",
       "Heung-min Son                         3                  2              5   \n",
       "Thibaut Courtois                      0                  0              0   \n",
       "Marc-André ter Stegen                 0                  0              0   \n",
       "Kalvin Phillips                       0                  0              1   \n",
       "Marco Verratti                        0                  4              0   \n",
       "Mike Maignan                          0                  0              0   \n",
       "Amadou Haidara                        3                  5              3   \n",
       "\n",
       "                       goals_per_game       Last Name  \n",
       "Player                                                 \n",
       "Sadio Mané                   0.555556            Mané  \n",
       "Ferland Mendy                0.000000           Mendy  \n",
       "Dodô                         0.000000            Dodô  \n",
       "Gabriel Martinelli           0.200000      Martinelli  \n",
       "Harry Winks                  0.000000           Winks  \n",
       "Alex Iwobi                   0.125000           Iwobi  \n",
       "Noni Madueke                 0.400000         Madueke  \n",
       "Diogo Jota                   0.300000            Jota  \n",
       "Enock Mwepu                  0.000000           Mwepu  \n",
       "Tariq Lamptey                0.000000         Lamptey  \n",
       "Mikel Merino                 0.181818          Merino  \n",
       "Riqui Puig                   0.000000            Puig  \n",
       "James Maddison               0.000000        Maddison  \n",
       "Victor Osimhen               0.875000         Osimhen  \n",
       "Ricardo Pereira              0.000000         Pereira  \n",
       "Kalidou Koulibaly            0.222222       Koulibaly  \n",
       "Duván Zapata                 0.428571          Zapata  \n",
       "John Stones                  0.000000          Stones  \n",
       "Fred                         0.125000            Fred  \n",
       "Denis Zakaria                0.333333         Zakaria  \n",
       "Arthur                       0.000000          Arthur  \n",
       "Jonathan Ikoné               0.083333           Ikoné  \n",
       "Phil Foden                   0.333333           Foden  \n",
       "David Neres                  0.200000           Neres  \n",
       "Diego Rossi                  0.142857           Rossi  \n",
       "Julian Weigl                 0.166667           Weigl  \n",
       "Richarlison                  0.250000     Richarlison  \n",
       "Patson Daka                  0.000000            Daka  \n",
       "Tetê                         0.200000            Tetê  \n",
       "Nabil Fekir                  0.200000           Fekir  \n",
       "Houssem Aouar                0.181818           Aouar  \n",
       "Rayan Cherki                 0.400000          Cherki  \n",
       "Danny Ings                   0.285714            Ings  \n",
       "Marcel Sabitzer              0.000000        Sabitzer  \n",
       "Ciro Immobile                0.750000        Immobile  \n",
       "Aaron Ramsdale               0.000000        Ramsdale  \n",
       "Unai Simón                   0.000000           Simón  \n",
       "Tomas Soucek                 0.100000          Soucek  \n",
       "Jeff Reine-Adélaïde          0.000000  Reine-Adélaïde  \n",
       "Christopher Nkunku           0.900000          Nkunku  \n",
       "Ivan Toney                   0.285714           Toney  \n",
       "Joachim Andersen             0.000000        Andersen  \n",
       "David Raya                   0.000000            Raya  \n",
       "Heung-min Son                0.333333             Son  \n",
       "Thibaut Courtois             0.000000        Courtois  \n",
       "Marc-André ter Stegen        0.000000          Stegen  \n",
       "Kalvin Phillips              0.125000        Phillips  \n",
       "Marco Verratti               0.000000        Verratti  \n",
       "Mike Maignan                 0.000000         Maignan  \n",
       "Amadou Haidara               0.300000         Haidara  "
      ]
     },
     "execution_count": 71,
     "metadata": {},
     "output_type": "execute_result"
    }
   ],
   "source": [
    "df.sample(int(len(df)*0.1))\n",
    "df.sample(frac=0.1)"
   ]
  },
  {
   "cell_type": "markdown",
   "metadata": {},
   "source": [
    "### Group by\n",
    "\n"
   ]
  },
  {
   "cell_type": "code",
   "execution_count": 75,
   "metadata": {},
   "outputs": [
    {
     "name": "stdout",
     "output_type": "stream",
     "text": [
      "                             #        Age  Market value   Matches     Goals  \\\n",
      "Position                                                                      \n",
      "Attacking Midfield  241.731707  24.365854     36.804878  7.926829  1.853659   \n",
      "Central Midfield    231.337838  25.054054     36.702703  7.351351  0.864865   \n",
      "Centre-Back         250.735632  24.839080     33.137931  7.597701  0.252874   \n",
      "Centre-Forward      235.507463  25.716418     38.194030  7.865672  3.567164   \n",
      "Defensive Midfield  258.317073  25.048780     34.292683  7.731707  0.609756   \n",
      "Goalkeeper          300.681818  26.227273     32.818182  7.909091  0.000000   \n",
      "Left Midfield       317.000000  23.142857     29.285714  7.285714  1.571429   \n",
      "Left Winger         230.404255  24.319149     40.234043  8.170213  1.680851   \n",
      "Left-Back           242.750000  25.333333     33.875000  6.333333  0.458333   \n",
      "Right Midfield      293.333333  25.333333     25.666667  4.666667  0.000000   \n",
      "Right Winger        253.434783  24.391304     34.043478  7.826087  2.043478   \n",
      "Right-Back          313.000000  24.818182     28.515152  7.212121  0.515152   \n",
      "Second Striker      210.000000  26.500000     39.750000  8.250000  2.500000   \n",
      "\n",
      "                    Own goals   Assists  Yellow cards  Yellow red cards  \\\n",
      "Position                                                                  \n",
      "Attacking Midfield   0.000000  1.292683      0.853659          0.000000   \n",
      "Central Midfield     0.013514  1.135135      0.837838          0.027027   \n",
      "Centre-Back          0.011494  0.218391      1.195402          0.034483   \n",
      "Centre-Forward       0.000000  1.358209      0.820896          0.029851   \n",
      "Defensive Midfield   0.000000  0.731707      1.463415          0.024390   \n",
      "Goalkeeper           0.000000  0.000000      0.500000          0.000000   \n",
      "Left Midfield        0.000000  1.142857      1.142857          0.000000   \n",
      "Left Winger          0.000000  1.510638      0.893617          0.021277   \n",
      "Left-Back            0.083333  0.833333      0.916667          0.041667   \n",
      "Right Midfield       0.000000  0.666667      1.333333          0.000000   \n",
      "Right Winger         0.000000  0.869565      0.847826          0.043478   \n",
      "Right-Back           0.060606  0.757576      0.969697          0.000000   \n",
      "Second Striker       0.000000  1.500000      1.125000          0.125000   \n",
      "\n",
      "                    Red cards  Substitutions on  Substitutions off  \\\n",
      "Position                                                             \n",
      "Attacking Midfield   0.024390          2.268293           3.780488   \n",
      "Central Midfield     0.013514          1.486486           2.729730   \n",
      "Centre-Back          0.022989          0.586207           0.735632   \n",
      "Centre-Forward       0.044776          1.761194           3.014925   \n",
      "Defensive Midfield   0.024390          1.365854           1.731707   \n",
      "Goalkeeper           0.000000          0.000000           0.090909   \n",
      "Left Midfield        0.000000          1.142857           3.428571   \n",
      "Left Winger          0.000000          1.957447           3.744681   \n",
      "Left-Back            0.000000          1.166667           1.625000   \n",
      "Right Midfield       0.000000          1.000000           0.666667   \n",
      "Right Winger         0.000000          2.239130           3.586957   \n",
      "Right-Back           0.090909          1.030303           1.363636   \n",
      "Second Striker       0.000000          2.125000           3.625000   \n",
      "\n",
      "                    Scorer Points  goals_per_game  \n",
      "Position                                           \n",
      "Attacking Midfield       3.146341        0.204955  \n",
      "Central Midfield         2.000000        0.096951  \n",
      "Centre-Back              0.471264        0.031718  \n",
      "Centre-Forward           4.925373        0.421252  \n",
      "Defensive Midfield       1.341463        0.071317  \n",
      "Goalkeeper               0.000000        0.000000  \n",
      "Left Midfield            2.714286        0.167460  \n",
      "Left Winger              3.191489        0.185364  \n",
      "Left-Back                1.291667        0.073228  \n",
      "Right Midfield           0.666667        0.000000  \n",
      "Right Winger             2.913043        0.242480  \n",
      "Right-Back               1.272727        0.059793  \n",
      "Second Striker           4.000000        0.313163  \n"
     ]
    }
   ],
   "source": [
    "print(df.select_dtypes(include='number').groupby(df['Position']).mean())"
   ]
  },
  {
   "cell_type": "markdown",
   "metadata": {
    "pycharm": {
     "name": "#%%\n"
    }
   },
   "source": [
    "<span style=\"color:blue\"><b>Task:</b></span> Show the mean market value for each position for each age."
   ]
  },
  {
   "cell_type": "code",
   "execution_count": 76,
   "metadata": {},
   "outputs": [
    {
     "data": {
      "text/html": [
       "<div>\n",
       "<style scoped>\n",
       "    .dataframe tbody tr th:only-of-type {\n",
       "        vertical-align: middle;\n",
       "    }\n",
       "\n",
       "    .dataframe tbody tr th {\n",
       "        vertical-align: top;\n",
       "    }\n",
       "\n",
       "    .dataframe thead th {\n",
       "        text-align: right;\n",
       "    }\n",
       "</style>\n",
       "<table border=\"1\" class=\"dataframe\">\n",
       "  <thead>\n",
       "    <tr style=\"text-align: right;\">\n",
       "      <th></th>\n",
       "      <th></th>\n",
       "      <th>Market value</th>\n",
       "    </tr>\n",
       "    <tr>\n",
       "      <th>Position</th>\n",
       "      <th>Age</th>\n",
       "      <th></th>\n",
       "    </tr>\n",
       "  </thead>\n",
       "  <tbody>\n",
       "    <tr>\n",
       "      <th rowspan=\"5\" valign=\"top\">Attacking Midfield</th>\n",
       "      <th>18</th>\n",
       "      <td>45.000000</td>\n",
       "    </tr>\n",
       "    <tr>\n",
       "      <th>20</th>\n",
       "      <td>20.000000</td>\n",
       "    </tr>\n",
       "    <tr>\n",
       "      <th>21</th>\n",
       "      <td>22.666667</td>\n",
       "    </tr>\n",
       "    <tr>\n",
       "      <th>22</th>\n",
       "      <td>51.750000</td>\n",
       "    </tr>\n",
       "    <tr>\n",
       "      <th>23</th>\n",
       "      <td>34.250000</td>\n",
       "    </tr>\n",
       "    <tr>\n",
       "      <th>...</th>\n",
       "      <th>...</th>\n",
       "      <td>...</td>\n",
       "    </tr>\n",
       "    <tr>\n",
       "      <th rowspan=\"5\" valign=\"top\">Second Striker</th>\n",
       "      <th>22</th>\n",
       "      <td>20.000000</td>\n",
       "    </tr>\n",
       "    <tr>\n",
       "      <th>23</th>\n",
       "      <td>25.000000</td>\n",
       "    </tr>\n",
       "    <tr>\n",
       "      <th>27</th>\n",
       "      <td>40.000000</td>\n",
       "    </tr>\n",
       "    <tr>\n",
       "      <th>30</th>\n",
       "      <td>41.500000</td>\n",
       "    </tr>\n",
       "    <tr>\n",
       "      <th>32</th>\n",
       "      <td>30.000000</td>\n",
       "    </tr>\n",
       "  </tbody>\n",
       "</table>\n",
       "<p>138 rows × 1 columns</p>\n",
       "</div>"
      ],
      "text/plain": [
       "                        Market value\n",
       "Position           Age              \n",
       "Attacking Midfield 18      45.000000\n",
       "                   20      20.000000\n",
       "                   21      22.666667\n",
       "                   22      51.750000\n",
       "                   23      34.250000\n",
       "...                              ...\n",
       "Second Striker     22      20.000000\n",
       "                   23      25.000000\n",
       "                   27      40.000000\n",
       "                   30      41.500000\n",
       "                   32      30.000000\n",
       "\n",
       "[138 rows x 1 columns]"
      ]
     },
     "execution_count": 76,
     "metadata": {},
     "output_type": "execute_result"
    }
   ],
   "source": [
    "df_agg=df[['Market value','Position','Age']].groupby(['Position','Age']).mean()\n",
    "df_agg"
   ]
  },
  {
   "cell_type": "markdown",
   "metadata": {
    "pycharm": {
     "name": "#%%\n"
    }
   },
   "source": [
    "<span style=\"color:blue\"><b>Task:</b></span> Add a new column to the df with the mean market value respective to the position (Use a list comprehension)"
   ]
  },
  {
   "cell_type": "code",
   "execution_count": 80,
   "metadata": {
    "pycharm": {
     "name": "#%%\n"
    }
   },
   "outputs": [
    {
     "name": "stdout",
     "output_type": "stream",
     "text": [
      "                    Market value\n",
      "Position                        \n",
      "Attacking Midfield     36.804878\n",
      "Central Midfield       36.702703\n",
      "Centre-Back            33.137931\n",
      "Centre-Forward         38.194030\n",
      "Defensive Midfield     34.292683\n",
      "Goalkeeper             32.818182\n",
      "Left Midfield          29.285714\n",
      "Left Winger            40.234043\n",
      "Left-Back              33.875000\n",
      "Right Midfield         25.666667\n",
      "Right Winger           34.043478\n",
      "Right-Back             28.515152\n",
      "Second Striker         39.750000\n",
      "Player\n",
      "Kylian Mbappé     38.194030\n",
      "Erling Haaland    38.194030\n",
      "Harry Kane        38.194030\n",
      "Jack Grealish     40.234043\n",
      "Mohamed Salah     34.043478\n",
      "                    ...    \n",
      "Tom Davies        36.702703\n",
      "Hans Hateboer     28.515152\n",
      "David Raya        32.818182\n",
      "Gregor Kobel      32.818182\n",
      "Wilmar Barrios    34.292683\n",
      "Name: Position mean, Length: 500, dtype: float64\n"
     ]
    }
   ],
   "source": [
    "# Create a series with maps the postion to its mean market value\n",
    "postion_mean=df[['Market value','Position']].groupby('Position').mean()\n",
    "print(postion_mean)\n",
    "# Create a new column and fill it with the the position means\n",
    "df['Position mean']=[postion_mean.loc[position,'Market value'] for position in df['Position']]\n",
    "\n",
    "print(df['Position mean'])"
   ]
  },
  {
   "cell_type": "markdown",
   "metadata": {},
   "source": [
    "<span style=\"color:blue\"><b>Task:</b></span> Apply Position Fixed Effects"
   ]
  },
  {
   "cell_type": "code",
   "execution_count": 82,
   "metadata": {},
   "outputs": [],
   "source": [
    "df['MV_FE']=df['Market value']-df['Position mean']"
   ]
  },
  {
   "cell_type": "code",
   "execution_count": 83,
   "metadata": {},
   "outputs": [
    {
     "data": {
      "text/plain": [
       "Player\n",
       "Kylian Mbappé     121.805970\n",
       "Erling Haaland    111.805970\n",
       "Harry Kane         81.805970\n",
       "Jack Grealish      59.765957\n",
       "Mohamed Salah      65.956522\n",
       "                     ...    \n",
       "Tom Davies        -18.702703\n",
       "Hans Hateboer     -10.515152\n",
       "David Raya        -14.818182\n",
       "Gregor Kobel      -14.818182\n",
       "Wilmar Barrios    -16.292683\n",
       "Name: MV_FE, Length: 500, dtype: float64"
      ]
     },
     "execution_count": 83,
     "metadata": {},
     "output_type": "execute_result"
    }
   ],
   "source": [
    "df['MV_FE']"
   ]
  },
  {
   "cell_type": "code",
   "execution_count": null,
   "metadata": {},
   "outputs": [],
   "source": []
  }
 ],
 "metadata": {
  "kernelspec": {
   "display_name": "Python 3 (ipykernel)",
   "language": "python",
   "name": "python3"
  },
  "language_info": {
   "codemirror_mode": {
    "name": "ipython",
    "version": 3
   },
   "file_extension": ".py",
   "mimetype": "text/x-python",
   "name": "python",
   "nbconvert_exporter": "python",
   "pygments_lexer": "ipython3",
   "version": "3.11.5"
  }
 },
 "nbformat": 4,
 "nbformat_minor": 1
}
