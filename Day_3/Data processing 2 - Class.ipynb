{
 "cells": [
  {
   "cell_type": "markdown",
   "metadata": {},
   "source": [
    "# Data processing 2\n",
    "\n",
    "## Contents <a id=ov>\n",
    "7. [Plotting](#plt)\n",
    "8. [Statsmodels](#sm)\n",
    "9. [Sklearn](#sm)\n",
    "\n",
    "\n"
   ]
  },
  {
   "cell_type": "code",
   "execution_count": 2,
   "metadata": {
    "pycharm": {
     "name": "#%%\n"
    }
   },
   "outputs": [
    {
     "name": "stderr",
     "output_type": "stream",
     "text": [
      "C:\\Users\\myfix\\AppData\\Local\\anaconda3\\Lib\\site-packages\\pandas\\core\\arrays\\masked.py:60: UserWarning: Pandas requires version '1.3.6' or newer of 'bottleneck' (version '1.3.5' currently installed).\n",
      "  from pandas.core import (\n"
     ]
    },
    {
     "name": "stdout",
     "output_type": "stream",
     "text": [
      "       #          Player            Position  Age  Market_value  Matches  \\\n",
      "0      1   Kylian Mbappé      Centre-Forward   22         160.0       11   \n",
      "1      2  Erling Haaland      Centre-Forward   21         150.0        8   \n",
      "2      3      Harry Kane      Centre-Forward   28         120.0       10   \n",
      "3      4   Jack Grealish         Left Winger   26         100.0       10   \n",
      "4      5   Mohamed Salah        Right Winger   29         100.0        9   \n",
      "..   ...             ...                 ...  ...           ...      ...   \n",
      "495  496      Tom Davies    Central Midfield   23          18.0        5   \n",
      "496  497   Hans Hateboer          Right-Back   27          18.0        0   \n",
      "497  498      David Raya          Goalkeeper   26          18.0        7   \n",
      "498  499    Gregor Kobel          Goalkeeper   23          18.0       12   \n",
      "499  500  Wilmar Barrios  Defensive Midfield   27          18.0       10   \n",
      "\n",
      "     Goals  Own_goals  Assists  Yellow_cards  Yellow_red_cards  Red_cards  \\\n",
      "0        4          0        5             2                 0          0   \n",
      "1       11          0        4             1                 0          0   \n",
      "2        6          0        0             2                 0          0   \n",
      "3        2          0        2             1                 0          0   \n",
      "4        9          0        3             1                 0          0   \n",
      "..     ...        ...      ...           ...               ...        ...   \n",
      "495      0          0        1             0                 0          0   \n",
      "496      0          0        0             0                 0          0   \n",
      "497      0          0        0             0                 0          0   \n",
      "498      0          0        0             0                 0          0   \n",
      "499      0          0        0             0                 0          0   \n",
      "\n",
      "     Substitutions_on  Substitutions_off  \n",
      "0                   0                  5  \n",
      "1                   0                  1  \n",
      "2                   2                  2  \n",
      "3                   1                  5  \n",
      "4                   0                  2  \n",
      "..                ...                ...  \n",
      "495                 3                  1  \n",
      "496                 0                  0  \n",
      "497                 0                  0  \n",
      "498                 0                  0  \n",
      "499                 0                  2  \n",
      "\n",
      "[500 rows x 14 columns]\n"
     ]
    }
   ],
   "source": [
    "import numpy as np\n",
    "import pandas as pd\n",
    "#Import data from a excel_file\n",
    "df=pd.read_excel('top_500_football_players.xlsx',sheet_name='final')\n",
    "\n",
    "df['Market value'] = [float(value.replace('€','').replace('m','')) for value in df['Market value']]\n",
    "\n",
    "df.columns=[col.replace(' ','_') for col in df.columns]\n",
    "print(df)"
   ]
  },
  {
   "cell_type": "markdown",
   "metadata": {},
   "source": [
    "## Plotting <a id=plt>\n",
    "[Back to Content Overview](#ov)\n",
    "\n",
    "The most popular liberary for creating plots in Python is Matplotlib:"
   ]
  },
  {
   "cell_type": "code",
   "execution_count": 3,
   "metadata": {
    "pycharm": {
     "name": "#%%\n"
    }
   },
   "outputs": [
    {
     "name": "stdout",
     "output_type": "stream",
     "text": [
      "Requirement already satisfied: matplotlib in c:\\users\\myfix\\appdata\\local\\anaconda3\\lib\\site-packages (3.7.2)\n",
      "Requirement already satisfied: contourpy>=1.0.1 in c:\\users\\myfix\\appdata\\local\\anaconda3\\lib\\site-packages (from matplotlib) (1.0.5)\n",
      "Requirement already satisfied: cycler>=0.10 in c:\\users\\myfix\\appdata\\local\\anaconda3\\lib\\site-packages (from matplotlib) (0.11.0)\n",
      "Requirement already satisfied: fonttools>=4.22.0 in c:\\users\\myfix\\appdata\\local\\anaconda3\\lib\\site-packages (from matplotlib) (4.25.0)\n",
      "Requirement already satisfied: kiwisolver>=1.0.1 in c:\\users\\myfix\\appdata\\local\\anaconda3\\lib\\site-packages (from matplotlib) (1.4.4)\n",
      "Requirement already satisfied: numpy>=1.20 in c:\\users\\myfix\\appdata\\local\\anaconda3\\lib\\site-packages (from matplotlib) (1.24.3)\n",
      "Requirement already satisfied: packaging>=20.0 in c:\\users\\myfix\\appdata\\local\\anaconda3\\lib\\site-packages (from matplotlib) (23.1)\n",
      "Requirement already satisfied: pillow>=6.2.0 in c:\\users\\myfix\\appdata\\local\\anaconda3\\lib\\site-packages (from matplotlib) (9.4.0)\n",
      "Requirement already satisfied: pyparsing<3.1,>=2.3.1 in c:\\users\\myfix\\appdata\\local\\anaconda3\\lib\\site-packages (from matplotlib) (3.0.9)\n",
      "Requirement already satisfied: python-dateutil>=2.7 in c:\\users\\myfix\\appdata\\local\\anaconda3\\lib\\site-packages (from matplotlib) (2.8.2)\n",
      "Requirement already satisfied: six>=1.5 in c:\\users\\myfix\\appdata\\local\\anaconda3\\lib\\site-packages (from python-dateutil>=2.7->matplotlib) (1.16.0)\n"
     ]
    }
   ],
   "source": [
    "import sys\n",
    "!{sys.executable} -m pip install matplotlib\n",
    "import matplotlib.pyplot as plt"
   ]
  },
  {
   "cell_type": "markdown",
   "metadata": {},
   "source": [
    "### Standard plot"
   ]
  },
  {
   "cell_type": "code",
   "execution_count": 4,
   "metadata": {
    "pycharm": {
     "name": "#%%\n"
    }
   },
   "outputs": [
    {
     "name": "stdout",
     "output_type": "stream",
     "text": [
      "       #              Player            Position  Age  Market_value  Matches  \\\n",
      "480  481   Youssoufa Moukoko      Centre-Forward   16          18.0       10   \n",
      "16    17               Pedri    Central Midfield   18          80.0        5   \n",
      "118  119         Nuno Mendes           Left-Back   19          40.0       10   \n",
      "28    29     Alphonso Davies           Left-Back   20          70.0       10   \n",
      "1      2      Erling Haaland      Centre-Forward   21         150.0        8   \n",
      "0      1       Kylian Mbappé      Centre-Forward   22         160.0       11   \n",
      "13    14     Marcus Rashford         Left Winger   23          85.0        0   \n",
      "9     10     Frenkie de Jong    Central Midfield   24          90.0        8   \n",
      "31    32               Rodri  Defensive Midfield   25          70.0        8   \n",
      "3      4       Jack Grealish         Left Winger   26         100.0       10   \n",
      "10    11     Bruno Fernandes  Attacking Midfield   27          90.0       11   \n",
      "2      3          Harry Kane      Centre-Forward   28         120.0       10   \n",
      "4      5       Mohamed Salah        Right Winger   29         100.0        9   \n",
      "6      7     Kevin De Bruyne  Attacking Midfield   30         100.0        7   \n",
      "152  153          Toni Kroos    Central Midfield   31          40.0        2   \n",
      "240  241       Thomas Müller      Second Striker   32          30.0       11   \n",
      "64    65  Robert Lewandowski      Centre-Forward   33          60.0       10   \n",
      "21    22        Lionel Messi        Right Winger   34          80.0        5   \n",
      "111  112   Cristiano Ronaldo      Centre-Forward   36          45.0        7   \n",
      "\n",
      "     Goals  Own_goals  Assists  Yellow_cards  Yellow_red_cards  Red_cards  \\\n",
      "480      3          0        1             1                 0          0   \n",
      "16       0          0        0             0                 0          0   \n",
      "118      0          1        1             3                 0          0   \n",
      "28       0          0        3             1                 0          0   \n",
      "1       11          0        4             1                 0          0   \n",
      "0        4          0        5             2                 0          0   \n",
      "13       0          0        0             0                 0          0   \n",
      "9        0          0        2             0                 1          0   \n",
      "31       1          0        0             2                 0          0   \n",
      "3        2          0        2             1                 0          0   \n",
      "10       5          0        3             2                 0          0   \n",
      "2        6          0        0             2                 0          0   \n",
      "4        9          0        3             1                 0          0   \n",
      "6        2          0        0             1                 0          0   \n",
      "152      0          0        0             0                 0          0   \n",
      "240      4          0        6             0                 0          0   \n",
      "64      13          0        1             0                 0          0   \n",
      "21       1          0        0             1                 0          0   \n",
      "111      5          0        0             2                 0          0   \n",
      "\n",
      "     Substitutions_on  Substitutions_off  \n",
      "480                 6                  3  \n",
      "16                  1                  2  \n",
      "118                 3                  3  \n",
      "28                  0                  3  \n",
      "1                   0                  1  \n",
      "0                   0                  5  \n",
      "13                  0                  0  \n",
      "9                   0                  1  \n",
      "31                  1                  1  \n",
      "3                   1                  5  \n",
      "10                  2                  2  \n",
      "2                   2                  2  \n",
      "4                   0                  2  \n",
      "6                   2                  2  \n",
      "152                 1                  1  \n",
      "240                 0                  7  \n",
      "64                  0                  4  \n",
      "21                  1                  1  \n",
      "111                 2                  1  \n"
     ]
    }
   ],
   "source": [
    "df_most_valuable=df.drop_duplicates(subset=['Age']).sort_values(by=['Age'])\n",
    "print(df_most_valuable)"
   ]
  },
  {
   "cell_type": "code",
   "execution_count": 5,
   "metadata": {
    "pycharm": {
     "name": "#%%\n"
    }
   },
   "outputs": [
    {
     "data": {
      "image/png": "[encoded data removed]",
      "text/plain": [
       "<Figure size 640x480 with 1 Axes>"
      ]
     },
     "metadata": {},
     "output_type": "display_data"
    }
   ],
   "source": [
    "# Plot the market value of the most valuable player of each age.\n",
    "plt.plot(df_most_valuable['Age'],df_most_valuable['Market_value'])\n",
    "plt.title('Most valuable player')\n",
    "plt.savefig('Most valuable player.pdf')"
   ]
  },
  {
   "cell_type": "code",
   "execution_count": 6,
   "metadata": {
    "pycharm": {
     "name": "#%%\n"
    }
   },
   "outputs": [],
   "source": [
    "# Jupyter Shows plots automatically\n",
    "plt.show()"
   ]
  },
  {
   "cell_type": "markdown",
   "metadata": {},
   "source": [
    "<span style=\"color:blue\"><b>Task:</b></span> Plot the mean of Market value of players of each age."
   ]
  },
  {
   "cell_type": "code",
   "execution_count": 7,
   "metadata": {},
   "outputs": [
    {
     "name": "stdout",
     "output_type": "stream",
     "text": [
      "     Market_value\n",
      "Age              \n",
      "16      18.000000\n",
      "18      52.222222\n",
      "19      24.333333\n",
      "20      31.526316\n",
      "21      36.939394\n",
      "22      38.951220\n",
      "23      30.372549\n",
      "24      33.890411\n",
      "25      30.309091\n",
      "26      38.375000\n",
      "27      34.522727\n",
      "28      36.533333\n",
      "29      44.866667\n",
      "30      35.076923\n",
      "31      28.250000\n",
      "32      25.000000\n",
      "33      35.000000\n",
      "34      80.000000\n",
      "36      45.000000\n",
      "    Age  Market_value\n",
      "0    16     18.000000\n",
      "1    18     52.222222\n",
      "2    19     24.333333\n",
      "3    20     31.526316\n",
      "4    21     36.939394\n",
      "5    22     38.951220\n",
      "6    23     30.372549\n",
      "7    24     33.890411\n",
      "8    25     30.309091\n",
      "9    26     38.375000\n",
      "10   27     34.522727\n",
      "11   28     36.533333\n",
      "12   29     44.866667\n",
      "13   30     35.076923\n",
      "14   31     28.250000\n",
      "15   32     25.000000\n",
      "16   33     35.000000\n",
      "17   34     80.000000\n",
      "18   36     45.000000\n"
     ]
    },
    {
     "data": {
      "image/png": "[encoded data removed]",
      "text/plain": [
       "<Figure size 640x480 with 1 Axes>"
      ]
     },
     "metadata": {},
     "output_type": "display_data"
    }
   ],
   "source": [
    "# Option 1\n",
    "df_agg=df[['Market_value','Age']].groupby('Age').mean()\n",
    "print(df_agg)\n",
    "\n",
    "plt.plot(df_agg.index,df_agg['Market_value'])\n",
    "# Option 2\n",
    "df_agg=df[['Market_value','Age']].groupby('Age').mean().reset_index()\n",
    "print(df_agg)\n",
    "\n",
    "plt.plot(df_agg['Age'],df_agg['Market_value'])\n",
    "\n",
    "plt.title('Mean of Market Value per Age')\n",
    "plt.savefig('Mean of Market Value per Age.pdf')"
   ]
  },
  {
   "cell_type": "code",
   "execution_count": null,
   "metadata": {},
   "outputs": [],
   "source": []
  },
  {
   "cell_type": "code",
   "execution_count": 8,
   "metadata": {
    "pycharm": {
     "name": "#%%\n"
    }
   },
   "outputs": [
    {
     "data": {
      "text/plain": [
       "Text(0.5, 1.0, 'Most valuable player')"
      ]
     },
     "execution_count": 8,
     "metadata": {},
     "output_type": "execute_result"
    },
    {
     "data": {
      "image/png": "[encoded data removed]",
      "text/plain": [
       "<Figure size 640x480 with 1 Axes>"
      ]
     },
     "metadata": {},
     "output_type": "display_data"
    }
   ],
   "source": [
    "# Add title\n",
    "plt.title('Most valuable player')"
   ]
  },
  {
   "cell_type": "code",
   "execution_count": 9,
   "metadata": {
    "pycharm": {
     "name": "#%%\n"
    }
   },
   "outputs": [
    {
     "data": {
      "text/plain": [
       "<matplotlib.legend.Legend at 0x17b035b9750>"
      ]
     },
     "execution_count": 9,
     "metadata": {},
     "output_type": "execute_result"
    },
    {
     "data": {
      "image/png": "[encoded data removed]",
      "text/plain": [
       "<Figure size 640x480 with 1 Axes>"
      ]
     },
     "metadata": {},
     "output_type": "display_data"
    }
   ],
   "source": [
    "# Add legend\n",
    "plt.plot(df_most_valuable['Age'],\n",
    "         df_most_valuable['Market_value'],\n",
    "         label='Market value')\n",
    "plt.plot(df_most_valuable['Age'],\n",
    "         df_most_valuable['Age'],\n",
    "         label='Age')\n",
    "plt.legend()"
   ]
  },
  {
   "cell_type": "code",
   "execution_count": 10,
   "metadata": {
    "pycharm": {
     "name": "#%%\n"
    }
   },
   "outputs": [
    {
     "data": {
      "text/plain": [
       "[<matplotlib.lines.Line2D at 0x17b036c73d0>]"
      ]
     },
     "execution_count": 10,
     "metadata": {},
     "output_type": "execute_result"
    },
    {
     "data": {
      "image/png": "[encoded data removed]",
      "text/plain": [
       "<Figure size 640x480 with 1 Axes>"
      ]
     },
     "metadata": {},
     "output_type": "display_data"
    }
   ],
   "source": [
    "# Change design of the line\n",
    "plt.plot(df_most_valuable['Age'],\n",
    "         df_most_valuable['Market_value'],\n",
    "         label='Most valuable Player',\n",
    "         linewidth=2.0,\n",
    "         color='red',\n",
    "         linestyle='-.')"
   ]
  },
  {
   "cell_type": "code",
   "execution_count": 11,
   "metadata": {},
   "outputs": [
    {
     "name": "stderr",
     "output_type": "stream",
     "text": [
      "No artists with labels found to put in legend.  Note that artists whose label start with an underscore are ignored when legend() is called with no argument.\n"
     ]
    },
    {
     "data": {
      "text/plain": [
       "<matplotlib.legend.Legend at 0x17b0369f4d0>"
      ]
     },
     "execution_count": 11,
     "metadata": {},
     "output_type": "execute_result"
    },
    {
     "data": {
      "image/png": "[encoded data removed]",
      "text/plain": [
       "<Figure size 640x480 with 1 Axes>"
      ]
     },
     "metadata": {},
     "output_type": "display_data"
    }
   ],
   "source": [
    "# Add labels to the axes\n",
    "plt.xlabel('Age')\n",
    "plt.ylabel('Value in €')\n",
    "plt.title('Most valuable player')\n",
    "plt.legend()"
   ]
  },
  {
   "cell_type": "markdown",
   "metadata": {},
   "source": [
    "### Bar Plot"
   ]
  },
  {
   "cell_type": "code",
   "execution_count": 12,
   "metadata": {
    "pycharm": {
     "name": "#%%\n"
    }
   },
   "outputs": [
    {
     "data": {
      "text/plain": [
       "<BarContainer object of 19 artists>"
      ]
     },
     "execution_count": 12,
     "metadata": {},
     "output_type": "execute_result"
    },
    {
     "data": {
      "image/png": "[encoded data removed]",
      "text/plain": [
       "<Figure size 640x480 with 1 Axes>"
      ]
     },
     "metadata": {},
     "output_type": "display_data"
    }
   ],
   "source": [
    "plt.bar(df_most_valuable['Age'],\n",
    "        df_most_valuable['Market_value'],\n",
    "        color='g')"
   ]
  },
  {
   "cell_type": "markdown",
   "metadata": {},
   "source": [
    "### Scatter Plot"
   ]
  },
  {
   "cell_type": "code",
   "execution_count": 13,
   "metadata": {
    "pycharm": {
     "name": "#%%\n"
    }
   },
   "outputs": [
    {
     "data": {
      "text/plain": [
       "Text(0, 0.5, 'Value in €')"
      ]
     },
     "execution_count": 13,
     "metadata": {},
     "output_type": "execute_result"
    },
    {
     "data": {
      "image/png": "[encoded data removed]",
      "text/plain": [
       "<Figure size 640x480 with 1 Axes>"
      ]
     },
     "metadata": {},
     "output_type": "display_data"
    }
   ],
   "source": [
    "plt.scatter(df['Age'],df['Market_value'])\n",
    "plt.plot(df_most_valuable['Age'],\n",
    "         df_most_valuable['Market_value'],\n",
    "         label='Market value',\n",
    "         linewidth=2.0,\n",
    "         color='red',\n",
    "         linestyle='--')\n",
    "plt.xlabel('Age')\n",
    "plt.ylabel('Value in €')"
   ]
  },
  {
   "cell_type": "markdown",
   "metadata": {},
   "source": [
    "### Histogramm"
   ]
  },
  {
   "cell_type": "code",
   "execution_count": 14,
   "metadata": {
    "pycharm": {
     "name": "#%%\n"
    }
   },
   "outputs": [
    {
     "data": {
      "text/plain": [
       "Text(0.5, 1.0, 'Age Distribution')"
      ]
     },
     "execution_count": 14,
     "metadata": {},
     "output_type": "execute_result"
    },
    {
     "data": {
      "image/png": "[encoded data removed]",
      "text/plain": [
       "<Figure size 640x480 with 1 Axes>"
      ]
     },
     "metadata": {},
     "output_type": "display_data"
    }
   ],
   "source": [
    "plt.hist(df['Age'])\n",
    "plt.title('Age Distribution')"
   ]
  },
  {
   "cell_type": "code",
   "execution_count": 15,
   "metadata": {
    "pycharm": {
     "name": "#%%\n"
    }
   },
   "outputs": [
    {
     "data": {
      "text/plain": [
       "Text(0.5, 1.0, 'Market value Distribution')"
      ]
     },
     "execution_count": 15,
     "metadata": {},
     "output_type": "execute_result"
    },
    {
     "data": {
      "image/png": "[encoded data removed]",
      "text/plain": [
       "<Figure size 640x480 with 1 Axes>"
      ]
     },
     "metadata": {},
     "output_type": "display_data"
    }
   ],
   "source": [
    "plt.hist(df['Market_value'],bins=50)\n",
    "plt.title('Market value Distribution')"
   ]
  },
  {
   "cell_type": "code",
   "execution_count": 16,
   "metadata": {
    "pycharm": {
     "name": "#%%\n"
    }
   },
   "outputs": [
    {
     "data": {
      "text/plain": [
       "Text(0.5, 1.0, 'Market value Distribution')"
      ]
     },
     "execution_count": 16,
     "metadata": {},
     "output_type": "execute_result"
    },
    {
     "data": {
      "image/png": "[encoded data removed]",
      "text/plain": [
       "<Figure size 640x480 with 1 Axes>"
      ]
     },
     "metadata": {},
     "output_type": "display_data"
    }
   ],
   "source": [
    "plt.hist(df['Market_value'],bins=25,log=True)\n",
    "plt.title('Market value Distribution')"
   ]
  },
  {
   "cell_type": "code",
   "execution_count": 17,
   "metadata": {
    "pycharm": {
     "name": "#%%\n"
    }
   },
   "outputs": [
    {
     "data": {
      "text/plain": [
       "Text(0.5, 1.0, 'Scorer Points Distribution')"
      ]
     },
     "execution_count": 17,
     "metadata": {},
     "output_type": "execute_result"
    },
    {
     "data": {
      "image/png": "[encoded data removed]",
      "text/plain": [
       "<Figure size 640x480 with 1 Axes>"
      ]
     },
     "metadata": {},
     "output_type": "display_data"
    }
   ],
   "source": [
    "plt.hist(df[['Goals','Assists']],bins=15,label=['Goals','Assists'])\n",
    "plt.legend()\n",
    "plt.title('Scorer Points Distribution')"
   ]
  },
  {
   "cell_type": "code",
   "execution_count": 18,
   "metadata": {
    "pycharm": {
     "name": "#%%\n"
    }
   },
   "outputs": [
    {
     "data": {
      "text/plain": [
       "Text(0.5, 1.0, 'Scorer Points Distribution')"
      ]
     },
     "execution_count": 18,
     "metadata": {},
     "output_type": "execute_result"
    },
    {
     "data": {
      "image/png": "[encoded data removed]",
      "text/plain": [
       "<Figure size 640x480 with 1 Axes>"
      ]
     },
     "metadata": {},
     "output_type": "display_data"
    }
   ],
   "source": [
    "plt.hist(df[['Goals','Assists']],bins=15,histtype='barstacked',label=['Goals','Assists'])\n",
    "plt.legend()\n",
    "plt.title('Scorer Points Distribution')"
   ]
  },
  {
   "cell_type": "markdown",
   "metadata": {},
   "source": [
    "### Subplots"
   ]
  },
  {
   "cell_type": "code",
   "execution_count": 19,
   "metadata": {
    "pycharm": {
     "name": "#%%\n"
    }
   },
   "outputs": [
    {
     "data": {
      "image/png": "[encoded data removed]",
      "text/plain": [
       "<Figure size 640x480 with 2 Axes>"
      ]
     },
     "metadata": {},
     "output_type": "display_data"
    }
   ],
   "source": [
    "plt.figure(1)\n",
    "plt.subplot(211)             \n",
    "plt.plot(df_most_valuable['Age'],df_most_valuable['Market_value'])\n",
    "plt.title('Market_value')\n",
    "plt.subplot(212)\n",
    "plt.hist(df['Age'],bins=15,)\n",
    "plt.title('Age Distribution')\n",
    "\n",
    "plt.tight_layout()\n"
   ]
  },
  {
   "cell_type": "markdown",
   "metadata": {},
   "source": [
    "<span style=\"color:blue\"><b>Task:</b></span> Plot the median age for every position in a bar plot!"
   ]
  },
  {
   "cell_type": "code",
   "execution_count": 20,
   "metadata": {
    "pycharm": {
     "name": "#%%\n"
    }
   },
   "outputs": [
    {
     "name": "stdout",
     "output_type": "stream",
     "text": [
      "              Position   Age\n",
      "6        Left Midfield  23.0\n",
      "0   Attacking Midfield  24.0\n",
      "7          Left Winger  24.0\n",
      "10        Right Winger  24.0\n",
      "11          Right-Back  24.0\n",
      "1     Central Midfield  25.0\n",
      "2          Centre-Back  25.0\n",
      "3       Centre-Forward  25.0\n",
      "4   Defensive Midfield  25.0\n",
      "9       Right Midfield  25.0\n",
      "8            Left-Back  26.0\n",
      "5           Goalkeeper  26.5\n",
      "12      Second Striker  27.0\n"
     ]
    },
    {
     "data": {
      "text/plain": [
       "([0, 1, 2, 3, 4, 5, 6, 7, 8, 9, 10, 11, 12],\n",
       " [Text(0, 0, 'Left Midfield'),\n",
       "  Text(1, 0, 'Attacking Midfield'),\n",
       "  Text(2, 0, 'Left Winger'),\n",
       "  Text(3, 0, 'Right Winger'),\n",
       "  Text(4, 0, 'Right-Back'),\n",
       "  Text(5, 0, 'Central Midfield'),\n",
       "  Text(6, 0, 'Centre-Back'),\n",
       "  Text(7, 0, 'Centre-Forward'),\n",
       "  Text(8, 0, 'Defensive Midfield'),\n",
       "  Text(9, 0, 'Right Midfield'),\n",
       "  Text(10, 0, 'Left-Back'),\n",
       "  Text(11, 0, 'Goalkeeper'),\n",
       "  Text(12, 0, 'Second Striker')])"
      ]
     },
     "execution_count": 20,
     "metadata": {},
     "output_type": "execute_result"
    },
    {
     "data": {
      "image/png": "[encoded data removed]",
      "text/plain": [
       "<Figure size 640x480 with 1 Axes>"
      ]
     },
     "metadata": {},
     "output_type": "display_data"
    }
   ],
   "source": [
    "df_median=df.groupby('Position')['Age'].median().reset_index()\n",
    "df_median=df_median.sort_values(by='Age')\n",
    "print(df_median)\n",
    "plt.bar(df_median['Position'],df_median['Age'])\n",
    "plt.xticks(rotation=90)"
   ]
  },
  {
   "cell_type": "markdown",
   "metadata": {},
   "source": [
    "<span style=\"color:blue\"><b>Task:</b></span> Plot the mean of the market value for every age in line plot and in scatter plot!"
   ]
  },
  {
   "cell_type": "code",
   "execution_count": 21,
   "metadata": {
    "pycharm": {
     "name": "#%%\n"
    }
   },
   "outputs": [
    {
     "data": {
      "text/plain": [
       "<matplotlib.collections.PathCollection at 0x17b05296110>"
      ]
     },
     "execution_count": 21,
     "metadata": {},
     "output_type": "execute_result"
    },
    {
     "data": {
      "image/png": "[encoded data removed]",
      "text/plain": [
       "<Figure size 640x480 with 1 Axes>"
      ]
     },
     "metadata": {},
     "output_type": "display_data"
    }
   ],
   "source": [
    "df_mean=df[['Market_value','Age']].groupby('Age').mean().reset_index()\n",
    "plt.scatter(df['Age'],df['Market_value'],color='red')\n",
    "plt.plot(df_mean['Age'],df_mean['Market_value'])\n",
    "plt.scatter(df_mean['Age'],df_mean['Market_value'])\n"
   ]
  },
  {
   "cell_type": "markdown",
   "metadata": {},
   "source": [
    "<span style=\"color:blue\"><b>Task:</b></span> Plot the yellow and red cards in stacked histogram for 200 most valuable players!"
   ]
  },
  {
   "cell_type": "code",
   "execution_count": 22,
   "metadata": {
    "pycharm": {
     "name": "#%%\n"
    }
   },
   "outputs": [
    {
     "data": {
      "text/plain": [
       "(array([[ 74.,  73.,  37.,  12.,   3.,   1.],\n",
       "        [268.,  79.,  37.,  12.,   3.,   1.]]),\n",
       " array([0.        , 0.83333333, 1.66666667, 2.5       , 3.33333333,\n",
       "        4.16666667, 5.        ]),\n",
       " <a list of 2 BarContainer objects>)"
      ]
     },
     "execution_count": 22,
     "metadata": {},
     "output_type": "execute_result"
    },
    {
     "data": {
      "image/png": "[encoded data removed]",
      "text/plain": [
       "<Figure size 640x480 with 1 Axes>"
      ]
     },
     "metadata": {},
     "output_type": "display_data"
    }
   ],
   "source": [
    "df_200=df.iloc[:200,:]\n",
    "\n",
    "plt.hist(df_200[['Yellow_cards','Red_cards']],bins=6,histtype='barstacked')"
   ]
  },
  {
   "cell_type": "markdown",
   "metadata": {},
   "source": [
    "<span style=\"color:blue\"><b>Task:</b></span> Show the market value histogram of the every age quartile in a 2X2 subplot figure!"
   ]
  },
  {
   "cell_type": "code",
   "execution_count": 23,
   "metadata": {},
   "outputs": [
    {
     "name": "stdout",
     "output_type": "stream",
     "text": [
      "25.0\n",
      "0 16.0 23.0\n",
      "221\n",
      "1 23.0 25.0\n",
      "222\n",
      "2 25.0 27.0\n",
      "223\n",
      "3 27.0 36.0\n",
      "224\n"
     ]
    },
    {
     "data": {
      "image/png": "[encoded data removed]",
      "text/plain": [
       "<Figure size 640x480 with 4 Axes>"
      ]
     },
     "metadata": {},
     "output_type": "display_data"
    }
   ],
   "source": [
    "print(df['Age'].quantile())\n",
    "\n",
    "plt.figure(1)\n",
    "\n",
    "for i in range(4):\n",
    "    lower_limit=df['Age'].quantile(i*0.25)\n",
    "    upper_limit=df['Age'].quantile((i+1)*0.25)\n",
    "    print(i,lower_limit,upper_limit)\n",
    "    # Create a df with only the observations in the interval:\n",
    "    df_filter=df[(df['Age']>=lower_limit)&(df['Age']<upper_limit)]\n",
    "    \n",
    "    #Choose the right subplot with plt.subplot(411)  (number of plots|row index|column index)\n",
    "    print(f\"{2}{2}{i+1}\")\n",
    "    plt.subplot(int(f\"{2}{2}{i+1}\"))\n",
    "    # Plot the market value histogramm\n",
    "    plt.hist(df_filter['Market_value'])\n",
    "    plt.title(f\"{i+1}. Quartile\")\n",
    "    plt.xlabel(\"Market Value in Mio €\")\n",
    "    plt.ylabel(\"Number of Obseravtions\")\n",
    "plt.tight_layout()    "
   ]
  },
  {
   "cell_type": "code",
   "execution_count": 24,
   "metadata": {},
   "outputs": [],
   "source": [
    "def quantile_plot(plot_series: str,\n",
    "                  filter_series:str,\n",
    "                  n_shape: tuple,\n",
    "                  file=None,\n",
    "                  bins=None,\n",
    "                  y_lim=100):\n",
    "    \n",
    "    print(df['Age'].quantile())\n",
    "\n",
    "    plt.figure(1)\n",
    "    \n",
    "    n_plots=n_shape[0]*n_shape[1]\n",
    "    \n",
    "    for i in range(n_plots):\n",
    "        lower_limit=df[filter_series].quantile(i/n_plots)\n",
    "        upper_limit=df[filter_series].quantile((i+1)/n_plots)\n",
    "        print(i,lower_limit,upper_limit)\n",
    "        # Create a df with only the observations in the interval:\n",
    "        df_filter=df[(df[filter_series]>=lower_limit)&(df[filter_series]<upper_limit)]\n",
    "\n",
    "        #Choose the right subplot with plt.subplot(411)  (number of plots|row index|column index)\n",
    "        print(f\"{2}{2}{i+1}\")\n",
    "        plt.subplot(int(f\"{n_shape[0]}{n_shape[1]}{i+1}\"))\n",
    "        # Plot the market value histogramm\n",
    "        plt.hist(df_filter[plot_series],bins=bins)\n",
    "        plt.title(f\"{round(i/n_plots,2)}-{round((i+1)/n_plots,2)} Percentile\")\n",
    "        plt.xlabel(plot_series)\n",
    "        #plt.ylabel(\"Number of Obseravtions\")\n",
    "        plt.ylim(top=y_lim)\n",
    "        plt.xlim(df[plot_series].min(),df[plot_series].max())\n",
    "    plt.tight_layout() \n",
    "    \n",
    "    if file is not None:\n",
    "        plt.savefig(file)\n"
   ]
  },
  {
   "cell_type": "code",
   "execution_count": 25,
   "metadata": {},
   "outputs": [
    {
     "name": "stdout",
     "output_type": "stream",
     "text": [
      "25.0\n",
      "0 18.0 20.0\n",
      "221\n",
      "1 20.0 21.888888888888886\n",
      "222\n",
      "2 21.888888888888886 25.0\n",
      "223\n",
      "3 25.0 25.0\n",
      "224\n",
      "4 25.0 30.0\n",
      "225\n",
      "5 30.0 35.0\n",
      "226\n",
      "6 35.0 45.0\n",
      "227\n",
      "7 45.0 60.0\n",
      "228\n",
      "8 60.0 160.0\n",
      "229\n"
     ]
    },
    {
     "data": {
      "image/png": "[encoded data removed]",
      "text/plain": [
       "<Figure size 640x480 with 9 Axes>"
      ]
     },
     "metadata": {},
     "output_type": "display_data"
    }
   ],
   "source": [
    "quantile_plot('Age','Market_value',n_shape=(3,3),bins=10,y_lim=20,file=\"best_plot.pdf\")"
   ]
  },
  {
   "cell_type": "markdown",
   "metadata": {
    "pycharm": {
     "name": "#%% md\n"
    }
   },
   "source": [
    "\n",
    "## Statsmodels <a id=sm>\n",
    "[Back to Content Overview](#ov)\n",
    "\n",
    "With statsmodels you can regress in a R-fashioned simple way"
   ]
  },
  {
   "cell_type": "code",
   "execution_count": 26,
   "metadata": {
    "pycharm": {
     "name": "#%%\n"
    }
   },
   "outputs": [
    {
     "name": "stdout",
     "output_type": "stream",
     "text": [
      "Requirement already satisfied: statsmodels in c:\\users\\myfix\\appdata\\local\\anaconda3\\lib\\site-packages (0.14.0)\n",
      "Requirement already satisfied: numpy>=1.18 in c:\\users\\myfix\\appdata\\local\\anaconda3\\lib\\site-packages (from statsmodels) (1.24.3)\n",
      "Requirement already satisfied: scipy!=1.9.2,>=1.4 in c:\\users\\myfix\\appdata\\local\\anaconda3\\lib\\site-packages (from statsmodels) (1.11.1)\n",
      "Requirement already satisfied: pandas>=1.0 in c:\\users\\myfix\\appdata\\local\\anaconda3\\lib\\site-packages (from statsmodels) (2.2.0)\n",
      "Requirement already satisfied: patsy>=0.5.2 in c:\\users\\myfix\\appdata\\local\\anaconda3\\lib\\site-packages (from statsmodels) (0.5.3)\n",
      "Requirement already satisfied: packaging>=21.3 in c:\\users\\myfix\\appdata\\local\\anaconda3\\lib\\site-packages (from statsmodels) (23.1)\n",
      "Requirement already satisfied: python-dateutil>=2.8.2 in c:\\users\\myfix\\appdata\\local\\anaconda3\\lib\\site-packages (from pandas>=1.0->statsmodels) (2.8.2)\n",
      "Requirement already satisfied: pytz>=2020.1 in c:\\users\\myfix\\appdata\\local\\anaconda3\\lib\\site-packages (from pandas>=1.0->statsmodels) (2023.3.post1)\n",
      "Requirement already satisfied: tzdata>=2022.7 in c:\\users\\myfix\\appdata\\local\\anaconda3\\lib\\site-packages (from pandas>=1.0->statsmodels) (2023.3)\n",
      "Requirement already satisfied: six in c:\\users\\myfix\\appdata\\local\\anaconda3\\lib\\site-packages (from patsy>=0.5.2->statsmodels) (1.16.0)\n"
     ]
    }
   ],
   "source": [
    "import sys\n",
    "!{sys.executable} -m pip install statsmodels\n",
    "import statsmodels.api as sm\n",
    "import statsmodels.formula.api as smf"
   ]
  },
  {
   "cell_type": "code",
   "execution_count": 27,
   "metadata": {
    "pycharm": {
     "name": "#%%\n"
    }
   },
   "outputs": [
    {
     "name": "stdout",
     "output_type": "stream",
     "text": [
      "                            OLS Regression Results                            \n",
      "==============================================================================\n",
      "Dep. Variable:           Market_value   R-squared:                       0.044\n",
      "Model:                            OLS   Adj. R-squared:                  0.038\n",
      "Method:                 Least Squares   F-statistic:                     7.570\n",
      "Date:                Thu, 22 Feb 2024   Prob (F-statistic):           5.85e-05\n",
      "Time:                        09:32:45   Log-Likelihood:                -2183.5\n",
      "No. Observations:                 500   AIC:                             4375.\n",
      "Df Residuals:                     496   BIC:                             4392.\n",
      "Df Model:                           3                                         \n",
      "Covariance Type:            nonrobust                                         \n",
      "==============================================================================\n",
      "                 coef    std err          t      P>|t|      [0.025      0.975]\n",
      "------------------------------------------------------------------------------\n",
      "Intercept     42.7786     40.948      1.045      0.297     -37.673     123.231\n",
      "Age           -1.0680      3.266     -0.327      0.744      -7.485       5.349\n",
      "Age2           0.0260      0.065      0.402      0.688      -0.101       0.153\n",
      "Goals          1.9796      0.444      4.460      0.000       1.108       2.852\n",
      "==============================================================================\n",
      "Omnibus:                      212.533   Durbin-Watson:                   0.089\n",
      "Prob(Omnibus):                  0.000   Jarque-Bera (JB):              873.950\n",
      "Skew:                           1.925   Prob(JB):                    1.68e-190\n",
      "Kurtosis:                       8.208   Cond. No.                     3.14e+04\n",
      "==============================================================================\n",
      "\n",
      "Notes:\n",
      "[1] Standard Errors assume that the covariance matrix of the errors is correctly specified.\n",
      "[2] The condition number is large, 3.14e+04. This might indicate that there are\n",
      "strong multicollinearity or other numerical problems.\n"
     ]
    }
   ],
   "source": [
    "df['Age2']=df['Age']**2\n",
    "res=smf.ols('Market_value ~ Age + Age2 + Goals',data=df).fit()\n",
    "print(res.summary())"
   ]
  },
  {
   "cell_type": "code",
   "execution_count": 28,
   "metadata": {
    "pycharm": {
     "name": "#%%\n"
    }
   },
   "outputs": [
    {
     "name": "stdout",
     "output_type": "stream",
     "text": [
      "Intercept    42.778613\n",
      "Age          -1.068042\n",
      "Age2          0.026036\n",
      "Goals         1.979566\n",
      "dtype: float64\n"
     ]
    }
   ],
   "source": [
    "#Get the estimated parameters\n",
    "print(res.params)"
   ]
  },
  {
   "cell_type": "code",
   "execution_count": 29,
   "metadata": {
    "pycharm": {
     "name": "#%%\n"
    }
   },
   "outputs": [
    {
     "name": "stdout",
     "output_type": "stream",
     "text": [
      "Intercept    40.947560\n",
      "Age           3.266194\n",
      "Age2          0.064739\n",
      "Goals         0.443848\n",
      "dtype: float64\n"
     ]
    }
   ],
   "source": [
    "#Get the standard errors\n",
    "print(res.bse)"
   ]
  },
  {
   "cell_type": "code",
   "execution_count": 30,
   "metadata": {
    "pycharm": {
     "name": "#%%\n"
    }
   },
   "outputs": [
    {
     "name": "stdout",
     "output_type": "stream",
     "text": [
      "[39.8014482  53.60689948 45.1631759  36.56908973 51.51789377 41.20404334\n",
      " 38.12902115 35.68136352 31.83167038 32.14242545 42.81966293 38.54865601\n",
      " 34.58952345 31.9867681  43.59962864 39.64049608 31.9895663  31.83167038\n",
      " 35.79080294 42.04025686 32.60995717 38.54254361 31.88318307 33.86274935\n",
      " 31.9867681  32.14242545 32.92183152 35.94869886 31.83223002 37.82188192\n",
      " 35.84231564 34.32972143 44.01982315 35.94590066 33.86274935 36.56908973\n",
      " 34.90139781 33.28577821 40.5282223  34.58952345 33.28577821 33.70179723\n",
      " 43.86696399 35.79136258 31.9867681  31.88318307 34.12199174 32.92183152\n",
      " 33.96913258 31.88318307 38.0811243  31.88318307 31.88318307 32.14242545\n",
      " 32.60995717 34.90139781 36.56908973 40.26842027 36.14945487 33.28577821\n",
      " 33.70179723 33.70179723 33.70179723 33.70179723 61.62095831 35.94869886\n",
      " 34.12199174 32.14242545 34.12199174 32.35015514 36.14945487 34.90139781\n",
      " 36.30928771 34.16988859 33.28577821 33.70179723 39.90783143 37.77092887\n",
      " 45.74014705 32.14242545 37.77036923 34.12199174 33.96633438 32.14242545\n",
      " 31.9867681  32.60995717 32.14242545 33.28577821 38.86053037 34.90139781\n",
      " 33.28577821 33.70179723 38.12902115 38.12902115 49.80286464 33.81123666\n",
      " 34.12199174 36.30928771 38.0811243  35.26534449 32.35015514 36.56908973\n",
      " 38.0811243  32.35015514 34.90139781 38.86053037 37.24491078 39.22447706\n",
      " 35.68136352 33.70179723 34.90139781 47.96978711 35.94869886 39.8014482\n",
      " 34.58952345 32.14242545 32.60995717 42.08815372 31.88486199 31.88318307\n",
      " 31.9867681  31.83223002 38.0811243  31.83167038 31.9867681  33.86274935\n",
      " 40.06069058 41.72950179 32.35015514 45.68863435 34.32972143 33.86274935\n",
      " 36.30928771 32.14242545 33.86274935 46.20711912 32.60995717 38.54865601\n",
      " 32.92183152 33.28577821 38.28885399 32.92183152 35.68136352 38.86053037\n",
      " 36.56908973 33.28577821 32.60995717 35.26534449 40.10858743 33.70179723\n",
      " 36.14945487 34.16988859 34.69005227 31.9867681  40.06069058 34.12199174\n",
      " 35.26534449 46.56744997 43.70906807 31.83167038 31.9867681  40.06069058\n",
      " 43.70906807 35.79080294 33.8117963  33.96633438 35.94590066 34.12199174\n",
      " 33.81123666 31.88318307 31.9867681  32.14242545 32.35015514 34.58952345\n",
      " 34.12199174 32.14242545 38.28885399 32.60995717 32.14242545 36.88096409\n",
      " 35.94590066 32.60995717 32.35015514 34.32972143 38.86053037 34.90139781\n",
      " 32.60995717 48.54701625 35.26534449 34.90139781 33.70179723 35.26534449\n",
      " 39.22447706 33.86442828 41.20404334 40.10858743 38.0811243  31.83223002\n",
      " 32.35015514 34.32972143 34.58952345 32.14242545 36.30928771 37.24491078\n",
      " 36.56908973 34.58952345 32.60995717 32.92183152 31.83223002 31.9867681\n",
      " 35.84231564 33.70179723 33.8117963  31.83223002 33.86274935 34.12199174\n",
      " 32.14242545 32.60995717 36.10155802 32.92183152 32.14242545 34.32972143\n",
      " 32.14242545 33.28577821 41.62006236 36.88096409 33.28577821 36.30928771\n",
      " 35.26534449 32.35015514 34.58952345 32.92183152 32.60995717 34.58952345\n",
      " 35.26534449 35.68136352 33.28577821 36.14945487 39.64049608 33.70179723\n",
      " 43.18055342 34.16988859 31.83223002 31.83167038 31.83167038 35.79080294\n",
      " 31.88318307 33.81123666 31.88318307 31.9867681  32.14242545 31.9867681\n",
      " 32.14242545 38.28885399 32.35015514 44.22755284 32.92183152 36.14945487\n",
      " 32.14242545 34.69005227 39.90503323 35.79080294 36.10155802 32.35015514\n",
      " 32.14242545 32.35015514 52.71749434 32.92183152 35.26534449 31.88486199\n",
      " 32.35015514 34.12199174 32.92183152 33.28577821 31.9895663  31.9867681\n",
      " 35.79080294 33.86274935 37.82356084 31.9867681  44.01982315 33.86274935\n",
      " 31.9867681  31.88318307 37.77092887 39.75049515 31.9867681  39.90503323\n",
      " 35.94590066 31.9867681  32.35015514 34.32972143 31.83167038 39.8014482\n",
      " 32.35015514 32.35015514 33.96633438 31.9867681  39.8014482  31.9867681\n",
      " 37.92546694 33.96633438 32.35015514 40.5282223  32.14242545 32.14242545\n",
      " 34.58952345 45.84373207 34.12199174 36.30928771 36.88096409 32.35015514\n",
      " 32.35015514 32.35015514 36.10155802 36.30928771 37.24491078 32.60995717\n",
      " 32.35015514 32.60995717 32.60995717 32.60995717 44.48735486 35.26534449\n",
      " 35.68136352 33.70179723 32.92183152 33.28577821 37.24491078 35.26534449\n",
      " 34.16988859 33.70179723 35.68136352 34.16988859 45.1601197  34.69005227\n",
      " 55.68225947 37.92546694 43.18360962 34.58952345 32.92183152 33.28577821\n",
      " 31.83223002 39.90783143 34.58952345 34.16988859 34.16988859 40.10858743\n",
      " 33.8117963  31.83167038 35.94590066 31.83167038 36.10155802 33.86274935\n",
      " 41.78101448 34.12199174 33.81123666 32.14242545 31.9867681  32.14242545\n",
      " 34.32972143 32.92183152 31.88318307 31.9867681  35.84231564 36.10155802\n",
      " 32.35015514 33.96633438 32.60995717 32.14242545 38.0811243  54.69706063\n",
      " 32.35015514 32.14242545 34.32972143 32.35015514 34.58952345 35.26534449\n",
      " 35.26534449 32.92183152 32.92183152 33.28577821 37.24491078 37.6609298\n",
      " 35.26534449 34.16988859 37.6609298  33.70179723 38.12902115 34.90139781\n",
      " 36.56908973 34.90139781 39.75049515 41.72950179 31.88486199 35.84231564\n",
      " 43.76058076 31.83167038 31.83167038 53.6600911  31.9867681  35.84231564\n",
      " 31.9867681  31.83223002 31.9867681  31.88318307 31.88318307 31.88318307\n",
      " 33.86274935 31.83167038 33.81123666 34.12199174 37.77036923 36.30928771\n",
      " 32.35015514 32.14242545 32.14242545 32.35015514 34.12199174 32.14242545\n",
      " 31.88318307 34.12199174 31.88318307 31.9867681  32.35015514 32.14242545\n",
      " 38.28885399 32.60995717 32.92183152 31.9867681  32.60995717 32.14242545\n",
      " 33.96633438 35.26534449 32.60995717 32.14242545 32.35015514 35.26534449\n",
      " 32.92183152 32.14242545 40.26842027 33.28577821 40.26842027 32.14242545\n",
      " 32.60995717 36.56908973 32.92183152 36.30928771 32.92183152 37.24491078\n",
      " 38.12902115 34.16988859 32.60995717 33.28577821 32.92183152 37.6609298\n",
      " 33.70179723 34.69005227 34.16988859 37.24491078 36.14945487 35.26228829\n",
      " 36.14945487 36.66961856 37.86616293 34.69005227 32.92183152 31.88486199\n",
      " 32.14242545 32.35015514 32.92183152 31.83167038 31.83223002 31.88486199\n",
      " 31.83167038 43.76225969 33.8117963  38.0811243  31.83223002 32.14242545\n",
      " 38.29389076 32.14242545 40.06069058 31.83167038 33.96633438 31.88318307\n",
      " 31.9867681  40.06069058 34.12199174 39.90503323 33.96633438 31.88318307\n",
      " 32.35015514 31.9867681  33.96633438 31.9867681  32.92183152 32.60995717\n",
      " 31.9867681  32.92183152]\n"
     ]
    }
   ],
   "source": [
    "#Get the predicted values\n",
    "print(res.predict())"
   ]
  },
  {
   "cell_type": "markdown",
   "metadata": {},
   "source": [
    "<span style=\"color:blue\"><b>Task:</b></span> Plot a histogramm of the residuals and compare it with normal distributed values of the same mean and variance."
   ]
  },
  {
   "cell_type": "code",
   "execution_count": 31,
   "metadata": {},
   "outputs": [
    {
     "data": {
      "text/plain": [
       "(array([ 2.,  1.,  0.,  0.,  0.,  3.,  2.,  2.,  2.,  3.,  6.,  6.,  6.,\n",
       "         6.,  6., 14., 11., 19., 15., 12., 18., 18., 23., 26., 24., 26.,\n",
       "        17., 20., 25., 16., 21., 16., 24., 15., 14.,  9.,  8.,  9., 10.,\n",
       "         4., 16.,  2.,  7.,  3.,  3.,  3.,  2.,  2.,  0.,  3.]),\n",
       " array([-57.77607074, -55.56348044, -53.35089014, -51.13829984,\n",
       "        -48.92570954, -46.71311924, -44.50052893, -42.28793863,\n",
       "        -40.07534833, -37.86275803, -35.65016773, -33.43757743,\n",
       "        -31.22498713, -29.01239682, -26.79980652, -24.58721622,\n",
       "        -22.37462592, -20.16203562, -17.94944532, -15.73685501,\n",
       "        -13.52426471, -11.31167441,  -9.09908411,  -6.88649381,\n",
       "         -4.67390351,  -2.46131321,  -0.2487229 ,   1.9638674 ,\n",
       "          4.1764577 ,   6.389048  ,   8.6016383 ,  10.8142286 ,\n",
       "         13.02681891,  15.23940921,  17.45199951,  19.66458981,\n",
       "         21.87718011,  24.08977041,  26.30236072,  28.51495102,\n",
       "         30.72754132,  32.94013162,  35.15272192,  37.36531222,\n",
       "         39.57790252,  41.79049283,  44.00308313,  46.21567343,\n",
       "         48.42826373,  50.64085403,  52.85344433]),\n",
       " <BarContainer object of 50 artists>)"
      ]
     },
     "execution_count": 31,
     "metadata": {},
     "output_type": "execute_result"
    },
    {
     "data": {
      "image/png": "[encoded data removed]",
      "text/plain": [
       "<Figure size 640x480 with 1 Axes>"
      ]
     },
     "metadata": {},
     "output_type": "display_data"
    }
   ],
   "source": [
    "resid=df['Market_value']-res.predict()\n",
    "resid=res.resid\n",
    "#print(resid)\n",
    "plt.hist(resid,bins=50)\n",
    "randoms=np.random.normal(np.mean(resid),np.std(resid),size=500)\n",
    "plt.hist(randoms,bins=50)"
   ]
  },
  {
   "cell_type": "markdown",
   "metadata": {},
   "source": [
    "<span style=\"color:blue\"><b>Task:</b></span> Make a scatter plot of the market value and the residuals."
   ]
  },
  {
   "cell_type": "code",
   "execution_count": 32,
   "metadata": {},
   "outputs": [
    {
     "data": {
      "text/plain": [
       "<matplotlib.collections.PathCollection at 0x17b066af4d0>"
      ]
     },
     "execution_count": 32,
     "metadata": {},
     "output_type": "execute_result"
    },
    {
     "data": {
      "image/png": "[encoded data removed]",
      "text/plain": [
       "<Figure size 640x480 with 1 Axes>"
      ]
     },
     "metadata": {},
     "output_type": "display_data"
    }
   ],
   "source": [
    "plt.scatter(df['Market_value'],res.resid)"
   ]
  },
  {
   "cell_type": "code",
   "execution_count": 33,
   "metadata": {
    "pycharm": {
     "name": "#%%\n"
    }
   },
   "outputs": [
    {
     "name": "stdout",
     "output_type": "stream",
     "text": [
      "                             OLS Regression Results                             \n",
      "================================================================================\n",
      "Dep. Variable:     np.log(Market_value)   R-squared:                       0.035\n",
      "Model:                              OLS   Adj. R-squared:                  0.031\n",
      "Method:                   Least Squares   F-statistic:                     8.995\n",
      "Date:                  Thu, 22 Feb 2024   Prob (F-statistic):           0.000145\n",
      "Time:                          09:32:46   Log-Likelihood:                -297.57\n",
      "No. Observations:                   500   AIC:                             601.1\n",
      "Df Residuals:                       497   BIC:                             613.8\n",
      "Df Model:                             2                                         \n",
      "Covariance Type:              nonrobust                                         \n",
      "==============================================================================\n",
      "                 coef    std err          t      P>|t|      [0.025      0.975]\n",
      "------------------------------------------------------------------------------\n",
      "Intercept      3.1706      0.156     20.351      0.000       2.865       3.477\n",
      "Age            0.0091      0.006      1.468      0.143      -0.003       0.021\n",
      "Goals          0.0395      0.010      3.964      0.000       0.020       0.059\n",
      "==============================================================================\n",
      "Omnibus:                       44.398   Durbin-Watson:                   0.064\n",
      "Prob(Omnibus):                  0.000   Jarque-Bera (JB):               54.986\n",
      "Skew:                           0.811   Prob(JB):                     1.15e-12\n",
      "Kurtosis:                       2.908   Cond. No.                         200.\n",
      "==============================================================================\n",
      "\n",
      "Notes:\n",
      "[1] Standard Errors assume that the covariance matrix of the errors is correctly specified.\n"
     ]
    }
   ],
   "source": [
    "res=smf.ols('np.log(Market_value) ~ Age + Goals',data=df).fit()\n",
    "print(res.summary())"
   ]
  },
  {
   "cell_type": "code",
   "execution_count": 34,
   "metadata": {
    "pycharm": {
     "name": "#%%\n"
    }
   },
   "outputs": [
    {
     "name": "stdout",
     "output_type": "stream",
     "text": [
      "                            OLS Regression Results                            \n",
      "==============================================================================\n",
      "Dep. Variable:           Market_value   R-squared:                       0.060\n",
      "Model:                            OLS   Adj. R-squared:                  0.033\n",
      "Method:                 Least Squares   F-statistic:                     2.215\n",
      "Date:                Thu, 22 Feb 2024   Prob (F-statistic):            0.00667\n",
      "Time:                        09:32:46   Log-Likelihood:                -2179.2\n",
      "No. Observations:                 500   AIC:                             4388.\n",
      "Df Residuals:                     485   BIC:                             4452.\n",
      "Df Model:                          14                                         \n",
      "Covariance Type:            nonrobust                                         \n",
      "=====================================================================================================\n",
      "                                        coef    std err          t      P>|t|      [0.025      0.975]\n",
      "-----------------------------------------------------------------------------------------------------\n",
      "Intercept                            26.7118      7.386      3.617      0.000      12.200      41.223\n",
      "C(Position)[T.Central Midfield]       1.8663      3.778      0.494      0.622      -5.556       9.289\n",
      "C(Position)[T.Centre-Back]           -0.3202      3.734     -0.086      0.932      -7.657       7.017\n",
      "C(Position)[T.Centre-Forward]        -2.6567      3.929     -0.676      0.499     -10.376       5.063\n",
      "C(Position)[T.Defensive Midfield]     0.0097      4.294      0.002      0.998      -8.427       8.446\n",
      "C(Position)[T.Goalkeeper]            -0.4391      5.190     -0.085      0.933     -10.637       9.759\n",
      "C(Position)[T.Left Midfield]         -6.6031      7.859     -0.840      0.401     -22.045       8.839\n",
      "C(Position)[T.Left Winger]            3.8149      4.103      0.930      0.353      -4.247      11.877\n",
      "C(Position)[T.Left-Back]             -0.1512      4.995     -0.030      0.976      -9.965       9.662\n",
      "C(Position)[T.Right Midfield]        -7.3675     11.525     -0.639      0.523     -30.013      15.278\n",
      "C(Position)[T.Right Winger]          -3.1786      4.124     -0.771      0.441     -11.282       4.925\n",
      "C(Position)[T.Right-Back]            -5.5055      4.545     -1.211      0.226     -14.437       3.426\n",
      "C(Position)[T.Second Striker]         1.0135      7.450      0.136      0.892     -13.626      15.653\n",
      "Age                                   0.2496      0.274      0.911      0.363      -0.289       0.788\n",
      "Goals                                 2.1645      0.524      4.128      0.000       1.134       3.195\n",
      "==============================================================================\n",
      "Omnibus:                      213.343   Durbin-Watson:                   0.121\n",
      "Prob(Omnibus):                  0.000   Jarque-Bera (JB):              917.335\n",
      "Skew:                           1.912   Prob(JB):                    6.36e-200\n",
      "Kurtosis:                       8.423   Cond. No.                         375.\n",
      "==============================================================================\n",
      "\n",
      "Notes:\n",
      "[1] Standard Errors assume that the covariance matrix of the errors is correctly specified.\n"
     ]
    }
   ],
   "source": [
    "res=smf.ols('Market_value ~ Age + Goals + C(Position)',data=df).fit()\n",
    "print(res.summary())"
   ]
  },
  {
   "cell_type": "code",
   "execution_count": 35,
   "metadata": {
    "pycharm": {
     "name": "#%%\n"
    }
   },
   "outputs": [
    {
     "name": "stdout",
     "output_type": "stream",
     "text": [
      "                             OLS Regression Results                             \n",
      "================================================================================\n",
      "Dep. Variable:     np.log(Market_value)   R-squared:                       0.055\n",
      "Model:                              OLS   Adj. R-squared:                  0.028\n",
      "Method:                   Least Squares   F-statistic:                     2.032\n",
      "Date:                  Thu, 22 Feb 2024   Prob (F-statistic):             0.0143\n",
      "Time:                          09:32:46   Log-Likelihood:                -292.21\n",
      "No. Observations:                   500   AIC:                             614.4\n",
      "Df Residuals:                       485   BIC:                             677.6\n",
      "Df Model:                            14                                         \n",
      "Covariance Type:              nonrobust                                         \n",
      "=====================================================================================================\n",
      "                                        coef    std err          t      P>|t|      [0.025      0.975]\n",
      "-----------------------------------------------------------------------------------------------------\n",
      "Intercept                             3.1755      0.170     18.727      0.000       2.842       3.509\n",
      "C(Position)[T.Central Midfield]       0.0540      0.087      0.623      0.534      -0.116       0.224\n",
      "C(Position)[T.Centre-Back]            0.0023      0.086      0.026      0.979      -0.166       0.171\n",
      "C(Position)[T.Centre-Forward]        -0.0719      0.090     -0.797      0.426      -0.249       0.105\n",
      "C(Position)[T.Defensive Midfield]    -0.0090      0.099     -0.092      0.927      -0.203       0.185\n",
      "C(Position)[T.Goalkeeper]            -0.0564      0.119     -0.473      0.636      -0.291       0.178\n",
      "C(Position)[T.Left Midfield]         -0.1855      0.180     -1.028      0.304      -0.540       0.169\n",
      "C(Position)[T.Left Winger]            0.0640      0.094      0.679      0.497      -0.121       0.249\n",
      "C(Position)[T.Left-Back]              0.0164      0.115      0.143      0.886      -0.209       0.242\n",
      "C(Position)[T.Right Midfield]        -0.1755      0.265     -0.663      0.508      -0.695       0.344\n",
      "C(Position)[T.Right Winger]          -0.0632      0.095     -0.668      0.504      -0.249       0.123\n",
      "C(Position)[T.Right-Back]            -0.1610      0.104     -1.543      0.124      -0.366       0.044\n",
      "C(Position)[T.Second Striker]         0.0360      0.171      0.211      0.833      -0.300       0.372\n",
      "Age                                   0.0094      0.006      1.487      0.138      -0.003       0.022\n",
      "Goals                                 0.0433      0.012      3.595      0.000       0.020       0.067\n",
      "==============================================================================\n",
      "Omnibus:                       42.278   Durbin-Watson:                   0.103\n",
      "Prob(Omnibus):                  0.000   Jarque-Bera (JB):               51.776\n",
      "Skew:                           0.788   Prob(JB):                     5.71e-12\n",
      "Kurtosis:                       2.941   Cond. No.                         375.\n",
      "==============================================================================\n",
      "\n",
      "Notes:\n",
      "[1] Standard Errors assume that the covariance matrix of the errors is correctly specified.\n"
     ]
    }
   ],
   "source": [
    "# Log-Model with position dummies\n",
    "res=smf.ols('np.log(Market_value) ~ Age + Goals + C(Position)',data=df).fit()\n",
    "print(res.summary())"
   ]
  },
  {
   "cell_type": "markdown",
   "metadata": {},
   "source": [
    "<span style=\"color:blue\"><b>Task:</b></span> Estimate a linear model with age and position dummies."
   ]
  },
  {
   "cell_type": "code",
   "execution_count": 36,
   "metadata": {
    "pycharm": {
     "name": "#%%\n"
    }
   },
   "outputs": [
    {
     "name": "stdout",
     "output_type": "stream",
     "text": [
      "                            OLS Regression Results                            \n",
      "==============================================================================\n",
      "Dep. Variable:           Market_value   R-squared:                       0.028\n",
      "Model:                            OLS   Adj. R-squared:                 -0.000\n",
      "Method:                 Least Squares   F-statistic:                    0.9912\n",
      "Date:                Thu, 22 Feb 2024   Prob (F-statistic):              0.461\n",
      "Time:                        09:32:46   Log-Likelihood:                -2187.7\n",
      "No. Observations:                 500   AIC:                             4405.\n",
      "Df Residuals:                     485   BIC:                             4469.\n",
      "Df Model:                          14                                         \n",
      "Covariance Type:            nonrobust                                         \n",
      "=====================================================================================================\n",
      "                                        coef    std err          t      P>|t|      [0.025      0.975]\n",
      "-----------------------------------------------------------------------------------------------------\n",
      "Intercept                            30.2394      7.511      4.026      0.000      15.481      44.998\n",
      "C(Position)[T.Central Midfield]      -0.2668      3.806     -0.070      0.944      -7.745       7.211\n",
      "C(Position)[T.Centre-Back]           -3.9641      3.712     -1.068      0.286     -11.259       3.331\n",
      "C(Position)[T.Centre-Forward]         1.0670      3.889      0.274      0.784      -6.575       8.709\n",
      "C(Position)[T.Defensive Midfield]    -3.0018      4.348     -0.690      0.490     -11.545       5.542\n",
      "C(Position)[T.Goalkeeper]            -4.2698      5.193     -0.822      0.411     -14.473       5.934\n",
      "C(Position)[T.Left Midfield]         -7.3628      7.995     -0.921      0.358     -23.071       8.346\n",
      "C(Position)[T.Left Winger]            3.4201      4.172      0.820      0.413      -4.778      11.618\n",
      "C(Position)[T.Left-Back]             -3.2058      5.025     -0.638      0.524     -13.080       6.668\n",
      "C(Position)[T.Right Midfield]       -11.6314     11.687     -0.995      0.320     -34.596      11.333\n",
      "C(Position)[T.Right Winger]          -2.7648      4.193     -0.659      0.510     -11.004       5.474\n",
      "C(Position)[T.Right-Back]            -8.4639      4.569     -1.853      0.065     -17.441       0.513\n",
      "C(Position)[T.Second Striker]         2.2675      7.574      0.299      0.765     -12.614      17.149\n",
      "Age                                   0.2512      0.279      0.901      0.368      -0.297       0.799\n",
      "Yellow_cards                          0.5216      0.850      0.613      0.540      -1.149       2.193\n",
      "==============================================================================\n",
      "Omnibus:                      236.054   Durbin-Watson:                   0.057\n",
      "Prob(Omnibus):                  0.000   Jarque-Bera (JB):             1187.571\n",
      "Skew:                           2.082   Prob(JB):                    1.32e-258\n",
      "Kurtosis:                       9.298   Cond. No.                         372.\n",
      "==============================================================================\n",
      "\n",
      "Notes:\n",
      "[1] Standard Errors assume that the covariance matrix of the errors is correctly specified.\n"
     ]
    }
   ],
   "source": [
    "res=smf.ols('Market_value ~ Age + Yellow_cards + C(Position)',data=df).fit()\n",
    "print(res.summary())"
   ]
  },
  {
   "cell_type": "markdown",
   "metadata": {},
   "source": [
    "<span style=\"color:blue\"><b>Task:</b></span> Use a logit model to estimate that a player is an offender. Use the explanatory variables that make sense to you!"
   ]
  },
  {
   "cell_type": "code",
   "execution_count": 37,
   "metadata": {},
   "outputs": [
    {
     "name": "stdout",
     "output_type": "stream",
     "text": [
      "0      1\n",
      "1      1\n",
      "2      1\n",
      "3      1\n",
      "4      1\n",
      "      ..\n",
      "495    0\n",
      "496    0\n",
      "497    0\n",
      "498    0\n",
      "499    0\n",
      "Name: is_offender, Length: 500, dtype: int32\n"
     ]
    }
   ],
   "source": [
    "offenders=['Second Striker','Centre-Forward','Left Winger','Right Winger']\n",
    "df['is_offender'] = np.where(df['Position'].isin(offenders),1,0)\n",
    "print(df['is_offender'])\n",
    "df['is_offender'] = [  1 if position in offenders else 0 for position in df['Position']]\n",
    "df['is_offender'] = [int(position in offenders) for position in df['Position']]\n",
    "df['is_offender'] = df['Position'].isin(offenders).astype(int)\n",
    "\n",
    "\n",
    "\n"
   ]
  },
  {
   "cell_type": "markdown",
   "metadata": {},
   "source": [
    "<span style=\"color:blue\"><b>Task:</b></span> Create a confusion matrix manually. Calculate the accuracy of the model."
   ]
  },
  {
   "cell_type": "code",
   "execution_count": 38,
   "metadata": {},
   "outputs": [
    {
     "name": "stdout",
     "output_type": "stream",
     "text": [
      "[[0. 0.]\n",
      " [0. 0.]]\n",
      "[[168. 332.]\n",
      " [  0.   0.]]\n"
     ]
    }
   ],
   "source": [
    "matrix=np.zeros((2,2))\n",
    "print(matrix)\n",
    "for true,pred in zip(df['is_offender'],res.predict()):\n",
    "    #print(true,pred,pred>0.5,true==1)\n",
    "    row_index= 0 if pred>0.5 else 1\n",
    "    col_index= 0 if true==1 else 1\n",
    "    \n",
    "    matrix[row_index,col_index]+=1\n",
    "    \n",
    "    \n",
    "print(matrix)\n",
    "    "
   ]
  },
  {
   "cell_type": "markdown",
   "metadata": {},
   "source": [
    "<span style=\"color:blue\"><b>Task:</b></span> Use a balanced dataset (same number of offender and not offenders in the training dataset) and re-estimate the logit model."
   ]
  },
  {
   "cell_type": "code",
   "execution_count": 39,
   "metadata": {},
   "outputs": [
    {
     "name": "stdout",
     "output_type": "stream",
     "text": [
      "is_offender\n",
      "1    168\n",
      "0    168\n",
      "Name: count, dtype: int64\n",
      "Optimization terminated successfully.\n",
      "         Current function value: 0.547612\n",
      "         Iterations 7\n",
      "                           Logit Regression Results                           \n",
      "==============================================================================\n",
      "Dep. Variable:            is_offender   No. Observations:                  336\n",
      "Model:                          Logit   Df Residuals:                      331\n",
      "Method:                           MLE   Df Model:                            4\n",
      "Date:                Thu, 22 Feb 2024   Pseudo R-squ.:                  0.2100\n",
      "Time:                        09:32:46   Log-Likelihood:                -184.00\n",
      "converged:                       True   LL-Null:                       -232.90\n",
      "Covariance Type:            nonrobust   LLR p-value:                 2.892e-20\n",
      "================================================================================\n",
      "                   coef    std err          z      P>|z|      [0.025      0.975]\n",
      "--------------------------------------------------------------------------------\n",
      "Intercept       -0.6887      1.037     -0.664      0.507      -2.722       1.344\n",
      "Age             -0.0012      0.040     -0.029      0.977      -0.080       0.078\n",
      "Goals            0.8007      0.109      7.354      0.000       0.587       1.014\n",
      "Yellow_cards    -0.3281      0.124     -2.645      0.008      -0.571      -0.085\n",
      "Market_value    -0.0007      0.007     -0.106      0.916      -0.015       0.013\n",
      "================================================================================\n",
      "[[0. 0.]\n",
      " [0. 0.]]\n",
      "[[ 55.  93.]\n",
      " [ 62. 126.]]\n"
     ]
    }
   ],
   "source": [
    "df_off=df[df['is_offender']==1]\n",
    "df_not=df[df['is_offender']==0].sample(len(df_off),random_state=42)\n",
    "df_balanced=pd.concat([df_off,df_not],axis=0)\n",
    "#print(df_balanced)\n",
    "print(df_balanced['is_offender'].value_counts())\n",
    "\n",
    "res=smf.logit('is_offender ~ Age + Goals+ Yellow_cards + Market_value',data=df_balanced).fit()\n",
    "print(res.summary())\n",
    "matrix=np.zeros((2,2))\n",
    "print(matrix)\n",
    "for true,pred in zip(df['is_offender'],res.predict()):\n",
    "    #print(true,pred,pred>0.5,true==1)\n",
    "    row_index= 0 if pred>0.5 else 1\n",
    "    col_index= 0 if true==1 else 1\n",
    "    \n",
    "    matrix[row_index,col_index]+=1\n",
    "print(matrix)"
   ]
  },
  {
   "cell_type": "markdown",
   "metadata": {
    "pycharm": {
     "name": "#%%\n"
    }
   },
   "source": [
    "##  Estimation with matrices"
   ]
  },
  {
   "cell_type": "code",
   "execution_count": 40,
   "metadata": {
    "pycharm": {
     "name": "#%%\n"
    }
   },
   "outputs": [
    {
     "name": "stdout",
     "output_type": "stream",
     "text": [
      "[[160.]\n",
      " [150.]\n",
      " [120.]\n",
      " [100.]\n",
      " [100.]\n",
      " [100.]\n",
      " [100.]\n",
      " [100.]\n",
      " [ 90.]\n",
      " [ 90.]\n",
      " [ 90.]\n",
      " [ 90.]\n",
      " [ 90.]\n",
      " [ 85.]\n",
      " [ 85.]\n",
      " [ 85.]\n",
      " [ 80.]\n",
      " [ 80.]\n",
      " [ 80.]\n",
      " [ 80.]\n",
      " [ 80.]\n",
      " [ 80.]\n",
      " [ 75.]\n",
      " [ 75.]\n",
      " [ 75.]\n",
      " [ 75.]\n",
      " [ 75.]\n",
      " [ 70.]\n",
      " [ 70.]\n",
      " [ 70.]\n",
      " [ 70.]\n",
      " [ 70.]\n",
      " [ 70.]\n",
      " [ 70.]\n",
      " [ 70.]\n",
      " [ 70.]\n",
      " [ 70.]\n",
      " [ 70.]\n",
      " [ 70.]\n",
      " [ 70.]\n",
      " [ 70.]\n",
      " [ 70.]\n",
      " [ 65.]\n",
      " [ 65.]\n",
      " [ 65.]\n",
      " [ 65.]\n",
      " [ 65.]\n",
      " [ 65.]\n",
      " [ 60.]\n",
      " [ 60.]\n",
      " [ 60.]\n",
      " [ 60.]\n",
      " [ 60.]\n",
      " [ 60.]\n",
      " [ 60.]\n",
      " [ 60.]\n",
      " [ 60.]\n",
      " [ 60.]\n",
      " [ 60.]\n",
      " [ 60.]\n",
      " [ 60.]\n",
      " [ 60.]\n",
      " [ 60.]\n",
      " [ 60.]\n",
      " [ 60.]\n",
      " [ 55.]\n",
      " [ 55.]\n",
      " [ 55.]\n",
      " [ 55.]\n",
      " [ 55.]\n",
      " [ 55.]\n",
      " [ 55.]\n",
      " [ 55.]\n",
      " [ 55.]\n",
      " [ 55.]\n",
      " [ 55.]\n",
      " [ 50.]\n",
      " [ 50.]\n",
      " [ 50.]\n",
      " [ 50.]\n",
      " [ 50.]\n",
      " [ 50.]\n",
      " [ 50.]\n",
      " [ 50.]\n",
      " [ 50.]\n",
      " [ 50.]\n",
      " [ 50.]\n",
      " [ 50.]\n",
      " [ 50.]\n",
      " [ 50.]\n",
      " [ 50.]\n",
      " [ 50.]\n",
      " [ 48.]\n",
      " [ 48.]\n",
      " [ 47.]\n",
      " [ 45.]\n",
      " [ 45.]\n",
      " [ 45.]\n",
      " [ 45.]\n",
      " [ 45.]\n",
      " [ 45.]\n",
      " [ 45.]\n",
      " [ 45.]\n",
      " [ 45.]\n",
      " [ 45.]\n",
      " [ 45.]\n",
      " [ 45.]\n",
      " [ 45.]\n",
      " [ 45.]\n",
      " [ 45.]\n",
      " [ 45.]\n",
      " [ 45.]\n",
      " [ 42.]\n",
      " [ 42.]\n",
      " [ 42.]\n",
      " [ 42.]\n",
      " [ 42.]\n",
      " [ 42.]\n",
      " [ 40.]\n",
      " [ 40.]\n",
      " [ 40.]\n",
      " [ 40.]\n",
      " [ 40.]\n",
      " [ 40.]\n",
      " [ 40.]\n",
      " [ 40.]\n",
      " [ 40.]\n",
      " [ 40.]\n",
      " [ 40.]\n",
      " [ 40.]\n",
      " [ 40.]\n",
      " [ 40.]\n",
      " [ 40.]\n",
      " [ 40.]\n",
      " [ 40.]\n",
      " [ 40.]\n",
      " [ 40.]\n",
      " [ 40.]\n",
      " [ 40.]\n",
      " [ 40.]\n",
      " [ 40.]\n",
      " [ 40.]\n",
      " [ 40.]\n",
      " [ 40.]\n",
      " [ 40.]\n",
      " [ 40.]\n",
      " [ 40.]\n",
      " [ 40.]\n",
      " [ 40.]\n",
      " [ 40.]\n",
      " [ 40.]\n",
      " [ 40.]\n",
      " [ 40.]\n",
      " [ 38.]\n",
      " [ 38.]\n",
      " [ 38.]\n",
      " [ 38.]\n",
      " [ 38.]\n",
      " [ 35.]\n",
      " [ 35.]\n",
      " [ 35.]\n",
      " [ 35.]\n",
      " [ 35.]\n",
      " [ 35.]\n",
      " [ 35.]\n",
      " [ 35.]\n",
      " [ 35.]\n",
      " [ 35.]\n",
      " [ 35.]\n",
      " [ 35.]\n",
      " [ 35.]\n",
      " [ 35.]\n",
      " [ 35.]\n",
      " [ 35.]\n",
      " [ 35.]\n",
      " [ 35.]\n",
      " [ 35.]\n",
      " [ 35.]\n",
      " [ 35.]\n",
      " [ 35.]\n",
      " [ 35.]\n",
      " [ 35.]\n",
      " [ 35.]\n",
      " [ 35.]\n",
      " [ 35.]\n",
      " [ 35.]\n",
      " [ 35.]\n",
      " [ 35.]\n",
      " [ 35.]\n",
      " [ 35.]\n",
      " [ 35.]\n",
      " [ 35.]\n",
      " [ 35.]\n",
      " [ 33.]\n",
      " [ 33.]\n",
      " [ 33.]\n",
      " [ 32.]\n",
      " [ 32.]\n",
      " [ 32.]\n",
      " [ 32.]\n",
      " [ 32.]\n",
      " [ 32.]\n",
      " [ 32.]\n",
      " [ 32.]\n",
      " [ 32.]\n",
      " [ 32.]\n",
      " [ 32.]\n",
      " [ 32.]\n",
      " [ 30.]\n",
      " [ 30.]\n",
      " [ 30.]\n",
      " [ 30.]\n",
      " [ 30.]\n",
      " [ 30.]\n",
      " [ 30.]\n",
      " [ 30.]\n",
      " [ 30.]\n",
      " [ 30.]\n",
      " [ 30.]\n",
      " [ 30.]\n",
      " [ 30.]\n",
      " [ 30.]\n",
      " [ 30.]\n",
      " [ 30.]\n",
      " [ 30.]\n",
      " [ 30.]\n",
      " [ 30.]\n",
      " [ 30.]\n",
      " [ 30.]\n",
      " [ 30.]\n",
      " [ 30.]\n",
      " [ 30.]\n",
      " [ 30.]\n",
      " [ 30.]\n",
      " [ 30.]\n",
      " [ 30.]\n",
      " [ 30.]\n",
      " [ 30.]\n",
      " [ 30.]\n",
      " [ 30.]\n",
      " [ 30.]\n",
      " [ 30.]\n",
      " [ 28.]\n",
      " [ 28.]\n",
      " [ 28.]\n",
      " [ 28.]\n",
      " [ 28.]\n",
      " [ 28.]\n",
      " [ 28.]\n",
      " [ 28.]\n",
      " [ 28.]\n",
      " [ 28.]\n",
      " [ 28.]\n",
      " [ 28.]\n",
      " [ 28.]\n",
      " [ 28.]\n",
      " [ 28.]\n",
      " [ 28.]\n",
      " [ 28.]\n",
      " [ 28.]\n",
      " [ 27.]\n",
      " [ 27.]\n",
      " [ 27.]\n",
      " [ 27.]\n",
      " [ 27.]\n",
      " [ 27.]\n",
      " [ 27.]\n",
      " [ 27.]\n",
      " [ 27.]\n",
      " [ 26.]\n",
      " [ 26.]\n",
      " [ 26.]\n",
      " [ 26.]\n",
      " [ 26.]\n",
      " [ 25.]\n",
      " [ 25.]\n",
      " [ 25.]\n",
      " [ 25.]\n",
      " [ 25.]\n",
      " [ 25.]\n",
      " [ 25.]\n",
      " [ 25.]\n",
      " [ 25.]\n",
      " [ 25.]\n",
      " [ 25.]\n",
      " [ 25.]\n",
      " [ 25.]\n",
      " [ 25.]\n",
      " [ 25.]\n",
      " [ 25.]\n",
      " [ 25.]\n",
      " [ 25.]\n",
      " [ 25.]\n",
      " [ 25.]\n",
      " [ 25.]\n",
      " [ 25.]\n",
      " [ 25.]\n",
      " [ 25.]\n",
      " [ 25.]\n",
      " [ 25.]\n",
      " [ 25.]\n",
      " [ 25.]\n",
      " [ 25.]\n",
      " [ 25.]\n",
      " [ 25.]\n",
      " [ 25.]\n",
      " [ 25.]\n",
      " [ 25.]\n",
      " [ 25.]\n",
      " [ 25.]\n",
      " [ 25.]\n",
      " [ 25.]\n",
      " [ 25.]\n",
      " [ 25.]\n",
      " [ 25.]\n",
      " [ 25.]\n",
      " [ 25.]\n",
      " [ 25.]\n",
      " [ 25.]\n",
      " [ 25.]\n",
      " [ 25.]\n",
      " [ 25.]\n",
      " [ 25.]\n",
      " [ 25.]\n",
      " [ 25.]\n",
      " [ 25.]\n",
      " [ 25.]\n",
      " [ 25.]\n",
      " [ 25.]\n",
      " [ 25.]\n",
      " [ 25.]\n",
      " [ 25.]\n",
      " [ 25.]\n",
      " [ 25.]\n",
      " [ 25.]\n",
      " [ 25.]\n",
      " [ 25.]\n",
      " [ 24.]\n",
      " [ 24.]\n",
      " [ 24.]\n",
      " [ 24.]\n",
      " [ 24.]\n",
      " [ 23.]\n",
      " [ 23.]\n",
      " [ 23.]\n",
      " [ 23.]\n",
      " [ 23.]\n",
      " [ 23.]\n",
      " [ 22.]\n",
      " [ 22.]\n",
      " [ 22.]\n",
      " [ 22.]\n",
      " [ 22.]\n",
      " [ 22.]\n",
      " [ 22.]\n",
      " [ 22.]\n",
      " [ 22.]\n",
      " [ 22.]\n",
      " [ 22.]\n",
      " [ 22.]\n",
      " [ 22.]\n",
      " [ 22.]\n",
      " [ 22.]\n",
      " [ 22.]\n",
      " [ 22.]\n",
      " [ 22.]\n",
      " [ 22.]\n",
      " [ 22.]\n",
      " [ 22.]\n",
      " [ 22.]\n",
      " [ 22.]\n",
      " [ 22.]\n",
      " [ 22.]\n",
      " [ 22.]\n",
      " [ 22.]\n",
      " [ 22.]\n",
      " [ 22.]\n",
      " [ 22.]\n",
      " [ 22.]\n",
      " [ 22.]\n",
      " [ 22.]\n",
      " [ 22.]\n",
      " [ 22.]\n",
      " [ 22.]\n",
      " [ 22.]\n",
      " [ 22.]\n",
      " [ 22.]\n",
      " [ 22.]\n",
      " [ 22.]\n",
      " [ 21.]\n",
      " [ 21.]\n",
      " [ 21.]\n",
      " [ 20.]\n",
      " [ 20.]\n",
      " [ 20.]\n",
      " [ 20.]\n",
      " [ 20.]\n",
      " [ 20.]\n",
      " [ 20.]\n",
      " [ 20.]\n",
      " [ 20.]\n",
      " [ 20.]\n",
      " [ 20.]\n",
      " [ 20.]\n",
      " [ 20.]\n",
      " [ 20.]\n",
      " [ 20.]\n",
      " [ 20.]\n",
      " [ 20.]\n",
      " [ 20.]\n",
      " [ 20.]\n",
      " [ 20.]\n",
      " [ 20.]\n",
      " [ 20.]\n",
      " [ 20.]\n",
      " [ 20.]\n",
      " [ 20.]\n",
      " [ 20.]\n",
      " [ 20.]\n",
      " [ 20.]\n",
      " [ 20.]\n",
      " [ 20.]\n",
      " [ 20.]\n",
      " [ 20.]\n",
      " [ 20.]\n",
      " [ 20.]\n",
      " [ 20.]\n",
      " [ 20.]\n",
      " [ 20.]\n",
      " [ 20.]\n",
      " [ 20.]\n",
      " [ 20.]\n",
      " [ 20.]\n",
      " [ 20.]\n",
      " [ 20.]\n",
      " [ 20.]\n",
      " [ 20.]\n",
      " [ 20.]\n",
      " [ 20.]\n",
      " [ 20.]\n",
      " [ 20.]\n",
      " [ 20.]\n",
      " [ 20.]\n",
      " [ 20.]\n",
      " [ 20.]\n",
      " [ 20.]\n",
      " [ 20.]\n",
      " [ 20.]\n",
      " [ 20.]\n",
      " [ 20.]\n",
      " [ 20.]\n",
      " [ 20.]\n",
      " [ 20.]\n",
      " [ 20.]\n",
      " [ 20.]\n",
      " [ 20.]\n",
      " [ 20.]\n",
      " [ 20.]\n",
      " [ 20.]\n",
      " [ 20.]\n",
      " [ 20.]\n",
      " [ 20.]\n",
      " [ 20.]\n",
      " [ 20.]\n",
      " [ 20.]\n",
      " [ 20.]\n",
      " [ 20.]\n",
      " [ 19.]\n",
      " [ 19.]\n",
      " [ 19.]\n",
      " [ 19.]\n",
      " [ 18.]\n",
      " [ 18.]\n",
      " [ 18.]\n",
      " [ 18.]\n",
      " [ 18.]\n",
      " [ 18.]\n",
      " [ 18.]\n",
      " [ 18.]\n",
      " [ 18.]\n",
      " [ 18.]\n",
      " [ 18.]\n",
      " [ 18.]\n",
      " [ 18.]\n",
      " [ 18.]\n",
      " [ 18.]\n",
      " [ 18.]\n",
      " [ 18.]\n",
      " [ 18.]\n",
      " [ 18.]\n",
      " [ 18.]\n",
      " [ 18.]\n",
      " [ 18.]\n",
      " [ 18.]\n",
      " [ 18.]\n",
      " [ 18.]\n",
      " [ 18.]\n",
      " [ 18.]\n",
      " [ 18.]\n",
      " [ 18.]] [[  1.  22.   4. ...   0.   5. 484.]\n",
      " [  1.  21.  11. ...   0.   1. 441.]\n",
      " [  1.  28.   6. ...   2.   2. 784.]\n",
      " ...\n",
      " [  1.  26.   0. ...   0.   0. 676.]\n",
      " [  1.  23.   0. ...   0.   0. 529.]\n",
      " [  1.  27.   0. ...   0.   2. 729.]]\n"
     ]
    }
   ],
   "source": [
    "# You can also get the corresponding matrices for y and X\n",
    "import patsy\n",
    "var_string='Age + Goals + Yellow_cards + Yellow_red_cards + Red_cards + Substitutions_on + Substitutions_off + Age2'\n",
    "\n",
    "y, X = patsy.dmatrices(f'Market_value ~ {var_string}', df, return_type=\"matrix\")\n",
    "\n",
    "print(y,X)"
   ]
  },
  {
   "cell_type": "markdown",
   "metadata": {},
   "source": [
    "One can also estimate with matrices:"
   ]
  },
  {
   "cell_type": "code",
   "execution_count": 41,
   "metadata": {
    "pycharm": {
     "name": "#%%\n"
    }
   },
   "outputs": [
    {
     "name": "stdout",
     "output_type": "stream",
     "text": [
      "                            OLS Regression Results                            \n",
      "==============================================================================\n",
      "Dep. Variable:           Market_value   R-squared:                       0.065\n",
      "Model:                            OLS   Adj. R-squared:                  0.050\n",
      "Method:                 Least Squares   F-statistic:                     4.277\n",
      "Date:                Thu, 22 Feb 2024   Prob (F-statistic):           5.49e-05\n",
      "Time:                        09:32:46   Log-Likelihood:                -2177.9\n",
      "No. Observations:                 500   AIC:                             4374.\n",
      "Df Residuals:                     491   BIC:                             4412.\n",
      "Df Model:                           8                                         \n",
      "Covariance Type:            nonrobust                                         \n",
      "=====================================================================================\n",
      "                        coef    std err          t      P>|t|      [0.025      0.975]\n",
      "-------------------------------------------------------------------------------------\n",
      "Intercept            55.6473     41.027      1.356      0.176     -24.962     136.257\n",
      "Age                  -1.8166      3.261     -0.557      0.578      -8.224       4.590\n",
      "Goals                 2.5111      0.493      5.090      0.000       1.542       3.480\n",
      "Yellow_cards          0.0948      0.825      0.115      0.909      -1.525       1.715\n",
      "Yellow_red_cards      9.0464      5.401      1.675      0.095      -1.565      19.658\n",
      "Red_cards            -2.7320      5.832     -0.468      0.640     -14.190       8.726\n",
      "Substitutions_on     -0.7528      0.506     -1.487      0.138      -1.747       0.242\n",
      "Substitutions_off    -0.9122      0.431     -2.115      0.035      -1.759      -0.065\n",
      "Age2                  0.0388      0.065      0.601      0.548      -0.088       0.166\n",
      "==============================================================================\n",
      "Omnibus:                      203.868   Durbin-Watson:                   0.131\n",
      "Prob(Omnibus):                  0.000   Jarque-Bera (JB):              800.518\n",
      "Skew:                           1.855   Prob(JB):                    1.48e-174\n",
      "Kurtosis:                       7.967   Cond. No.                     3.16e+04\n",
      "==============================================================================\n",
      "\n",
      "Notes:\n",
      "[1] Standard Errors assume that the covariance matrix of the errors is correctly specified.\n",
      "[2] The condition number is large, 3.16e+04. This might indicate that there are\n",
      "strong multicollinearity or other numerical problems.\n"
     ]
    }
   ],
   "source": [
    "res=sm.OLS(y, X).fit()\n",
    "print(res.summary())"
   ]
  },
  {
   "cell_type": "markdown",
   "metadata": {
    "pycharm": {
     "name": "#%% md\n"
    }
   },
   "source": [
    "<span style=\"color:blue\"><b>Task:</b></span> Split the dataset into random halves and evaluate the out-of-sample performance of the models: (Extra: Build a n-fold cross-validation algorithm.)"
   ]
  },
  {
   "cell_type": "code",
   "execution_count": 60,
   "metadata": {},
   "outputs": [],
   "source": [
    "def calculate_oos(y,X):#Make vector with 250 zeros and 250 ones\n",
    "    zeros=np.zeros(250)\n",
    "    ones=np.ones(250)\n",
    "    random_vector=np.concatenate([zeros,ones])\n",
    "    #Randomize the order of the vector\n",
    "    np.random.shuffle(random_vector)\n",
    "    #print(random_vector)\n",
    "    #Split y and X into halfs with condional indexing on index_vector\n",
    "    y_train=y[random_vector==0]\n",
    "    X_train=X[random_vector==0,:]\n",
    "    y_test=y[random_vector==1]\n",
    "    X_test=X[random_vector==1,:]\n",
    "    #Train the model\n",
    "    res=sm.OLS(y_train, X_train).fit()\n",
    "    #print(res.summary())\n",
    "    #Predict the model with test data\n",
    "    pred_train=res.predict()\n",
    "    pred_test=res.predict(X_test)\n",
    "    #Calculate the in sample RMSE\n",
    "    #print(np.mean((pred_train-y_train)**2)**0.5)\n",
    "    #Calculate the out of sample RMSE\n",
    "    #print(np.mean((pred_test-y_test)**2)**0.5)\n",
    "    return float(np.mean((pred_test-y_test)**2)**0.5)"
   ]
  },
  {
   "cell_type": "markdown",
   "metadata": {},
   "source": [
    "<span style=\"color:blue\"><b>Task:</b></span> Utilize the function from the last task and calculate the out-of-sample performance for all possible models when excluding one explanatory variable at a time.(Extra: Add and remove regressors depending on whether they improve or worsen the performance until you find the \"optimal\" model.)"
   ]
  },
  {
   "cell_type": "code",
   "execution_count": 71,
   "metadata": {},
   "outputs": [
    {
     "data": {
      "text/plain": [
       "Goals                19.898909\n",
       "Substitutions_off    20.290663\n",
       "Yellow_red_cards     20.294733\n",
       "Age2                 20.335794\n",
       "Age                  20.339672\n",
       "Substitutions_on     20.342362\n",
       "Constant             20.355937\n",
       "Yellow_cards         20.390082\n",
       "Red_cards            20.401246\n",
       "dtype: float64"
      ]
     },
     "execution_count": 71,
     "metadata": {},
     "output_type": "execute_result"
    }
   ],
   "source": [
    "#print(y)\n",
    "var_string='Constant + Age + Goals + Yellow_cards + Yellow_red_cards + Red_cards + Substitutions_on + Substitutions_off + Age2'\n",
    "variables=var_string.split(' + ')\n",
    "oos_dict={}\n",
    "for v,var in enumerate(variables):\n",
    "    #print(v,var)\n",
    "    # select every col in X except v\n",
    "    #print([ i for i in range(len(variables)) if i!=v])\n",
    "    selection_X=X[:,[ i for i in range(len(variables)) if i!=v]]\n",
    "    #print(calculate_oos(y,selection_X))\n",
    "    #print([calculate_oos(y,selection_X) for _ in range(10)])\n",
    "    oos_dict[var]=calculate_oos(y,selection_X)\n",
    "    oos_dict[var]=np.mean([calculate_oos(y,selection_X) for _ in range(1000)])\n",
    "\n",
    "#print(X)\n",
    "#print(oos_dict)\n",
    "pd.Series(oos_dict).sort_values(ascending=True)"
   ]
  },
  {
   "cell_type": "markdown",
   "metadata": {
    "pycharm": {
     "name": "#%% md\n"
    }
   },
   "source": [
    "## Sklearn <a id=sklearn>\n",
    "[Back to Content Overview](#ov)\n",
    "\n",
    "Sklearn is a powerful library for big datasets and simple machine learning algorithms:"
   ]
  },
  {
   "cell_type": "code",
   "execution_count": 72,
   "metadata": {
    "pycharm": {
     "name": "#%%\n"
    }
   },
   "outputs": [
    {
     "name": "stdout",
     "output_type": "stream",
     "text": [
      "Collecting sklearn\n",
      "  Downloading sklearn-0.0.post12.tar.gz (2.6 kB)\n",
      "  Preparing metadata (setup.py): started\n",
      "  Preparing metadata (setup.py): finished with status 'error'\n"
     ]
    },
    {
     "name": "stderr",
     "output_type": "stream",
     "text": [
      "  error: subprocess-exited-with-error\n",
      "  \n",
      "  python setup.py egg_info did not run successfully.\n",
      "  exit code: 1\n",
      "  \n",
      "  [15 lines of output]\n",
      "  The 'sklearn' PyPI package is deprecated, use 'scikit-learn'\n",
      "  rather than 'sklearn' for pip commands.\n",
      "  \n",
      "  Here is how to fix this error in the main use cases:\n",
      "  - use 'pip install scikit-learn' rather than 'pip install sklearn'\n",
      "  - replace 'sklearn' by 'scikit-learn' in your pip requirements files\n",
      "    (requirements.txt, setup.py, setup.cfg, Pipfile, etc ...)\n",
      "  - if the 'sklearn' package is used by one of your dependencies,\n",
      "    it would be great if you take some time to track which package uses\n",
      "    'sklearn' instead of 'scikit-learn' and report it to their issue tracker\n",
      "  - as a last resort, set the environment variable\n",
      "    SKLEARN_ALLOW_DEPRECATED_SKLEARN_PACKAGE_INSTALL=True to avoid this error\n",
      "  \n",
      "  More information is available at\n",
      "  https://github.com/scikit-learn/sklearn-pypi-package\n",
      "  [end of output]\n",
      "  \n",
      "  note: This error originates from a subprocess, and is likely not a problem with pip.\n",
      "error: metadata-generation-failed\n",
      "\n",
      "Encountered error while generating package metadata.\n",
      "\n",
      "See above for output.\n",
      "\n",
      "note: This is an issue with the package mentioned above, not pip.\n",
      "hint: See above for details.\n"
     ]
    }
   ],
   "source": [
    "import sys\n",
    "!{sys.executable} -m pip install sklearn"
   ]
  },
  {
   "cell_type": "markdown",
   "metadata": {
    "pycharm": {
     "name": "#%% md\n"
    }
   },
   "source": [
    "### Regressions\n",
    "##### OLS"
   ]
  },
  {
   "cell_type": "code",
   "execution_count": 73,
   "metadata": {
    "pycharm": {
     "name": "#%%\n"
    }
   },
   "outputs": [],
   "source": [
    "from sklearn.linear_model import LinearRegression, Lasso, LassoCV"
   ]
  },
  {
   "cell_type": "code",
   "execution_count": 74,
   "metadata": {
    "pycharm": {
     "name": "#%%\n"
    }
   },
   "outputs": [],
   "source": [
    "model=LinearRegression().fit(X, y)"
   ]
  },
  {
   "cell_type": "markdown",
   "metadata": {
    "pycharm": {
     "name": "#%% md\n"
    }
   },
   "source": [
    "print(model.get_params())"
   ]
  },
  {
   "cell_type": "code",
   "execution_count": 75,
   "metadata": {
    "pycharm": {
     "name": "#%%\n"
    }
   },
   "outputs": [
    {
     "name": "stdout",
     "output_type": "stream",
     "text": [
      "[[ 0.         -1.81662825  2.51108593  0.09478045  9.04636952 -2.73195131\n",
      "  -0.75278646 -0.91215975  0.03878067]]\n"
     ]
    }
   ],
   "source": [
    "#Get parameters for this estimator:\n",
    "print(model.coef_)"
   ]
  },
  {
   "cell_type": "code",
   "execution_count": 76,
   "metadata": {
    "pycharm": {
     "name": "#%%\n"
    },
    "scrolled": true
   },
   "outputs": [
    {
     "name": "stdout",
     "output_type": "stream",
     "text": [
      "[[40.12445735]\n",
      " [61.40497692]\n",
      " [47.11196672]\n",
      " [34.434094  ]\n",
      " [56.44988686]\n",
      " [44.47733991]\n",
      " [37.83814363]\n",
      " [36.3611994 ]\n",
      " [27.94062613]\n",
      " [42.52012628]\n",
      " [44.28457225]\n",
      " [40.43444565]\n",
      " [30.80077459]\n",
      " [34.37985333]\n",
      " [46.47013597]\n",
      " [39.03023144]\n",
      " [32.93585149]\n",
      " [39.75366252]\n",
      " [36.45206371]\n",
      " [39.83362906]\n",
      " [32.90118785]\n",
      " [39.65334214]\n",
      " [29.45651285]\n",
      " [35.39227165]\n",
      " [34.37985333]\n",
      " [33.91747142]\n",
      " [34.96425456]\n",
      " [35.25173171]\n",
      " [32.18533299]\n",
      " [40.41444352]\n",
      " [38.84570495]\n",
      " [35.50524167]\n",
      " [43.32146759]\n",
      " [33.33565351]\n",
      " [31.05543903]\n",
      " [33.93546129]\n",
      " [33.98607477]\n",
      " [34.52777664]\n",
      " [36.03159299]\n",
      " [33.49317382]\n",
      " [35.18578264]\n",
      " [33.28688792]\n",
      " [44.60788183]\n",
      " [34.69499173]\n",
      " [31.64337407]\n",
      " [34.54613193]\n",
      " [33.43792434]\n",
      " [33.29930835]\n",
      " [35.76568402]\n",
      " [34.45135148]\n",
      " [36.92433568]\n",
      " [33.72875263]\n",
      " [30.89749292]\n",
      " [43.52706649]\n",
      " [34.00290851]\n",
      " [36.81733449]\n",
      " [39.74767922]\n",
      " [35.90059474]\n",
      " [32.65517128]\n",
      " [31.98085829]\n",
      " [35.67443297]\n",
      " [35.57965252]\n",
      " [35.57965252]\n",
      " [32.93795371]\n",
      " [66.92622351]\n",
      " [30.49053402]\n",
      " [35.26224385]\n",
      " [39.94302032]\n",
      " [35.32683669]\n",
      " [31.29902191]\n",
      " [33.40795774]\n",
      " [37.57012094]\n",
      " [36.41597423]\n",
      " [36.05108373]\n",
      " [31.82148499]\n",
      " [35.67443297]\n",
      " [37.55131673]\n",
      " [38.14842503]\n",
      " [44.07819693]\n",
      " [34.48069697]\n",
      " [37.57287   ]\n",
      " [35.42161714]\n",
      " [35.22599305]\n",
      " [25.99659262]\n",
      " [30.73121431]\n",
      " [34.6307269 ]\n",
      " [34.38591651]\n",
      " [35.18578264]\n",
      " [39.76103309]\n",
      " [30.4020286 ]\n",
      " [34.36840334]\n",
      " [34.66749276]\n",
      " [33.77597757]\n",
      " [41.16803605]\n",
      " [53.33098771]\n",
      " [32.80937983]\n",
      " [33.34314389]\n",
      " [36.0326348 ]\n",
      " [34.12326358]\n",
      " [45.9258588 ]\n",
      " [33.90631549]\n",
      " [32.33510792]\n",
      " [40.0948548 ]\n",
      " [33.81153504]\n",
      " [37.57012094]\n",
      " [41.5853526 ]\n",
      " [40.30273496]\n",
      " [36.74744921]\n",
      " [31.95977393]\n",
      " [30.58481389]\n",
      " [34.80345407]\n",
      " [50.83571702]\n",
      " [35.97433056]\n",
      " [40.31401826]\n",
      " [35.47686662]\n",
      " [33.00531167]\n",
      " [33.90812806]\n",
      " [42.17212188]\n",
      " [30.42071669]\n",
      " [34.45135148]\n",
      " [31.64790202]\n",
      " [34.82703179]\n",
      " [46.56411836]\n",
      " [28.67289977]\n",
      " [34.47463378]\n",
      " [38.96568266]\n",
      " [40.21839568]\n",
      " [42.28597007]\n",
      " [34.46954104]\n",
      " [51.36063319]\n",
      " [37.07540743]\n",
      " [31.74363264]\n",
      " [36.8500141 ]\n",
      " [34.48069697]\n",
      " [34.3207386 ]\n",
      " [48.49328401]\n",
      " [32.24318185]\n",
      " [36.35176677]\n",
      " [29.47078322]\n",
      " [32.79823759]\n",
      " [34.27148095]\n",
      " [29.96941593]\n",
      " [38.37507981]\n",
      " [38.25546018]\n",
      " [35.72959319]\n",
      " [31.72670454]\n",
      " [32.05362094]\n",
      " [32.66762471]\n",
      " [38.90824949]\n",
      " [35.57965252]\n",
      " [36.07984415]\n",
      " [29.32670605]\n",
      " [34.93513007]\n",
      " [28.13359553]\n",
      " [39.27604832]\n",
      " [35.39142953]\n",
      " [33.39022356]\n",
      " [46.19363336]\n",
      " [42.68839513]\n",
      " [34.60041097]\n",
      " [32.65031427]\n",
      " [39.37082877]\n",
      " [46.113068  ]\n",
      " [35.69505963]\n",
      " [29.68106747]\n",
      " [31.76691494]\n",
      " [35.91275947]\n",
      " [33.82126378]\n",
      " [28.1332878 ]\n",
      " [34.45135148]\n",
      " [32.90446803]\n",
      " [29.00773845]\n",
      " [29.16048377]\n",
      " [36.38902638]\n",
      " [33.66189048]\n",
      " [31.80881055]\n",
      " [35.50238729]\n",
      " [25.86259153]\n",
      " [41.70274698]\n",
      " [35.67978141]\n",
      " [37.23844628]\n",
      " [33.8133476 ]\n",
      " [32.89937528]\n",
      " [32.14516164]\n",
      " [40.57841239]\n",
      " [35.71561382]\n",
      " [30.41886234]\n",
      " [43.86925396]\n",
      " [36.22148327]\n",
      " [30.43221621]\n",
      " [35.67443297]\n",
      " [38.07599039]\n",
      " [37.2255691 ]\n",
      " [34.18322178]\n",
      " [39.28872276]\n",
      " [40.12526342]\n",
      " [40.28441571]\n",
      " [31.33776608]\n",
      " [33.81153504]\n",
      " [36.22784051]\n",
      " [31.98760091]\n",
      " [32.56159701]\n",
      " [39.58649336]\n",
      " [35.14852303]\n",
      " [35.3507817 ]\n",
      " [37.14181283]\n",
      " [33.8133476 ]\n",
      " [28.9419629 ]\n",
      " [27.69880186]\n",
      " [29.91383501]\n",
      " [34.98699221]\n",
      " [34.76227322]\n",
      " [34.0082253 ]\n",
      " [29.60822702]\n",
      " [27.66095376]\n",
      " [30.83063077]\n",
      " [26.06118546]\n",
      " [34.72550736]\n",
      " [38.75008238]\n",
      " [27.82634983]\n",
      " [33.63313006]\n",
      " [37.17018788]\n",
      " [32.12755714]\n",
      " [35.37534355]\n",
      " [44.0840181 ]\n",
      " [35.15096109]\n",
      " [33.45624359]\n",
      " [35.34444118]\n",
      " [29.93114545]\n",
      " [29.6340757 ]\n",
      " [36.41921399]\n",
      " [34.8694741 ]\n",
      " [31.89424764]\n",
      " [34.88345346]\n",
      " [30.06033114]\n",
      " [36.42579224]\n",
      " [31.95067067]\n",
      " [35.23227724]\n",
      " [34.84855449]\n",
      " [30.58481389]\n",
      " [40.88585563]\n",
      " [28.63851243]\n",
      " [31.97104165]\n",
      " [42.10680235]\n",
      " [32.37223921]\n",
      " [36.29269041]\n",
      " [34.64091239]\n",
      " [37.30105781]\n",
      " [28.79850684]\n",
      " [31.08014852]\n",
      " [32.7209703 ]\n",
      " [33.72184732]\n",
      " [30.83205795]\n",
      " [29.21657743]\n",
      " [32.21118167]\n",
      " [41.64536545]\n",
      " [31.38020838]\n",
      " [38.65695012]\n",
      " [33.06990451]\n",
      " [35.68791653]\n",
      " [44.51897751]\n",
      " [36.38747087]\n",
      " [38.93964329]\n",
      " [33.55738128]\n",
      " [31.74421771]\n",
      " [33.90631549]\n",
      " [54.60215536]\n",
      " [33.95731435]\n",
      " [32.86140324]\n",
      " [31.64194824]\n",
      " [34.46954104]\n",
      " [29.64380445]\n",
      " [33.36390119]\n",
      " [35.18578264]\n",
      " [34.760171  ]\n",
      " [34.37985333]\n",
      " [33.65099161]\n",
      " [35.55164495]\n",
      " [36.19424782]\n",
      " [30.82599477]\n",
      " [42.43949545]\n",
      " [34.89363895]\n",
      " [26.53324217]\n",
      " [29.77525944]\n",
      " [35.70050475]\n",
      " [42.41923763]\n",
      " [33.46769357]\n",
      " [41.87727871]\n",
      " [39.5915861 ]\n",
      " [32.71490712]\n",
      " [33.65216174]\n",
      " [45.2096172 ]\n",
      " [33.18961851]\n",
      " [38.36473069]\n",
      " [29.47470241]\n",
      " [30.64101591]\n",
      " [32.90304084]\n",
      " [32.65031427]\n",
      " [40.66295247]\n",
      " [30.29717445]\n",
      " [37.79602702]\n",
      " [26.93144961]\n",
      " [31.07505578]\n",
      " [40.27364516]\n",
      " [32.7209703 ]\n",
      " [32.7209703 ]\n",
      " [34.06607416]\n",
      " [45.82649033]\n",
      " [35.23205624]\n",
      " [34.49687427]\n",
      " [36.40238025]\n",
      " [32.96396812]\n",
      " [32.83478244]\n",
      " [33.81153504]\n",
      " [33.02297011]\n",
      " [34.52706189]\n",
      " [36.12105801]\n",
      " [33.87794044]\n",
      " [34.46954104]\n",
      " [34.6307269 ]\n",
      " [34.72550736]\n",
      " [32.46714799]\n",
      " [41.0582928 ]\n",
      " [38.07599039]\n",
      " [36.3611994 ]\n",
      " [35.57965252]\n",
      " [34.96425456]\n",
      " [33.61561688]\n",
      " [39.73950941]\n",
      " [36.94408212]\n",
      " [36.24064464]\n",
      " [30.6150015 ]\n",
      " [31.62051452]\n",
      " [31.96840485]\n",
      " [46.29279412]\n",
      " [36.69485674]\n",
      " [61.21728522]\n",
      " [35.09395299]\n",
      " [37.97128357]\n",
      " [30.94625547]\n",
      " [34.11668764]\n",
      " [35.470124  ]\n",
      " [34.00965249]\n",
      " [38.39888364]\n",
      " [30.64140129]\n",
      " [35.32848489]\n",
      " [35.48785818]\n",
      " [43.67912198]\n",
      " [33.09606555]\n",
      " [32.87087191]\n",
      " [44.04696924]\n",
      " [33.97259258]\n",
      " [32.47363697]\n",
      " [33.56795215]\n",
      " [37.3865509 ]\n",
      " [35.26224385]\n",
      " [31.04512522]\n",
      " [33.63313006]\n",
      " [30.29717445]\n",
      " [33.75809812]\n",
      " [32.89794809]\n",
      " [33.45868164]\n",
      " [29.13776625]\n",
      " [32.15168157]\n",
      " [34.34949903]\n",
      " [33.27712386]\n",
      " [34.00109595]\n",
      " [33.496454  ]\n",
      " [33.87794044]\n",
      " [29.98449104]\n",
      " [38.58928189]\n",
      " [53.87812933]\n",
      " [33.90631549]\n",
      " [34.38591651]\n",
      " [31.98578834]\n",
      " [34.56432149]\n",
      " [32.08238136]\n",
      " [33.48500401]\n",
      " [36.12670282]\n",
      " [33.95731435]\n",
      " [33.3940888 ]\n",
      " [32.76804997]\n",
      " [35.53186247]\n",
      " [37.04796582]\n",
      " [34.20760286]\n",
      " [35.13892398]\n",
      " [38.87228533]\n",
      " [31.0233817 ]\n",
      " [38.81489623]\n",
      " [32.57528231]\n",
      " [36.38338157]\n",
      " [30.88014849]\n",
      " [37.73347079]\n",
      " [35.78555852]\n",
      " [32.58429561]\n",
      " [34.76302608]\n",
      " [44.55321606]\n",
      " [34.69519142]\n",
      " [29.54097949]\n",
      " [48.50753737]\n",
      " [31.14474136]\n",
      " [34.31931142]\n",
      " [34.37985333]\n",
      " [38.6591245 ]\n",
      " [34.37985333]\n",
      " [32.12839926]\n",
      " [34.45135148]\n",
      " [34.54613193]\n",
      " [26.74879401]\n",
      " [34.60041097]\n",
      " [31.6826184 ]\n",
      " [28.16841915]\n",
      " [32.20436673]\n",
      " [35.34444118]\n",
      " [29.25073627]\n",
      " [32.2223376 ]\n",
      " [34.38591651]\n",
      " [30.98027532]\n",
      " [29.91847101]\n",
      " [34.48069697]\n",
      " [30.39886021]\n",
      " [30.67125747]\n",
      " [31.87424551]\n",
      " [34.37985333]\n",
      " [30.98027532]\n",
      " [30.39801809]\n",
      " [34.90897413]\n",
      " [32.90118785]\n",
      " [34.2114681 ]\n",
      " [32.05690111]\n",
      " [29.44210975]\n",
      " [33.56853721]\n",
      " [32.46900097]\n",
      " [35.96732952]\n",
      " [34.6307269 ]\n",
      " [32.91053121]\n",
      " [32.80459483]\n",
      " [35.05516977]\n",
      " [34.96425456]\n",
      " [34.38591651]\n",
      " [42.84893856]\n",
      " [31.35725751]\n",
      " [43.79128592]\n",
      " [29.82511775]\n",
      " [34.6307269 ]\n",
      " [35.78996841]\n",
      " [33.36390119]\n",
      " [36.32119378]\n",
      " [33.29930835]\n",
      " [37.63084854]\n",
      " [41.2628165 ]\n",
      " [36.14586418]\n",
      " [30.70742132]\n",
      " [35.18578264]\n",
      " [29.49129604]\n",
      " [35.44761245]\n",
      " [27.94311508]\n",
      " [29.8756986 ]\n",
      " [36.05108373]\n",
      " [33.80232342]\n",
      " [37.80938321]\n",
      " [36.40925087]\n",
      " [33.34336489]\n",
      " [34.05173074]\n",
      " [36.29455961]\n",
      " [33.20559102]\n",
      " [34.8694741 ]\n",
      " [31.14331553]\n",
      " [29.58063879]\n",
      " [34.56432149]\n",
      " [34.2114681 ]\n",
      " [31.11114525]\n",
      " [32.24992583]\n",
      " [35.13121396]\n",
      " [33.68825121]\n",
      " [36.83407985]\n",
      " [29.63698745]\n",
      " [33.89929744]\n",
      " [35.0165927 ]\n",
      " [31.74421771]\n",
      " [36.88396873]\n",
      " [34.67025788]\n",
      " [41.19514828]\n",
      " [31.86393171]\n",
      " [33.75060775]\n",
      " [28.47976025]\n",
      " [34.37985333]\n",
      " [49.0752043 ]\n",
      " [35.42161714]\n",
      " [41.78249825]\n",
      " [35.22599305]\n",
      " [31.44020565]\n",
      " [25.64617728]\n",
      " [29.97842786]\n",
      " [32.58429424]\n",
      " [31.2093342 ]\n",
      " [34.8694741 ]\n",
      " [34.6307269 ]\n",
      " [34.37985333]\n",
      " [33.04515459]]\n"
     ]
    }
   ],
   "source": [
    "# Predict:\n",
    "print(model.predict(X))"
   ]
  },
  {
   "cell_type": "code",
   "execution_count": 77,
   "metadata": {
    "pycharm": {
     "name": "#%%\n"
    }
   },
   "outputs": [
    {
     "name": "stdout",
     "output_type": "stream",
     "text": [
      "0.06514612672628828\n"
     ]
    }
   ],
   "source": [
    "# Get the R-Squared:\n",
    "print(model.score(X,y))"
   ]
  },
  {
   "cell_type": "markdown",
   "metadata": {
    "pycharm": {
     "name": "#%%\n"
    }
   },
   "source": [
    "##### Lasso"
   ]
  },
  {
   "cell_type": "code",
   "execution_count": 79,
   "metadata": {
    "pycharm": {
     "name": "#%%\n"
    }
   },
   "outputs": [],
   "source": [
    "model=Lasso(alpha=0.03).fit(X, y)"
   ]
  },
  {
   "cell_type": "code",
   "execution_count": 80,
   "metadata": {
    "pycharm": {
     "name": "#%%\n"
    }
   },
   "outputs": [
    {
     "name": "stdout",
     "output_type": "stream",
     "text": [
      "[ 0.         -1.37505409  2.50213402  0.07027355  7.74497322 -1.27577128\n",
      " -0.75212875 -0.89721562  0.03003534]\n"
     ]
    }
   ],
   "source": [
    "# Get estimated coefs:\n",
    "print(model.coef_)"
   ]
  },
  {
   "cell_type": "markdown",
   "metadata": {},
   "source": [
    "<span style=\"color:blue\"><b>Task:</b></span> Create a dict with the names of the variables and their estimated parameters."
   ]
  },
  {
   "cell_type": "code",
   "execution_count": 82,
   "metadata": {},
   "outputs": [
    {
     "data": {
      "text/plain": [
       "0.03003534033184482"
      ]
     },
     "execution_count": 82,
     "metadata": {},
     "output_type": "execute_result"
    }
   ],
   "source": [
    "var_string='Constant + Age + Goals + Yellow_cards + Yellow_red_cards + Red_cards + Substitutions_on + Substitutions_off + Age2'\n",
    "variables=var_string.split(' + ')\n",
    "coef_dict={name: coef for name,coef in zip(variables,model.coef_)}\n",
    "coef_dict['Age2']"
   ]
  },
  {
   "cell_type": "markdown",
   "metadata": {},
   "source": [
    "Lasso selects less regressors if alpha increases:"
   ]
  },
  {
   "cell_type": "code",
   "execution_count": 87,
   "metadata": {
    "pycharm": {
     "name": "#%%\n"
    }
   },
   "outputs": [
    {
     "name": "stdout",
     "output_type": "stream",
     "text": [
      "round(alpha,2)=0.0, r2=0.06514612561107724, non_0=8\n",
      "{'Age': -1.81, 'Goals': 2.51, 'Yellow_cards': 0.09, 'Yellow_red_cards': 9.05, 'Red_cards': -2.73, 'Substitutions_on': -0.75, 'Substitutions_off': -0.91, 'Age2': 0.04}\n",
      "round(alpha,2)=0.38, r2=0.05857546821378723, non_0=4\n",
      "{'Goals': 2.36, 'Substitutions_on': -0.7, 'Substitutions_off': -0.75, 'Age2': 0.0}\n",
      "round(alpha,2)=0.75, r2=0.05737302640518638, non_0=4\n",
      "{'Goals': 2.19, 'Substitutions_on': -0.58, 'Substitutions_off': -0.63, 'Age2': 0.0}\n",
      "round(alpha,2)=1.12, r2=0.05536896970568761, non_0=4\n",
      "{'Goals': 2.02, 'Substitutions_on': -0.47, 'Substitutions_off': -0.5, 'Age2': 0.0}\n",
      "round(alpha,2)=1.5, r2=0.05256331343622578, non_0=4\n",
      "{'Goals': 1.85, 'Substitutions_on': -0.36, 'Substitutions_off': -0.38, 'Age2': 0.0}\n",
      "round(alpha,2)=1.88, r2=0.0489560953066166, non_0=4\n",
      "{'Goals': 1.68, 'Substitutions_on': -0.25, 'Substitutions_off': -0.25, 'Age2': 0.0}\n",
      "round(alpha,2)=2.25, r2=0.04454728203051006, non_0=4\n",
      "{'Goals': 1.51, 'Substitutions_on': -0.14, 'Substitutions_off': -0.13, 'Age2': 0.0}\n",
      "round(alpha,2)=2.62, r2=0.03933629026516827, non_0=4\n",
      "{'Goals': 1.34, 'Substitutions_on': -0.02, 'Substitutions_off': -0.0, 'Age2': 0.01}\n",
      "round(alpha,2)=3.0, r2=0.037507766235957085, non_0=2\n",
      "{'Goals': 1.24, 'Age2': 0.01}\n"
     ]
    },
    {
     "name": "stderr",
     "output_type": "stream",
     "text": [
      "C:\\Users\\myfix\\AppData\\Local\\anaconda3\\Lib\\site-packages\\sklearn\\base.py:1151: UserWarning: With alpha=0, this algorithm does not converge well. You are advised to use the LinearRegression estimator\n",
      "  return fit_method(estimator, *args, **kwargs)\n",
      "C:\\Users\\myfix\\AppData\\Local\\anaconda3\\Lib\\site-packages\\sklearn\\linear_model\\_coordinate_descent.py:628: UserWarning: Coordinate descent with no regularization may lead to unexpected results and is discouraged.\n",
      "  model = cd_fast.enet_coordinate_descent(\n",
      "C:\\Users\\myfix\\AppData\\Local\\anaconda3\\Lib\\site-packages\\sklearn\\linear_model\\_coordinate_descent.py:628: ConvergenceWarning: Objective did not converge. You might want to increase the number of iterations, check the scale of the features or consider increasing regularisation. Duality gap: 8.888e+04, tolerance: 1.901e+01 Linear regression models with null weight for the l1 regularization term are more efficiently fitted using one of the solvers implemented in sklearn.linear_model.Ridge/RidgeCV instead.\n",
      "  model = cd_fast.enet_coordinate_descent(\n"
     ]
    }
   ],
   "source": [
    "for alpha in np.linspace(0,3,9):\n",
    "    model=Lasso(alpha=alpha).fit(X, y)\n",
    "    r2=model.score(X,y)\n",
    "    non_0=sum([i!=0 for i in model.coef_])\n",
    "    print(f'{round(alpha,2)=}, {r2=}, {non_0=}')\n",
    "    print({name:round(coef,2) for name,coef in zip(var_string.split(' + '),model.coef_,) if coef!=0})\n"
   ]
  },
  {
   "cell_type": "code",
   "execution_count": 88,
   "metadata": {
    "pycharm": {
     "name": "#%% Get the alpha with Cross Validation\n"
    }
   },
   "outputs": [
    {
     "name": "stdout",
     "output_type": "stream",
     "text": [
      "round(alpha,2)=11.04, r2=0.002149378462583451, non_0=1\n",
      "{'Age2': 0.01}\n"
     ]
    },
    {
     "name": "stderr",
     "output_type": "stream",
     "text": [
      "C:\\Users\\myfix\\AppData\\Local\\anaconda3\\Lib\\site-packages\\sklearn\\linear_model\\_coordinate_descent.py:1563: DataConversionWarning: A column-vector y was passed when a 1d array was expected. Please change the shape of y to (n_samples, ), for example using ravel().\n",
      "  y = column_or_1d(y, warn=True)\n"
     ]
    }
   ],
   "source": [
    "model=LassoCV().fit(X, y)\n",
    "alpha=model.alpha_\n",
    "r2=model.score(X,y)\n",
    "non_0=sum([i!=0 for i in model.coef_])\n",
    "print(f'{round(alpha,2)=}, {r2=}, {non_0=}')\n",
    "print({name:round(coef,2) for name,coef in zip(var_string.split(' + '),model.coef_) if coef!=0})\n"
   ]
  },
  {
   "cell_type": "markdown",
   "metadata": {},
   "source": [
    "##### Random Forest"
   ]
  },
  {
   "cell_type": "code",
   "execution_count": 89,
   "metadata": {
    "pycharm": {
     "name": "#%%\n"
    }
   },
   "outputs": [],
   "source": [
    "from sklearn.ensemble import RandomForestRegressor as RF"
   ]
  },
  {
   "cell_type": "code",
   "execution_count": 90,
   "metadata": {
    "pycharm": {
     "name": "#%%\n"
    }
   },
   "outputs": [
    {
     "name": "stderr",
     "output_type": "stream",
     "text": [
      "C:\\Users\\myfix\\AppData\\Local\\anaconda3\\Lib\\site-packages\\sklearn\\base.py:1151: DataConversionWarning: A column-vector y was passed when a 1d array was expected. Please change the shape of y to (n_samples,), for example using ravel().\n",
      "  return fit_method(estimator, *args, **kwargs)\n"
     ]
    }
   ],
   "source": [
    "model=RF(random_state=0).fit(X,y)"
   ]
  },
  {
   "cell_type": "code",
   "execution_count": 91,
   "metadata": {
    "pycharm": {
     "name": "#%%\n"
    }
   },
   "outputs": [
    {
     "name": "stdout",
     "output_type": "stream",
     "text": [
      "0.7493627429686794\n"
     ]
    }
   ],
   "source": [
    "# Get the R-Squared:\n",
    "print(model.score(X,y))"
   ]
  },
  {
   "cell_type": "code",
   "execution_count": 93,
   "metadata": {
    "pycharm": {
     "name": "#%%\n"
    }
   },
   "outputs": [
    {
     "name": "stdout",
     "output_type": "stream",
     "text": [
      "[0.         0.14452281 0.19826091 0.13751377 0.0172456  0.00563229\n",
      " 0.13283554 0.22292266 0.14106642]\n",
      "{'Age': 0.14, 'Goals': 0.2, 'Yellow_cards': 0.14, 'Yellow_red_cards': 0.02, 'Red_cards': 0.01, 'Substitutions_on': 0.13, 'Substitutions_off': 0.22, 'Age2': 0.14}\n"
     ]
    }
   ],
   "source": [
    "# Get the importance of each regressor.\n",
    "print(model.feature_importances_)\n",
    "\n",
    "print({name:round(imp,2) for name, imp in zip(var_string.split(' + ')[1:],model.feature_importances_[1:],)})"
   ]
  },
  {
   "cell_type": "markdown",
   "metadata": {},
   "source": [
    "<span style=\"color:blue\"><b>Task:</b></span> Make a pie plot with feature importances."
   ]
  },
  {
   "cell_type": "code",
   "execution_count": 95,
   "metadata": {},
   "outputs": [
    {
     "data": {
      "text/plain": [
       "([<matplotlib.patches.Wedge at 0x17b0de536d0>,\n",
       "  <matplotlib.patches.Wedge at 0x17b0deb3750>,\n",
       "  <matplotlib.patches.Wedge at 0x17b0debc850>,\n",
       "  <matplotlib.patches.Wedge at 0x17b0debd8d0>,\n",
       "  <matplotlib.patches.Wedge at 0x17b0debe7d0>,\n",
       "  <matplotlib.patches.Wedge at 0x17b0debf850>,\n",
       "  <matplotlib.patches.Wedge at 0x17b0eb20a50>,\n",
       "  <matplotlib.patches.Wedge at 0x17b0eb21a90>],\n",
       " [Text(0.9885546958293863, 0.4824516694485261, 'Age'),\n",
       "  Text(0.04385384007883309, 1.0991254890640743, 'Goals'),\n",
       "  Text(-0.9344225457639214, 0.5803916832347553, 'Yellow_cards'),\n",
       "  Text(-1.097335573109931, 0.0765156192388155, 'Yellow_red_cards'),\n",
       "  Text(-1.0999971979539873, -0.002482839780708433, 'Red_cards'),\n",
       "  Text(-0.9965037842303334, -0.4658113438020005, 'Substitutions_on'),\n",
       "  Text(-0.017469829675580664, -1.0998612662745726, 'Substitutions_off'),\n",
       "  Text(0.9937350606152501, -0.47168912358035714, 'Age2')])"
      ]
     },
     "execution_count": 95,
     "metadata": {},
     "output_type": "execute_result"
    },
    {
     "data": {
      "image/png": "[encoded data removed]",
      "text/plain": [
       "<Figure size 640x480 with 1 Axes>"
      ]
     },
     "metadata": {},
     "output_type": "display_data"
    }
   ],
   "source": [
    "plt.pie(model.feature_importances_[1:],labels=variables[1:])"
   ]
  },
  {
   "cell_type": "code",
   "execution_count": null,
   "metadata": {},
   "outputs": [],
   "source": []
  }
 ],
 "metadata": {
  "kernelspec": {
   "display_name": "Python 3 (ipykernel)",
   "language": "python",
   "name": "python3"
  },
  "language_info": {
   "codemirror_mode": {
    "name": "ipython",
    "version": 3
   },
   "file_extension": ".py",
   "mimetype": "text/x-python",
   "name": "python",
   "nbconvert_exporter": "python",
   "pygments_lexer": "ipython3",
   "version": "3.11.5"
  }
 },
 "nbformat": 4,
 "nbformat_minor": 1
}
