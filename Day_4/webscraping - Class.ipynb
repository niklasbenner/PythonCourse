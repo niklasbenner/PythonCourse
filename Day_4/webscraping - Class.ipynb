{
 "cells": [
  {
   "cell_type": "markdown",
   "metadata": {},
   "source": [
    "# Web Scraping\n",
    "\n",
    "## Contents <a id=ov>\n",
    "1. [Selenium](#selenium)\n",
    "2. [Requests](#r)\n",
    "3. [Beautiful Soup](#bs)\n",
    "\n"
   ]
  },
  {
   "cell_type": "markdown",
   "metadata": {},
   "source": [
    "There are two ways two scrape data from the web. You can control a browser (via selenium) or send static requests to a server.\n",
    "The first one offers more possibilities, while the second one is faster."
   ]
  },
  {
   "cell_type": "markdown",
   "metadata": {},
   "source": [
    "## Selenium <a id=classes>\n",
    "[Back to Content Overview](#ov)\n",
    "\n",
    "First you need to download a webdriver version for your browser. For chrome it is [chrome_driver](#https://chromedriver.chromium.org/)\n",
    "Then you need to install the selenium package and start the webdriver application. (Take care that your browser is updated to same version as the chromedriver.)"
   ]
  },
  {
   "cell_type": "code",
   "execution_count": null,
   "metadata": {
    "pycharm": {
     "name": "#%%\n"
    }
   },
   "outputs": [],
   "source": [
    "#https://chromedriver.chromium.org/"
   ]
  },
  {
   "cell_type": "code",
   "execution_count": null,
   "metadata": {
    "pycharm": {
     "name": "#%%\n"
    }
   },
   "outputs": [],
   "source": [
    "import sys\n",
    "!{sys.executable} -m pip install --upgrade selenium "
   ]
  },
  {
   "cell_type": "code",
   "execution_count": null,
   "metadata": {
    "pycharm": {
     "name": "#%%\n"
    }
   },
   "outputs": [],
   "source": [
    "from selenium import webdriver"
   ]
  },
  {
   "cell_type": "markdown",
   "metadata": {},
   "source": [
    "Initialize the driver object and browser window."
   ]
  },
  {
   "cell_type": "code",
   "execution_count": null,
   "metadata": {
    "pycharm": {
     "name": "#%%\n"
    }
   },
   "outputs": [],
   "source": [
    "chrome_path=r'chromedriver.exe'\n",
    "driver = webdriver.Chrome()"
   ]
  },
  {
   "cell_type": "markdown",
   "metadata": {},
   "source": [
    "### Navigation\n",
    "Now one can access any page on the web:"
   ]
  },
  {
   "cell_type": "code",
   "execution_count": null,
   "metadata": {
    "pycharm": {
     "name": "#%%\n"
    }
   },
   "outputs": [],
   "source": [
    "url='https://selenium-python.readthedocs.io/'\n",
    "driver.get(url)"
   ]
  },
  {
   "cell_type": "markdown",
   "metadata": {},
   "source": [
    "One can move backward and forward in your browser’s history:"
   ]
  },
  {
   "cell_type": "code",
   "execution_count": null,
   "metadata": {
    "pycharm": {
     "name": "#%%\n"
    }
   },
   "outputs": [],
   "source": [
    "driver.back()"
   ]
  },
  {
   "cell_type": "code",
   "execution_count": null,
   "metadata": {
    "pycharm": {
     "name": "#%%\n"
    }
   },
   "outputs": [],
   "source": [
    "driver.forward()"
   ]
  },
  {
   "cell_type": "markdown",
   "metadata": {},
   "source": [
    "### Identification of web elements\n",
    "\n"
   ]
  },
  {
   "cell_type": "code",
   "execution_count": null,
   "metadata": {
    "pycharm": {
     "name": "#%%\n"
    }
   },
   "outputs": [],
   "source": [
    "from selenium.webdriver.common.by import By"
   ]
  },
  {
   "cell_type": "markdown",
   "metadata": {},
   "source": [
    "Find the first element:"
   ]
  },
  {
   "cell_type": "code",
   "execution_count": null,
   "metadata": {
    "pycharm": {
     "name": "#%%\n"
    }
   },
   "outputs": [],
   "source": [
    "element=driver.find_element(By.TAG_NAME,'a')\n",
    "print(element)\n",
    "print(element.text)"
   ]
  },
  {
   "cell_type": "markdown",
   "metadata": {},
   "source": [
    "Find all elements (returns a list):"
   ]
  },
  {
   "cell_type": "code",
   "execution_count": null,
   "metadata": {
    "pycharm": {
     "name": "#%%\n"
    }
   },
   "outputs": [],
   "source": [
    "elements=driver.find_elements(By.TAG_NAME, 'p')\n",
    "#print(elements)\n",
    "elements[3].text"
   ]
  },
  {
   "cell_type": "code",
   "execution_count": null,
   "metadata": {},
   "outputs": [],
   "source": [
    "driver.find_element(By.ID, 'selenium-with-python')"
   ]
  },
  {
   "cell_type": "markdown",
   "metadata": {},
   "source": [
    "There are many ways to identify individual elements on a website."
   ]
  },
  {
   "cell_type": "code",
   "execution_count": null,
   "metadata": {
    "pycharm": {
     "name": "#%%\n"
    }
   },
   "outputs": [],
   "source": [
    "find_element(By.ID, \"id\")\n",
    "find_element(By.NAME, \"name\")\n",
    "find_element(By.XPATH, \"xpath\")\n",
    "find_element(By.LINK_TEXT, \"link text\")\n",
    "find_element(By.PARTIAL_LINK_TEXT, \"partial link text\")\n",
    "find_element(By.TAG_NAME, \"tag name\")\n",
    "find_element(By.CLASS_NAME, \"class name\")\n",
    "find_element(By.CSS_SELECTOR, \"css selector\")"
   ]
  },
  {
   "cell_type": "markdown",
   "metadata": {},
   "source": [
    "Get element via HTML tag."
   ]
  },
  {
   "cell_type": "code",
   "execution_count": null,
   "metadata": {
    "pycharm": {
     "name": "#%%\n"
    }
   },
   "outputs": [],
   "source": [
    "element=driver.find_element(By.TAG_NAME,'a')\n",
    "print(element)\n",
    "print(element.text,element.get_attribute('href'))"
   ]
  },
  {
   "cell_type": "markdown",
   "metadata": {},
   "source": [
    "Get element via XPath (unique html adress of the web element):"
   ]
  },
  {
   "cell_type": "code",
   "execution_count": null,
   "metadata": {
    "pycharm": {
     "name": "#%%\n"
    }
   },
   "outputs": [],
   "source": [
    "element=driver.find_element(By.XPATH, '//*[@id=\"selenium-with-python\"]/div[1]/p[2]')\n",
    "print(element)"
   ]
  },
  {
   "cell_type": "markdown",
   "metadata": {},
   "source": [
    "Get element via Class Name:"
   ]
  },
  {
   "cell_type": "code",
   "execution_count": null,
   "metadata": {
    "pycharm": {
     "name": "#%%\n"
    }
   },
   "outputs": [],
   "source": [
    "element=driver.find_element(By.CLASS_NAME, 'document')\n",
    "print(element)\n",
    "print(element.text)"
   ]
  },
  {
   "cell_type": "markdown",
   "metadata": {},
   "source": [
    "Get element via ID:"
   ]
  },
  {
   "cell_type": "code",
   "execution_count": null,
   "metadata": {
    "pycharm": {
     "name": "#%%\n"
    }
   },
   "outputs": [],
   "source": [
    "element=driver.find_element(By.ID,'selenium-with-python')\n",
    "print(element)\n",
    "print(element.text)"
   ]
  },
  {
   "cell_type": "markdown",
   "metadata": {},
   "source": [
    "### Get attributes of the elements"
   ]
  },
  {
   "cell_type": "markdown",
   "metadata": {},
   "source": [
    "Get the Text:"
   ]
  },
  {
   "cell_type": "code",
   "execution_count": null,
   "metadata": {
    "pycharm": {
     "name": "#%%\n"
    }
   },
   "outputs": [],
   "source": [
    "print(element.text)"
   ]
  },
  {
   "cell_type": "markdown",
   "metadata": {},
   "source": [
    "Get the link:"
   ]
  },
  {
   "cell_type": "code",
   "execution_count": null,
   "metadata": {
    "pycharm": {
     "name": "#%%\n"
    }
   },
   "outputs": [],
   "source": [
    "element=driver.find_element(By.TAG_NAME, 'a')\n",
    "print(element.get_attribute('href'))"
   ]
  },
  {
   "cell_type": "markdown",
   "metadata": {},
   "source": [
    "Other Attributes:"
   ]
  },
  {
   "cell_type": "code",
   "execution_count": null,
   "metadata": {
    "pycharm": {
     "name": "#%%\n"
    }
   },
   "outputs": [],
   "source": [
    "print(element.get_attribute('title'))\n",
    "print(element.get_attribute('innerHTML'))\n",
    "print(element.get_attribute('outerHTML'))"
   ]
  },
  {
   "cell_type": "markdown",
   "metadata": {},
   "source": [
    "<span style=\"color:blue\"><b>Task:</b></span> Save all links on page in one list:"
   ]
  },
  {
   "cell_type": "code",
   "execution_count": null,
   "metadata": {
    "pycharm": {
     "name": "#%%\n"
    }
   },
   "outputs": [],
   "source": [
    "all_links=[element.get_attribute('href') for element in driver.find_elements(By.TAG_NAME,'a')]"
   ]
  },
  {
   "cell_type": "code",
   "execution_count": null,
   "metadata": {},
   "outputs": [],
   "source": [
    "all_links"
   ]
  },
  {
   "cell_type": "markdown",
   "metadata": {},
   "source": [
    "\n",
    "\n",
    "\n",
    "### Interact with elements\n",
    "There are multiple ways to interact with web elements:\n"
   ]
  },
  {
   "cell_type": "markdown",
   "metadata": {},
   "source": [
    "One can click on a element."
   ]
  },
  {
   "cell_type": "code",
   "execution_count": null,
   "metadata": {
    "pycharm": {
     "name": "#%%\n"
    }
   },
   "outputs": [],
   "source": [
    "element=driver.find_element(By.XPATH,'//*[@id=\"selenium-with-python\"]/div[2]/ul/li[1]/ul/li[3]/a')\n",
    "print(element.text)"
   ]
  },
  {
   "cell_type": "code",
   "execution_count": null,
   "metadata": {
    "pycharm": {
     "name": "#%%\n"
    }
   },
   "outputs": [],
   "source": [
    "element.click()"
   ]
  },
  {
   "cell_type": "markdown",
   "metadata": {},
   "source": [
    "One can send keys to a element."
   ]
  },
  {
   "cell_type": "code",
   "execution_count": null,
   "metadata": {
    "pycharm": {
     "name": "#%%\n"
    }
   },
   "outputs": [],
   "source": [
    "search_bar=driver.find_element(By.XPATH,'//*[@id=\"searchbox\"]/div/form/input[1]')"
   ]
  },
  {
   "cell_type": "code",
   "execution_count": null,
   "metadata": {
    "pycharm": {
     "name": "#%%\n"
    }
   },
   "outputs": [],
   "source": [
    "search_bar.send_keys('Tag name')"
   ]
  },
  {
   "cell_type": "markdown",
   "metadata": {},
   "source": [
    "There are special keys:"
   ]
  },
  {
   "cell_type": "code",
   "execution_count": null,
   "metadata": {
    "pycharm": {
     "name": "#%%\n"
    }
   },
   "outputs": [],
   "source": [
    "from selenium.webdriver.common.keys import Keys"
   ]
  },
  {
   "cell_type": "code",
   "execution_count": null,
   "metadata": {
    "pycharm": {
     "name": "#%%\n"
    }
   },
   "outputs": [],
   "source": [
    "#BACKSPACE\n",
    "search_bar.send_keys(Keys.BACKSPACE)"
   ]
  },
  {
   "cell_type": "code",
   "execution_count": null,
   "metadata": {
    "pycharm": {
     "name": "#%%\n"
    }
   },
   "outputs": [],
   "source": [
    "#ENTER\n",
    "search_bar.send_keys(Keys.ENTER)"
   ]
  },
  {
   "cell_type": "markdown",
   "metadata": {},
   "source": [
    "Clear the input form."
   ]
  },
  {
   "cell_type": "code",
   "execution_count": null,
   "metadata": {
    "pycharm": {
     "name": "#%%\n"
    }
   },
   "outputs": [],
   "source": [
    "search_bar.clear()"
   ]
  },
  {
   "cell_type": "markdown",
   "metadata": {},
   "source": [
    "## Chair website:"
   ]
  },
  {
   "cell_type": "code",
   "execution_count": null,
   "metadata": {
    "pycharm": {
     "name": "#%%\n"
    }
   },
   "outputs": [],
   "source": [
    "chrome_path=r'chromedriver.exe'\n",
    "driver = webdriver.Chrome(chrome_path)"
   ]
  },
  {
   "cell_type": "code",
   "execution_count": null,
   "metadata": {
    "pycharm": {
     "name": "#%%\n"
    }
   },
   "outputs": [],
   "source": [
    "driver.get('https://lwus.statistik.tu-dortmund.de/en/chair/team/jentsch/')"
   ]
  },
  {
   "cell_type": "markdown",
   "metadata": {},
   "source": [
    "<span style=\"color:blue\"><b>Task:</b></span> Find the element \"Team\" and follow its link!\n"
   ]
  },
  {
   "cell_type": "code",
   "execution_count": 76,
   "metadata": {
    "pycharm": {
     "name": "#%%\n"
    }
   },
   "outputs": [],
   "source": [
    "link=driver.find_element(By.TAG_NAME,'a')\n",
    "element=driver.find_element(By.XPATH,'//*[@id=\"breadcrumb\"]/ol/li[4]/a')\n",
    "driver.get(element.get_attribute('href'))"
   ]
  },
  {
   "cell_type": "code",
   "execution_count": null,
   "metadata": {
    "pycharm": {
     "name": "#%%\n"
    }
   },
   "outputs": [],
   "source": []
  },
  {
   "cell_type": "markdown",
   "metadata": {},
   "source": [
    "<span style=\"color:blue\"><b>Task:</b></span> Save the names (keys) and links (values) of all employees in dictionary. (\n",
    "Hint: Manipulate the last number in the xpath.)\n",
    "\n",
    "\n"
   ]
  },
  {
   "cell_type": "code",
   "execution_count": 86,
   "metadata": {
    "pycharm": {
     "name": "#%%\n"
    }
   },
   "outputs": [
    {
     "name": "stdout",
     "output_type": "stream",
     "text": [
      "Prof. Dr. Carsten Jentsch https://lwus.statistik.tu-dortmund.de/en/chair/team/jentsch/\n",
      "Bettina Hilsmann (Office) https://lwus.statistik.tu-dortmund.de/en/chair/team/office/\n",
      "M.Sc. Niklas Benner https://lwus.statistik.tu-dortmund.de/en/chair/team/benner/\n",
      "M.Sc. Daniel Dzikowski https://lwus.statistik.tu-dortmund.de/en/chair/team/dzikowski/\n",
      "M.Sc. Maxime Faymonville https://lwus.statistik.tu-dortmund.de/en/chair/team/faymonville/\n",
      "M.Sc. Jonathan Flossdorf https://lwus.statistik.tu-dortmund.de/en/chair/team/flossdorf/\n",
      "M.Sc. Kai-Robin Lange https://lwus.statistik.tu-dortmund.de/en/chair/team/lange/\n",
      "Dr. Jan Prüser https://lwus.statistik.tu-dortmund.de/en/chair/team/prueser/\n",
      "Dr. Jonas Rieger https://lwus.statistik.tu-dortmund.de/en/chair/team/rieger/\n",
      "Dr. Thorsten Ziebach https://lwus.statistik.tu-dortmund.de/en/chair/team/ziebach/\n"
     ]
    }
   ],
   "source": [
    "'//*[@id=\"c160807\"]/div/div/div/a[1]/div[2]'\n",
    "'//*[@id=\"c160807\"]/div/div/div/a[3]'\n",
    "i=1\n",
    "link_dict={}\n",
    "while True:\n",
    "    try:\n",
    "        element=driver.find_element(By.XPATH,f'//*[@id=\"c160807\"]/div/div/div/a[{i}]')\n",
    "        link_dict[element.text]=element.get_attribute('href')\n",
    "        print(element.text,element.get_attribute('href'))\n",
    "        i+=1\n",
    "    except:\n",
    "        break\n",
    "    \n",
    "\n"
   ]
  },
  {
   "cell_type": "markdown",
   "metadata": {},
   "source": [
    "<span style=\"color:blue\"><b>Task:</b></span> Visit the site of every employee and save its email adress and telefone number. (Use time.sleep(1) in every iteration.)"
   ]
  },
  {
   "cell_type": "code",
   "execution_count": 106,
   "metadata": {
    "pycharm": {
     "name": "#%%\n"
    }
   },
   "outputs": [
    {
     "name": "stdout",
     "output_type": "stream",
     "text": [
      "Prof. Dr. Carsten Jentsch jentsch@statistik.tu-dortmund.de +49 231 755 3869\n",
      "Bettina Hilsmann (Office) hilsmann@statistik.tu-dortmund.de +49 231 755 4354\n",
      "Fax: +49 231 755 5284\n",
      "M.Sc. Niklas Benner niklas.benner@tu-dortmund.de +49 231 755 7925\n",
      "M.Sc. Daniel Dzikowski daniel.dzikowski@tu-dortmund.de e\n",
      "M.Sc. Maxime Faymonville faymonville@statistik.tu-dortmund.de +49 231 755 5203\n",
      "M.Sc. Jonathan Flossdorf flossdorf@statistik.tu-dortmund.de +49 231 755 5544\n",
      "M.Sc. Kai-Robin Lange kalange@statistik.tu-dortmund.de +49 231 755 5477\n",
      "Dr. Jan Prüser prueser@statistik.tu-dortmund.de +49 231 755 5528\n",
      "Dr. Jonas Rieger rieger@statistik.tu-dortmund.de +49 231 755 5216\n",
      "Dr. Thorsten Ziebach thorsten.ziebach@tu-dortmund.de +49 231 755 3122\n"
     ]
    }
   ],
   "source": [
    "import time\n",
    "for name in link_dict:\n",
    "    #print()\n",
    "    driver.get(link_dict[name])\n",
    "    time.sleep(1)\n",
    "    \n",
    "    # Select all element with p tag that start with 'Email:'\n",
    "    p_elements=driver.find_elements(By.TAG_NAME,'p')\n",
    "    element=[element for element in p_elements if 'E-Mail:' in element.text][0]\n",
    "    \n",
    "    # Get the Email\n",
    "    email=element.find_element(By.TAG_NAME,'a').get_attribute('href').replace('mailto:','')\n",
    "    #print(email)\n",
    "    # Get the Phone number\n",
    "    #print(element.text)\n",
    "    text=element.text\n",
    "    phone=text[text.find('+'):]\n",
    "    print(name,email,phone)\n",
    "    "
   ]
  },
  {
   "cell_type": "markdown",
   "metadata": {},
   "source": [
    "## Google Translator:\n"
   ]
  },
  {
   "cell_type": "markdown",
   "metadata": {},
   "source": [
    "<span style=\"color:blue\"><b>Task:</b></span> Navigate to the google translator website.\n"
   ]
  },
  {
   "cell_type": "code",
   "execution_count": null,
   "metadata": {},
   "outputs": [],
   "source": [
    "driver.get('https://translate.google.com/?hl=en')"
   ]
  },
  {
   "cell_type": "markdown",
   "metadata": {},
   "source": [
    "<span style=\"color:blue\"><b>Task:</b></span> Save the input element als input_form and the output element as return_element.\n"
   ]
  },
  {
   "cell_type": "code",
   "execution_count": null,
   "metadata": {},
   "outputs": [],
   "source": [
    "input_form=driver.find_element(By.XPATH,'//*[@id=\"yDmH0d\"]/c-wiz/div/div[2]/c-wiz/div[2]/c-wiz/div[1]/div[2]/div[2]/c-wiz[1]/span/span/div/textarea')\n",
    "\n",
    "input_form.send_keys('Was ist der Sinn des Lebens?')\n"
   ]
  },
  {
   "cell_type": "code",
   "execution_count": null,
   "metadata": {},
   "outputs": [],
   "source": [
    "output_form=driver.find_element(By.XPATH,'//*[@id=\"ow290\"]/div[1]/span[1]/span/span')\n",
    "print(output_form.text)"
   ]
  },
  {
   "cell_type": "code",
   "execution_count": null,
   "metadata": {},
   "outputs": [],
   "source": [
    "input_form=driver.find_element(By.TAG_NAME,'textarea')\n",
    "output_form=driver.find_element(By.ID,'tw-target-text')"
   ]
  },
  {
   "cell_type": "markdown",
   "metadata": {},
   "source": [
    "<span style=\"color:blue\"><b>Task:</b></span> Type a text in the input_form and query the translation."
   ]
  },
  {
   "cell_type": "code",
   "execution_count": null,
   "metadata": {},
   "outputs": [],
   "source": [
    "def translate(text,input_form=input_form,output_form=output_form):\n",
    "    import time\n",
    "    input_form.clear()\n",
    "    time.sleep(1)\n",
    "    input_form.send_keys(text)\n",
    "    \n",
    "    time.sleep(2)\n",
    "    output_form=driver.find_element(By.XPATH,'//*[@id=\"yDmH0d\"]/c-wiz/div/div[2]/c-wiz/div[2]/c-wiz/div[1]/div[2]/div[2]/c-wiz[2]/div/div[6]/div/div[1]/span[1]/span/span')\n",
    "    time.sleep(1)\n",
    "    return output_form.text\n",
    "translate(\"Einigkeit und Recht und Freiheit für das deutsche Vaterland\")\n",
    "    \n",
    "    "
   ]
  },
  {
   "cell_type": "code",
   "execution_count": null,
   "metadata": {},
   "outputs": [],
   "source": []
  }
 ],
 "metadata": {
  "kernelspec": {
   "display_name": "Python 3 (ipykernel)",
   "language": "python",
   "name": "python3"
  },
  "language_info": {
   "codemirror_mode": {
    "name": "ipython",
    "version": 3
   },
   "file_extension": ".py",
   "mimetype": "text/x-python",
   "name": "python",
   "nbconvert_exporter": "python",
   "pygments_lexer": "ipython3",
   "version": "3.11.5"
  }
 },
 "nbformat": 4,
 "nbformat_minor": 1
}
